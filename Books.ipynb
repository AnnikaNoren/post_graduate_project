{
 "cells": [
  {
   "cell_type": "markdown",
   "metadata": {
    "toc": true
   },
   "source": [
    "<h1>Table of Contents<span class=\"tocSkip\"></span></h1>\n",
    "<div class=\"toc\"><ul class=\"toc-item\"><li><span><a href=\"#Goal\" data-toc-modified-id=\"Goal-1\"><span class=\"toc-item-num\">1&nbsp;&nbsp;</span>Goal</a></span></li><li><span><a href=\"#Look-at-Training-Set\" data-toc-modified-id=\"Look-at-Training-Set-2\"><span class=\"toc-item-num\">2&nbsp;&nbsp;</span>Look at Training Set</a></span><ul class=\"toc-item\"><li><span><a href=\"#Add-A-Reviews-Column-With-Float\" data-toc-modified-id=\"Add-A-Reviews-Column-With-Float-2.1\"><span class=\"toc-item-num\">2.1&nbsp;&nbsp;</span>Add A Reviews Column With Float</a></span></li></ul></li></ul></div>"
   ]
  },
  {
   "cell_type": "markdown",
   "metadata": {},
   "source": [
    "# Goal\n",
    "\n",
    "Taken from machinehack.com:\n",
    "\n",
    "In this challenge, participants are required to use the dataset to build a Machine Learning model to predict the price of books based on a given set of features. \n",
    "\n",
    "Size of training set: 6237 records \n",
    "Size of test set: 1560 records \n",
    "\n",
    "FEATURES: \n",
    "- Title: The title of the book \n",
    "- Author: The author(s) of the book\n",
    "- Edition: The edition of the book eg (Paperback,– Import, 26 Apr 2018) \n",
    "- Reviews: The customer reviews about the book \n",
    "- Ratings: The customer ratings of the book \n",
    "- Synopsis: The synopsis of the book \n",
    "- Genre: The genre the book belongs to \n",
    "- BookCategory: The department the book is usually available at\n",
    "- Price: The price of the book (Target variable)"
   ]
  },
  {
   "cell_type": "code",
   "execution_count": 58,
   "metadata": {},
   "outputs": [],
   "source": [
    "import pandas as pd\n",
    "import numpy as np\n",
    "\n",
    "import matplotlib.pyplot as plt\n",
    "import seaborn as sns\n",
    "\n",
    "# from datetime import datetime\n",
    "\n",
    "# import warnings\n",
    "# warnings.filterwarnings(\"ignore\")\n",
    "# %matplotlib inline\n",
    "\n",
    "# import scipy.stats as stats\n",
    "# import statsmodels.api as sm\n",
    "# from statsmodels.formula.api import ols\n",
    "# import statsmodels.stats.api as sms\n",
    "\n",
    "# from sklearn import datasets"
   ]
  },
  {
   "cell_type": "markdown",
   "metadata": {},
   "source": [
    "# Look at Training Set"
   ]
  },
  {
   "cell_type": "code",
   "execution_count": 59,
   "metadata": {},
   "outputs": [],
   "source": [
    "df = pd.read_excel(\"Data_Train.xlsx\")"
   ]
  },
  {
   "cell_type": "code",
   "execution_count": 60,
   "metadata": {},
   "outputs": [
    {
     "data": {
      "text/html": [
       "<div>\n",
       "<style scoped>\n",
       "    .dataframe tbody tr th:only-of-type {\n",
       "        vertical-align: middle;\n",
       "    }\n",
       "\n",
       "    .dataframe tbody tr th {\n",
       "        vertical-align: top;\n",
       "    }\n",
       "\n",
       "    .dataframe thead th {\n",
       "        text-align: right;\n",
       "    }\n",
       "</style>\n",
       "<table border=\"1\" class=\"dataframe\">\n",
       "  <thead>\n",
       "    <tr style=\"text-align: right;\">\n",
       "      <th></th>\n",
       "      <th>Title</th>\n",
       "      <th>Author</th>\n",
       "      <th>Edition</th>\n",
       "      <th>Reviews</th>\n",
       "      <th>Ratings</th>\n",
       "      <th>Synopsis</th>\n",
       "      <th>Genre</th>\n",
       "      <th>BookCategory</th>\n",
       "      <th>Price</th>\n",
       "    </tr>\n",
       "  </thead>\n",
       "  <tbody>\n",
       "    <tr>\n",
       "      <th>0</th>\n",
       "      <td>The Prisoner's Gold (The Hunters 3)</td>\n",
       "      <td>Chris Kuzneski</td>\n",
       "      <td>Paperback,– 10 Mar 2016</td>\n",
       "      <td>4.0 out of 5 stars</td>\n",
       "      <td>8 customer reviews</td>\n",
       "      <td>THE HUNTERS return in their third brilliant no...</td>\n",
       "      <td>Action &amp; Adventure (Books)</td>\n",
       "      <td>Action &amp; Adventure</td>\n",
       "      <td>220.00</td>\n",
       "    </tr>\n",
       "    <tr>\n",
       "      <th>1</th>\n",
       "      <td>Guru Dutt: A Tragedy in Three Acts</td>\n",
       "      <td>Arun Khopkar</td>\n",
       "      <td>Paperback,– 7 Nov 2012</td>\n",
       "      <td>3.9 out of 5 stars</td>\n",
       "      <td>14 customer reviews</td>\n",
       "      <td>A layered portrait of a troubled genius for wh...</td>\n",
       "      <td>Cinema &amp; Broadcast (Books)</td>\n",
       "      <td>Biographies, Diaries &amp; True Accounts</td>\n",
       "      <td>202.93</td>\n",
       "    </tr>\n",
       "    <tr>\n",
       "      <th>2</th>\n",
       "      <td>Leviathan (Penguin Classics)</td>\n",
       "      <td>Thomas Hobbes</td>\n",
       "      <td>Paperback,– 25 Feb 1982</td>\n",
       "      <td>4.8 out of 5 stars</td>\n",
       "      <td>6 customer reviews</td>\n",
       "      <td>\"During the time men live without a common Pow...</td>\n",
       "      <td>International Relations</td>\n",
       "      <td>Humour</td>\n",
       "      <td>299.00</td>\n",
       "    </tr>\n",
       "    <tr>\n",
       "      <th>3</th>\n",
       "      <td>A Pocket Full of Rye (Miss Marple)</td>\n",
       "      <td>Agatha Christie</td>\n",
       "      <td>Paperback,– 5 Oct 2017</td>\n",
       "      <td>4.1 out of 5 stars</td>\n",
       "      <td>13 customer reviews</td>\n",
       "      <td>A handful of grain is found in the pocket of a...</td>\n",
       "      <td>Contemporary Fiction (Books)</td>\n",
       "      <td>Crime, Thriller &amp; Mystery</td>\n",
       "      <td>180.00</td>\n",
       "    </tr>\n",
       "    <tr>\n",
       "      <th>4</th>\n",
       "      <td>LIFE 70 Years of Extraordinary Photography</td>\n",
       "      <td>Editors of Life</td>\n",
       "      <td>Hardcover,– 10 Oct 2006</td>\n",
       "      <td>5.0 out of 5 stars</td>\n",
       "      <td>1 customer review</td>\n",
       "      <td>For seven decades, \"Life\" has been thrilling t...</td>\n",
       "      <td>Photography Textbooks</td>\n",
       "      <td>Arts, Film &amp; Photography</td>\n",
       "      <td>965.62</td>\n",
       "    </tr>\n",
       "  </tbody>\n",
       "</table>\n",
       "</div>"
      ],
      "text/plain": [
       "                                        Title           Author  \\\n",
       "0         The Prisoner's Gold (The Hunters 3)   Chris Kuzneski   \n",
       "1          Guru Dutt: A Tragedy in Three Acts     Arun Khopkar   \n",
       "2                Leviathan (Penguin Classics)    Thomas Hobbes   \n",
       "3          A Pocket Full of Rye (Miss Marple)  Agatha Christie   \n",
       "4  LIFE 70 Years of Extraordinary Photography  Editors of Life   \n",
       "\n",
       "                   Edition             Reviews              Ratings  \\\n",
       "0  Paperback,– 10 Mar 2016  4.0 out of 5 stars   8 customer reviews   \n",
       "1   Paperback,– 7 Nov 2012  3.9 out of 5 stars  14 customer reviews   \n",
       "2  Paperback,– 25 Feb 1982  4.8 out of 5 stars   6 customer reviews   \n",
       "3   Paperback,– 5 Oct 2017  4.1 out of 5 stars  13 customer reviews   \n",
       "4  Hardcover,– 10 Oct 2006  5.0 out of 5 stars    1 customer review   \n",
       "\n",
       "                                            Synopsis  \\\n",
       "0  THE HUNTERS return in their third brilliant no...   \n",
       "1  A layered portrait of a troubled genius for wh...   \n",
       "2  \"During the time men live without a common Pow...   \n",
       "3  A handful of grain is found in the pocket of a...   \n",
       "4  For seven decades, \"Life\" has been thrilling t...   \n",
       "\n",
       "                          Genre                          BookCategory   Price  \n",
       "0    Action & Adventure (Books)                    Action & Adventure  220.00  \n",
       "1    Cinema & Broadcast (Books)  Biographies, Diaries & True Accounts  202.93  \n",
       "2       International Relations                                Humour  299.00  \n",
       "3  Contemporary Fiction (Books)             Crime, Thriller & Mystery  180.00  \n",
       "4         Photography Textbooks              Arts, Film & Photography  965.62  "
      ]
     },
     "execution_count": 60,
     "metadata": {},
     "output_type": "execute_result"
    }
   ],
   "source": [
    "df.head()"
   ]
  },
  {
   "cell_type": "code",
   "execution_count": 61,
   "metadata": {},
   "outputs": [
    {
     "name": "stdout",
     "output_type": "stream",
     "text": [
      "<class 'pandas.core.frame.DataFrame'>\n",
      "RangeIndex: 6237 entries, 0 to 6236\n",
      "Data columns (total 9 columns):\n",
      " #   Column        Non-Null Count  Dtype  \n",
      "---  ------        --------------  -----  \n",
      " 0   Title         6237 non-null   object \n",
      " 1   Author        6237 non-null   object \n",
      " 2   Edition       6237 non-null   object \n",
      " 3   Reviews       6237 non-null   object \n",
      " 4   Ratings       6237 non-null   object \n",
      " 5   Synopsis      6237 non-null   object \n",
      " 6   Genre         6237 non-null   object \n",
      " 7   BookCategory  6237 non-null   object \n",
      " 8   Price         6237 non-null   float64\n",
      "dtypes: float64(1), object(8)\n",
      "memory usage: 438.7+ KB\n"
     ]
    }
   ],
   "source": [
    "df.info()"
   ]
  },
  {
   "cell_type": "code",
   "execution_count": 62,
   "metadata": {},
   "outputs": [
    {
     "data": {
      "text/html": [
       "<div>\n",
       "<style scoped>\n",
       "    .dataframe tbody tr th:only-of-type {\n",
       "        vertical-align: middle;\n",
       "    }\n",
       "\n",
       "    .dataframe tbody tr th {\n",
       "        vertical-align: top;\n",
       "    }\n",
       "\n",
       "    .dataframe thead th {\n",
       "        text-align: right;\n",
       "    }\n",
       "</style>\n",
       "<table border=\"1\" class=\"dataframe\">\n",
       "  <thead>\n",
       "    <tr style=\"text-align: right;\">\n",
       "      <th></th>\n",
       "      <th>Price</th>\n",
       "    </tr>\n",
       "  </thead>\n",
       "  <tbody>\n",
       "    <tr>\n",
       "      <th>count</th>\n",
       "      <td>6237.000000</td>\n",
       "    </tr>\n",
       "    <tr>\n",
       "      <th>mean</th>\n",
       "      <td>560.707516</td>\n",
       "    </tr>\n",
       "    <tr>\n",
       "      <th>std</th>\n",
       "      <td>690.110657</td>\n",
       "    </tr>\n",
       "    <tr>\n",
       "      <th>min</th>\n",
       "      <td>25.000000</td>\n",
       "    </tr>\n",
       "    <tr>\n",
       "      <th>25%</th>\n",
       "      <td>249.180000</td>\n",
       "    </tr>\n",
       "    <tr>\n",
       "      <th>50%</th>\n",
       "      <td>373.000000</td>\n",
       "    </tr>\n",
       "    <tr>\n",
       "      <th>75%</th>\n",
       "      <td>599.000000</td>\n",
       "    </tr>\n",
       "    <tr>\n",
       "      <th>max</th>\n",
       "      <td>14100.000000</td>\n",
       "    </tr>\n",
       "  </tbody>\n",
       "</table>\n",
       "</div>"
      ],
      "text/plain": [
       "              Price\n",
       "count   6237.000000\n",
       "mean     560.707516\n",
       "std      690.110657\n",
       "min       25.000000\n",
       "25%      249.180000\n",
       "50%      373.000000\n",
       "75%      599.000000\n",
       "max    14100.000000"
      ]
     },
     "execution_count": 62,
     "metadata": {},
     "output_type": "execute_result"
    }
   ],
   "source": [
    "df.describe()"
   ]
  },
  {
   "cell_type": "code",
   "execution_count": 63,
   "metadata": {},
   "outputs": [],
   "source": [
    "# plot price to see outliers\n",
    "# change some of the columns \n",
    "# what to do about synopsis?"
   ]
  },
  {
   "cell_type": "code",
   "execution_count": 64,
   "metadata": {},
   "outputs": [
    {
     "data": {
      "text/plain": [
       "(array([5.855e+03, 3.010e+02, 4.400e+01, 2.300e+01, 5.000e+00, 3.000e+00,\n",
       "        2.000e+00, 1.000e+00, 1.000e+00, 2.000e+00]),\n",
       " array([   25. ,  1432.5,  2840. ,  4247.5,  5655. ,  7062.5,  8470. ,\n",
       "         9877.5, 11285. , 12692.5, 14100. ]),\n",
       " <BarContainer object of 10 artists>)"
      ]
     },
     "execution_count": 64,
     "metadata": {},
     "output_type": "execute_result"
    },
    {
     "data": {
      "image/png": "[encoded data removed]",
      "text/plain": [
       "<Figure size 432x288 with 1 Axes>"
      ]
     },
     "metadata": {
      "needs_background": "light"
     },
     "output_type": "display_data"
    }
   ],
   "source": [
    "plt.hist(df['Price'])"
   ]
  },
  {
   "cell_type": "code",
   "execution_count": 65,
   "metadata": {},
   "outputs": [
    {
     "name": "stdout",
     "output_type": "stream",
     "text": [
      "more than 4000 price  43\n",
      "more than 6000 price  12\n",
      "more than 140000 price  1\n"
     ]
    }
   ],
   "source": [
    "# how many above 4000, 6000 and 14000\n",
    "print(\"more than 4000 price \", len(df[df.Price > 4000]))\n",
    "print(\"more than 6000 price \", len(df[df.Price > 6000]))\n",
    "print(\"more than 140000 price \", len(df[df.Price > 14000]))"
   ]
  },
  {
   "cell_type": "code",
   "execution_count": 66,
   "metadata": {},
   "outputs": [
    {
     "data": {
      "text/html": [
       "<div>\n",
       "<style scoped>\n",
       "    .dataframe tbody tr th:only-of-type {\n",
       "        vertical-align: middle;\n",
       "    }\n",
       "\n",
       "    .dataframe tbody tr th {\n",
       "        vertical-align: top;\n",
       "    }\n",
       "\n",
       "    .dataframe thead th {\n",
       "        text-align: right;\n",
       "    }\n",
       "</style>\n",
       "<table border=\"1\" class=\"dataframe\">\n",
       "  <thead>\n",
       "    <tr style=\"text-align: right;\">\n",
       "      <th></th>\n",
       "      <th>Title</th>\n",
       "      <th>Author</th>\n",
       "      <th>Edition</th>\n",
       "      <th>Reviews</th>\n",
       "      <th>Ratings</th>\n",
       "      <th>Synopsis</th>\n",
       "      <th>Genre</th>\n",
       "      <th>BookCategory</th>\n",
       "      <th>Price</th>\n",
       "    </tr>\n",
       "  </thead>\n",
       "  <tbody>\n",
       "    <tr>\n",
       "      <th>2455</th>\n",
       "      <td>The Complete Asterix Box Set (36 Titles)</td>\n",
       "      <td>Rene Goscinny</td>\n",
       "      <td>Product Bundle,– 26 Aug 2016</td>\n",
       "      <td>4.9 out of 5 stars</td>\n",
       "      <td>22 customer reviews</td>\n",
       "      <td>Composed of thirty six, four-colour albums in ...</td>\n",
       "      <td>Comics &amp; Graphic Novels (Books)</td>\n",
       "      <td>Comics &amp; Mangas</td>\n",
       "      <td>14100.0</td>\n",
       "    </tr>\n",
       "  </tbody>\n",
       "</table>\n",
       "</div>"
      ],
      "text/plain": [
       "                                         Title         Author  \\\n",
       "2455  The Complete Asterix Box Set (36 Titles)  Rene Goscinny   \n",
       "\n",
       "                           Edition             Reviews              Ratings  \\\n",
       "2455  Product Bundle,– 26 Aug 2016  4.9 out of 5 stars  22 customer reviews   \n",
       "\n",
       "                                               Synopsis  \\\n",
       "2455  Composed of thirty six, four-colour albums in ...   \n",
       "\n",
       "                                Genre     BookCategory    Price  \n",
       "2455  Comics & Graphic Novels (Books)  Comics & Mangas  14100.0  "
      ]
     },
     "execution_count": 66,
     "metadata": {},
     "output_type": "execute_result"
    }
   ],
   "source": [
    "# what is that book that cost so much?\n",
    "df[df.Price == df.Price.max()]\n",
    "\n",
    "# it is 36 title box set, seems possible."
   ]
  },
  {
   "cell_type": "code",
   "execution_count": 67,
   "metadata": {},
   "outputs": [
    {
     "data": {
      "text/html": [
       "<div>\n",
       "<style scoped>\n",
       "    .dataframe tbody tr th:only-of-type {\n",
       "        vertical-align: middle;\n",
       "    }\n",
       "\n",
       "    .dataframe tbody tr th {\n",
       "        vertical-align: top;\n",
       "    }\n",
       "\n",
       "    .dataframe thead th {\n",
       "        text-align: right;\n",
       "    }\n",
       "</style>\n",
       "<table border=\"1\" class=\"dataframe\">\n",
       "  <thead>\n",
       "    <tr style=\"text-align: right;\">\n",
       "      <th></th>\n",
       "      <th>Title</th>\n",
       "      <th>Author</th>\n",
       "      <th>Edition</th>\n",
       "      <th>Reviews</th>\n",
       "      <th>Ratings</th>\n",
       "      <th>Synopsis</th>\n",
       "      <th>Genre</th>\n",
       "      <th>BookCategory</th>\n",
       "      <th>Price</th>\n",
       "    </tr>\n",
       "  </thead>\n",
       "  <tbody>\n",
       "    <tr>\n",
       "      <th>886</th>\n",
       "      <td>Modern Labor Economics: Theory and Public Poli...</td>\n",
       "      <td>Ronald G. Ehrenberg</td>\n",
       "      <td>Hardcover,– Import, 27 Oct 1999</td>\n",
       "      <td>4.0 out of 5 stars</td>\n",
       "      <td>1 customer review</td>\n",
       "      <td>Comprehensively surveying the field of labor e...</td>\n",
       "      <td>Labor &amp; Industrial Relations</td>\n",
       "      <td>Politics</td>\n",
       "      <td>13244.67</td>\n",
       "    </tr>\n",
       "    <tr>\n",
       "      <th>2455</th>\n",
       "      <td>The Complete Asterix Box Set (36 Titles)</td>\n",
       "      <td>Rene Goscinny</td>\n",
       "      <td>Product Bundle,– 26 Aug 2016</td>\n",
       "      <td>4.9 out of 5 stars</td>\n",
       "      <td>22 customer reviews</td>\n",
       "      <td>Composed of thirty six, four-colour albums in ...</td>\n",
       "      <td>Comics &amp; Graphic Novels (Books)</td>\n",
       "      <td>Comics &amp; Mangas</td>\n",
       "      <td>14100.00</td>\n",
       "    </tr>\n",
       "    <tr>\n",
       "      <th>2560</th>\n",
       "      <td>Ranga Roopa: Gods. Words. Images</td>\n",
       "      <td>B.N. Goswamy</td>\n",
       "      <td>Paperback,– 28 May 2010</td>\n",
       "      <td>4.5 out of 5 stars</td>\n",
       "      <td>10 customer reviews</td>\n",
       "      <td>The delights of Indian art and poetry are brou...</td>\n",
       "      <td>Arts History, Theory &amp; Criticism (Books)</td>\n",
       "      <td>Arts, Film &amp; Photography</td>\n",
       "      <td>9096.00</td>\n",
       "    </tr>\n",
       "    <tr>\n",
       "      <th>2607</th>\n",
       "      <td>Fifty Cars that Changed the World: Design Muse...</td>\n",
       "      <td>Design Museum Enterprise Limited</td>\n",
       "      <td>Hardcover,– 6 Oct 2009</td>\n",
       "      <td>4.0 out of 5 stars</td>\n",
       "      <td>1 customer review</td>\n",
       "      <td>Everything around us is designed and the word ...</td>\n",
       "      <td>Arts History, Theory &amp; Criticism (Books)</td>\n",
       "      <td>Arts, Film &amp; Photography</td>\n",
       "      <td>11715.12</td>\n",
       "    </tr>\n",
       "    <tr>\n",
       "      <th>2818</th>\n",
       "      <td>On the Night of the Seventh Moon: The Classic ...</td>\n",
       "      <td>Victoria Holt</td>\n",
       "      <td>Paperback,– 2 Mar 2010</td>\n",
       "      <td>5.0 out of 5 stars</td>\n",
       "      <td>1 customer review</td>\n",
       "      <td>For generations, Victoria Holt has dazzled and...</td>\n",
       "      <td>Romance (Books)</td>\n",
       "      <td>Romance</td>\n",
       "      <td>9984.00</td>\n",
       "    </tr>\n",
       "    <tr>\n",
       "      <th>3703</th>\n",
       "      <td>The Sandman Omnibus Vol. 1</td>\n",
       "      <td>Neil Gaiman</td>\n",
       "      <td>Hardcover,– 3 Sep 2013</td>\n",
       "      <td>5.0 out of 5 stars</td>\n",
       "      <td>11 customer reviews</td>\n",
       "      <td>A New York Times Bestseller!\\n\\nThe Sandman is...</td>\n",
       "      <td>Comics</td>\n",
       "      <td>Comics &amp; Mangas</td>\n",
       "      <td>6840.00</td>\n",
       "    </tr>\n",
       "    <tr>\n",
       "      <th>4282</th>\n",
       "      <td>The Sandman Omnibus Vol. 2</td>\n",
       "      <td>Neil Gaiman</td>\n",
       "      <td>Hardcover,– 12 Nov 2013</td>\n",
       "      <td>5.0 out of 5 stars</td>\n",
       "      <td>4 customer reviews</td>\n",
       "      <td>A New York Times bestseller!\\n\\nThe Sandman is...</td>\n",
       "      <td>Comics</td>\n",
       "      <td>Comics &amp; Mangas</td>\n",
       "      <td>7195.00</td>\n",
       "    </tr>\n",
       "    <tr>\n",
       "      <th>4301</th>\n",
       "      <td>Bleach Box Set 3: Includes vols. 49-74 with pr...</td>\n",
       "      <td>Tite Kubo</td>\n",
       "      <td>Paperback,– Import, 6 Nov 2018</td>\n",
       "      <td>5.0 out of 5 stars</td>\n",
       "      <td>1 customer review</td>\n",
       "      <td>Part-time student, full-time Soul Reaper, Ichi...</td>\n",
       "      <td>Mangas</td>\n",
       "      <td>Comics &amp; Mangas</td>\n",
       "      <td>8999.00</td>\n",
       "    </tr>\n",
       "    <tr>\n",
       "      <th>4463</th>\n",
       "      <td>Essentials of Strength Training and Conditioning</td>\n",
       "      <td>G.Gregory Haff, N. Travis Triplett</td>\n",
       "      <td>Hardcover,– 16 Nov 2015</td>\n",
       "      <td>4.5 out of 5 stars</td>\n",
       "      <td>2 customer reviews</td>\n",
       "      <td>Essentials of Strength Training and Conditioni...</td>\n",
       "      <td>Healthy Living &amp; Wellness (Books)</td>\n",
       "      <td>Sports</td>\n",
       "      <td>7132.00</td>\n",
       "    </tr>\n",
       "    <tr>\n",
       "      <th>5704</th>\n",
       "      <td>Homer Kelley's Golfing Machine: The Curious Qu...</td>\n",
       "      <td>Scott Gummer</td>\n",
       "      <td>Paperback,– 4 May 2010</td>\n",
       "      <td>4.0 out of 5 stars</td>\n",
       "      <td>1 customer review</td>\n",
       "      <td>The remarkable true story of a lone genius who...</td>\n",
       "      <td>Baseball (Books)</td>\n",
       "      <td>Sports</td>\n",
       "      <td>7302.00</td>\n",
       "    </tr>\n",
       "    <tr>\n",
       "      <th>5825</th>\n",
       "      <td>Watchmen: Absolute Edition (Absolute Editions)</td>\n",
       "      <td>Alan Moore</td>\n",
       "      <td>Hardcover,– 13 Dec 2011</td>\n",
       "      <td>5.0 out of 5 stars</td>\n",
       "      <td>2 customer reviews</td>\n",
       "      <td>SOON TO BE A FEATURE FILM!\\nThis Hugo Award-wi...</td>\n",
       "      <td>Comics</td>\n",
       "      <td>Comics &amp; Mangas</td>\n",
       "      <td>6415.00</td>\n",
       "    </tr>\n",
       "    <tr>\n",
       "      <th>5896</th>\n",
       "      <td>Daredevil by Frank Miller &amp; Klaus Jason Omnibu...</td>\n",
       "      <td>Frank Miller</td>\n",
       "      <td>Hardcover,– 15 Mar 2016</td>\n",
       "      <td>5.0 out of 5 stars</td>\n",
       "      <td>1 customer review</td>\n",
       "      <td>A classic Marvel hero redefined by one of comi...</td>\n",
       "      <td>Comics</td>\n",
       "      <td>Comics &amp; Mangas</td>\n",
       "      <td>6911.00</td>\n",
       "    </tr>\n",
       "  </tbody>\n",
       "</table>\n",
       "</div>"
      ],
      "text/plain": [
       "                                                  Title  \\\n",
       "886   Modern Labor Economics: Theory and Public Poli...   \n",
       "2455           The Complete Asterix Box Set (36 Titles)   \n",
       "2560                   Ranga Roopa: Gods. Words. Images   \n",
       "2607  Fifty Cars that Changed the World: Design Muse...   \n",
       "2818  On the Night of the Seventh Moon: The Classic ...   \n",
       "3703                         The Sandman Omnibus Vol. 1   \n",
       "4282                         The Sandman Omnibus Vol. 2   \n",
       "4301  Bleach Box Set 3: Includes vols. 49-74 with pr...   \n",
       "4463   Essentials of Strength Training and Conditioning   \n",
       "5704  Homer Kelley's Golfing Machine: The Curious Qu...   \n",
       "5825     Watchmen: Absolute Edition (Absolute Editions)   \n",
       "5896  Daredevil by Frank Miller & Klaus Jason Omnibu...   \n",
       "\n",
       "                                  Author                          Edition  \\\n",
       "886                  Ronald G. Ehrenberg  Hardcover,– Import, 27 Oct 1999   \n",
       "2455                       Rene Goscinny     Product Bundle,– 26 Aug 2016   \n",
       "2560                        B.N. Goswamy          Paperback,– 28 May 2010   \n",
       "2607    Design Museum Enterprise Limited           Hardcover,– 6 Oct 2009   \n",
       "2818                       Victoria Holt           Paperback,– 2 Mar 2010   \n",
       "3703                         Neil Gaiman           Hardcover,– 3 Sep 2013   \n",
       "4282                         Neil Gaiman          Hardcover,– 12 Nov 2013   \n",
       "4301                           Tite Kubo   Paperback,– Import, 6 Nov 2018   \n",
       "4463  G.Gregory Haff, N. Travis Triplett          Hardcover,– 16 Nov 2015   \n",
       "5704                        Scott Gummer           Paperback,– 4 May 2010   \n",
       "5825                          Alan Moore          Hardcover,– 13 Dec 2011   \n",
       "5896                        Frank Miller          Hardcover,– 15 Mar 2016   \n",
       "\n",
       "                 Reviews              Ratings  \\\n",
       "886   4.0 out of 5 stars    1 customer review   \n",
       "2455  4.9 out of 5 stars  22 customer reviews   \n",
       "2560  4.5 out of 5 stars  10 customer reviews   \n",
       "2607  4.0 out of 5 stars    1 customer review   \n",
       "2818  5.0 out of 5 stars    1 customer review   \n",
       "3703  5.0 out of 5 stars  11 customer reviews   \n",
       "4282  5.0 out of 5 stars   4 customer reviews   \n",
       "4301  5.0 out of 5 stars    1 customer review   \n",
       "4463  4.5 out of 5 stars   2 customer reviews   \n",
       "5704  4.0 out of 5 stars    1 customer review   \n",
       "5825  5.0 out of 5 stars   2 customer reviews   \n",
       "5896  5.0 out of 5 stars    1 customer review   \n",
       "\n",
       "                                               Synopsis  \\\n",
       "886   Comprehensively surveying the field of labor e...   \n",
       "2455  Composed of thirty six, four-colour albums in ...   \n",
       "2560  The delights of Indian art and poetry are brou...   \n",
       "2607  Everything around us is designed and the word ...   \n",
       "2818  For generations, Victoria Holt has dazzled and...   \n",
       "3703  A New York Times Bestseller!\\n\\nThe Sandman is...   \n",
       "4282  A New York Times bestseller!\\n\\nThe Sandman is...   \n",
       "4301  Part-time student, full-time Soul Reaper, Ichi...   \n",
       "4463  Essentials of Strength Training and Conditioni...   \n",
       "5704  The remarkable true story of a lone genius who...   \n",
       "5825  SOON TO BE A FEATURE FILM!\\nThis Hugo Award-wi...   \n",
       "5896  A classic Marvel hero redefined by one of comi...   \n",
       "\n",
       "                                         Genre              BookCategory  \\\n",
       "886               Labor & Industrial Relations                  Politics   \n",
       "2455           Comics & Graphic Novels (Books)           Comics & Mangas   \n",
       "2560  Arts History, Theory & Criticism (Books)  Arts, Film & Photography   \n",
       "2607  Arts History, Theory & Criticism (Books)  Arts, Film & Photography   \n",
       "2818                           Romance (Books)                   Romance   \n",
       "3703                                    Comics           Comics & Mangas   \n",
       "4282                                    Comics           Comics & Mangas   \n",
       "4301                                    Mangas           Comics & Mangas   \n",
       "4463         Healthy Living & Wellness (Books)                    Sports   \n",
       "5704                          Baseball (Books)                    Sports   \n",
       "5825                                    Comics           Comics & Mangas   \n",
       "5896                                    Comics           Comics & Mangas   \n",
       "\n",
       "         Price  \n",
       "886   13244.67  \n",
       "2455  14100.00  \n",
       "2560   9096.00  \n",
       "2607  11715.12  \n",
       "2818   9984.00  \n",
       "3703   6840.00  \n",
       "4282   7195.00  \n",
       "4301   8999.00  \n",
       "4463   7132.00  \n",
       "5704   7302.00  \n",
       "5825   6415.00  \n",
       "5896   6911.00  "
      ]
     },
     "execution_count": 67,
     "metadata": {},
     "output_type": "execute_result"
    }
   ],
   "source": [
    "df[df.Price > 6000]"
   ]
  },
  {
   "cell_type": "markdown",
   "metadata": {},
   "source": [
    "## Add A Reviews Column With Float "
   ]
  },
  {
   "cell_type": "code",
   "execution_count": 68,
   "metadata": {},
   "outputs": [],
   "source": [
    "# try using regex\n",
    "import re"
   ]
  },
  {
   "cell_type": "code",
   "execution_count": 69,
   "metadata": {},
   "outputs": [
    {
     "data": {
      "text/plain": [
       "0       4.0 out of 5 stars\n",
       "1       3.9 out of 5 stars\n",
       "2       4.8 out of 5 stars\n",
       "3       4.1 out of 5 stars\n",
       "4       5.0 out of 5 stars\n",
       "               ...        \n",
       "6232    5.0 out of 5 stars\n",
       "6233    3.3 out of 5 stars\n",
       "6234    3.8 out of 5 stars\n",
       "6235    3.5 out of 5 stars\n",
       "6236    3.9 out of 5 stars\n",
       "Name: Reviews, Length: 6237, dtype: object"
      ]
     },
     "execution_count": 69,
     "metadata": {},
     "output_type": "execute_result"
    }
   ],
   "source": [
    "df.Reviews.astype('str')"
   ]
  },
  {
   "cell_type": "code",
   "execution_count": 70,
   "metadata": {},
   "outputs": [],
   "source": [
    "# TODO: refine regex \n",
    "\n",
    "df['Reviews_float'] = df.Reviews.str.extract('(\\d+\\.\\d+)')"
   ]
  },
  {
   "cell_type": "code",
   "execution_count": 71,
   "metadata": {},
   "outputs": [
    {
     "data": {
      "text/plain": [
       "Title             object\n",
       "Author            object\n",
       "Edition           object\n",
       "Reviews           object\n",
       "Ratings           object\n",
       "Synopsis          object\n",
       "Genre             object\n",
       "BookCategory      object\n",
       "Price            float64\n",
       "Reviews_float     object\n",
       "dtype: object"
      ]
     },
     "execution_count": 71,
     "metadata": {},
     "output_type": "execute_result"
    }
   ],
   "source": [
    "df.dtypes"
   ]
  },
  {
   "cell_type": "code",
   "execution_count": 72,
   "metadata": {},
   "outputs": [
    {
     "data": {
      "text/html": [
       "<div>\n",
       "<style scoped>\n",
       "    .dataframe tbody tr th:only-of-type {\n",
       "        vertical-align: middle;\n",
       "    }\n",
       "\n",
       "    .dataframe tbody tr th {\n",
       "        vertical-align: top;\n",
       "    }\n",
       "\n",
       "    .dataframe thead th {\n",
       "        text-align: right;\n",
       "    }\n",
       "</style>\n",
       "<table border=\"1\" class=\"dataframe\">\n",
       "  <thead>\n",
       "    <tr style=\"text-align: right;\">\n",
       "      <th></th>\n",
       "      <th>Title</th>\n",
       "      <th>Author</th>\n",
       "      <th>Edition</th>\n",
       "      <th>Reviews</th>\n",
       "      <th>Ratings</th>\n",
       "      <th>Synopsis</th>\n",
       "      <th>Genre</th>\n",
       "      <th>BookCategory</th>\n",
       "      <th>Price</th>\n",
       "      <th>Reviews_float</th>\n",
       "    </tr>\n",
       "  </thead>\n",
       "  <tbody>\n",
       "    <tr>\n",
       "      <th>3582</th>\n",
       "      <td>Banker To The Poor: Micro-Lending and the Batt...</td>\n",
       "      <td>Muhammad Yunus</td>\n",
       "      <td>Paperback,– 8 Jan 2008</td>\n",
       "      <td>4.0 out of 5 stars</td>\n",
       "      <td>1 customer review</td>\n",
       "      <td>Muhammad Yunus is that rare thing: a bona fide...</td>\n",
       "      <td>Banks &amp; Banking</td>\n",
       "      <td>Politics</td>\n",
       "      <td>740.0</td>\n",
       "      <td>4.0</td>\n",
       "    </tr>\n",
       "  </tbody>\n",
       "</table>\n",
       "</div>"
      ],
      "text/plain": [
       "                                                  Title          Author  \\\n",
       "3582  Banker To The Poor: Micro-Lending and the Batt...  Muhammad Yunus   \n",
       "\n",
       "                     Edition             Reviews            Ratings  \\\n",
       "3582  Paperback,– 8 Jan 2008  4.0 out of 5 stars  1 customer review   \n",
       "\n",
       "                                               Synopsis            Genre  \\\n",
       "3582  Muhammad Yunus is that rare thing: a bona fide...  Banks & Banking   \n",
       "\n",
       "     BookCategory  Price Reviews_float  \n",
       "3582     Politics  740.0           4.0  "
      ]
     },
     "execution_count": 72,
     "metadata": {},
     "output_type": "execute_result"
    }
   ],
   "source": [
    "df.sample()"
   ]
  },
  {
   "cell_type": "code",
   "execution_count": 90,
   "metadata": {},
   "outputs": [
    {
     "data": {
      "text/plain": [
       "0       4.0\n",
       "1       3.9\n",
       "2       4.8\n",
       "3       4.1\n",
       "4       5.0\n",
       "       ... \n",
       "6232    5.0\n",
       "6233    3.3\n",
       "6234    3.8\n",
       "6235    3.5\n",
       "6236    3.9\n",
       "Name: Reviews_float, Length: 6237, dtype: float64"
      ]
     },
     "execution_count": 90,
     "metadata": {},
     "output_type": "execute_result"
    }
   ],
   "source": [
    "df['Reviews_float'].astype(float)"
   ]
  },
  {
   "cell_type": "code",
   "execution_count": 94,
   "metadata": {},
   "outputs": [],
   "source": [
    "df['Reviews_float'] = pd.to_numeric(df['Reviews_float'], errors='coerce')\n",
    "# df['strain_float'] = df['strain'].astype(float).round(2)"
   ]
  },
  {
   "cell_type": "code",
   "execution_count": 95,
   "metadata": {},
   "outputs": [
    {
     "name": "stdout",
     "output_type": "stream",
     "text": [
      "<class 'pandas.core.frame.DataFrame'>\n",
      "RangeIndex: 6237 entries, 0 to 6236\n",
      "Data columns (total 10 columns):\n",
      " #   Column         Non-Null Count  Dtype  \n",
      "---  ------         --------------  -----  \n",
      " 0   Title          6237 non-null   object \n",
      " 1   Author         6237 non-null   object \n",
      " 2   Edition        6237 non-null   object \n",
      " 3   Reviews        6237 non-null   object \n",
      " 4   Ratings        6237 non-null   object \n",
      " 5   Synopsis       6237 non-null   object \n",
      " 6   Genre          6237 non-null   object \n",
      " 7   BookCategory   6237 non-null   object \n",
      " 8   Price          6237 non-null   float64\n",
      " 9   Reviews_float  6237 non-null   float64\n",
      "dtypes: float64(2), object(8)\n",
      "memory usage: 487.4+ KB\n"
     ]
    }
   ],
   "source": [
    "df.info()"
   ]
  },
  {
   "cell_type": "code",
   "execution_count": 96,
   "metadata": {},
   "outputs": [
    {
     "data": {
      "text/plain": [
       "<bound method Series.count of 0       4.0\n",
       "1       3.9\n",
       "2       4.8\n",
       "3       4.1\n",
       "4       5.0\n",
       "       ... \n",
       "6232    5.0\n",
       "6233    3.3\n",
       "6234    3.8\n",
       "6235    3.5\n",
       "6236    3.9\n",
       "Name: Reviews_float, Length: 6237, dtype: float64>"
      ]
     },
     "execution_count": 96,
     "metadata": {},
     "output_type": "execute_result"
    }
   ],
   "source": [
    "df['Reviews_float'].count"
   ]
  },
  {
   "cell_type": "code",
   "execution_count": 97,
   "metadata": {},
   "outputs": [
    {
     "data": {
      "text/plain": [
       "6237"
      ]
     },
     "execution_count": 97,
     "metadata": {},
     "output_type": "execute_result"
    }
   ],
   "source": [
    "df['Reviews_float'].count()"
   ]
  },
  {
   "cell_type": "code",
   "execution_count": 98,
   "metadata": {},
   "outputs": [
    {
     "data": {
      "text/plain": [
       "array([4. , 3.9, 4.8, 4.1, 5. , 4.5, 4.4, 4.7, 4.2, 4.9, 3.5, 3.8, 4.3,\n",
       "       3.1, 4.6, 2. , 3.7, 3.2, 2.6, 2.8, 3.4, 2.9, 3.3, 3. , 2.5, 1. ,\n",
       "       3.6, 2.7, 1.5, 2.3, 1.7, 2.2, 1.4, 2.4, 1.6, 2.1])"
      ]
     },
     "execution_count": 98,
     "metadata": {},
     "output_type": "execute_result"
    }
   ],
   "source": [
    "df['Reviews_float'].unique()"
   ]
  },
  {
   "cell_type": "code",
   "execution_count": 99,
   "metadata": {},
   "outputs": [
    {
     "data": {
      "text/plain": [
       "36"
      ]
     },
     "execution_count": 99,
     "metadata": {},
     "output_type": "execute_result"
    }
   ],
   "source": [
    "df['Reviews_float'].nunique()"
   ]
  },
  {
   "cell_type": "code",
   "execution_count": 100,
   "metadata": {},
   "outputs": [
    {
     "data": {
      "text/plain": [
       "5.0    1375\n",
       "4.0     570\n",
       "4.5     507\n",
       "4.6     394\n",
       "4.4     389\n",
       "4.3     359\n",
       "4.7     343\n",
       "4.2     324\n",
       "4.1     310\n",
       "3.9     241\n",
       "4.8     222\n",
       "3.8     190\n",
       "3.7     167\n",
       "3.0     138\n",
       "3.5     115\n",
       "3.6     110\n",
       "4.9      75\n",
       "3.4      75\n",
       "3.3      57\n",
       "3.1      49\n",
       "1.0      49\n",
       "3.2      41\n",
       "2.0      39\n",
       "2.9      26\n",
       "2.5      18\n",
       "2.7      16\n",
       "2.8      10\n",
       "2.3       7\n",
       "1.5       5\n",
       "2.6       4\n",
       "2.4       4\n",
       "2.2       3\n",
       "1.4       2\n",
       "1.7       1\n",
       "2.1       1\n",
       "1.6       1\n",
       "Name: Reviews_float, dtype: int64"
      ]
     },
     "execution_count": 100,
     "metadata": {},
     "output_type": "execute_result"
    }
   ],
   "source": [
    "df['Reviews_float'].value_counts()"
   ]
  },
  {
   "cell_type": "code",
   "execution_count": 101,
   "metadata": {},
   "outputs": [
    {
     "data": {
      "text/plain": [
       "6237"
      ]
     },
     "execution_count": 101,
     "metadata": {},
     "output_type": "execute_result"
    }
   ],
   "source": [
    "df['Reviews_float'].value_counts().sum()"
   ]
  },
  {
   "cell_type": "code",
   "execution_count": 102,
   "metadata": {},
   "outputs": [
    {
     "data": {
      "text/plain": [
       "(4.0, 5.0]      4298\n",
       "(3.0, 4.0]      1615\n",
       "(2.0, 3.0]       227\n",
       "(0.995, 2.0]      97\n",
       "Name: Reviews_float, dtype: int64"
      ]
     },
     "execution_count": 102,
     "metadata": {},
     "output_type": "execute_result"
    }
   ],
   "source": [
    "# doesn't work with floats\n",
    "\n",
    "df['Reviews_float'].value_counts(bins=4)\n",
    "\n",
    "# df['Reviews_float'].value_counts(sort=False)"
   ]
  },
  {
   "cell_type": "code",
   "execution_count": 103,
   "metadata": {},
   "outputs": [
    {
     "data": {
      "text/plain": [
       "1.6       1\n",
       "2.1       1\n",
       "1.7       1\n",
       "1.4       2\n",
       "2.2       3\n",
       "2.4       4\n",
       "2.6       4\n",
       "1.5       5\n",
       "2.3       7\n",
       "2.8      10\n",
       "2.7      16\n",
       "2.5      18\n",
       "2.9      26\n",
       "2.0      39\n",
       "3.2      41\n",
       "1.0      49\n",
       "3.1      49\n",
       "3.3      57\n",
       "3.4      75\n",
       "4.9      75\n",
       "3.6     110\n",
       "3.5     115\n",
       "3.0     138\n",
       "3.7     167\n",
       "3.8     190\n",
       "4.8     222\n",
       "3.9     241\n",
       "4.1     310\n",
       "4.2     324\n",
       "4.7     343\n",
       "4.3     359\n",
       "4.4     389\n",
       "4.6     394\n",
       "4.5     507\n",
       "4.0     570\n",
       "5.0    1375\n",
       "Name: Reviews_float, dtype: int64"
      ]
     },
     "execution_count": 103,
     "metadata": {},
     "output_type": "execute_result"
    }
   ],
   "source": [
    "df['Reviews_float'].value_counts(ascending=True)"
   ]
  },
  {
   "cell_type": "code",
   "execution_count": 104,
   "metadata": {},
   "outputs": [
    {
     "data": {
      "text/plain": [
       "6237"
      ]
     },
     "execution_count": 104,
     "metadata": {},
     "output_type": "execute_result"
    }
   ],
   "source": [
    "df['Reviews_float'].size"
   ]
  },
  {
   "cell_type": "code",
   "execution_count": 105,
   "metadata": {},
   "outputs": [
    {
     "data": {
      "text/plain": [
       "(array([  49.,    9.,   40.,   32.,   56.,  360.,  582., 1121., 1579.,\n",
       "        2409.]),\n",
       " array([1. , 1.4, 1.8, 2.2, 2.6, 3. , 3.4, 3.8, 4.2, 4.6, 5. ]),\n",
       " <BarContainer object of 10 artists>)"
      ]
     },
     "execution_count": 105,
     "metadata": {},
     "output_type": "execute_result"
    },
    {
     "data": {
      "image/png": "[encoded data removed]",
      "text/plain": [
       "<Figure size 936x720 with 1 Axes>"
      ]
     },
     "metadata": {},
     "output_type": "display_data"
    }
   ],
   "source": [
    "plt.hist(df['Reviews_float'])"
   ]
  },
  {
   "cell_type": "code",
   "execution_count": null,
   "metadata": {},
   "outputs": [],
   "source": []
  }
 ],
 "metadata": {
  "kernelspec": {
   "display_name": "Python 3",
   "language": "python",
   "name": "python3"
  },
  "language_info": {
   "codemirror_mode": {
    "name": "ipython",
    "version": 3
   },
   "file_extension": ".py",
   "mimetype": "text/x-python",
   "name": "python",
   "nbconvert_exporter": "python",
   "pygments_lexer": "ipython3",
   "version": "3.7.1"
  },
  "toc": {
   "base_numbering": 1,
   "nav_menu": {},
   "number_sections": true,
   "sideBar": true,
   "skip_h1_title": false,
   "title_cell": "Table of Contents",
   "title_sidebar": "Contents",
   "toc_cell": true,
   "toc_position": {},
   "toc_section_display": true,
   "toc_window_display": false
  },
  "varInspector": {
   "cols": {
    "lenName": 16,
    "lenType": 16,
    "lenVar": 40
   },
   "kernels_config": {
    "python": {
     "delete_cmd_postfix": "",
     "delete_cmd_prefix": "del ",
     "library": "var_list.py",
     "varRefreshCmd": "print(var_dic_list())"
    },
    "r": {
     "delete_cmd_postfix": ") ",
     "delete_cmd_prefix": "rm(",
     "library": "var_list.r",
     "varRefreshCmd": "cat(var_dic_list()) "
    }
   },
   "types_to_exclude": [
    "module",
    "function",
    "builtin_function_or_method",
    "instance",
    "_Feature"
   ],
   "window_display": false
  }
 },
 "nbformat": 4,
 "nbformat_minor": 2
}
