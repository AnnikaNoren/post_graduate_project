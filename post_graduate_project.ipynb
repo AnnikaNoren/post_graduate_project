{
 "cells": [
  {
   "cell_type": "markdown",
   "metadata": {
    "toc": true
   },
   "source": [
    "<h1>Table of Contents<span class=\"tocSkip\"></span></h1>\n",
    "<div class=\"toc\"><ul class=\"toc-item\"><li><span><a href=\"#Coding-question:-fumbled-and-the-re-do\" data-toc-modified-id=\"Coding-question:-fumbled-and-the-re-do-1\"><span class=\"toc-item-num\">1&nbsp;&nbsp;</span>Coding question: fumbled and the re-do</a></span></li><li><span><a href=\"#Python-interview-questions\" data-toc-modified-id=\"Python-interview-questions-2\"><span class=\"toc-item-num\">2&nbsp;&nbsp;</span>Python interview questions</a></span><ul class=\"toc-item\"><li><span><a href=\"#Reverse-the-string\" data-toc-modified-id=\"Reverse-the-string-2.1\"><span class=\"toc-item-num\">2.1&nbsp;&nbsp;</span>Reverse the string</a></span></li><li><span><a href=\"#Identify-a-palindrome\" data-toc-modified-id=\"Identify-a-palindrome-2.2\"><span class=\"toc-item-num\">2.2&nbsp;&nbsp;</span>Identify a palindrome</a></span></li><li><span><a href=\"#Identify-palindromes-in-a-text-string\" data-toc-modified-id=\"Identify-palindromes-in-a-text-string-2.3\"><span class=\"toc-item-num\">2.3&nbsp;&nbsp;</span>Identify palindromes in a text string</a></span></li><li><span><a href=\"#Fizz-Buzz-problem\" data-toc-modified-id=\"Fizz-Buzz-problem-2.4\"><span class=\"toc-item-num\">2.4&nbsp;&nbsp;</span>Fizz Buzz problem</a></span></li><li><span><a href=\"#First-duplicate-word\" data-toc-modified-id=\"First-duplicate-word-2.5\"><span class=\"toc-item-num\">2.5&nbsp;&nbsp;</span>First duplicate word</a></span></li><li><span><a href=\"#What-if-we-wanted-to-find-the-first-word-with-more-than-2-duplicates-in-a-string?\" data-toc-modified-id=\"What-if-we-wanted-to-find-the-first-word-with-more-than-2-duplicates-in-a-string?-2.6\"><span class=\"toc-item-num\">2.6&nbsp;&nbsp;</span>What if we wanted to find the first word with more than 2 duplicates in a string?</a></span></li></ul></li><li><span><a href=\"#Quickfire\" data-toc-modified-id=\"Quickfire-3\"><span class=\"toc-item-num\">3&nbsp;&nbsp;</span>Quickfire</a></span><ul class=\"toc-item\"><li><span><a href=\"#Replicate-the-sum-for-any-number-of-variables\" data-toc-modified-id=\"Replicate-the-sum-for-any-number-of-variables-3.1\"><span class=\"toc-item-num\">3.1&nbsp;&nbsp;</span>Replicate the sum for any number of variables</a></span></li><li><span><a href=\"#Fibonacci-Sequence\" data-toc-modified-id=\"Fibonacci-Sequence-3.2\"><span class=\"toc-item-num\">3.2&nbsp;&nbsp;</span>Fibonacci Sequence</a></span></li></ul></li></ul></div>"
   ]
  },
  {
   "cell_type": "markdown",
   "metadata": {},
   "source": [
    "## Coding question: fumbled and the re-do"
   ]
  },
  {
   "cell_type": "code",
   "execution_count": 1,
   "metadata": {},
   "outputs": [],
   "source": [
    "a = [1,2,3,3,4,5,5]"
   ]
  },
  {
   "cell_type": "code",
   "execution_count": 2,
   "metadata": {},
   "outputs": [],
   "source": [
    "numbers = []\n",
    "duplicates = []"
   ]
  },
  {
   "cell_type": "code",
   "execution_count": 3,
   "metadata": {},
   "outputs": [],
   "source": [
    "for i in a:\n",
    "    if i in numbers:\n",
    "        duplicates.append(i)\n",
    "    else:\n",
    "        numbers.append(i)\n",
    "\n"
   ]
  },
  {
   "cell_type": "code",
   "execution_count": 4,
   "metadata": {},
   "outputs": [
    {
     "name": "stdout",
     "output_type": "stream",
     "text": [
      "duplicates [3, 5]\n",
      "numbers [1, 2, 3, 4, 5]\n"
     ]
    }
   ],
   "source": [
    "print(\"duplicates\", duplicates)\n",
    "print(\"numbers\", numbers)"
   ]
  },
  {
   "cell_type": "markdown",
   "metadata": {},
   "source": [
    "## Python interview questions\n"
   ]
  },
  {
   "cell_type": "markdown",
   "metadata": {},
   "source": [
    "### Reverse the string"
   ]
  },
  {
   "cell_type": "code",
   "execution_count": 1,
   "metadata": {},
   "outputs": [],
   "source": [
    "a = \"the fox jumps over the lazy dog\""
   ]
  },
  {
   "cell_type": "code",
   "execution_count": 6,
   "metadata": {},
   "outputs": [
    {
     "name": "stdout",
     "output_type": "stream",
     "text": [
      "g\n"
     ]
    }
   ],
   "source": [
    "print(a[-1])"
   ]
  },
  {
   "cell_type": "code",
   "execution_count": 5,
   "metadata": {},
   "outputs": [
    {
     "name": "stdout",
     "output_type": "stream",
     "text": [
      "god yzal eht revo spmuj xof eht\n"
     ]
    }
   ],
   "source": [
    "print(a[::-1])"
   ]
  },
  {
   "cell_type": "markdown",
   "metadata": {},
   "source": [
    "### Identify a palindrome"
   ]
  },
  {
   "cell_type": "code",
   "execution_count": 18,
   "metadata": {},
   "outputs": [],
   "source": [
    "b = \"Lol, this is a gag, I didn't laugh so hard in a long time\""
   ]
  },
  {
   "cell_type": "code",
   "execution_count": 23,
   "metadata": {},
   "outputs": [],
   "source": [
    "c = \"hi\"\n",
    "d = \"hannah\""
   ]
  },
  {
   "cell_type": "code",
   "execution_count": 24,
   "metadata": {},
   "outputs": [],
   "source": [
    "# look at a word and see if it is the same back and forward"
   ]
  },
  {
   "cell_type": "code",
   "execution_count": 79,
   "metadata": {},
   "outputs": [],
   "source": [
    "def is_it_palindrome(word):\n",
    "    if word == word[::-1]:\n",
    "        print(\"Yes! {} is a palindrome\".format(word))\n",
    "    else:\n",
    "        pass"
   ]
  },
  {
   "cell_type": "code",
   "execution_count": 73,
   "metadata": {},
   "outputs": [
    {
     "name": "stdout",
     "output_type": "stream",
     "text": [
      "no\n",
      "Yes! hannah is a palindrome\n"
     ]
    }
   ],
   "source": [
    "is_it_palindrome(c)\n",
    "is_it_palindrome(d)"
   ]
  },
  {
   "cell_type": "markdown",
   "metadata": {},
   "source": [
    "### Identify palindromes in a text string"
   ]
  },
  {
   "cell_type": "code",
   "execution_count": 74,
   "metadata": {},
   "outputs": [],
   "source": [
    "# replaced all commas, should be all puncuation\n",
    "# split a text string into words and print out individually"
   ]
  },
  {
   "cell_type": "code",
   "execution_count": 75,
   "metadata": {},
   "outputs": [],
   "source": [
    "def split_text_string(text):\n",
    "    words = text.replace(\",\", \"\")\n",
    "    words = words.split(' ')\n",
    "    print(words)"
   ]
  },
  {
   "cell_type": "code",
   "execution_count": 76,
   "metadata": {},
   "outputs": [
    {
     "name": "stdout",
     "output_type": "stream",
     "text": [
      "['Lol', 'this', 'is', 'a', 'gag', 'I', \"didn't\", 'laugh', 'so', 'hard', 'in', 'a', 'long', 'time']\n"
     ]
    }
   ],
   "source": [
    "split_text_string(b)"
   ]
  },
  {
   "cell_type": "code",
   "execution_count": 82,
   "metadata": {},
   "outputs": [],
   "source": [
    "def identify_palindromes(text):\n",
    "    words = text.replace(\",\", \"\")\n",
    "    words = words.lower()\n",
    "    words = words.split(' ')\n",
    "\n",
    "    for i in words:\n",
    "        if len(i) >1:\n",
    "            is_it_palindrome(i)\n",
    "        else:\n",
    "            pass"
   ]
  },
  {
   "cell_type": "code",
   "execution_count": 85,
   "metadata": {},
   "outputs": [
    {
     "name": "stdout",
     "output_type": "stream",
     "text": [
      "Yes! lol is a palindrome\n",
      "Yes! gag is a palindrome\n"
     ]
    }
   ],
   "source": [
    "identify_palindromes(b)"
   ]
  },
  {
   "cell_type": "markdown",
   "metadata": {},
   "source": [
    "### Fizz Buzz problem\n",
    "Write a program that prints the number for 1 to 50, for number multiple of 2 print fizz instead of a number, for numbers multiple of 3 print buzz, for numbers which are multiple of both 2 and 3 fizzbuzz."
   ]
  },
  {
   "cell_type": "code",
   "execution_count": 11,
   "metadata": {},
   "outputs": [
    {
     "name": "stdout",
     "output_type": "stream",
     "text": [
      "fizz 2\n",
      "buzz 3\n",
      "fizz 4\n",
      "fizzbuzz 6\n",
      "fizz 8\n",
      "buzz 9\n",
      "fizz 10\n",
      "fizzbuzz 12\n",
      "fizz 14\n",
      "buzz 15\n",
      "fizz 16\n",
      "fizzbuzz 18\n",
      "fizz 20\n",
      "buzz 21\n",
      "fizz 22\n",
      "fizzbuzz 24\n",
      "fizz 26\n",
      "buzz 27\n",
      "fizz 28\n",
      "fizzbuzz 30\n",
      "fizz 32\n",
      "buzz 33\n",
      "fizz 34\n",
      "fizzbuzz 36\n",
      "fizz 38\n",
      "buzz 39\n",
      "fizz 40\n",
      "fizzbuzz 42\n",
      "fizz 44\n",
      "buzz 45\n",
      "fizz 46\n",
      "fizzbuzz 48\n"
     ]
    }
   ],
   "source": [
    "for i in range(1,50):\n",
    "    if (i % 6) ==0 :\n",
    "        print(\"fizzbuzz\", i)\n",
    "    elif (i % 3) == 0:\n",
    "        print(\"buzz\",i)\n",
    "    elif (i % 2) == 0:\n",
    "        print(\"fizz\", i)\n",
    "    else:\n",
    "        pass"
   ]
  },
  {
   "cell_type": "code",
   "execution_count": 15,
   "metadata": {},
   "outputs": [
    {
     "name": "stdout",
     "output_type": "stream",
     "text": [
      "fizz 2\n",
      "buzz 3\n",
      "fizz 4\n",
      "fizzbuzz 6\n",
      "fizz 8\n",
      "buzz 9\n",
      "fizz 10\n",
      "fizzbuzz 12\n",
      "fizz 14\n",
      "buzz 15\n",
      "fizz 16\n",
      "fizzbuzz 18\n",
      "fizz 20\n",
      "buzz 21\n",
      "fizz 22\n",
      "fizzbuzz 24\n",
      "fizz 26\n",
      "buzz 27\n",
      "fizz 28\n",
      "fizzbuzz 30\n",
      "fizz 32\n",
      "buzz 33\n",
      "fizz 34\n",
      "fizzbuzz 36\n",
      "fizz 38\n",
      "buzz 39\n",
      "fizz 40\n",
      "fizzbuzz 42\n",
      "fizz 44\n",
      "buzz 45\n",
      "fizz 46\n",
      "fizzbuzz 48\n"
     ]
    }
   ],
   "source": [
    "i  = 1\n",
    "\n",
    "while i < 50:\n",
    "    if (i % 6) ==0 :\n",
    "        print(\"fizzbuzz\", i)\n",
    "    elif (i % 3) == 0:\n",
    "        print(\"buzz\",i)\n",
    "    elif (i % 2) == 0:\n",
    "        print(\"fizz\", i)\n",
    "    else:\n",
    "        pass\n",
    "    i += 1"
   ]
  },
  {
   "cell_type": "code",
   "execution_count": 70,
   "metadata": {},
   "outputs": [
    {
     "name": "stdout",
     "output_type": "stream",
     "text": [
      "1\n",
      "Fizz\n",
      "Buzz\n",
      "Fizz\n",
      "5\n",
      "FizzBuzz\n",
      "7\n",
      "Fizz\n",
      "Buzz\n",
      "Fizz\n",
      "11\n",
      "FizzBuzz\n",
      "13\n",
      "Fizz\n",
      "Buzz\n",
      "Fizz\n",
      "17\n",
      "FizzBuzz\n",
      "19\n",
      "Fizz\n"
     ]
    }
   ],
   "source": [
    "def fizzbuzzfn(num) -> str:\n",
    "    mod_2 = (num % 2 == 0) \n",
    "    mod_3 = (num % 3 == 0)\n",
    "    if (mod_2 or mod_3):\n",
    "        return (mod_2 * 'Fizz') + (mod_3 * 'Buzz')\n",
    "    return str(num)\n",
    "print('\\n'.join([fizzbuzzfn(x) for x in range(1,21)]))"
   ]
  },
  {
   "cell_type": "markdown",
   "metadata": {},
   "source": [
    "### First duplicate word"
   ]
  },
  {
   "cell_type": "code",
   "execution_count": 13,
   "metadata": {},
   "outputs": [],
   "source": [
    "a = \"this is just a wonder, wonder why do I have this in mind\""
   ]
  },
  {
   "cell_type": "code",
   "execution_count": 23,
   "metadata": {},
   "outputs": [],
   "source": [
    "def duplicate_words(text):\n",
    "    text = text.replace(\",\",\"\").lower()\n",
    "    text = text.split(\" \")\n",
    "    \n",
    "    words = []\n",
    "\n",
    "    for word in text:\n",
    "        if word in words:\n",
    "            print(\"the first duplicate word is {}\".format(word))\n",
    "            break\n",
    "        else:\n",
    "            words.append(word)"
   ]
  },
  {
   "cell_type": "code",
   "execution_count": 24,
   "metadata": {},
   "outputs": [
    {
     "name": "stdout",
     "output_type": "stream",
     "text": [
      "the first duplicate word is wonder\n"
     ]
    }
   ],
   "source": [
    "duplicate_words(a)"
   ]
  },
  {
   "cell_type": "markdown",
   "metadata": {},
   "source": [
    "### What if we wanted to find the first word with more than 2 duplicates in a string?"
   ]
  },
  {
   "cell_type": "code",
   "execution_count": 55,
   "metadata": {},
   "outputs": [],
   "source": [
    "a = \"this this is just is a wonder, wonder why do I have this in mind. This is all that matters wonder.\""
   ]
  },
  {
   "cell_type": "code",
   "execution_count": 58,
   "metadata": {},
   "outputs": [],
   "source": [
    "def first_multi_duplicate_words(text):\n",
    "    text = text.replace(\",\",\"\").lower()\n",
    "    text = text.split(\" \")\n",
    "    \n",
    "    words = []\n",
    "    counter = 0\n",
    "\n",
    "    for word in text:\n",
    "        while counter <=2:\n",
    "            if word in words:\n",
    "                counter += 1\n",
    "                super_word = word\n",
    "            else:\n",
    "                words.append(word)\n",
    "    print(\"The first word with more than 2 duplicates is {}\".format(super_word.upper()))"
   ]
  },
  {
   "cell_type": "code",
   "execution_count": 59,
   "metadata": {},
   "outputs": [
    {
     "name": "stdout",
     "output_type": "stream",
     "text": [
      "The first word with more than 2 duplicates is THIS\n"
     ]
    }
   ],
   "source": [
    "first_multi_duplicate_words(a)"
   ]
  },
  {
   "cell_type": "markdown",
   "metadata": {},
   "source": [
    "## Quickfire "
   ]
  },
  {
   "cell_type": "markdown",
   "metadata": {},
   "source": [
    "### Replicate the sum for any number of variables"
   ]
  },
  {
   "cell_type": "code",
   "execution_count": 61,
   "metadata": {},
   "outputs": [],
   "source": [
    "a = [1,2,3,4,5,6]"
   ]
  },
  {
   "cell_type": "code",
   "execution_count": 62,
   "metadata": {},
   "outputs": [],
   "source": [
    "def summation(nums):\n",
    "    val = sum(nums)\n",
    "    return val"
   ]
  },
  {
   "cell_type": "code",
   "execution_count": 63,
   "metadata": {},
   "outputs": [
    {
     "data": {
      "text/plain": [
       "21"
      ]
     },
     "execution_count": 63,
     "metadata": {},
     "output_type": "execute_result"
    }
   ],
   "source": [
    "summation(a)"
   ]
  },
  {
   "cell_type": "code",
   "execution_count": 64,
   "metadata": {},
   "outputs": [
    {
     "data": {
      "text/plain": [
       "21"
      ]
     },
     "execution_count": 64,
     "metadata": {},
     "output_type": "execute_result"
    }
   ],
   "source": [
    "sum(a)"
   ]
  },
  {
   "cell_type": "code",
   "execution_count": 65,
   "metadata": {},
   "outputs": [],
   "source": [
    "def sum(*args):\n",
    "     val = 0\n",
    "     for arg in args:\n",
    "          val += arg\n",
    "     return val"
   ]
  },
  {
   "cell_type": "code",
   "execution_count": 66,
   "metadata": {},
   "outputs": [
    {
     "ename": "TypeError",
     "evalue": "unsupported operand type(s) for +=: 'int' and 'list'",
     "output_type": "error",
     "traceback": [
      "\u001b[0;31m---------------------------------------------------------------------------\u001b[0m",
      "\u001b[0;31mTypeError\u001b[0m                                 Traceback (most recent call last)",
      "\u001b[0;32m<ipython-input-66-be023830df6e>\u001b[0m in \u001b[0;36m<module>\u001b[0;34m()\u001b[0m\n\u001b[0;32m----> 1\u001b[0;31m \u001b[0msum\u001b[0m\u001b[0;34m(\u001b[0m\u001b[0ma\u001b[0m\u001b[0;34m)\u001b[0m\u001b[0;34m\u001b[0m\u001b[0m\n\u001b[0m",
      "\u001b[0;32m<ipython-input-65-6accf258cbee>\u001b[0m in \u001b[0;36msum\u001b[0;34m(*args)\u001b[0m\n\u001b[1;32m      2\u001b[0m      \u001b[0mval\u001b[0m \u001b[0;34m=\u001b[0m \u001b[0;36m0\u001b[0m\u001b[0;34m\u001b[0m\u001b[0m\n\u001b[1;32m      3\u001b[0m      \u001b[0;32mfor\u001b[0m \u001b[0marg\u001b[0m \u001b[0;32min\u001b[0m \u001b[0margs\u001b[0m\u001b[0;34m:\u001b[0m\u001b[0;34m\u001b[0m\u001b[0m\n\u001b[0;32m----> 4\u001b[0;31m           \u001b[0mval\u001b[0m \u001b[0;34m+=\u001b[0m \u001b[0marg\u001b[0m\u001b[0;34m\u001b[0m\u001b[0m\n\u001b[0m\u001b[1;32m      5\u001b[0m      \u001b[0;32mreturn\u001b[0m \u001b[0mval\u001b[0m\u001b[0;34m\u001b[0m\u001b[0m\n",
      "\u001b[0;31mTypeError\u001b[0m: unsupported operand type(s) for +=: 'int' and 'list'"
     ]
    }
   ],
   "source": [
    "sum(a)"
   ]
  },
  {
   "cell_type": "markdown",
   "metadata": {},
   "source": [
    "### Fibonacci Sequence\n",
    "\n",
    "0, 1, 1, 2, 3, 5, 8, 13, 21, 34, 55, 89\n",
    "recursion:0+1 = 1 + 1= 2 + 1 = 3 + 2 = 5"
   ]
  },
  {
   "cell_type": "code",
   "execution_count": 73,
   "metadata": {},
   "outputs": [],
   "source": [
    "# Recursion review\n",
    "\n",
    "def factorial(n):\n",
    "    if n == 0:\n",
    "        return 1\n",
    "    return n * factorial(n-1)"
   ]
  },
  {
   "cell_type": "code",
   "execution_count": 72,
   "metadata": {
    "scrolled": true
   },
   "outputs": [
    {
     "data": {
      "text/plain": [
       "120"
      ]
     },
     "execution_count": 72,
     "metadata": {},
     "output_type": "execute_result"
    }
   ],
   "source": [
    "factorial(5)"
   ]
  },
  {
   "cell_type": "code",
   "execution_count": 110,
   "metadata": {},
   "outputs": [],
   "source": [
    "def fib(n):\n",
    "    if n <= 1:\n",
    "        return 1\n",
    "    return (fib(n-1) + fib(n-2))"
   ]
  },
  {
   "cell_type": "code",
   "execution_count": 112,
   "metadata": {},
   "outputs": [
    {
     "data": {
      "text/plain": [
       "3"
      ]
     },
     "execution_count": 112,
     "metadata": {},
     "output_type": "execute_result"
    }
   ],
   "source": [
    "fib(3)"
   ]
  },
  {
   "cell_type": "code",
   "execution_count": null,
   "metadata": {},
   "outputs": [],
   "source": []
  },
  {
   "cell_type": "code",
   "execution_count": null,
   "metadata": {},
   "outputs": [],
   "source": []
  },
  {
   "cell_type": "code",
   "execution_count": null,
   "metadata": {},
   "outputs": [],
   "source": []
  }
 ],
 "metadata": {
  "kernelspec": {
   "display_name": "Python [conda env:learn-env] *",
   "language": "python",
   "name": "conda-env-learn-env-py"
  },
  "language_info": {
   "codemirror_mode": {
    "name": "ipython",
    "version": 3
   },
   "file_extension": ".py",
   "mimetype": "text/x-python",
   "name": "python",
   "nbconvert_exporter": "python",
   "pygments_lexer": "ipython3",
   "version": "3.6.6"
  },
  "toc": {
   "base_numbering": 1,
   "nav_menu": {},
   "number_sections": true,
   "sideBar": true,
   "skip_h1_title": false,
   "title_cell": "Table of Contents",
   "title_sidebar": "Contents",
   "toc_cell": true,
   "toc_position": {},
   "toc_section_display": true,
   "toc_window_display": false
  },
  "varInspector": {
   "cols": {
    "lenName": 16,
    "lenType": 16,
    "lenVar": 40
   },
   "kernels_config": {
    "python": {
     "delete_cmd_postfix": "",
     "delete_cmd_prefix": "del ",
     "library": "var_list.py",
     "varRefreshCmd": "print(var_dic_list())"
    },
    "r": {
     "delete_cmd_postfix": ") ",
     "delete_cmd_prefix": "rm(",
     "library": "var_list.r",
     "varRefreshCmd": "cat(var_dic_list()) "
    }
   },
   "types_to_exclude": [
    "module",
    "function",
    "builtin_function_or_method",
    "instance",
    "_Feature"
   ],
   "window_display": false
  }
 },
 "nbformat": 4,
 "nbformat_minor": 2
}
