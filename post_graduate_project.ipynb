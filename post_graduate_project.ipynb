{
 "cells": [
  {
   "cell_type": "markdown",
   "metadata": {
    "toc": true
   },
   "source": [
    "<h1>Table of Contents<span class=\"tocSkip\"></span></h1>\n",
    "<div class=\"toc\"><ul class=\"toc-item\"><li><span><a href=\"#Libraries\" data-toc-modified-id=\"Libraries-1\"><span class=\"toc-item-num\">1&nbsp;&nbsp;</span>Libraries</a></span></li><li><span><a href=\"#Coding-question:-fumbled-and-the-re-do\" data-toc-modified-id=\"Coding-question:-fumbled-and-the-re-do-2\"><span class=\"toc-item-num\">2&nbsp;&nbsp;</span>Coding question: fumbled and the re-do</a></span></li><li><span><a href=\"#Python-interview-questions\" data-toc-modified-id=\"Python-interview-questions-3\"><span class=\"toc-item-num\">3&nbsp;&nbsp;</span>Python interview questions</a></span><ul class=\"toc-item\"><li><span><a href=\"#Reverse-the-string\" data-toc-modified-id=\"Reverse-the-string-3.1\"><span class=\"toc-item-num\">3.1&nbsp;&nbsp;</span>Reverse the string</a></span></li><li><span><a href=\"#Identify-a-palindrome\" data-toc-modified-id=\"Identify-a-palindrome-3.2\"><span class=\"toc-item-num\">3.2&nbsp;&nbsp;</span>Identify a palindrome</a></span></li><li><span><a href=\"#Identify-palindromes-in-a-text-string\" data-toc-modified-id=\"Identify-palindromes-in-a-text-string-3.3\"><span class=\"toc-item-num\">3.3&nbsp;&nbsp;</span>Identify palindromes in a text string</a></span></li><li><span><a href=\"#Fizz-Buzz-problem\" data-toc-modified-id=\"Fizz-Buzz-problem-3.4\"><span class=\"toc-item-num\">3.4&nbsp;&nbsp;</span>Fizz Buzz problem</a></span></li><li><span><a href=\"#Dissecting-answer-from-Medium\" data-toc-modified-id=\"Dissecting-answer-from-Medium-3.5\"><span class=\"toc-item-num\">3.5&nbsp;&nbsp;</span>Dissecting answer from Medium</a></span></li><li><span><a href=\"#First-duplicate-word\" data-toc-modified-id=\"First-duplicate-word-3.6\"><span class=\"toc-item-num\">3.6&nbsp;&nbsp;</span>First duplicate word</a></span></li><li><span><a href=\"#What-if-we-wanted-to-find-the-first-word-with-more-than-2-duplicates-in-a-string?\" data-toc-modified-id=\"What-if-we-wanted-to-find-the-first-word-with-more-than-2-duplicates-in-a-string?-3.7\"><span class=\"toc-item-num\">3.7&nbsp;&nbsp;</span>What if we wanted to find the first word with more than 2 duplicates in a string?</a></span></li></ul></li><li><span><a href=\"#Quickfire\" data-toc-modified-id=\"Quickfire-4\"><span class=\"toc-item-num\">4&nbsp;&nbsp;</span>Quickfire</a></span><ul class=\"toc-item\"><li><span><a href=\"#Replicate-the-sum-for-any-number-of-variables\" data-toc-modified-id=\"Replicate-the-sum-for-any-number-of-variables-4.1\"><span class=\"toc-item-num\">4.1&nbsp;&nbsp;</span>Replicate the sum for any number of variables</a></span></li></ul></li><li><span><a href=\"#Recursion\" data-toc-modified-id=\"Recursion-5\"><span class=\"toc-item-num\">5&nbsp;&nbsp;</span>Recursion</a></span><ul class=\"toc-item\"><li><span><a href=\"#Factorial\" data-toc-modified-id=\"Factorial-5.1\"><span class=\"toc-item-num\">5.1&nbsp;&nbsp;</span>Factorial</a></span></li><li><span><a href=\"#Fibonacci-Sequence\" data-toc-modified-id=\"Fibonacci-Sequence-5.2\"><span class=\"toc-item-num\">5.2&nbsp;&nbsp;</span>Fibonacci Sequence</a></span></li><li><span><a href=\"#Write-a-Python-program-to-get-the-sum-of-a-non-negative-integer.\" data-toc-modified-id=\"Write-a-Python-program-to-get-the-sum-of-a-non-negative-integer.-5.3\"><span class=\"toc-item-num\">5.3&nbsp;&nbsp;</span>Write a Python program to get the sum of a non-negative integer.</a></span><ul class=\"toc-item\"><li><span><a href=\"#Redo-using-recursion\" data-toc-modified-id=\"Redo-using-recursion-5.3.1\"><span class=\"toc-item-num\">5.3.1&nbsp;&nbsp;</span>Redo using recursion</a></span></li></ul></li><li><span><a href=\"#Write-a-Python-program-to-calculate-the-sum-of-the-positive-integers-of-n+(n-2)+(n-4)...-(until-n-x-=<-0).\" data-toc-modified-id=\"Write-a-Python-program-to-calculate-the-sum-of-the-positive-integers-of-n+(n-2)+(n-4)...-(until-n-x-=<-0).-5.4\"><span class=\"toc-item-num\">5.4&nbsp;&nbsp;</span>Write a Python program to calculate the sum of the positive integers of n+(n-2)+(n-4)... (until n-x =&lt; 0).</a></span></li><li><span><a href=\"#Write-a-Python-program-to-calculate-the-harmonic-sum-of-n-1.\" data-toc-modified-id=\"Write-a-Python-program-to-calculate-the-harmonic-sum-of-n-1.-5.5\"><span class=\"toc-item-num\">5.5&nbsp;&nbsp;</span>Write a Python program to calculate the harmonic sum of n-1.</a></span></li><li><span><a href=\"#Find-the-GCF-of-2-numbers\" data-toc-modified-id=\"Find-the-GCF-of-2-numbers-5.6\"><span class=\"toc-item-num\">5.6&nbsp;&nbsp;</span>Find the GCF of 2 numbers</a></span></li><li><span><a href=\"#Use-*-args\" data-toc-modified-id=\"Use-*-args-5.7\"><span class=\"toc-item-num\">5.7&nbsp;&nbsp;</span>Use * args</a></span></li></ul></li><li><span><a href=\"#Question-Marks\" data-toc-modified-id=\"Question-Marks-6\"><span class=\"toc-item-num\">6&nbsp;&nbsp;</span>Question Marks</a></span></li></ul></div>"
   ]
  },
  {
   "cell_type": "markdown",
   "metadata": {},
   "source": [
    "## Libraries"
   ]
  },
  {
   "cell_type": "code",
   "execution_count": 69,
   "metadata": {},
   "outputs": [],
   "source": [
    "import time"
   ]
  },
  {
   "cell_type": "markdown",
   "metadata": {},
   "source": [
    "## Coding question: fumbled and the re-do"
   ]
  },
  {
   "cell_type": "code",
   "execution_count": 70,
   "metadata": {},
   "outputs": [],
   "source": [
    "a = [1,2,3,3,4,5,5]"
   ]
  },
  {
   "cell_type": "code",
   "execution_count": 71,
   "metadata": {},
   "outputs": [],
   "source": [
    "numbers = []\n",
    "duplicates = []"
   ]
  },
  {
   "cell_type": "code",
   "execution_count": 72,
   "metadata": {},
   "outputs": [],
   "source": [
    "for i in a:\n",
    "    if i in numbers:\n",
    "        duplicates.append(i)\n",
    "    else:\n",
    "        numbers.append(i)\n",
    "\n"
   ]
  },
  {
   "cell_type": "code",
   "execution_count": 73,
   "metadata": {},
   "outputs": [
    {
     "name": "stdout",
     "output_type": "stream",
     "text": [
      "duplicates [3, 5]\n",
      "numbers [1, 2, 3, 4, 5]\n"
     ]
    }
   ],
   "source": [
    "print(\"duplicates\", duplicates)\n",
    "print(\"numbers\", numbers)"
   ]
  },
  {
   "cell_type": "markdown",
   "metadata": {},
   "source": [
    "## Python interview questions\n"
   ]
  },
  {
   "cell_type": "markdown",
   "metadata": {},
   "source": [
    "### Reverse the string"
   ]
  },
  {
   "cell_type": "code",
   "execution_count": 74,
   "metadata": {},
   "outputs": [],
   "source": [
    "a = \"the fox jumps over the lazy dog\""
   ]
  },
  {
   "cell_type": "code",
   "execution_count": 75,
   "metadata": {},
   "outputs": [
    {
     "name": "stdout",
     "output_type": "stream",
     "text": [
      "g\n"
     ]
    }
   ],
   "source": [
    "print(a[-1])"
   ]
  },
  {
   "cell_type": "code",
   "execution_count": 76,
   "metadata": {},
   "outputs": [
    {
     "name": "stdout",
     "output_type": "stream",
     "text": [
      "god yzal eht revo spmuj xof eht\n"
     ]
    }
   ],
   "source": [
    "print(a[::-1])"
   ]
  },
  {
   "cell_type": "markdown",
   "metadata": {},
   "source": [
    "### Identify a palindrome"
   ]
  },
  {
   "cell_type": "code",
   "execution_count": 77,
   "metadata": {},
   "outputs": [],
   "source": [
    "b = \"Lol, this is a gag, I didn't laugh so hard in a long time\""
   ]
  },
  {
   "cell_type": "code",
   "execution_count": 78,
   "metadata": {},
   "outputs": [],
   "source": [
    "c = \"hi\"\n",
    "d = \"hannah\""
   ]
  },
  {
   "cell_type": "code",
   "execution_count": 79,
   "metadata": {},
   "outputs": [],
   "source": [
    "# look at a word and see if it is the same back and forward"
   ]
  },
  {
   "cell_type": "code",
   "execution_count": 80,
   "metadata": {},
   "outputs": [],
   "source": [
    "def is_it_palindrome(word):\n",
    "    if word == word[::-1]:\n",
    "        print(\"Yes! {} is a palindrome\".format(word))\n",
    "    else:\n",
    "        pass"
   ]
  },
  {
   "cell_type": "code",
   "execution_count": 81,
   "metadata": {},
   "outputs": [
    {
     "name": "stdout",
     "output_type": "stream",
     "text": [
      "Yes! hannah is a palindrome\n"
     ]
    }
   ],
   "source": [
    "is_it_palindrome(c)\n",
    "is_it_palindrome(d)"
   ]
  },
  {
   "cell_type": "markdown",
   "metadata": {},
   "source": [
    "### Identify palindromes in a text string"
   ]
  },
  {
   "cell_type": "code",
   "execution_count": 82,
   "metadata": {},
   "outputs": [],
   "source": [
    "# replaced all commas, should be all puncuation\n",
    "# split a text string into words and print out individually"
   ]
  },
  {
   "cell_type": "code",
   "execution_count": 83,
   "metadata": {},
   "outputs": [],
   "source": [
    "def split_text_string(text):\n",
    "    words = text.replace(\",\", \"\")\n",
    "    words = words.split(' ')\n",
    "    print(words)"
   ]
  },
  {
   "cell_type": "code",
   "execution_count": 84,
   "metadata": {},
   "outputs": [
    {
     "name": "stdout",
     "output_type": "stream",
     "text": [
      "['Lol', 'this', 'is', 'a', 'gag', 'I', \"didn't\", 'laugh', 'so', 'hard', 'in', 'a', 'long', 'time']\n"
     ]
    }
   ],
   "source": [
    "split_text_string(b)"
   ]
  },
  {
   "cell_type": "code",
   "execution_count": 85,
   "metadata": {},
   "outputs": [],
   "source": [
    "def identify_palindromes(text):\n",
    "    words = text.replace(\",\", \"\")\n",
    "    words = words.lower()\n",
    "    words = words.split(' ')\n",
    "\n",
    "    for i in words:\n",
    "        if len(i) >1:\n",
    "            is_it_palindrome(i)\n",
    "        else:\n",
    "            pass"
   ]
  },
  {
   "cell_type": "code",
   "execution_count": 86,
   "metadata": {},
   "outputs": [
    {
     "name": "stdout",
     "output_type": "stream",
     "text": [
      "Yes! lol is a palindrome\n",
      "Yes! gag is a palindrome\n"
     ]
    }
   ],
   "source": [
    "identify_palindromes(b)"
   ]
  },
  {
   "cell_type": "markdown",
   "metadata": {},
   "source": [
    "### Fizz Buzz problem\n",
    "Write a program that prints the number for 1 to 50, for number multiple of 2 print fizz instead of a number, for numbers multiple of 3 print buzz, for numbers which are multiple of both 2 and 3 fizzbuzz."
   ]
  },
  {
   "cell_type": "code",
   "execution_count": 87,
   "metadata": {},
   "outputs": [
    {
     "name": "stdout",
     "output_type": "stream",
     "text": [
      "fizz 2\n",
      "buzz 3\n",
      "fizz 4\n",
      "fizzbuzz 6\n",
      "fizz 8\n",
      "buzz 9\n",
      "fizz 10\n",
      "fizzbuzz 12\n",
      "fizz 14\n",
      "buzz 15\n",
      "fizz 16\n",
      "fizzbuzz 18\n",
      "fizz 20\n",
      "buzz 21\n",
      "fizz 22\n",
      "fizzbuzz 24\n",
      "fizz 26\n",
      "buzz 27\n",
      "fizz 28\n",
      "fizzbuzz 30\n",
      "fizz 32\n",
      "buzz 33\n",
      "fizz 34\n",
      "fizzbuzz 36\n",
      "fizz 38\n",
      "buzz 39\n",
      "fizz 40\n",
      "fizzbuzz 42\n",
      "fizz 44\n",
      "buzz 45\n",
      "fizz 46\n",
      "fizzbuzz 48\n"
     ]
    }
   ],
   "source": [
    "for i in range(1,50):\n",
    "    if (i % 6) ==0 :\n",
    "        print(\"fizzbuzz\", i)\n",
    "    elif (i % 3) == 0:\n",
    "        print(\"buzz\",i)\n",
    "    elif (i % 2) == 0:\n",
    "        print(\"fizz\", i)\n",
    "    else:\n",
    "        pass"
   ]
  },
  {
   "cell_type": "code",
   "execution_count": 88,
   "metadata": {},
   "outputs": [
    {
     "name": "stdout",
     "output_type": "stream",
     "text": [
      "fizz 2\n",
      "buzz 3\n",
      "fizz 4\n",
      "fizzbuzz 6\n",
      "fizz 8\n",
      "buzz 9\n",
      "fizz 10\n",
      "fizzbuzz 12\n",
      "fizz 14\n",
      "buzz 15\n",
      "fizz 16\n",
      "fizzbuzz 18\n",
      "fizz 20\n",
      "buzz 21\n",
      "fizz 22\n",
      "fizzbuzz 24\n",
      "fizz 26\n",
      "buzz 27\n",
      "fizz 28\n",
      "fizzbuzz 30\n",
      "fizz 32\n",
      "buzz 33\n",
      "fizz 34\n",
      "fizzbuzz 36\n",
      "fizz 38\n",
      "buzz 39\n",
      "fizz 40\n",
      "fizzbuzz 42\n",
      "fizz 44\n",
      "buzz 45\n",
      "fizz 46\n",
      "fizzbuzz 48\n"
     ]
    }
   ],
   "source": [
    "i  = 1\n",
    "\n",
    "while i < 50:\n",
    "    if (i % 6) ==0 :\n",
    "        print(\"fizzbuzz\", i)\n",
    "    elif (i % 3) == 0:\n",
    "        print(\"buzz\",i)\n",
    "    elif (i % 2) == 0:\n",
    "        print(\"fizz\", i)\n",
    "    else:\n",
    "        pass\n",
    "    i += 1"
   ]
  },
  {
   "cell_type": "markdown",
   "metadata": {},
   "source": [
    "### Dissecting answer from Medium\n",
    "https://medium.com/analytics-and-data/python-screening-interview-question-for-datascientists-805614fa4db8"
   ]
  },
  {
   "cell_type": "code",
   "execution_count": 89,
   "metadata": {},
   "outputs": [
    {
     "name": "stdout",
     "output_type": "stream",
     "text": [
      "1\n",
      "Fizz\n",
      "Buzz\n",
      "Fizz\n",
      "5\n",
      "FizzBuzz\n",
      "7\n",
      "Fizz\n",
      "Buzz\n",
      "Fizz\n"
     ]
    }
   ],
   "source": [
    "# original answer\n",
    "\n",
    "def fizzbuzzfn(num) -> str:\n",
    "    mod_2 = (num % 2 == 0) \n",
    "    mod_3 = (num % 3 == 0)\n",
    "    if (mod_2 or mod_3):\n",
    "        return (mod_2 * 'Fizz') + (mod_3 * 'Buzz')\n",
    "    return str(num)\n",
    "print('\\n'.join([fizzbuzzfn(x) for x in range(1,11)]))"
   ]
  },
  {
   "cell_type": "markdown",
   "metadata": {},
   "source": [
    "Function annotations are arbitrary python expressions that are associated with various part of functions. These expressions are evaluated at compile time and have no life in python’s runtime environment. Python does not attach any meaning to these annotations. They take life when interpreted by third party libraries, for example, mypy."
   ]
  },
  {
   "cell_type": "code",
   "execution_count": 90,
   "metadata": {},
   "outputs": [
    {
     "name": "stdout",
     "output_type": "stream",
     "text": [
      "False\n"
     ]
    }
   ],
   "source": [
    "temp = (5 % 2 == 0)\n",
    "print(temp)"
   ]
  },
  {
   "cell_type": "code",
   "execution_count": 91,
   "metadata": {},
   "outputs": [
    {
     "data": {
      "text/plain": [
       "'buzz'"
      ]
     },
     "execution_count": 91,
     "metadata": {},
     "output_type": "execute_result"
    }
   ],
   "source": [
    "True * \"buzz\""
   ]
  },
  {
   "cell_type": "code",
   "execution_count": 92,
   "metadata": {},
   "outputs": [
    {
     "data": {
      "text/plain": [
       "'Fizz'"
      ]
     },
     "execution_count": 92,
     "metadata": {},
     "output_type": "execute_result"
    }
   ],
   "source": [
    "True * 'Fizz' + False * 'Buzz'"
   ]
  },
  {
   "cell_type": "code",
   "execution_count": 93,
   "metadata": {},
   "outputs": [
    {
     "data": {
      "text/plain": [
       "'FizzBuzz'"
      ]
     },
     "execution_count": 93,
     "metadata": {},
     "output_type": "execute_result"
    }
   ],
   "source": [
    "True * 'Fizz' + True * 'Buzz'"
   ]
  },
  {
   "cell_type": "code",
   "execution_count": 94,
   "metadata": {},
   "outputs": [
    {
     "name": "stdout",
     "output_type": "stream",
     "text": [
      "A \n",
      " B \n",
      " C\n"
     ]
    }
   ],
   "source": [
    "print(\"A\",'\\n',\"B\",'\\n','C')"
   ]
  },
  {
   "cell_type": "code",
   "execution_count": 95,
   "metadata": {},
   "outputs": [
    {
     "data": {
      "text/plain": [
       "'a-b-c'"
      ]
     },
     "execution_count": 95,
     "metadata": {},
     "output_type": "execute_result"
    }
   ],
   "source": [
    "list = ['a','b','c']\n",
    "'-'.join(list)        "
   ]
  },
  {
   "cell_type": "code",
   "execution_count": 96,
   "metadata": {},
   "outputs": [
    {
     "data": {
      "text/plain": [
       "'a-b-c'"
      ]
     },
     "execution_count": 96,
     "metadata": {},
     "output_type": "execute_result"
    }
   ],
   "source": [
    "list = ['a','b','c']\n",
    "'-'.join([str(x) for x in list])"
   ]
  },
  {
   "cell_type": "code",
   "execution_count": 97,
   "metadata": {},
   "outputs": [
    {
     "data": {
      "text/plain": [
       "'1-2-3-4'"
      ]
     },
     "execution_count": 97,
     "metadata": {},
     "output_type": "execute_result"
    }
   ],
   "source": [
    "'-'.join([str(x) for x in range(1,5)])"
   ]
  },
  {
   "cell_type": "code",
   "execution_count": 98,
   "metadata": {},
   "outputs": [],
   "source": [
    "def add_1(num):\n",
    "    return str(num+1) # doesn't work without str"
   ]
  },
  {
   "cell_type": "code",
   "execution_count": 99,
   "metadata": {},
   "outputs": [
    {
     "data": {
      "text/plain": [
       "'2-3-4-5'"
      ]
     },
     "execution_count": 99,
     "metadata": {},
     "output_type": "execute_result"
    }
   ],
   "source": [
    "'-'.join(add_1(x) for x in range(1,5))"
   ]
  },
  {
   "cell_type": "code",
   "execution_count": 100,
   "metadata": {},
   "outputs": [
    {
     "data": {
      "text/plain": [
       "'2\\n3\\n4\\n5'"
      ]
     },
     "execution_count": 100,
     "metadata": {},
     "output_type": "execute_result"
    }
   ],
   "source": [
    "'\\n'.join(add_1(x) for x in range(1,5))"
   ]
  },
  {
   "cell_type": "code",
   "execution_count": 101,
   "metadata": {},
   "outputs": [
    {
     "name": "stdout",
     "output_type": "stream",
     "text": [
      "2\n",
      "3\n",
      "4\n",
      "5\n"
     ]
    }
   ],
   "source": [
    "print('\\n'.join(add_1(x) for x in range(1,5)))"
   ]
  },
  {
   "cell_type": "code",
   "execution_count": 102,
   "metadata": {},
   "outputs": [],
   "source": [
    "list = (add_1(x) for x in range(1,5))"
   ]
  },
  {
   "cell_type": "code",
   "execution_count": 103,
   "metadata": {},
   "outputs": [
    {
     "name": "stdout",
     "output_type": "stream",
     "text": [
      "['2', '3', '4', '5', '6']\n"
     ]
    }
   ],
   "source": [
    "nums = [1,2,3,4,5]\n",
    "list = [add_1(x) for x in nums]\n",
    "print(list)"
   ]
  },
  {
   "cell_type": "code",
   "execution_count": 104,
   "metadata": {},
   "outputs": [
    {
     "name": "stdout",
     "output_type": "stream",
     "text": [
      "['2', '3', '4', '5', '6']\n"
     ]
    }
   ],
   "source": [
    "list = [add_1(x) for x in [1,2,3,4,5]]\n",
    "print(list)"
   ]
  },
  {
   "cell_type": "code",
   "execution_count": 105,
   "metadata": {},
   "outputs": [
    {
     "name": "stdout",
     "output_type": "stream",
     "text": [
      "['1', 'Fizz', 'Buzz', 'Fizz', '5', 'FizzBuzz', '7', 'Fizz', 'Buzz', 'Fizz']\n"
     ]
    }
   ],
   "source": [
    "list = ([fizzbuzzfn(x) for x in range(1,11)])\n",
    "print(list)"
   ]
  },
  {
   "cell_type": "code",
   "execution_count": 106,
   "metadata": {},
   "outputs": [
    {
     "name": "stdout",
     "output_type": "stream",
     "text": [
      "1-Fizz-Buzz-Fizz-5-FizzBuzz-7-Fizz-Buzz-Fizz\n"
     ]
    }
   ],
   "source": [
    "list = ('-'.join([fizzbuzzfn(x) for x in range(1,11)]))\n",
    "print(list)"
   ]
  },
  {
   "cell_type": "code",
   "execution_count": 107,
   "metadata": {},
   "outputs": [
    {
     "name": "stdout",
     "output_type": "stream",
     "text": [
      "1\n",
      "Fizz\n",
      "Buzz\n",
      "Fizz\n",
      "5\n",
      "FizzBuzz\n",
      "7\n",
      "Fizz\n",
      "Buzz\n",
      "Fizz\n"
     ]
    }
   ],
   "source": [
    "def fizzbuzzfn(num):\n",
    "    mod_2 = (num % 2 == 0) # if a number is divisible by 2, returns true\n",
    "    mod_3 = (num % 3 == 0) # if a number is divisible by 3, returns true\n",
    "    if (mod_2 or mod_3): # if True or True\n",
    "        return (mod_2 * 'Fizz') + (mod_3 * 'Buzz') # if both true, fizzbuzz prints else only fizz or buzz\n",
    "    return str(num) # the statement after a return aren not executed, which is why 2, 3, 4 are not printed\n",
    "\n",
    "print('\\n'.join([fizzbuzzfn(x) for x in range(1,11)])) #use join to add new line with list comprehension "
   ]
  },
  {
   "cell_type": "markdown",
   "metadata": {},
   "source": [
    "### First duplicate word"
   ]
  },
  {
   "cell_type": "code",
   "execution_count": 108,
   "metadata": {},
   "outputs": [],
   "source": [
    "a = \"this is just a wonder, wonder why do I have this in mind\""
   ]
  },
  {
   "cell_type": "code",
   "execution_count": 109,
   "metadata": {},
   "outputs": [],
   "source": [
    "def duplicate_words(text):\n",
    "    text = text.replace(\",\",\"\").lower()\n",
    "    text = text.split(\" \")\n",
    "    \n",
    "    words = []\n",
    "\n",
    "    for word in text:\n",
    "        if word in words:\n",
    "            print(\"the first duplicate word is {}\".format(word))\n",
    "            break\n",
    "        else:\n",
    "            words.append(word)"
   ]
  },
  {
   "cell_type": "code",
   "execution_count": 110,
   "metadata": {},
   "outputs": [
    {
     "name": "stdout",
     "output_type": "stream",
     "text": [
      "the first duplicate word is wonder\n"
     ]
    }
   ],
   "source": [
    "duplicate_words(a)"
   ]
  },
  {
   "cell_type": "markdown",
   "metadata": {},
   "source": [
    "### What if we wanted to find the first word with more than 2 duplicates in a string?"
   ]
  },
  {
   "cell_type": "code",
   "execution_count": 111,
   "metadata": {},
   "outputs": [],
   "source": [
    "a = \"this this is just is a wonder, wonder why do I have this in mind. This is all that matters wonder.\""
   ]
  },
  {
   "cell_type": "code",
   "execution_count": 112,
   "metadata": {},
   "outputs": [],
   "source": [
    "def first_multi_duplicate_words(text):\n",
    "    text = text.replace(\",\",\"\").lower()\n",
    "    text = text.split(\" \")\n",
    "    \n",
    "    words = []\n",
    "    counter = 0\n",
    "\n",
    "    for word in text:\n",
    "        while counter <=2:\n",
    "            if word in words:\n",
    "                counter += 1\n",
    "                super_word = word\n",
    "            else:\n",
    "                words.append(word)\n",
    "    print(\"The first word with more than 2 duplicates is {}\".format(super_word.upper()))"
   ]
  },
  {
   "cell_type": "code",
   "execution_count": 113,
   "metadata": {},
   "outputs": [
    {
     "name": "stdout",
     "output_type": "stream",
     "text": [
      "The first word with more than 2 duplicates is THIS\n"
     ]
    }
   ],
   "source": [
    "first_multi_duplicate_words(a)"
   ]
  },
  {
   "cell_type": "markdown",
   "metadata": {},
   "source": [
    "## Quickfire "
   ]
  },
  {
   "cell_type": "markdown",
   "metadata": {},
   "source": [
    "### Replicate the sum for any number of variables"
   ]
  },
  {
   "cell_type": "code",
   "execution_count": 114,
   "metadata": {},
   "outputs": [
    {
     "name": "stdout",
     "output_type": "stream",
     "text": [
      "<class 'list'>\n"
     ]
    }
   ],
   "source": [
    "a = [1,2,3,4,5,6]\n",
    "print(type(a))"
   ]
  },
  {
   "cell_type": "code",
   "execution_count": 115,
   "metadata": {},
   "outputs": [
    {
     "name": "stdout",
     "output_type": "stream",
     "text": [
      "<class 'list'>\n"
     ]
    }
   ],
   "source": [
    "b = ['1','2','3']\n",
    "print(type(b))"
   ]
  },
  {
   "cell_type": "code",
   "execution_count": 116,
   "metadata": {},
   "outputs": [],
   "source": [
    "def summation(nums):\n",
    "    val = 0\n",
    "    for i in nums:\n",
    "        val += i\n",
    "    return val"
   ]
  },
  {
   "cell_type": "code",
   "execution_count": 117,
   "metadata": {},
   "outputs": [
    {
     "data": {
      "text/plain": [
       "21"
      ]
     },
     "execution_count": 117,
     "metadata": {},
     "output_type": "execute_result"
    }
   ],
   "source": [
    "summation(a)"
   ]
  },
  {
   "cell_type": "code",
   "execution_count": 118,
   "metadata": {},
   "outputs": [],
   "source": [
    "def summer(*args):\n",
    "    val = 0\n",
    "    for arg in args:\n",
    "        val += arg\n",
    "    return val"
   ]
  },
  {
   "cell_type": "code",
   "execution_count": 119,
   "metadata": {},
   "outputs": [
    {
     "data": {
      "text/plain": [
       "15"
      ]
     },
     "execution_count": 119,
     "metadata": {},
     "output_type": "execute_result"
    }
   ],
   "source": [
    "# passing in the list a and b does not work\n",
    "summer(1,2,3,4,5)"
   ]
  },
  {
   "cell_type": "code",
   "execution_count": 120,
   "metadata": {},
   "outputs": [],
   "source": [
    "# def myFun(*argv):  \n",
    "#     for arg in argv:  \n",
    "#         print (arg) \n",
    "    \n",
    "# myFun('Hello', 'Welcome', 'to', 'GeeksforGeeks') "
   ]
  },
  {
   "cell_type": "markdown",
   "metadata": {},
   "source": [
    "## Recursion"
   ]
  },
  {
   "cell_type": "markdown",
   "metadata": {},
   "source": [
    "### Factorial"
   ]
  },
  {
   "cell_type": "code",
   "execution_count": 121,
   "metadata": {},
   "outputs": [],
   "source": [
    "# Recursion review\n",
    "\n",
    "def factorial(n):\n",
    "    while n != 0:\n",
    "        if n == 1:\n",
    "            return 1\n",
    "        return n * factorial(n-1)"
   ]
  },
  {
   "cell_type": "code",
   "execution_count": 122,
   "metadata": {},
   "outputs": [],
   "source": [
    "factorial(0)"
   ]
  },
  {
   "cell_type": "code",
   "execution_count": 123,
   "metadata": {},
   "outputs": [
    {
     "data": {
      "text/plain": [
       "120"
      ]
     },
     "execution_count": 123,
     "metadata": {},
     "output_type": "execute_result"
    }
   ],
   "source": [
    "factorial(5)"
   ]
  },
  {
   "cell_type": "code",
   "execution_count": 124,
   "metadata": {},
   "outputs": [
    {
     "data": {
      "text/plain": [
       "1"
      ]
     },
     "execution_count": 124,
     "metadata": {},
     "output_type": "execute_result"
    }
   ],
   "source": [
    "factorial(1)"
   ]
  },
  {
   "cell_type": "code",
   "execution_count": 125,
   "metadata": {},
   "outputs": [],
   "source": [
    "def nonrec_factorial(n):\n",
    "    result = 1\n",
    "    for i in range(1,n+1):\n",
    "        result = result * i\n",
    "    return(result)"
   ]
  },
  {
   "cell_type": "code",
   "execution_count": 126,
   "metadata": {},
   "outputs": [
    {
     "data": {
      "text/plain": [
       "120"
      ]
     },
     "execution_count": 126,
     "metadata": {},
     "output_type": "execute_result"
    }
   ],
   "source": [
    "nonrec_factorial(5)"
   ]
  },
  {
   "cell_type": "code",
   "execution_count": 127,
   "metadata": {},
   "outputs": [
    {
     "data": {
      "text/plain": [
       "1"
      ]
     },
     "execution_count": 127,
     "metadata": {},
     "output_type": "execute_result"
    }
   ],
   "source": [
    "nonrec_factorial(1)"
   ]
  },
  {
   "cell_type": "markdown",
   "metadata": {},
   "source": [
    "### Fibonacci Sequence\n",
    "\n",
    "0, 1, 1, 2, 3, 5, 8, 13, 21, 34, 55, 89\n",
    "recursion:0+1 = 1 + 1= 2 + 1 = 3 + 2 = 5"
   ]
  },
  {
   "cell_type": "code",
   "execution_count": 128,
   "metadata": {},
   "outputs": [],
   "source": [
    "def fib(n):\n",
    "    if n <= 1:\n",
    "        return n\n",
    "    return (fib(n-1) + fib(n-2))"
   ]
  },
  {
   "cell_type": "code",
   "execution_count": 129,
   "metadata": {},
   "outputs": [],
   "source": [
    "def F(n):\n",
    "    if n == 0: \n",
    "        return 0\n",
    "    elif n == 1: \n",
    "        return 1\n",
    "    return F(n-1)+F(n-2)"
   ]
  },
  {
   "cell_type": "code",
   "execution_count": 130,
   "metadata": {},
   "outputs": [
    {
     "data": {
      "text/plain": [
       "0"
      ]
     },
     "execution_count": 130,
     "metadata": {},
     "output_type": "execute_result"
    }
   ],
   "source": [
    "F(0)"
   ]
  },
  {
   "cell_type": "code",
   "execution_count": 131,
   "metadata": {},
   "outputs": [
    {
     "data": {
      "text/plain": [
       "1"
      ]
     },
     "execution_count": 131,
     "metadata": {},
     "output_type": "execute_result"
    }
   ],
   "source": [
    "F(1)"
   ]
  },
  {
   "cell_type": "code",
   "execution_count": 132,
   "metadata": {},
   "outputs": [
    {
     "data": {
      "text/plain": [
       "1"
      ]
     },
     "execution_count": 132,
     "metadata": {},
     "output_type": "execute_result"
    }
   ],
   "source": [
    "F(2)"
   ]
  },
  {
   "cell_type": "code",
   "execution_count": 133,
   "metadata": {},
   "outputs": [
    {
     "data": {
      "text/plain": [
       "2"
      ]
     },
     "execution_count": 133,
     "metadata": {},
     "output_type": "execute_result"
    }
   ],
   "source": [
    "F(3)"
   ]
  },
  {
   "cell_type": "code",
   "execution_count": 134,
   "metadata": {},
   "outputs": [
    {
     "data": {
      "text/plain": [
       "3"
      ]
     },
     "execution_count": 134,
     "metadata": {},
     "output_type": "execute_result"
    }
   ],
   "source": [
    "F(4)"
   ]
  },
  {
   "cell_type": "markdown",
   "metadata": {},
   "source": [
    "### Write a Python program to get the sum of a non-negative integer.\n",
    "sum of 345 is 12"
   ]
  },
  {
   "cell_type": "code",
   "execution_count": 135,
   "metadata": {},
   "outputs": [],
   "source": [
    "num = 345"
   ]
  },
  {
   "cell_type": "code",
   "execution_count": 137,
   "metadata": {},
   "outputs": [
    {
     "ename": "TypeError",
     "evalue": "object of type 'int' has no len()",
     "output_type": "error",
     "traceback": [
      "\u001b[0;31m---------------------------------------------------------------------------\u001b[0m",
      "\u001b[0;31mTypeError\u001b[0m                                 Traceback (most recent call last)",
      "\u001b[0;32m<ipython-input-137-04dd5b0b64a9>\u001b[0m in \u001b[0;36m<module>\u001b[0;34m()\u001b[0m\n\u001b[0;32m----> 1\u001b[0;31m \u001b[0mlen\u001b[0m\u001b[0;34m(\u001b[0m\u001b[0mnum\u001b[0m\u001b[0;34m)\u001b[0m\u001b[0;34m\u001b[0m\u001b[0m\n\u001b[0m",
      "\u001b[0;31mTypeError\u001b[0m: object of type 'int' has no len()"
     ]
    }
   ],
   "source": [
    "len(num)"
   ]
  },
  {
   "cell_type": "code",
   "execution_count": 139,
   "metadata": {},
   "outputs": [
    {
     "data": {
      "text/plain": [
       "str"
      ]
     },
     "execution_count": 139,
     "metadata": {},
     "output_type": "execute_result"
    }
   ],
   "source": [
    "num = str(num)\n",
    "type(num)"
   ]
  },
  {
   "cell_type": "code",
   "execution_count": 140,
   "metadata": {},
   "outputs": [
    {
     "data": {
      "text/plain": [
       "3"
      ]
     },
     "execution_count": 140,
     "metadata": {},
     "output_type": "execute_result"
    }
   ],
   "source": [
    "len(num)"
   ]
  },
  {
   "cell_type": "code",
   "execution_count": 141,
   "metadata": {},
   "outputs": [
    {
     "data": {
      "text/plain": [
       "'3'"
      ]
     },
     "execution_count": 141,
     "metadata": {},
     "output_type": "execute_result"
    }
   ],
   "source": [
    "num[0]"
   ]
  },
  {
   "cell_type": "code",
   "execution_count": 142,
   "metadata": {},
   "outputs": [],
   "source": [
    "# 8 lines\n",
    "\n",
    "def int_sum(num):\n",
    "    start = time.time()\n",
    "    num = str(num)\n",
    "    length = len(num)\n",
    "    adder = 0\n",
    "    \n",
    "    for i in range(length):\n",
    "        i = int(num[i])\n",
    "        adder += i\n",
    "    end = time.time()\n",
    "    print(\"The sum of the non-negative ints is: \", adder, \"time: \", end-start)"
   ]
  },
  {
   "cell_type": "code",
   "execution_count": 143,
   "metadata": {},
   "outputs": [
    {
     "name": "stdout",
     "output_type": "stream",
     "text": [
      "The sum of the non-negative ints is:  12 time:  5.7220458984375e-06\n"
     ]
    }
   ],
   "source": [
    "int_sum(1605)"
   ]
  },
  {
   "cell_type": "markdown",
   "metadata": {},
   "source": [
    "#### Redo using recursion"
   ]
  },
  {
   "cell_type": "code",
   "execution_count": 144,
   "metadata": {},
   "outputs": [
    {
     "name": "stdout",
     "output_type": "stream",
     "text": [
      "3\n",
      "3\n"
     ]
    }
   ],
   "source": [
    "num = 341\n",
    "num2 = str(num)\n",
    "n = len(num2)\n",
    "print(n)\n",
    "print(num2[0])"
   ]
  },
  {
   "cell_type": "code",
   "execution_count": 145,
   "metadata": {},
   "outputs": [],
   "source": [
    "# def int_sum2(num):\n",
    "#     temp = str(num)\n",
    "#     n = len(num)\n",
    "    \n",
    "#     if n == 0:\n",
    "#         return 0\n",
    "    \n",
    "#     print(int(num[0]) + int(num[1]) + int(num[2]))\n",
    "    \n",
    "# #     return num[n] + intsum2[n-1]\n",
    "    \n",
    "# 5 lines\n",
    "\n",
    "def sumDigits(n):\n",
    "    print(\"top\", n)\n",
    "    if n == 0:\n",
    "        return 0\n",
    "    else:\n",
    "        print (\"new n is \", int(n/10), \"\\n\")\n",
    "        return n % 10 + sumDigits(int(n / 10))"
   ]
  },
  {
   "cell_type": "code",
   "execution_count": 146,
   "metadata": {},
   "outputs": [
    {
     "data": {
      "text/plain": [
       "1"
      ]
     },
     "execution_count": 146,
     "metadata": {},
     "output_type": "execute_result"
    }
   ],
   "source": [
    "341 % 10"
   ]
  },
  {
   "cell_type": "code",
   "execution_count": 147,
   "metadata": {},
   "outputs": [
    {
     "data": {
      "text/plain": [
       "3"
      ]
     },
     "execution_count": 147,
     "metadata": {},
     "output_type": "execute_result"
    }
   ],
   "source": [
    "int(34/10)"
   ]
  },
  {
   "cell_type": "code",
   "execution_count": 148,
   "metadata": {},
   "outputs": [
    {
     "name": "stdout",
     "output_type": "stream",
     "text": [
      "top 341\n",
      "new n is  34 \n",
      "\n",
      "top 34\n",
      "new n is  3 \n",
      "\n",
      "top 3\n",
      "new n is  0 \n",
      "\n",
      "top 0\n"
     ]
    },
    {
     "data": {
      "text/plain": [
       "8"
      ]
     },
     "execution_count": 148,
     "metadata": {},
     "output_type": "execute_result"
    }
   ],
   "source": [
    "sumDigits(341)"
   ]
  },
  {
   "cell_type": "markdown",
   "metadata": {},
   "source": [
    "### Write a Python program to calculate the sum of the positive integers of n+(n-2)+(n-4)... (until n-x =< 0)."
   ]
  },
  {
   "cell_type": "code",
   "execution_count": 149,
   "metadata": {},
   "outputs": [],
   "source": [
    "def sumDigits2(n):\n",
    "\n",
    "    if n == 0:\n",
    "        return 0\n",
    "    else:\n",
    "        return n + sumDigits2(int(n - 2))"
   ]
  },
  {
   "cell_type": "code",
   "execution_count": 150,
   "metadata": {},
   "outputs": [
    {
     "data": {
      "text/plain": [
       "30"
      ]
     },
     "execution_count": 150,
     "metadata": {},
     "output_type": "execute_result"
    }
   ],
   "source": [
    "sumDigits2(10)"
   ]
  },
  {
   "cell_type": "markdown",
   "metadata": {},
   "source": [
    "### Write a Python program to calculate the harmonic sum of n-1. \n",
    "The harmonic sum is the sum of reciprocals of the positive integers. 1 + 1/2 + 1/3 + ..."
   ]
  },
  {
   "cell_type": "code",
   "execution_count": 151,
   "metadata": {},
   "outputs": [],
   "source": [
    "def sumHarmonics(n):\n",
    "\n",
    "    if n == 0:\n",
    "        return 0\n",
    "    else:\n",
    "        return ( 1/n  + sumHarmonics (n - 1))"
   ]
  },
  {
   "cell_type": "code",
   "execution_count": 152,
   "metadata": {},
   "outputs": [
    {
     "data": {
      "text/plain": [
       "2.283333333333333"
      ]
     },
     "execution_count": 152,
     "metadata": {},
     "output_type": "execute_result"
    }
   ],
   "source": [
    "sumHarmonics(5)"
   ]
  },
  {
   "cell_type": "code",
   "execution_count": 153,
   "metadata": {},
   "outputs": [
    {
     "data": {
      "text/plain": [
       "2.283333333333333"
      ]
     },
     "execution_count": 153,
     "metadata": {},
     "output_type": "execute_result"
    }
   ],
   "source": [
    "1 + 1/2 + 1/3 + 1/4 + 1/5"
   ]
  },
  {
   "cell_type": "code",
   "execution_count": 154,
   "metadata": {},
   "outputs": [
    {
     "data": {
      "text/plain": [
       "7.485470860550343"
      ]
     },
     "execution_count": 154,
     "metadata": {},
     "output_type": "execute_result"
    }
   ],
   "source": [
    "sumHarmonics(1000)"
   ]
  },
  {
   "cell_type": "markdown",
   "metadata": {},
   "source": [
    "### Find the GCF of 2 numbers"
   ]
  },
  {
   "cell_type": "code",
   "execution_count": 155,
   "metadata": {},
   "outputs": [],
   "source": [
    "nums = (16,12)"
   ]
  },
  {
   "cell_type": "code",
   "execution_count": 156,
   "metadata": {},
   "outputs": [
    {
     "name": "stdout",
     "output_type": "stream",
     "text": [
      "12\n"
     ]
    }
   ],
   "source": [
    "a = min(nums)\n",
    "print(a)"
   ]
  },
  {
   "cell_type": "code",
   "execution_count": 157,
   "metadata": {},
   "outputs": [
    {
     "name": "stdout",
     "output_type": "stream",
     "text": [
      "16\n"
     ]
    }
   ],
   "source": [
    "b = max(nums)\n",
    "print(b)"
   ]
  },
  {
   "cell_type": "code",
   "execution_count": 158,
   "metadata": {},
   "outputs": [],
   "source": [
    "def greatestCommonFactor(nums):\n",
    "    small = min(nums)\n",
    "    large = max(nums)\n",
    "    factors = []\n",
    "    \n",
    "    for i in reversed(range(1, small + 1)):\n",
    "        if small % i == 0:\n",
    "            factor = small / i\n",
    "            if large % factor == 0:\n",
    "                factors.append(factor)\n",
    "     \n",
    "    print(\"The GCF of {} and {} is {}.\".format(small, large, int(max(factors))) )     "
   ]
  },
  {
   "cell_type": "code",
   "execution_count": 159,
   "metadata": {},
   "outputs": [
    {
     "name": "stdout",
     "output_type": "stream",
     "text": [
      "The GCF of 12 and 16 is 4.\n"
     ]
    }
   ],
   "source": [
    "greatestCommonFactor(nums)"
   ]
  },
  {
   "cell_type": "code",
   "execution_count": 160,
   "metadata": {},
   "outputs": [
    {
     "name": "stdout",
     "output_type": "stream",
     "text": [
      "The GCF of 15 and 30 is 15.\n"
     ]
    }
   ],
   "source": [
    "nums2=(30,15)\n",
    "greatestCommonFactor(nums2)"
   ]
  },
  {
   "cell_type": "code",
   "execution_count": 161,
   "metadata": {},
   "outputs": [],
   "source": [
    "# Python Data Stuctures\n",
    "def Recurgcd(a, b):\n",
    "    low = min(a, b)\n",
    "    high = max(a, b)\n",
    "\n",
    "    if low == 0:\n",
    "        return high\n",
    "    elif low == 1:\n",
    "        return 1\n",
    "    else:\n",
    "        return Recurgcd(low, high%low)"
   ]
  },
  {
   "cell_type": "code",
   "execution_count": 162,
   "metadata": {},
   "outputs": [
    {
     "data": {
      "text/plain": [
       "2"
      ]
     },
     "execution_count": 162,
     "metadata": {},
     "output_type": "execute_result"
    }
   ],
   "source": [
    "Recurgcd(12,14)"
   ]
  },
  {
   "cell_type": "code",
   "execution_count": 163,
   "metadata": {},
   "outputs": [
    {
     "data": {
      "text/plain": [
       "15"
      ]
     },
     "execution_count": 163,
     "metadata": {},
     "output_type": "execute_result"
    }
   ],
   "source": [
    "Recurgcd(30,15)"
   ]
  },
  {
   "cell_type": "markdown",
   "metadata": {},
   "source": [
    "### Use * args"
   ]
  },
  {
   "cell_type": "code",
   "execution_count": 164,
   "metadata": {},
   "outputs": [],
   "source": [
    "nums = [6,8,2,1,2,3,4,5]"
   ]
  },
  {
   "cell_type": "code",
   "execution_count": 165,
   "metadata": {},
   "outputs": [
    {
     "ename": "TypeError",
     "evalue": "my_min() takes 1 positional argument but 5 were given",
     "output_type": "error",
     "traceback": [
      "\u001b[0;31m---------------------------------------------------------------------------\u001b[0m",
      "\u001b[0;31mTypeError\u001b[0m                                 Traceback (most recent call last)",
      "\u001b[0;32m<ipython-input-165-5854e1b90e9b>\u001b[0m in \u001b[0;36m<module>\u001b[0;34m()\u001b[0m\n\u001b[1;32m     14\u001b[0m     \u001b[0;32mreturn\u001b[0m \u001b[0mresult\u001b[0m\u001b[0;34m\u001b[0m\u001b[0m\n\u001b[1;32m     15\u001b[0m \u001b[0;34m\u001b[0m\u001b[0m\n\u001b[0;32m---> 16\u001b[0;31m \u001b[0mmy_min\u001b[0m\u001b[0;34m(\u001b[0m\u001b[0;36m4\u001b[0m\u001b[0;34m,\u001b[0m \u001b[0;36m5\u001b[0m\u001b[0;34m,\u001b[0m \u001b[0;36m6\u001b[0m\u001b[0;34m,\u001b[0m \u001b[0;36m7\u001b[0m\u001b[0;34m,\u001b[0m \u001b[0;36m2\u001b[0m\u001b[0;34m)\u001b[0m\u001b[0;34m\u001b[0m\u001b[0m\n\u001b[0m",
      "\u001b[0;31mTypeError\u001b[0m: my_min() takes 1 positional argument but 5 were given"
     ]
    }
   ],
   "source": [
    "# def min_nums(nums):\n",
    "#     min = nums[0]\n",
    "    \n",
    "#     for i in nums:\n",
    "#         if i <= min:\n",
    "#             min = i\n",
    "#     return(min)\n",
    "        \n",
    "def my_min(nums):\n",
    "    result = nums[0]\n",
    "    for num in nums:\n",
    "        if num < result:\n",
    "            result = num\n",
    "    return result\n",
    "\n",
    "my_min(4, 5, 6, 7, 2)"
   ]
  },
  {
   "cell_type": "code",
   "execution_count": 166,
   "metadata": {},
   "outputs": [
    {
     "ename": "NameError",
     "evalue": "name 'min_nums' is not defined",
     "output_type": "error",
     "traceback": [
      "\u001b[0;31m---------------------------------------------------------------------------\u001b[0m",
      "\u001b[0;31mNameError\u001b[0m                                 Traceback (most recent call last)",
      "\u001b[0;32m<ipython-input-166-ab6d50845dc4>\u001b[0m in \u001b[0;36m<module>\u001b[0;34m()\u001b[0m\n\u001b[0;32m----> 1\u001b[0;31m \u001b[0mmin_nums\u001b[0m\u001b[0;34m(\u001b[0m\u001b[0mnums\u001b[0m\u001b[0;34m)\u001b[0m\u001b[0;34m\u001b[0m\u001b[0m\n\u001b[0m",
      "\u001b[0;31mNameError\u001b[0m: name 'min_nums' is not defined"
     ]
    }
   ],
   "source": [
    "min_nums(nums)"
   ]
  },
  {
   "cell_type": "code",
   "execution_count": 167,
   "metadata": {},
   "outputs": [],
   "source": [
    "def min_nums_args(*args):\n",
    "    min = args[0]\n",
    "    print(min)\n",
    "    \n",
    "    for i in args:\n",
    "        print(i)\n",
    "        if i <= min:\n",
    "            min = i\n",
    "            return min\n",
    "        "
   ]
  },
  {
   "cell_type": "code",
   "execution_count": 168,
   "metadata": {},
   "outputs": [
    {
     "name": "stdout",
     "output_type": "stream",
     "text": [
      "6\n",
      "6\n"
     ]
    },
    {
     "data": {
      "text/plain": [
       "6"
      ]
     },
     "execution_count": 168,
     "metadata": {},
     "output_type": "execute_result"
    }
   ],
   "source": [
    "min_nums_args(6,1,2,5,7,3,6)"
   ]
  },
  {
   "cell_type": "markdown",
   "metadata": {},
   "source": [
    "## Question Marks\n",
    "Take an input string parameter and determine if exactly 3 question marks exist between every pair of numbers that add up to 10. If so, return true, otherwise return false.\n",
    "\n",
    "\"acc?7??sss?3rr1??????5\" => true\n",
    "\n",
    "\"5??aaaaaaaaaaaaaaaaaaa?5?5\" => false\n",
    "\n",
    "https://medium.com/coderbyte/the-5-hardest-code-challenges-for-beginners-e410da4474b"
   ]
  },
  {
   "cell_type": "code",
   "execution_count": 169,
   "metadata": {},
   "outputs": [],
   "source": [
    "test = 'acc?7??sss?3rr1??????5'"
   ]
  },
  {
   "cell_type": "code",
   "execution_count": 176,
   "metadata": {},
   "outputs": [],
   "source": [
    "def q_marks (text):\n",
    "    for i in text:\n",
    "        print(i)"
   ]
  },
  {
   "cell_type": "code",
   "execution_count": 182,
   "metadata": {},
   "outputs": [],
   "source": [
    "# This approach uses for loop to convert each character into a list. \n",
    "# Just enclosing the For loop within square brackets [] will split the characters of word into list.\n",
    "\n",
    "def split(text):\n",
    "    return [char for char in text] "
   ]
  },
  {
   "cell_type": "code",
   "execution_count": 200,
   "metadata": {},
   "outputs": [
    {
     "data": {
      "text/plain": [
       "<filter at 0x110b3ecc0>"
      ]
     },
     "execution_count": 200,
     "metadata": {},
     "output_type": "execute_result"
    }
   ],
   "source": [
    "filter(str.isdigit, test)"
   ]
  },
  {
   "cell_type": "code",
   "execution_count": 261,
   "metadata": {},
   "outputs": [],
   "source": [
    "#     print(type(char))\n",
    "#     print(char)\n",
    "# elif char.isalpha():\n",
    "    \n",
    "    \n",
    "def char_test(sample):\n",
    "    \n",
    "    qm_counter = 0\n",
    "    num_counter = 0\n",
    "    num1 = 0\n",
    "    num2 = 0\n",
    "    num_list = []\n",
    "    \n",
    "    for char in sample[::]:\n",
    "        if char.isdigit():\n",
    "            num_list.append(int(char))\n",
    "                               \n",
    "#         elif char == \"?\":\n",
    "#             print(char, \"qm\")\n",
    "#             qm_counter += 1\n",
    "    print(num_list)  \n",
    "    \n",
    "            \n",
    "#     print(f\"the number of qm are: {qm_counter} \")\n"
   ]
  },
  {
   "cell_type": "code",
   "execution_count": 262,
   "metadata": {},
   "outputs": [
    {
     "name": "stdout",
     "output_type": "stream",
     "text": [
      "[7, 3, 1, 5]\n"
     ]
    }
   ],
   "source": [
    "char_test(test)"
   ]
  },
  {
   "cell_type": "code",
   "execution_count": 390,
   "metadata": {},
   "outputs": [],
   "source": [
    "test = \"1??aaaaaaaaaaaaaaaaaaa?4?3\"\n",
    "# test = '1acc?7??sss?3rr1??????5'"
   ]
  },
  {
   "cell_type": "code",
   "execution_count": 391,
   "metadata": {},
   "outputs": [
    {
     "name": "stdout",
     "output_type": "stream",
     "text": [
      "[1, 4, 3]\n"
     ]
    }
   ],
   "source": [
    "# number = ''.join([i for i in test if i.isdigit()])\n",
    "result = [int(i) for i in test if i.isdigit()]\n",
    "print(result)"
   ]
  },
  {
   "cell_type": "code",
   "execution_count": 392,
   "metadata": {},
   "outputs": [],
   "source": [
    "# import itertools\n",
    "\n",
    "# target = 10\n",
    "# for numbers in itertools.combinations(result,2):\n",
    "#     if sum(numbers) == target:\n",
    "#         new_result = [result.index(number) for number in numbers]\n",
    "#         print(new_result)\n",
    "#         index1 = new_result[0]\n",
    "#         index2 = new_result[1]\n",
    "#         print(result[index1])\n",
    "#         print(result[index2])"
   ]
  },
  {
   "cell_type": "code",
   "execution_count": 393,
   "metadata": {},
   "outputs": [],
   "source": [
    "# This uses the list of numbes already taken from the string\n",
    "\n",
    "def sum_finder(result):\n",
    "    target = 10\n",
    "    success = []\n",
    "\n",
    "    for i in range(0, len(result)-1):\n",
    "\n",
    "        num_sum = (result[i] + result[i+1])\n",
    "\n",
    "        if num_sum == target:\n",
    "            success.append(result[i])\n",
    "            success.append(result[i+1])\n",
    "\n",
    "    if not success:\n",
    "        print(\"there are no numbers\")\n",
    "    else:\n",
    "        return(success)"
   ]
  },
  {
   "cell_type": "code",
   "execution_count": 394,
   "metadata": {},
   "outputs": [
    {
     "name": "stdout",
     "output_type": "stream",
     "text": [
      "there are no numbers\n"
     ]
    }
   ],
   "source": [
    "sum_finder(result)"
   ]
  },
  {
   "cell_type": "code",
   "execution_count": 395,
   "metadata": {},
   "outputs": [],
   "source": [
    "# This combines the two operations: find digits in the string and find the two numbers that equal 10\n",
    "def sum_finder(test):\n",
    "    target = 10\n",
    "    success = []\n",
    "\n",
    "    result = [int(i) for i in test if i.isdigit()]\n",
    "\n",
    "    for i in range(0, len(result)-1):\n",
    "\n",
    "        num_sum = (result[i] + result[i+1])\n",
    "\n",
    "        if num_sum == target:\n",
    "            success.append(result[i])\n",
    "            success.append(result[i+1])\n",
    "\n",
    "    return(success)\n",
    "#     if not success:\n",
    "#         print(\"there are no numbers\")\n",
    "    \n",
    "#     else:\n",
    "#         return(success)"
   ]
  },
  {
   "cell_type": "code",
   "execution_count": 397,
   "metadata": {},
   "outputs": [
    {
     "data": {
      "text/plain": [
       "[]"
      ]
     },
     "execution_count": 397,
     "metadata": {},
     "output_type": "execute_result"
    }
   ],
   "source": [
    "sum_finder(test)"
   ]
  },
  {
   "cell_type": "code",
   "execution_count": 398,
   "metadata": {},
   "outputs": [],
   "source": [
    "testa = \"1??aaaaaaaaaaaaaaaaaaa?4?3\"\n",
    "testb = 'acc?7??sss?3rr1??????5'"
   ]
  },
  {
   "cell_type": "code",
   "execution_count": 445,
   "metadata": {},
   "outputs": [
    {
     "name": "stdout",
     "output_type": "stream",
     "text": [
      "['a', 'c', 'c', '?', '7', '?', '?', 's', 's', 's', '?', '3', 'r', 'r', '1', '?', '?', '?', '?', '?', '?', '5']\n",
      "4\n"
     ]
    }
   ],
   "source": [
    "# def split(text):\n",
    "#     return [char for char in text] \n",
    "\n",
    "# split(testb)\n",
    "\n",
    "a = [char for char in testb]\n",
    "print(a)\n",
    "print(a.index('7'))"
   ]
  },
  {
   "cell_type": "code",
   "execution_count": null,
   "metadata": {},
   "outputs": [],
   "source": []
  },
  {
   "cell_type": "code",
   "execution_count": 448,
   "metadata": {},
   "outputs": [],
   "source": [
    "def char_test(sample):\n",
    "    \n",
    "    success = sum_finder(sample)\n",
    "    print(success)\n",
    "    \n",
    "    if success: \n",
    "        start = success[0]\n",
    "        print(start)\n",
    "        index1 = sample.index('start')\n",
    "        print(index1)\n",
    "        \n",
    "        sub = sample[start:end]\n",
    "        print(sub)\n",
    "\n",
    "        \n",
    "        for char in sample[::]:\n",
    "            if char.isdigit():\n",
    "            num_list.append(int(char))\n",
    "                               \n",
    "        elif char == \"?\":\n",
    "            print(char, \"qm\")\n",
    "            qm_counter += 1\n",
    "    print(num_list)  \n",
    "    \n",
    "            \n",
    "    print(f\"the number of qm are: {qm_counter} \")\n",
    "    \n",
    "    else:\n",
    "        print(\"false\")"
   ]
  },
  {
   "cell_type": "code",
   "execution_count": 449,
   "metadata": {},
   "outputs": [
    {
     "name": "stdout",
     "output_type": "stream",
     "text": [
      "[7, 3]\n"
     ]
    }
   ],
   "source": [
    "char_test(testb)"
   ]
  },
  {
   "cell_type": "code",
   "execution_count": 211,
   "metadata": {},
   "outputs": [
    {
     "name": "stdout",
     "output_type": "stream",
     "text": [
      "accsssrr\n"
     ]
    }
   ],
   "source": [
    "# string = ''.join([i for i in test if i.isalpha()])\n",
    "# print(string)"
   ]
  }
 ],
 "metadata": {
  "kernelspec": {
   "display_name": "Python [conda env:learn-env] *",
   "language": "python",
   "name": "conda-env-learn-env-py"
  },
  "language_info": {
   "codemirror_mode": {
    "name": "ipython",
    "version": 3
   },
   "file_extension": ".py",
   "mimetype": "text/x-python",
   "name": "python",
   "nbconvert_exporter": "python",
   "pygments_lexer": "ipython3",
   "version": "3.6.6"
  },
  "toc": {
   "base_numbering": 1,
   "nav_menu": {},
   "number_sections": true,
   "sideBar": true,
   "skip_h1_title": false,
   "title_cell": "Table of Contents",
   "title_sidebar": "Contents",
   "toc_cell": true,
   "toc_position": {},
   "toc_section_display": true,
   "toc_window_display": false
  },
  "varInspector": {
   "cols": {
    "lenName": 16,
    "lenType": 16,
    "lenVar": 40
   },
   "kernels_config": {
    "python": {
     "delete_cmd_postfix": "",
     "delete_cmd_prefix": "del ",
     "library": "var_list.py",
     "varRefreshCmd": "print(var_dic_list())"
    },
    "r": {
     "delete_cmd_postfix": ") ",
     "delete_cmd_prefix": "rm(",
     "library": "var_list.r",
     "varRefreshCmd": "cat(var_dic_list()) "
    }
   },
   "types_to_exclude": [
    "module",
    "function",
    "builtin_function_or_method",
    "instance",
    "_Feature"
   ],
   "window_display": false
  }
 },
 "nbformat": 4,
 "nbformat_minor": 2
}
