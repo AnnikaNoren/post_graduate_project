{
 "cells": [
  {
   "cell_type": "markdown",
   "metadata": {
    "toc": true
   },
   "source": [
    "<h1>Table of Contents<span class=\"tocSkip\"></span></h1>\n",
    "<div class=\"toc\"><ul class=\"toc-item\"><li><span><a href=\"#ID\" data-toc-modified-id=\"ID-1\"><span class=\"toc-item-num\">1&nbsp;&nbsp;</span>ID</a></span><ul class=\"toc-item\"><li><span><a href=\"#ID-Duplicates-Conclusion\" data-toc-modified-id=\"ID-Duplicates-Conclusion-1.1\"><span class=\"toc-item-num\">1.1&nbsp;&nbsp;</span>ID Duplicates Conclusion</a></span></li></ul></li><li><span><a href=\"#Waterfront\" data-toc-modified-id=\"Waterfront-2\"><span class=\"toc-item-num\">2&nbsp;&nbsp;</span>Waterfront</a></span><ul class=\"toc-item\"><li><span><a href=\"#Pandas-isna()-vs-isnull()---accomplish-same-thing\" data-toc-modified-id=\"Pandas-isna()-vs-isnull()---accomplish-same-thing-2.1\"><span class=\"toc-item-num\">2.1&nbsp;&nbsp;</span>Pandas isna() vs isnull() - accomplish same thing</a></span></li><li><span><a href=\"#Drop-null-values\" data-toc-modified-id=\"Drop-null-values-2.2\"><span class=\"toc-item-num\">2.2&nbsp;&nbsp;</span>Drop null values</a></span></li></ul></li><li><span><a href=\"#sqft_basement\" data-toc-modified-id=\"sqft_basement-3\"><span class=\"toc-item-num\">3&nbsp;&nbsp;</span>sqft_basement</a></span><ul class=\"toc-item\"><li><span><a href=\"#Result\" data-toc-modified-id=\"Result-3.1\"><span class=\"toc-item-num\">3.1&nbsp;&nbsp;</span>Result</a></span></li><li><span><a href=\"#Column-for-basement/no_basement-using-Numpy.where()\" data-toc-modified-id=\"Column-for-basement/no_basement-using-Numpy.where()-3.2\"><span class=\"toc-item-num\">3.2&nbsp;&nbsp;</span>Column for basement/no_basement using Numpy.where()</a></span></li><li><span><a href=\"#Tiers-of-basement-size-using-Numpy.select()\" data-toc-modified-id=\"Tiers-of-basement-size-using-Numpy.select()-3.3\"><span class=\"toc-item-num\">3.3&nbsp;&nbsp;</span>Tiers of basement size using Numpy.select()</a></span></li><li><span><a href=\"#NOTE:-the-dataframe-was-not-updated-to-show-basement-tiers-or-true/false,-only-a-temporary-dataframe-was-used.\" data-toc-modified-id=\"NOTE:-the-dataframe-was-not-updated-to-show-basement-tiers-or-true/false,-only-a-temporary-dataframe-was-used.-3.4\"><span class=\"toc-item-num\">3.4&nbsp;&nbsp;</span>NOTE: the dataframe was not updated to show basement tiers or true/false, only a temporary dataframe was used.</a></span></li></ul></li><li><span><a href=\"#Floors\" data-toc-modified-id=\"Floors-4\"><span class=\"toc-item-num\">4&nbsp;&nbsp;</span>Floors</a></span><ul class=\"toc-item\"><li><span><a href=\"#Half-floors\" data-toc-modified-id=\"Half-floors-4.1\"><span class=\"toc-item-num\">4.1&nbsp;&nbsp;</span>Half floors</a></span></li><li><span><a href=\"#Result\" data-toc-modified-id=\"Result-4.2\"><span class=\"toc-item-num\">4.2&nbsp;&nbsp;</span>Result</a></span></li></ul></li><li><span><a href=\"#Yr_renovated\" data-toc-modified-id=\"Yr_renovated-5\"><span class=\"toc-item-num\">5&nbsp;&nbsp;</span>Yr_renovated</a></span><ul class=\"toc-item\"><li><span><a href=\"#Nulls-get-bundled-with-values\" data-toc-modified-id=\"Nulls-get-bundled-with-values-5.1\"><span class=\"toc-item-num\">5.1&nbsp;&nbsp;</span>Nulls get bundled with values</a></span></li><li><span><a href=\"#The-3842-nulls-get-switched-to-'not-0'\" data-toc-modified-id=\"The-3842-nulls-get-switched-to-'not-0'-5.2\"><span class=\"toc-item-num\">5.2&nbsp;&nbsp;</span>The 3842 nulls get switched to 'not 0'</a></span></li><li><span><a href=\"#Result\" data-toc-modified-id=\"Result-5.3\"><span class=\"toc-item-num\">5.3&nbsp;&nbsp;</span>Result</a></span></li></ul></li><li><span><a href=\"#Bedrooms-and-Bathrooms\" data-toc-modified-id=\"Bedrooms-and-Bathrooms-6\"><span class=\"toc-item-num\">6&nbsp;&nbsp;</span>Bedrooms and Bathrooms</a></span><ul class=\"toc-item\"><li><span><a href=\"#Conclusions\" data-toc-modified-id=\"Conclusions-6.1\"><span class=\"toc-item-num\">6.1&nbsp;&nbsp;</span>Conclusions</a></span></li></ul></li><li><span><a href=\"#Zipcodes\" data-toc-modified-id=\"Zipcodes-7\"><span class=\"toc-item-num\">7&nbsp;&nbsp;</span>Zipcodes</a></span></li></ul></div>"
   ]
  },
  {
   "cell_type": "code",
   "execution_count": null,
   "metadata": {},
   "outputs": [],
   "source": [
    "import pandas as pd\n",
    "import numpy as np\n",
    "\n",
    "import matplotlib.pyplot as plt\n",
    "import seaborn as sns\n",
    "\n",
    "from datetime import datetime\n",
    "\n",
    "import warnings\n",
    "warnings.filterwarnings(\"ignore\")\n",
    "%matplotlib inline\n",
    "\n",
    "import scipy.stats as stats\n",
    "import statsmodels.api as sm\n",
    "from statsmodels.formula.api import ols\n",
    "import statsmodels.stats.api as sms\n",
    "\n",
    "from sklearn import datasets"
   ]
  },
  {
   "cell_type": "code",
   "execution_count": null,
   "metadata": {},
   "outputs": [],
   "source": [
    "# %store -r kc_df"
   ]
  },
  {
   "cell_type": "code",
   "execution_count": null,
   "metadata": {},
   "outputs": [],
   "source": [
    "# df = kc_df.copy()"
   ]
  },
  {
   "cell_type": "code",
   "execution_count": null,
   "metadata": {},
   "outputs": [],
   "source": [
    "df = pd.read_csv(\"kc_house_data.csv\")"
   ]
  },
  {
   "cell_type": "code",
   "execution_count": null,
   "metadata": {},
   "outputs": [],
   "source": [
    "df.head()"
   ]
  },
  {
   "cell_type": "code",
   "execution_count": null,
   "metadata": {},
   "outputs": [],
   "source": [
    "df.info()"
   ]
  },
  {
   "cell_type": "markdown",
   "metadata": {},
   "source": [
    "# ID\n",
    "Duplicates?"
   ]
  },
  {
   "cell_type": "code",
   "execution_count": null,
   "metadata": {},
   "outputs": [],
   "source": [
    "# Duplicate ids, but are they truly the same event?\n",
    "\n",
    "print(\"There are {} duplicated ids in this dataset.\".format(df.id.duplicated().sum()))"
   ]
  },
  {
   "cell_type": "code",
   "execution_count": null,
   "metadata": {},
   "outputs": [],
   "source": [
    "duplicate_id = df[df.id.duplicated(keep=False)]\n",
    "duplicate_date = df[df.date.duplicated(keep=False)]\n",
    "\n",
    "# From my capstone project\n",
    "# duplicates.sort_values(by=['Coffee Name']).head()\n",
    "# df.drop_duplicates(inplace=True)\n",
    "\n",
    "temp = df[['id','date']]\n",
    "duplicates = temp[temp.duplicated()]\n",
    "print(duplicates)"
   ]
  },
  {
   "cell_type": "markdown",
   "metadata": {},
   "source": [
    "## ID Duplicates Conclusion\n",
    "I believe that there aren't any duplicate entries, just houses that were sold/resold "
   ]
  },
  {
   "cell_type": "markdown",
   "metadata": {},
   "source": [
    "# Waterfront"
   ]
  },
  {
   "cell_type": "code",
   "execution_count": null,
   "metadata": {
    "scrolled": true
   },
   "outputs": [],
   "source": [
    "# .value_counts() excludes null\n",
    "print(\"Value counts for waterfront: \\n{}\".format(df.waterfront.value_counts()))\n",
    "print(\"\\nTotal waterfront values: {}\".format(len(df.waterfront)))"
   ]
  },
  {
   "cell_type": "code",
   "execution_count": null,
   "metadata": {},
   "outputs": [],
   "source": [
    "# the number of null values, they do not show up in value_counts\n",
    "21597-19075-146"
   ]
  },
  {
   "cell_type": "code",
   "execution_count": null,
   "metadata": {},
   "outputs": [],
   "source": [
    "2376/21597 * 100"
   ]
  },
  {
   "cell_type": "markdown",
   "metadata": {},
   "source": [
    "## Pandas isna() vs isnull() - accomplish same thing"
   ]
  },
  {
   "cell_type": "code",
   "execution_count": null,
   "metadata": {},
   "outputs": [],
   "source": [
    "# pd.to_numeric(df.waterfront, errors=\"coerce\", inplace=True)"
   ]
  },
  {
   "cell_type": "code",
   "execution_count": null,
   "metadata": {},
   "outputs": [],
   "source": [
    "print(\"Null waterfront values: {}\".format(df.waterfront.isna().sum()))\n",
    "print(df.waterfront.isna().sum() / len(df.waterfront)) #11% of waterfront data missing"
   ]
  },
  {
   "cell_type": "code",
   "execution_count": null,
   "metadata": {},
   "outputs": [],
   "source": [
    "# one .sum() gives the breakout of nulls, a double .sum() gives the total of whole dataframe\n",
    "df.isna().sum().sum()"
   ]
  },
  {
   "cell_type": "code",
   "execution_count": null,
   "metadata": {},
   "outputs": [],
   "source": [
    "df.waterfront.isnull().sum()"
   ]
  },
  {
   "cell_type": "markdown",
   "metadata": {},
   "source": [
    "## Drop null values\n",
    "When I tried drop the null values using:\n",
    "df.waterfront.dropna(axis=0, inplace=True)\n",
    "it seemed to work.  There were no errors.  When I checked the null values in the column the answer as 0.  However, when I checked the value of waterfront in row 13254 there was a Nan!"
   ]
  },
  {
   "cell_type": "code",
   "execution_count": null,
   "metadata": {},
   "outputs": [],
   "source": [
    "# THIS DOES NOT WORK\n",
    "# df.waterfront.dropna(axis=0,inplace=True)\n",
    "\n",
    "# RESULTS\n",
    "# df.waterfront.isna().sum()\n",
    "# 0\n",
    "\n",
    "# df.waterfront.isnull().sum()\n",
    "# 0\n",
    "\n",
    "# df.waterfront.value_counts().nunique()\n",
    "# 2\n",
    "\n",
    "# df.info()\n",
    "# still only 19221 values \n",
    "# what are the other ones?"
   ]
  },
  {
   "cell_type": "code",
   "execution_count": null,
   "metadata": {},
   "outputs": [],
   "source": [
    "# THIS IS RIGHT AND WORKS, but 11% of values lost\n",
    "# df = df.dropna(axis=0, subset=['waterfront'])"
   ]
  },
  {
   "cell_type": "code",
   "execution_count": null,
   "metadata": {},
   "outputs": [],
   "source": [
    "# Will fill nulls instead in the ratio of waterfront/non-waterfront\n",
    "df['est_waterfront'] = df['waterfront'].fillna(pd.Series(np.random.choice([999, 0], \n",
    "                                                      p=[146/19221, 1-(146/19221)], size=len(df))))"
   ]
  },
  {
   "cell_type": "code",
   "execution_count": null,
   "metadata": {},
   "outputs": [],
   "source": [
    "df.info()"
   ]
  },
  {
   "cell_type": "markdown",
   "metadata": {},
   "source": [
    "# sqft_basement"
   ]
  },
  {
   "cell_type": "code",
   "execution_count": null,
   "metadata": {},
   "outputs": [],
   "source": [
    "df.sqft_basement.value_counts(sort=True)"
   ]
  },
  {
   "cell_type": "code",
   "execution_count": null,
   "metadata": {},
   "outputs": [],
   "source": [
    "df.sqft_basement.min()"
   ]
  },
  {
   "cell_type": "code",
   "execution_count": null,
   "metadata": {},
   "outputs": [],
   "source": [
    "df.sqft_basement.max()"
   ]
  },
  {
   "cell_type": "code",
   "execution_count": null,
   "metadata": {},
   "outputs": [],
   "source": [
    "df.sqft_basement.isna().sum()"
   ]
  },
  {
   "cell_type": "code",
   "execution_count": null,
   "metadata": {},
   "outputs": [],
   "source": [
    "# About half of the houses have no basement.\n",
    "\n",
    "df.sqft_basement.value_counts().sort_values(ascending=False)"
   ]
  },
  {
   "cell_type": "code",
   "execution_count": null,
   "metadata": {},
   "outputs": [],
   "source": [
    "# sqft_living = sqft_above + sqft_basement, is this true\n",
    "temp = df[['sqft_living','sqft_above','sqft_basement']]"
   ]
  },
  {
   "cell_type": "code",
   "execution_count": null,
   "metadata": {},
   "outputs": [],
   "source": [
    "temp.head(3)"
   ]
  },
  {
   "cell_type": "code",
   "execution_count": null,
   "metadata": {},
   "outputs": [],
   "source": [
    "temp.sqft_living.isna().sum()"
   ]
  },
  {
   "cell_type": "code",
   "execution_count": null,
   "metadata": {},
   "outputs": [],
   "source": [
    "temp.sqft_above.isna().sum()"
   ]
  },
  {
   "cell_type": "code",
   "execution_count": null,
   "metadata": {},
   "outputs": [],
   "source": [
    "temp.sqft_basement.isna().sum()"
   ]
  },
  {
   "cell_type": "code",
   "execution_count": null,
   "metadata": {},
   "outputs": [],
   "source": [
    "# This is a check of above's value\n",
    "\n",
    "len(temp[temp['sqft_basement'] == '?'])"
   ]
  },
  {
   "cell_type": "code",
   "execution_count": null,
   "metadata": {},
   "outputs": [],
   "source": [
    "# create a new column calc_below and compare it to sqft_basement for the ? values\n",
    "temp['calc_basement'] = temp['sqft_living'] - temp['sqft_above']"
   ]
  },
  {
   "cell_type": "code",
   "execution_count": null,
   "metadata": {
    "scrolled": true
   },
   "outputs": [],
   "source": [
    "temp.head(8)"
   ]
  },
  {
   "cell_type": "code",
   "execution_count": null,
   "metadata": {},
   "outputs": [],
   "source": [
    "temp[temp['sqft_basement'] == '?']"
   ]
  },
  {
   "cell_type": "markdown",
   "metadata": {},
   "source": [
    "## Result\n",
    "\n",
    "It appears on visual inspection, that the sqft_basement values that were ? can be reassigned as the calcualated value of all living space minus the living space above.  "
   ]
  },
  {
   "cell_type": "markdown",
   "metadata": {},
   "source": [
    "## Column for basement/no_basement using Numpy.where()"
   ]
  },
  {
   "cell_type": "code",
   "execution_count": null,
   "metadata": {},
   "outputs": [],
   "source": [
    "temp['has_basement'] = np.where(temp['calc_basement'] == 0, False, True)\n",
    "temp.head()"
   ]
  },
  {
   "cell_type": "markdown",
   "metadata": {},
   "source": [
    "## Tiers of basement size using Numpy.select()\n",
    "\n",
    "https://www.dataquest.io/blog/tutorial-add-column-pandas-dataframe-based-on-if-else-condition/?utm_source=Iterable&utm_medium=email&utm_campaign=newsletter_90"
   ]
  },
  {
   "cell_type": "code",
   "execution_count": null,
   "metadata": {},
   "outputs": [],
   "source": [
    "temp.describe()"
   ]
  },
  {
   "cell_type": "code",
   "execution_count": null,
   "metadata": {},
   "outputs": [],
   "source": [
    "sns.set(rc={'figure.figsize':(15,15)})\n",
    "sns.distplot(temp['calc_basement'])"
   ]
  },
  {
   "cell_type": "code",
   "execution_count": null,
   "metadata": {},
   "outputs": [],
   "source": [
    "conditions = [\n",
    "    (temp['calc_basement'] == 0),\n",
    "    (temp['calc_basement'] > 0) & (temp['calc_basement'] <= 300),\n",
    "    (temp['calc_basement'] > 300) & (temp['calc_basement'] <= 600),\n",
    "    (temp['calc_basement'] > 600) & (temp['calc_basement'] <= 1000),\n",
    "    (temp['calc_basement'] > 1000) & (temp['calc_basement'] <= 5000),\n",
    "    ]"
   ]
  },
  {
   "cell_type": "code",
   "execution_count": null,
   "metadata": {},
   "outputs": [],
   "source": [
    "values = ['level_1', 'level_2', 'level_3', 'level_4','level_5']"
   ]
  },
  {
   "cell_type": "code",
   "execution_count": null,
   "metadata": {},
   "outputs": [],
   "source": [
    "temp['basement_size'] = np.select(conditions, values)"
   ]
  },
  {
   "cell_type": "code",
   "execution_count": null,
   "metadata": {},
   "outputs": [],
   "source": [
    "temp.head()"
   ]
  },
  {
   "cell_type": "code",
   "execution_count": null,
   "metadata": {},
   "outputs": [],
   "source": [
    "temp.basement_size.value_counts()"
   ]
  },
  {
   "cell_type": "markdown",
   "metadata": {},
   "source": [
    "## NOTE: the dataframe was not updated to show basement tiers or true/false, only a temporary dataframe was used. \n",
    "\n",
    "At this point, I'll add the calc_basement column to the dataframe."
   ]
  },
  {
   "cell_type": "code",
   "execution_count": null,
   "metadata": {},
   "outputs": [],
   "source": [
    "df['calc_basement'] = df['sqft_living'] - df['sqft_above']"
   ]
  },
  {
   "cell_type": "markdown",
   "metadata": {},
   "source": [
    "# Floors"
   ]
  },
  {
   "cell_type": "code",
   "execution_count": null,
   "metadata": {},
   "outputs": [],
   "source": [
    "# Sorts by value\n",
    "df.floors.value_counts(sort=True)"
   ]
  },
  {
   "cell_type": "code",
   "execution_count": null,
   "metadata": {},
   "outputs": [],
   "source": [
    "# Sort by index\n",
    "df.floors.value_counts().sort_index()"
   ]
  },
  {
   "cell_type": "markdown",
   "metadata": {},
   "source": [
    "## Half floors\n",
    "A house that is 1.5 has the master bedroom on the first floor and the other bedrooms on the second floor.  A 2.5 story house has a steep roof line and dormers.  Presumably a 3.5 story house has three floors and then a steep roof and dormer."
   ]
  },
  {
   "cell_type": "code",
   "execution_count": null,
   "metadata": {},
   "outputs": [],
   "source": [
    "df.floors.head(20)"
   ]
  },
  {
   "cell_type": "code",
   "execution_count": null,
   "metadata": {},
   "outputs": [],
   "source": [
    "# Goal to combine floors\n",
    "# if floor is 1.5 rename to 2\n",
    "# if floor is 2.5 or 3.5 rename to 3\n",
    "\n",
    "df.loc[df['floors'] == 1.5, 'floors'] = 2\n",
    "df.loc[df['floors'] == 2.5, 'floors'] = 3\n",
    "df.loc[df['floors'] == 3.5, 'floors'] = 3"
   ]
  },
  {
   "cell_type": "code",
   "execution_count": null,
   "metadata": {},
   "outputs": [],
   "source": [
    "df.floors.value_counts()"
   ]
  },
  {
   "cell_type": "markdown",
   "metadata": {},
   "source": [
    "## Result\n",
    "I could have reused numpy.select() to change the values of 1.5, 2.5 and 3.5, but wanted to use a new technique."
   ]
  },
  {
   "cell_type": "markdown",
   "metadata": {},
   "source": [
    "# Yr_renovated"
   ]
  },
  {
   "cell_type": "code",
   "execution_count": null,
   "metadata": {},
   "outputs": [],
   "source": [
    "df.yr_renovated.value_counts()"
   ]
  },
  {
   "cell_type": "code",
   "execution_count": null,
   "metadata": {},
   "outputs": [],
   "source": [
    "# null values: 3842\n",
    "df.yr_renovated.isna().sum()"
   ]
  },
  {
   "cell_type": "code",
   "execution_count": null,
   "metadata": {},
   "outputs": [],
   "source": [
    "df.yr_renovated.value_counts().nunique()"
   ]
  },
  {
   "cell_type": "code",
   "execution_count": null,
   "metadata": {},
   "outputs": [],
   "source": [
    "# year and null: 4586\n",
    "df[df['yr_renovated'] != 0]"
   ]
  },
  {
   "cell_type": "code",
   "execution_count": null,
   "metadata": {},
   "outputs": [],
   "source": [
    "#null and year renovated + no renovation = total\n",
    "4586+17011"
   ]
  },
  {
   "cell_type": "code",
   "execution_count": null,
   "metadata": {},
   "outputs": [],
   "source": [
    "# total - no renovation - null = number of renovations\n",
    "21597-17011-3842"
   ]
  },
  {
   "cell_type": "code",
   "execution_count": null,
   "metadata": {},
   "outputs": [],
   "source": [
    "# 17% of values are null, too much to drop\n",
    "3842/21597"
   ]
  },
  {
   "cell_type": "code",
   "execution_count": null,
   "metadata": {},
   "outputs": [],
   "source": [
    "# renovation to no-renovation ratio\n",
    "744/17011"
   ]
  },
  {
   "cell_type": "markdown",
   "metadata": {},
   "source": [
    "## Nulls get bundled with values"
   ]
  },
  {
   "cell_type": "code",
   "execution_count": null,
   "metadata": {},
   "outputs": [],
   "source": [
    "# create new column, renovation, true or false value\n",
    "# what will happen with nulls? \n",
    "\n",
    "# df['renovation'] = np.where(df['yr_renovated'] == 0, False, True)"
   ]
  },
  {
   "cell_type": "code",
   "execution_count": null,
   "metadata": {},
   "outputs": [],
   "source": [
    "# df.renovation.value_counts()\n",
    "# Results:\n",
    "# False 17011\n",
    "# True   4586"
   ]
  },
  {
   "cell_type": "code",
   "execution_count": null,
   "metadata": {},
   "outputs": [],
   "source": [
    "# df['renovation'] = np.where(df['yr_renovated'] != 0, True, False)"
   ]
  },
  {
   "cell_type": "code",
   "execution_count": null,
   "metadata": {},
   "outputs": [],
   "source": [
    "# same result as above\n",
    "# df.renovation.value_counts()"
   ]
  },
  {
   "cell_type": "markdown",
   "metadata": {},
   "source": [
    "## The 3842 nulls get switched to 'not 0'"
   ]
  },
  {
   "cell_type": "code",
   "execution_count": null,
   "metadata": {},
   "outputs": [],
   "source": [
    "df['renovation'] = df['yr_renovated'].fillna(pd.Series(np.random.choice([999, 0], \n",
    "                                                      p=[744/17011, 1-(744/17011)], size=len(df))))"
   ]
  },
  {
   "cell_type": "code",
   "execution_count": null,
   "metadata": {},
   "outputs": [],
   "source": [
    "df.head(10)"
   ]
  },
  {
   "cell_type": "code",
   "execution_count": null,
   "metadata": {},
   "outputs": [],
   "source": [
    "df.renovation.value_counts()"
   ]
  },
  {
   "cell_type": "code",
   "execution_count": null,
   "metadata": {},
   "outputs": [],
   "source": [
    "df.renovation.isna().sum()"
   ]
  },
  {
   "cell_type": "code",
   "execution_count": null,
   "metadata": {},
   "outputs": [],
   "source": [
    "round(0.96*3842 + 17011)"
   ]
  },
  {
   "cell_type": "code",
   "execution_count": null,
   "metadata": {},
   "outputs": [],
   "source": [
    "# Removed nulls in the ratio of renovation/non-renovation, now change the column to bool\n",
    "df['renovation'] = np.where(df['renovation'] == 0, False, True)"
   ]
  },
  {
   "cell_type": "code",
   "execution_count": null,
   "metadata": {},
   "outputs": [],
   "source": [
    "df.head(3)"
   ]
  },
  {
   "cell_type": "code",
   "execution_count": null,
   "metadata": {},
   "outputs": [],
   "source": [
    "print(df[['id', 'yr_renovated', 'renovation']].head(6)) "
   ]
  },
  {
   "cell_type": "code",
   "execution_count": null,
   "metadata": {},
   "outputs": [],
   "source": [
    "df.renovation.value_counts()"
   ]
  },
  {
   "cell_type": "markdown",
   "metadata": {},
   "source": [
    "## Result\n",
    "A new column was created, the null values where filled in the correct ratio and then the column values where converted to a bool.\n",
    "\n",
    "https://stackoverflow.com/questions/38934140/fill-missing-values-by-a-ratio-of-other-values-in-pandas"
   ]
  },
  {
   "cell_type": "markdown",
   "metadata": {},
   "source": [
    "# Bedrooms and Bathrooms"
   ]
  },
  {
   "cell_type": "code",
   "execution_count": null,
   "metadata": {},
   "outputs": [],
   "source": [
    "print(\"max\",df.bedrooms.max())\n",
    "print('min',df.bedrooms.min())\n",
    "print(\"null\", df.bedrooms.isna().sum())"
   ]
  },
  {
   "cell_type": "code",
   "execution_count": null,
   "metadata": {},
   "outputs": [],
   "source": [
    "# Fix the 33 bedrooms"
   ]
  },
  {
   "cell_type": "code",
   "execution_count": null,
   "metadata": {},
   "outputs": [],
   "source": [
    "bed_outlier = df.loc[df['bedrooms'] > 10]\n",
    "bath_outlier = df.loc[df['bathrooms'] > 7]\n",
    "print(\"Bedroom outliers: \", bed_outlier)\n",
    "print(\"Bathroom outliers: \", bath_outlier)"
   ]
  },
  {
   "cell_type": "code",
   "execution_count": null,
   "metadata": {},
   "outputs": [],
   "source": [
    "df[\"bedrooms\"].replace({33: 3}, inplace=True)"
   ]
  },
  {
   "cell_type": "code",
   "execution_count": null,
   "metadata": {},
   "outputs": [],
   "source": [
    "df.bedrooms.median()"
   ]
  },
  {
   "cell_type": "markdown",
   "metadata": {},
   "source": [
    "## Conclusions\n",
    "Although 11 seems like a large number of bedrooms, it may be an old Victorian.  Additionally, some houses had a large number of bathrooms and that may be intentional for rental income.  Therefore, the only change made was to change the house with 33 bedrooms to 3.  Another option would have been to replace with the median number of bedrooms, which happens to be 3 too."
   ]
  },
  {
   "cell_type": "markdown",
   "metadata": {},
   "source": [
    "# Zipcodes"
   ]
  },
  {
   "cell_type": "code",
   "execution_count": null,
   "metadata": {},
   "outputs": [],
   "source": [
    "# 70 zipcodes\n",
    "df.zipcode.value_counts()"
   ]
  },
  {
   "cell_type": "code",
   "execution_count": null,
   "metadata": {},
   "outputs": [],
   "source": [
    "df.groupby(['zipcode'])['price'].mean().sort_values().plot(kind='barh', figsize=(15,15))\n",
    "plt.title('Mean prices of homes sold in Kings County zipcodes')\n",
    "plt.xlabel(\"Mean prices of homes\")\n"
   ]
  },
  {
   "cell_type": "code",
   "execution_count": null,
   "metadata": {},
   "outputs": [],
   "source": [
    "df.head(2)"
   ]
  },
  {
   "cell_type": "code",
   "execution_count": null,
   "metadata": {},
   "outputs": [],
   "source": [
    "# df.waterfront.isna()\n",
    "df.iloc[13253:13255]"
   ]
  },
  {
   "cell_type": "code",
   "execution_count": null,
   "metadata": {},
   "outputs": [],
   "source": [
    "df[df['zipcode'] == 98039]"
   ]
  },
  {
   "cell_type": "code",
   "execution_count": null,
   "metadata": {},
   "outputs": [],
   "source": [
    "# https://towardsdatascience.com/geopandas-101-plot-any-data-with-a-latitude-and-longitude-on-a-map-98e01944b972"
   ]
  },
  {
   "cell_type": "code",
   "execution_count": null,
   "metadata": {},
   "outputs": [],
   "source": []
  }
 ],
 "metadata": {
  "kernelspec": {
   "display_name": "Python [conda env:learn-env] *",
   "language": "python",
   "name": "conda-env-learn-env-py"
  },
  "toc": {
   "base_numbering": 1,
   "nav_menu": {},
   "number_sections": true,
   "sideBar": true,
   "skip_h1_title": false,
   "title_cell": "Table of Contents",
   "title_sidebar": "Contents",
   "toc_cell": true,
   "toc_position": {},
   "toc_section_display": true,
   "toc_window_display": false
  },
  "varInspector": {
   "cols": {
    "lenName": 16,
    "lenType": 16,
    "lenVar": 40
   },
   "kernels_config": {
    "python": {
     "delete_cmd_postfix": "",
     "delete_cmd_prefix": "del ",
     "library": "var_list.py",
     "varRefreshCmd": "print(var_dic_list())"
    },
    "r": {
     "delete_cmd_postfix": ") ",
     "delete_cmd_prefix": "rm(",
     "library": "var_list.r",
     "varRefreshCmd": "cat(var_dic_list()) "
    }
   },
   "types_to_exclude": [
    "module",
    "function",
    "builtin_function_or_method",
    "instance",
    "_Feature"
   ],
   "window_display": false
  }
 },
 "nbformat": 4,
 "nbformat_minor": 2
}
