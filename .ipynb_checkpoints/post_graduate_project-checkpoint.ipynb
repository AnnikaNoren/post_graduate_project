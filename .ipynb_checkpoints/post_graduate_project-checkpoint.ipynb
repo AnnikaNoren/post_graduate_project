{
 "cells": [
  {
   "cell_type": "markdown",
   "metadata": {
    "toc": true
   },
   "source": [
    "<h1>Table of Contents<span class=\"tocSkip\"></span></h1>\n",
    "<div class=\"toc\"><ul class=\"toc-item\"><li><span><a href=\"#Libraries\" data-toc-modified-id=\"Libraries-1\"><span class=\"toc-item-num\">1&nbsp;&nbsp;</span>Libraries</a></span></li><li><span><a href=\"#Coding-question:-fumbled-and-the-re-do\" data-toc-modified-id=\"Coding-question:-fumbled-and-the-re-do-2\"><span class=\"toc-item-num\">2&nbsp;&nbsp;</span>Coding question: fumbled and the re-do</a></span></li><li><span><a href=\"#Python-interview-questions\" data-toc-modified-id=\"Python-interview-questions-3\"><span class=\"toc-item-num\">3&nbsp;&nbsp;</span>Python interview questions</a></span><ul class=\"toc-item\"><li><span><a href=\"#Reverse-the-string\" data-toc-modified-id=\"Reverse-the-string-3.1\"><span class=\"toc-item-num\">3.1&nbsp;&nbsp;</span>Reverse the string</a></span></li><li><span><a href=\"#Identify-a-palindrome\" data-toc-modified-id=\"Identify-a-palindrome-3.2\"><span class=\"toc-item-num\">3.2&nbsp;&nbsp;</span>Identify a palindrome</a></span></li><li><span><a href=\"#Identify-palindromes-in-a-text-string\" data-toc-modified-id=\"Identify-palindromes-in-a-text-string-3.3\"><span class=\"toc-item-num\">3.3&nbsp;&nbsp;</span>Identify palindromes in a text string</a></span></li><li><span><a href=\"#Fizz-Buzz-problem\" data-toc-modified-id=\"Fizz-Buzz-problem-3.4\"><span class=\"toc-item-num\">3.4&nbsp;&nbsp;</span>Fizz Buzz problem</a></span></li><li><span><a href=\"#Dissecting-answer-from-Medium\" data-toc-modified-id=\"Dissecting-answer-from-Medium-3.5\"><span class=\"toc-item-num\">3.5&nbsp;&nbsp;</span>Dissecting answer from Medium</a></span></li><li><span><a href=\"#First-duplicate-word\" data-toc-modified-id=\"First-duplicate-word-3.6\"><span class=\"toc-item-num\">3.6&nbsp;&nbsp;</span>First duplicate word</a></span></li><li><span><a href=\"#What-if-we-wanted-to-find-the-first-word-with-more-than-2-duplicates-in-a-string?\" data-toc-modified-id=\"What-if-we-wanted-to-find-the-first-word-with-more-than-2-duplicates-in-a-string?-3.7\"><span class=\"toc-item-num\">3.7&nbsp;&nbsp;</span>What if we wanted to find the first word with more than 2 duplicates in a string?</a></span></li></ul></li><li><span><a href=\"#Quickfire\" data-toc-modified-id=\"Quickfire-4\"><span class=\"toc-item-num\">4&nbsp;&nbsp;</span>Quickfire</a></span><ul class=\"toc-item\"><li><span><a href=\"#Replicate-the-sum-for-any-number-of-variables\" data-toc-modified-id=\"Replicate-the-sum-for-any-number-of-variables-4.1\"><span class=\"toc-item-num\">4.1&nbsp;&nbsp;</span>Replicate the sum for any number of variables</a></span></li></ul></li><li><span><a href=\"#Recursion\" data-toc-modified-id=\"Recursion-5\"><span class=\"toc-item-num\">5&nbsp;&nbsp;</span>Recursion</a></span><ul class=\"toc-item\"><li><span><a href=\"#Factorial\" data-toc-modified-id=\"Factorial-5.1\"><span class=\"toc-item-num\">5.1&nbsp;&nbsp;</span>Factorial</a></span></li><li><span><a href=\"#Fibonacci-Sequence\" data-toc-modified-id=\"Fibonacci-Sequence-5.2\"><span class=\"toc-item-num\">5.2&nbsp;&nbsp;</span>Fibonacci Sequence</a></span></li><li><span><a href=\"#Write-a-Python-program-to-get-the-sum-of-a-non-negative-integer.\" data-toc-modified-id=\"Write-a-Python-program-to-get-the-sum-of-a-non-negative-integer.-5.3\"><span class=\"toc-item-num\">5.3&nbsp;&nbsp;</span>Write a Python program to get the sum of a non-negative integer.</a></span><ul class=\"toc-item\"><li><span><a href=\"#Redo-using-recursion\" data-toc-modified-id=\"Redo-using-recursion-5.3.1\"><span class=\"toc-item-num\">5.3.1&nbsp;&nbsp;</span>Redo using recursion</a></span></li></ul></li><li><span><a href=\"#Write-a-Python-program-to-calculate-the-sum-of-the-positive-integers-of-n+(n-2)+(n-4)...-(until-n-x-=<-0).\" data-toc-modified-id=\"Write-a-Python-program-to-calculate-the-sum-of-the-positive-integers-of-n+(n-2)+(n-4)...-(until-n-x-=<-0).-5.4\"><span class=\"toc-item-num\">5.4&nbsp;&nbsp;</span>Write a Python program to calculate the sum of the positive integers of n+(n-2)+(n-4)... (until n-x =&lt; 0).</a></span></li><li><span><a href=\"#Write-a-Python-program-to-calculate-the-harmonic-sum-of-n-1.\" data-toc-modified-id=\"Write-a-Python-program-to-calculate-the-harmonic-sum-of-n-1.-5.5\"><span class=\"toc-item-num\">5.5&nbsp;&nbsp;</span>Write a Python program to calculate the harmonic sum of n-1.</a></span></li><li><span><a href=\"#Find-the-GCF-of-2-numbers\" data-toc-modified-id=\"Find-the-GCF-of-2-numbers-5.6\"><span class=\"toc-item-num\">5.6&nbsp;&nbsp;</span>Find the GCF of 2 numbers</a></span></li><li><span><a href=\"#Use-*-args\" data-toc-modified-id=\"Use-*-args-5.7\"><span class=\"toc-item-num\">5.7&nbsp;&nbsp;</span>Use * args</a></span></li></ul></li><li><span><a href=\"#Question-Marks\" data-toc-modified-id=\"Question-Marks-6\"><span class=\"toc-item-num\">6&nbsp;&nbsp;</span>Question Marks</a></span><ul class=\"toc-item\"><li><span><a href=\"#Qlogin's-solution\" data-toc-modified-id=\"Qlogin's-solution-6.1\"><span class=\"toc-item-num\">6.1&nbsp;&nbsp;</span>Qlogin's solution</a></span></li><li><span><a href=\"#Refactoring\" data-toc-modified-id=\"Refactoring-6.2\"><span class=\"toc-item-num\">6.2&nbsp;&nbsp;</span>Refactoring</a></span></li><li><span><a href=\"#Unused-code-for-QM-code-challenge\" data-toc-modified-id=\"Unused-code-for-QM-code-challenge-6.3\"><span class=\"toc-item-num\">6.3&nbsp;&nbsp;</span>Unused code for QM code challenge</a></span></li></ul></li><li><span><a href=\"#Bracket-Matcher-Code-Challenge\" data-toc-modified-id=\"Bracket-Matcher-Code-Challenge-7\"><span class=\"toc-item-num\">7&nbsp;&nbsp;</span>Bracket Matcher Code Challenge</a></span></li><li><span><a href=\"#Walrus-Operator\" data-toc-modified-id=\"Walrus-Operator-8\"><span class=\"toc-item-num\">8&nbsp;&nbsp;</span>Walrus Operator</a></span></li></ul></div>"
   ]
  },
  {
   "cell_type": "markdown",
   "metadata": {},
   "source": [
    "## Libraries"
   ]
  },
  {
   "cell_type": "code",
   "execution_count": null,
   "metadata": {},
   "outputs": [],
   "source": [
    "import time"
   ]
  },
  {
   "cell_type": "markdown",
   "metadata": {},
   "source": [
    "## Coding question: fumbled and the re-do"
   ]
  },
  {
   "cell_type": "code",
   "execution_count": null,
   "metadata": {},
   "outputs": [],
   "source": [
    "a = [1,2,3,3,4,5,5]"
   ]
  },
  {
   "cell_type": "code",
   "execution_count": null,
   "metadata": {},
   "outputs": [],
   "source": [
    "numbers = []\n",
    "duplicates = []"
   ]
  },
  {
   "cell_type": "code",
   "execution_count": null,
   "metadata": {},
   "outputs": [],
   "source": [
    "for i in a:\n",
    "    if i in numbers:\n",
    "        duplicates.append(i)\n",
    "    else:\n",
    "        numbers.append(i)\n",
    "\n"
   ]
  },
  {
   "cell_type": "code",
   "execution_count": null,
   "metadata": {},
   "outputs": [],
   "source": [
    "print(\"duplicates\", duplicates)\n",
    "print(\"numbers\", numbers)"
   ]
  },
  {
   "cell_type": "markdown",
   "metadata": {},
   "source": [
    "## Python interview questions\n"
   ]
  },
  {
   "cell_type": "markdown",
   "metadata": {},
   "source": [
    "### Reverse the string"
   ]
  },
  {
   "cell_type": "code",
   "execution_count": null,
   "metadata": {},
   "outputs": [],
   "source": [
    "a = \"the fox jumps over the lazy dog\""
   ]
  },
  {
   "cell_type": "code",
   "execution_count": null,
   "metadata": {},
   "outputs": [],
   "source": [
    "print(a[-1])"
   ]
  },
  {
   "cell_type": "code",
   "execution_count": null,
   "metadata": {},
   "outputs": [],
   "source": [
    "print(a[::-1])"
   ]
  },
  {
   "cell_type": "markdown",
   "metadata": {},
   "source": [
    "### Identify a palindrome"
   ]
  },
  {
   "cell_type": "code",
   "execution_count": null,
   "metadata": {},
   "outputs": [],
   "source": [
    "b = \"Lol, this is a gag, I didn't laugh so hard in a long time\""
   ]
  },
  {
   "cell_type": "code",
   "execution_count": null,
   "metadata": {},
   "outputs": [],
   "source": [
    "c = \"hi\"\n",
    "d = \"hannah\""
   ]
  },
  {
   "cell_type": "code",
   "execution_count": null,
   "metadata": {},
   "outputs": [],
   "source": [
    "# look at a word and see if it is the same back and forward"
   ]
  },
  {
   "cell_type": "code",
   "execution_count": null,
   "metadata": {},
   "outputs": [],
   "source": [
    "def is_it_palindrome(word):\n",
    "    if word == word[::-1]:\n",
    "        print(\"Yes! {} is a palindrome\".format(word))\n",
    "    else:\n",
    "        pass"
   ]
  },
  {
   "cell_type": "code",
   "execution_count": null,
   "metadata": {},
   "outputs": [],
   "source": [
    "is_it_palindrome(c)\n",
    "is_it_palindrome(d)"
   ]
  },
  {
   "cell_type": "markdown",
   "metadata": {},
   "source": [
    "### Identify palindromes in a text string"
   ]
  },
  {
   "cell_type": "code",
   "execution_count": null,
   "metadata": {},
   "outputs": [],
   "source": [
    "# replaced all commas, should be all puncuation\n",
    "# split a text string into words and print out individually"
   ]
  },
  {
   "cell_type": "code",
   "execution_count": null,
   "metadata": {},
   "outputs": [],
   "source": [
    "def split_text_string(text):\n",
    "    words = text.replace(\",\", \"\")\n",
    "    words = words.split(' ')\n",
    "    print(words)"
   ]
  },
  {
   "cell_type": "code",
   "execution_count": null,
   "metadata": {},
   "outputs": [],
   "source": [
    "split_text_string(b)"
   ]
  },
  {
   "cell_type": "code",
   "execution_count": null,
   "metadata": {},
   "outputs": [],
   "source": [
    "def identify_palindromes(text):\n",
    "    words = text.replace(\",\", \"\")\n",
    "    words = words.lower()\n",
    "    words = words.split(' ')\n",
    "\n",
    "    for i in words:\n",
    "        if len(i) >1:\n",
    "            is_it_palindrome(i)\n",
    "        else:\n",
    "            pass"
   ]
  },
  {
   "cell_type": "code",
   "execution_count": null,
   "metadata": {},
   "outputs": [],
   "source": [
    "identify_palindromes(b)"
   ]
  },
  {
   "cell_type": "markdown",
   "metadata": {},
   "source": [
    "### Fizz Buzz problem\n",
    "Write a program that prints the number for 1 to 50, for number multiple of 2 print fizz instead of a number, for numbers multiple of 3 print buzz, for numbers which are multiple of both 2 and 3 fizzbuzz."
   ]
  },
  {
   "cell_type": "code",
   "execution_count": null,
   "metadata": {},
   "outputs": [],
   "source": [
    "for i in range(1,50):\n",
    "    if (i % 6) ==0 :\n",
    "        print(\"fizzbuzz\", i)\n",
    "    elif (i % 3) == 0:\n",
    "        print(\"buzz\",i)\n",
    "    elif (i % 2) == 0:\n",
    "        print(\"fizz\", i)\n",
    "    else:\n",
    "        pass"
   ]
  },
  {
   "cell_type": "code",
   "execution_count": null,
   "metadata": {},
   "outputs": [],
   "source": [
    "i  = 1\n",
    "\n",
    "while i < 50:\n",
    "    if (i % 6) ==0 :\n",
    "        print(\"fizzbuzz\", i)\n",
    "    elif (i % 3) == 0:\n",
    "        print(\"buzz\",i)\n",
    "    elif (i % 2) == 0:\n",
    "        print(\"fizz\", i)\n",
    "    else:\n",
    "        pass\n",
    "    i += 1"
   ]
  },
  {
   "cell_type": "markdown",
   "metadata": {},
   "source": [
    "### Dissecting answer from Medium\n",
    "https://medium.com/analytics-and-data/python-screening-interview-question-for-datascientists-805614fa4db8"
   ]
  },
  {
   "cell_type": "code",
   "execution_count": null,
   "metadata": {},
   "outputs": [],
   "source": [
    "# original answer\n",
    "\n",
    "def fizzbuzzfn(num) -> str:\n",
    "    mod_2 = (num % 2 == 0) \n",
    "    mod_3 = (num % 3 == 0)\n",
    "    if (mod_2 or mod_3):\n",
    "        return (mod_2 * 'Fizz') + (mod_3 * 'Buzz')\n",
    "    return str(num)\n",
    "print('\\n'.join([fizzbuzzfn(x) for x in range(1,11)]))"
   ]
  },
  {
   "cell_type": "markdown",
   "metadata": {},
   "source": [
    "Function annotations are arbitrary python expressions that are associated with various part of functions. These expressions are evaluated at compile time and have no life in python’s runtime environment. Python does not attach any meaning to these annotations. They take life when interpreted by third party libraries, for example, mypy."
   ]
  },
  {
   "cell_type": "code",
   "execution_count": null,
   "metadata": {},
   "outputs": [],
   "source": [
    "temp = (5 % 2 == 0)\n",
    "print(temp)"
   ]
  },
  {
   "cell_type": "code",
   "execution_count": null,
   "metadata": {},
   "outputs": [],
   "source": [
    "True * \"buzz\""
   ]
  },
  {
   "cell_type": "code",
   "execution_count": null,
   "metadata": {},
   "outputs": [],
   "source": [
    "True * 'Fizz' + False * 'Buzz'"
   ]
  },
  {
   "cell_type": "code",
   "execution_count": null,
   "metadata": {},
   "outputs": [],
   "source": [
    "True * 'Fizz' + True * 'Buzz'"
   ]
  },
  {
   "cell_type": "code",
   "execution_count": null,
   "metadata": {},
   "outputs": [],
   "source": [
    "print(\"A\",'\\n',\"B\",'\\n','C')"
   ]
  },
  {
   "cell_type": "code",
   "execution_count": null,
   "metadata": {},
   "outputs": [],
   "source": [
    "list = ['a','b','c']\n",
    "'-'.join(list)        "
   ]
  },
  {
   "cell_type": "code",
   "execution_count": null,
   "metadata": {},
   "outputs": [],
   "source": [
    "list = ['a','b','c']\n",
    "'-'.join([str(x) for x in list])"
   ]
  },
  {
   "cell_type": "code",
   "execution_count": null,
   "metadata": {},
   "outputs": [],
   "source": [
    "'-'.join([str(x) for x in range(1,5)])"
   ]
  },
  {
   "cell_type": "code",
   "execution_count": null,
   "metadata": {},
   "outputs": [],
   "source": [
    "def add_1(num):\n",
    "    return str(num+1) # doesn't work without str"
   ]
  },
  {
   "cell_type": "code",
   "execution_count": null,
   "metadata": {},
   "outputs": [],
   "source": [
    "'-'.join(add_1(x) for x in range(1,5))"
   ]
  },
  {
   "cell_type": "code",
   "execution_count": null,
   "metadata": {},
   "outputs": [],
   "source": [
    "'\\n'.join(add_1(x) for x in range(1,5))"
   ]
  },
  {
   "cell_type": "code",
   "execution_count": null,
   "metadata": {},
   "outputs": [],
   "source": [
    "print('\\n'.join(add_1(x) for x in range(1,5)))"
   ]
  },
  {
   "cell_type": "code",
   "execution_count": null,
   "metadata": {},
   "outputs": [],
   "source": [
    "list = (add_1(x) for x in range(1,5))"
   ]
  },
  {
   "cell_type": "code",
   "execution_count": null,
   "metadata": {},
   "outputs": [],
   "source": [
    "nums = [1,2,3,4,5]\n",
    "list = [add_1(x) for x in nums]\n",
    "print(list)"
   ]
  },
  {
   "cell_type": "code",
   "execution_count": null,
   "metadata": {},
   "outputs": [],
   "source": [
    "list = [add_1(x) for x in [1,2,3,4,5]]\n",
    "print(list)"
   ]
  },
  {
   "cell_type": "code",
   "execution_count": null,
   "metadata": {},
   "outputs": [],
   "source": [
    "list = ([fizzbuzzfn(x) for x in range(1,11)])\n",
    "print(list)"
   ]
  },
  {
   "cell_type": "code",
   "execution_count": null,
   "metadata": {},
   "outputs": [],
   "source": [
    "list = ('-'.join([fizzbuzzfn(x) for x in range(1,11)]))\n",
    "print(list)"
   ]
  },
  {
   "cell_type": "code",
   "execution_count": null,
   "metadata": {},
   "outputs": [],
   "source": [
    "def fizzbuzzfn(num):\n",
    "    mod_2 = (num % 2 == 0) # if a number is divisible by 2, returns true\n",
    "    mod_3 = (num % 3 == 0) # if a number is divisible by 3, returns true\n",
    "    if (mod_2 or mod_3): # if True or True\n",
    "        return (mod_2 * 'Fizz') + (mod_3 * 'Buzz') # if both true, fizzbuzz prints else only fizz or buzz\n",
    "    return str(num) # the statement after a return aren not executed, which is why 2, 3, 4 are not printed\n",
    "\n",
    "print('\\n'.join([fizzbuzzfn(x) for x in range(1,11)])) #use join to add new line with list comprehension "
   ]
  },
  {
   "cell_type": "markdown",
   "metadata": {},
   "source": [
    "### First duplicate word"
   ]
  },
  {
   "cell_type": "code",
   "execution_count": null,
   "metadata": {},
   "outputs": [],
   "source": [
    "a = \"this is just a wonder, wonder why do I have this in mind\""
   ]
  },
  {
   "cell_type": "code",
   "execution_count": null,
   "metadata": {},
   "outputs": [],
   "source": [
    "def duplicate_words(text):\n",
    "    text = text.replace(\",\",\"\").lower()\n",
    "    text = text.split(\" \")\n",
    "    \n",
    "    words = []\n",
    "\n",
    "    for word in text:\n",
    "        if word in words:\n",
    "            print(\"the first duplicate word is {}\".format(word))\n",
    "            break\n",
    "        else:\n",
    "            words.append(word)"
   ]
  },
  {
   "cell_type": "code",
   "execution_count": null,
   "metadata": {},
   "outputs": [],
   "source": [
    "duplicate_words(a)"
   ]
  },
  {
   "cell_type": "markdown",
   "metadata": {},
   "source": [
    "### What if we wanted to find the first word with more than 2 duplicates in a string?"
   ]
  },
  {
   "cell_type": "code",
   "execution_count": null,
   "metadata": {},
   "outputs": [],
   "source": [
    "a = \"this this is just is a wonder, wonder why do I have this in mind. This is all that matters wonder.\""
   ]
  },
  {
   "cell_type": "code",
   "execution_count": null,
   "metadata": {},
   "outputs": [],
   "source": [
    "def first_multi_duplicate_words(text):\n",
    "    text = text.replace(\",\",\"\").lower()\n",
    "    text = text.split(\" \")\n",
    "    \n",
    "    words = []\n",
    "    counter = 0\n",
    "\n",
    "    for word in text:\n",
    "        while counter <=2:\n",
    "            if word in words:\n",
    "                counter += 1\n",
    "                super_word = word\n",
    "            else:\n",
    "                words.append(word)\n",
    "    print(\"The first word with more than 2 duplicates is {}\".format(super_word.upper()))"
   ]
  },
  {
   "cell_type": "code",
   "execution_count": null,
   "metadata": {},
   "outputs": [],
   "source": [
    "first_multi_duplicate_words(a)"
   ]
  },
  {
   "cell_type": "markdown",
   "metadata": {},
   "source": [
    "## Quickfire "
   ]
  },
  {
   "cell_type": "markdown",
   "metadata": {},
   "source": [
    "### Replicate the sum for any number of variables"
   ]
  },
  {
   "cell_type": "code",
   "execution_count": null,
   "metadata": {},
   "outputs": [],
   "source": [
    "a = [1,2,3,4,5,6]\n",
    "print(type(a))"
   ]
  },
  {
   "cell_type": "code",
   "execution_count": null,
   "metadata": {},
   "outputs": [],
   "source": [
    "b = ['1','2','3']\n",
    "print(type(b))"
   ]
  },
  {
   "cell_type": "code",
   "execution_count": null,
   "metadata": {},
   "outputs": [],
   "source": [
    "def summation(nums):\n",
    "    val = 0\n",
    "    for i in nums:\n",
    "        val += i\n",
    "    return val"
   ]
  },
  {
   "cell_type": "code",
   "execution_count": null,
   "metadata": {},
   "outputs": [],
   "source": [
    "summation(a)"
   ]
  },
  {
   "cell_type": "code",
   "execution_count": null,
   "metadata": {},
   "outputs": [],
   "source": [
    "def summer(*args):\n",
    "    val = 0\n",
    "    for arg in args:\n",
    "        val += arg\n",
    "    return val"
   ]
  },
  {
   "cell_type": "code",
   "execution_count": null,
   "metadata": {},
   "outputs": [],
   "source": [
    "# passing in the list a and b does not work\n",
    "summer(1,2,3,4,5)"
   ]
  },
  {
   "cell_type": "code",
   "execution_count": null,
   "metadata": {},
   "outputs": [],
   "source": [
    "# def myFun(*argv):  \n",
    "#     for arg in argv:  \n",
    "#         print (arg) \n",
    "    \n",
    "# myFun('Hello', 'Welcome', 'to', 'GeeksforGeeks') "
   ]
  },
  {
   "cell_type": "markdown",
   "metadata": {},
   "source": [
    "## Recursion"
   ]
  },
  {
   "cell_type": "markdown",
   "metadata": {},
   "source": [
    "### Factorial"
   ]
  },
  {
   "cell_type": "code",
   "execution_count": null,
   "metadata": {},
   "outputs": [],
   "source": [
    "# Recursion review\n",
    "\n",
    "def factorial(n):\n",
    "    while n != 0:\n",
    "        if n == 1:\n",
    "            return 1\n",
    "        return n * factorial(n-1)"
   ]
  },
  {
   "cell_type": "code",
   "execution_count": null,
   "metadata": {},
   "outputs": [],
   "source": [
    "factorial(0)"
   ]
  },
  {
   "cell_type": "code",
   "execution_count": null,
   "metadata": {},
   "outputs": [],
   "source": [
    "factorial(5)"
   ]
  },
  {
   "cell_type": "code",
   "execution_count": null,
   "metadata": {},
   "outputs": [],
   "source": [
    "factorial(1)"
   ]
  },
  {
   "cell_type": "code",
   "execution_count": null,
   "metadata": {},
   "outputs": [],
   "source": [
    "def nonrec_factorial(n):\n",
    "    result = 1\n",
    "    for i in range(1,n+1):\n",
    "        result = result * i\n",
    "    return(result)"
   ]
  },
  {
   "cell_type": "code",
   "execution_count": null,
   "metadata": {},
   "outputs": [],
   "source": [
    "nonrec_factorial(5)"
   ]
  },
  {
   "cell_type": "code",
   "execution_count": null,
   "metadata": {},
   "outputs": [],
   "source": [
    "nonrec_factorial(1)"
   ]
  },
  {
   "cell_type": "markdown",
   "metadata": {},
   "source": [
    "### Fibonacci Sequence\n",
    "\n",
    "0, 1, 1, 2, 3, 5, 8, 13, 21, 34, 55, 89\n",
    "recursion:0+1 = 1 + 1= 2 + 1 = 3 + 2 = 5"
   ]
  },
  {
   "cell_type": "code",
   "execution_count": null,
   "metadata": {},
   "outputs": [],
   "source": [
    "def fib(n):\n",
    "    if n <= 1:\n",
    "        return n\n",
    "    return (fib(n-1) + fib(n-2))"
   ]
  },
  {
   "cell_type": "code",
   "execution_count": null,
   "metadata": {},
   "outputs": [],
   "source": [
    "def F(n):\n",
    "    if n == 0: \n",
    "        return 0\n",
    "    elif n == 1: \n",
    "        return 1\n",
    "    return F(n-1)+F(n-2)"
   ]
  },
  {
   "cell_type": "code",
   "execution_count": null,
   "metadata": {},
   "outputs": [],
   "source": [
    "F(0)"
   ]
  },
  {
   "cell_type": "code",
   "execution_count": null,
   "metadata": {},
   "outputs": [],
   "source": [
    "F(1)"
   ]
  },
  {
   "cell_type": "code",
   "execution_count": null,
   "metadata": {},
   "outputs": [],
   "source": [
    "F(2)"
   ]
  },
  {
   "cell_type": "code",
   "execution_count": null,
   "metadata": {},
   "outputs": [],
   "source": [
    "F(3)"
   ]
  },
  {
   "cell_type": "code",
   "execution_count": null,
   "metadata": {},
   "outputs": [],
   "source": [
    "F(4)"
   ]
  },
  {
   "cell_type": "markdown",
   "metadata": {},
   "source": [
    "### Write a Python program to get the sum of a non-negative integer.\n",
    "sum of 345 is 12"
   ]
  },
  {
   "cell_type": "code",
   "execution_count": null,
   "metadata": {},
   "outputs": [],
   "source": [
    "num = 345"
   ]
  },
  {
   "cell_type": "code",
   "execution_count": null,
   "metadata": {},
   "outputs": [],
   "source": [
    "len(num)"
   ]
  },
  {
   "cell_type": "code",
   "execution_count": null,
   "metadata": {},
   "outputs": [],
   "source": [
    "num = str(num)\n",
    "type(num)"
   ]
  },
  {
   "cell_type": "code",
   "execution_count": null,
   "metadata": {},
   "outputs": [],
   "source": [
    "len(num)"
   ]
  },
  {
   "cell_type": "code",
   "execution_count": null,
   "metadata": {},
   "outputs": [],
   "source": [
    "num[0]"
   ]
  },
  {
   "cell_type": "code",
   "execution_count": null,
   "metadata": {},
   "outputs": [],
   "source": [
    "# 8 lines\n",
    "\n",
    "def int_sum(num):\n",
    "    start = time.time()\n",
    "    num = str(num)\n",
    "    length = len(num)\n",
    "    adder = 0\n",
    "    \n",
    "    for i in range(length):\n",
    "        i = int(num[i])\n",
    "        adder += i\n",
    "    end = time.time()\n",
    "    print(\"The sum of the non-negative ints is: \", adder, \"time: \", end-start)"
   ]
  },
  {
   "cell_type": "code",
   "execution_count": null,
   "metadata": {},
   "outputs": [],
   "source": [
    "int_sum(1605)"
   ]
  },
  {
   "cell_type": "markdown",
   "metadata": {},
   "source": [
    "#### Redo using recursion"
   ]
  },
  {
   "cell_type": "code",
   "execution_count": null,
   "metadata": {},
   "outputs": [],
   "source": [
    "num = 341\n",
    "num2 = str(num)\n",
    "n = len(num2)\n",
    "print(n)\n",
    "print(num2[0])"
   ]
  },
  {
   "cell_type": "code",
   "execution_count": null,
   "metadata": {},
   "outputs": [],
   "source": [
    "# def int_sum2(num):\n",
    "#     temp = str(num)\n",
    "#     n = len(num)\n",
    "    \n",
    "#     if n == 0:\n",
    "#         return 0\n",
    "    \n",
    "#     print(int(num[0]) + int(num[1]) + int(num[2]))\n",
    "    \n",
    "# #     return num[n] + intsum2[n-1]\n",
    "    \n",
    "# 5 lines\n",
    "\n",
    "def sumDigits(n):\n",
    "    print(\"top\", n)\n",
    "    if n == 0:\n",
    "        return 0\n",
    "    else:\n",
    "        print (\"new n is \", int(n/10), \"\\n\")\n",
    "        return n % 10 + sumDigits(int(n / 10))"
   ]
  },
  {
   "cell_type": "code",
   "execution_count": null,
   "metadata": {},
   "outputs": [],
   "source": [
    "341 % 10"
   ]
  },
  {
   "cell_type": "code",
   "execution_count": null,
   "metadata": {},
   "outputs": [],
   "source": [
    "int(34/10)"
   ]
  },
  {
   "cell_type": "code",
   "execution_count": null,
   "metadata": {},
   "outputs": [],
   "source": [
    "sumDigits(341)"
   ]
  },
  {
   "cell_type": "markdown",
   "metadata": {},
   "source": [
    "### Write a Python program to calculate the sum of the positive integers of n+(n-2)+(n-4)... (until n-x =< 0)."
   ]
  },
  {
   "cell_type": "code",
   "execution_count": null,
   "metadata": {},
   "outputs": [],
   "source": [
    "def sumDigits2(n):\n",
    "\n",
    "    if n == 0:\n",
    "        return 0\n",
    "    else:\n",
    "        return n + sumDigits2(int(n - 2))"
   ]
  },
  {
   "cell_type": "code",
   "execution_count": null,
   "metadata": {},
   "outputs": [],
   "source": [
    "sumDigits2(10)"
   ]
  },
  {
   "cell_type": "markdown",
   "metadata": {},
   "source": [
    "### Write a Python program to calculate the harmonic sum of n-1. \n",
    "The harmonic sum is the sum of reciprocals of the positive integers. 1 + 1/2 + 1/3 + ..."
   ]
  },
  {
   "cell_type": "code",
   "execution_count": null,
   "metadata": {},
   "outputs": [],
   "source": [
    "def sumHarmonics(n):\n",
    "\n",
    "    if n == 0:\n",
    "        return 0\n",
    "    else:\n",
    "        return ( 1/n  + sumHarmonics (n - 1))"
   ]
  },
  {
   "cell_type": "code",
   "execution_count": null,
   "metadata": {},
   "outputs": [],
   "source": [
    "sumHarmonics(5)"
   ]
  },
  {
   "cell_type": "code",
   "execution_count": null,
   "metadata": {},
   "outputs": [],
   "source": [
    "1 + 1/2 + 1/3 + 1/4 + 1/5"
   ]
  },
  {
   "cell_type": "code",
   "execution_count": null,
   "metadata": {},
   "outputs": [],
   "source": [
    "sumHarmonics(1000)"
   ]
  },
  {
   "cell_type": "markdown",
   "metadata": {},
   "source": [
    "### Find the GCF of 2 numbers"
   ]
  },
  {
   "cell_type": "code",
   "execution_count": null,
   "metadata": {},
   "outputs": [],
   "source": [
    "nums = (16,12)"
   ]
  },
  {
   "cell_type": "code",
   "execution_count": null,
   "metadata": {},
   "outputs": [],
   "source": [
    "a = min(nums)\n",
    "print(a)"
   ]
  },
  {
   "cell_type": "code",
   "execution_count": null,
   "metadata": {},
   "outputs": [],
   "source": [
    "b = max(nums)\n",
    "print(b)"
   ]
  },
  {
   "cell_type": "code",
   "execution_count": null,
   "metadata": {},
   "outputs": [],
   "source": [
    "def greatestCommonFactor(nums):\n",
    "    small = min(nums)\n",
    "    large = max(nums)\n",
    "    factors = []\n",
    "    \n",
    "    for i in reversed(range(1, small + 1)):\n",
    "        if small % i == 0:\n",
    "            factor = small / i\n",
    "            if large % factor == 0:\n",
    "                factors.append(factor)\n",
    "     \n",
    "    print(\"The GCF of {} and {} is {}.\".format(small, large, int(max(factors))) )     "
   ]
  },
  {
   "cell_type": "code",
   "execution_count": null,
   "metadata": {},
   "outputs": [],
   "source": [
    "greatestCommonFactor(nums)"
   ]
  },
  {
   "cell_type": "code",
   "execution_count": null,
   "metadata": {},
   "outputs": [],
   "source": [
    "nums2=(30,15)\n",
    "greatestCommonFactor(nums2)"
   ]
  },
  {
   "cell_type": "code",
   "execution_count": null,
   "metadata": {},
   "outputs": [],
   "source": [
    "# Python Data Stuctures\n",
    "def Recurgcd(a, b):\n",
    "    low = min(a, b)\n",
    "    high = max(a, b)\n",
    "\n",
    "    if low == 0:\n",
    "        return high\n",
    "    elif low == 1:\n",
    "        return 1\n",
    "    else:\n",
    "        return Recurgcd(low, high%low)"
   ]
  },
  {
   "cell_type": "code",
   "execution_count": null,
   "metadata": {},
   "outputs": [],
   "source": [
    "Recurgcd(12,14)"
   ]
  },
  {
   "cell_type": "code",
   "execution_count": null,
   "metadata": {},
   "outputs": [],
   "source": [
    "Recurgcd(30,15)"
   ]
  },
  {
   "cell_type": "markdown",
   "metadata": {},
   "source": [
    "### Use * args"
   ]
  },
  {
   "cell_type": "code",
   "execution_count": null,
   "metadata": {},
   "outputs": [],
   "source": [
    "nums = [6,8,2,1,2,3,4,5]"
   ]
  },
  {
   "cell_type": "code",
   "execution_count": null,
   "metadata": {},
   "outputs": [],
   "source": [
    "# def min_nums(nums):\n",
    "#     min = nums[0]\n",
    "    \n",
    "#     for i in nums:\n",
    "#         if i <= min:\n",
    "#             min = i\n",
    "#     return(min)\n",
    "        \n",
    "def my_min(nums):\n",
    "    result = nums[0]\n",
    "    for num in nums:\n",
    "        if num < result:\n",
    "            result = num\n",
    "    return result\n",
    "\n",
    "my_min(4, 5, 6, 7, 2)"
   ]
  },
  {
   "cell_type": "code",
   "execution_count": null,
   "metadata": {},
   "outputs": [],
   "source": [
    "min_nums(nums)"
   ]
  },
  {
   "cell_type": "code",
   "execution_count": null,
   "metadata": {},
   "outputs": [],
   "source": [
    "def min_nums_args(*args):\n",
    "    min = args[0]\n",
    "    print(min)\n",
    "    \n",
    "    for i in args:\n",
    "        print(i)\n",
    "        if i <= min:\n",
    "            min = i\n",
    "            return min\n",
    "        "
   ]
  },
  {
   "cell_type": "code",
   "execution_count": null,
   "metadata": {},
   "outputs": [],
   "source": [
    "min_nums_args(6,1,2,5,7,3,6)"
   ]
  },
  {
   "cell_type": "markdown",
   "metadata": {},
   "source": [
    "## Question Marks\n",
    "Take an input string parameter and determine if exactly 3 question marks exist between every pair of numbers that add up to 10. If so, return true, otherwise return false.\n",
    "\n",
    "\"acc?7??sss?3rr1??????5\" => true\n",
    "\n",
    "\"5??aaaaaaaaaaaaaaaaaaa?5?5\" => false\n",
    "\n",
    "https://medium.com/coderbyte/the-5-hardest-code-challenges-for-beginners-e410da4474b"
   ]
  },
  {
   "cell_type": "code",
   "execution_count": 1,
   "metadata": {},
   "outputs": [],
   "source": [
    "test = 'acc?7??sss?3rr1??????5'"
   ]
  },
  {
   "cell_type": "code",
   "execution_count": 2,
   "metadata": {},
   "outputs": [],
   "source": [
    "def q_marks (text):\n",
    "    for i in text:\n",
    "        print(i)"
   ]
  },
  {
   "cell_type": "code",
   "execution_count": 3,
   "metadata": {},
   "outputs": [],
   "source": [
    "# This approach uses for loop to convert each character into a list. \n",
    "# Just enclosing the For loop within square brackets [] will split the characters of word into list.\n",
    "\n",
    "def split(text):\n",
    "    return [char for char in text] "
   ]
  },
  {
   "cell_type": "code",
   "execution_count": 96,
   "metadata": {},
   "outputs": [
    {
     "name": "stdout",
     "output_type": "stream",
     "text": [
      "['1', '?', '?', 'a', 'a', 'a', 'a', 'a', 'a', 'a', 'a', 'a', 'a', 'a', 'a', 'a', 'a', 'a', 'a', 'a', 'a', 'a', '?', '4', '?', '3']\n"
     ]
    }
   ],
   "source": [
    "print(split(test))"
   ]
  },
  {
   "cell_type": "code",
   "execution_count": 4,
   "metadata": {},
   "outputs": [
    {
     "data": {
      "text/plain": [
       "<filter at 0x108bdbef0>"
      ]
     },
     "execution_count": 4,
     "metadata": {},
     "output_type": "execute_result"
    }
   ],
   "source": [
    "filter(str.isdigit, test)"
   ]
  },
  {
   "cell_type": "code",
   "execution_count": 103,
   "metadata": {},
   "outputs": [],
   "source": [
    "def char_test(sample):\n",
    "    num_list = []\n",
    "    \n",
    "    for char in sample:\n",
    "        if char.isdigit():\n",
    "            num_list.append(int(char))\n",
    "                               \n",
    "    print(num_list)  "
   ]
  },
  {
   "cell_type": "code",
   "execution_count": 104,
   "metadata": {},
   "outputs": [
    {
     "name": "stdout",
     "output_type": "stream",
     "text": [
      "[1, 4, 3]\n"
     ]
    }
   ],
   "source": [
    "char_test(test)"
   ]
  },
  {
   "cell_type": "code",
   "execution_count": 7,
   "metadata": {},
   "outputs": [],
   "source": [
    "test = \"1??aaaaaaaaaaaaaaaaaaa?4?3\"\n",
    "# test = '1acc?7??sss?3rr1??????5'"
   ]
  },
  {
   "cell_type": "code",
   "execution_count": 8,
   "metadata": {},
   "outputs": [
    {
     "name": "stdout",
     "output_type": "stream",
     "text": [
      "[1, 4, 3]\n"
     ]
    }
   ],
   "source": [
    "# number = ''.join([i for i in test if i.isdigit()])\n",
    "result = [int(i) for i in test if i.isdigit()]\n",
    "print(result)"
   ]
  },
  {
   "cell_type": "code",
   "execution_count": null,
   "metadata": {},
   "outputs": [],
   "source": [
    "# import itertools\n",
    "\n",
    "# target = 10\n",
    "# for numbers in itertools.combinations(result,2):\n",
    "#     if sum(numbers) == target:\n",
    "#         new_result = [result.index(number) for number in numbers]\n",
    "#         print(new_result)\n",
    "#         index1 = new_result[0]\n",
    "#         index2 = new_result[1]\n",
    "#         print(result[index1])\n",
    "#         print(result[index2])"
   ]
  },
  {
   "cell_type": "code",
   "execution_count": 9,
   "metadata": {},
   "outputs": [],
   "source": [
    "# This uses the list of numbes already taken from the string\n",
    "\n",
    "def sum_finder(result):\n",
    "    target = 10\n",
    "    success = []\n",
    "\n",
    "    for i in range(0, len(result)-1):\n",
    "\n",
    "        num_sum = (result[i] + result[i+1])\n",
    "\n",
    "        if num_sum == target:\n",
    "            success.append(result[i])\n",
    "            success.append(result[i+1])\n",
    "\n",
    "    if not success:\n",
    "        print(\"there are no numbers\")\n",
    "    else:\n",
    "        return(success)"
   ]
  },
  {
   "cell_type": "code",
   "execution_count": 10,
   "metadata": {},
   "outputs": [
    {
     "name": "stdout",
     "output_type": "stream",
     "text": [
      "there are no numbers\n"
     ]
    }
   ],
   "source": [
    "sum_finder(result)"
   ]
  },
  {
   "cell_type": "code",
   "execution_count": 133,
   "metadata": {},
   "outputs": [],
   "source": [
    "# This combines the two operations: find digits in the string and find the two numbers that equal 10\n",
    "def sum_finder(test):\n",
    "    target = 10\n",
    "    success = []\n",
    "\n",
    "    result = [int(i) for i in test if i.isdigit()]\n",
    "\n",
    "    for i in range(0, len(result)-1):\n",
    "\n",
    "        num_sum = (result[i] + result[i+1])\n",
    "\n",
    "        if num_sum == target:\n",
    "            success.append(result[i])\n",
    "            success.append(result[i+1])\n",
    "\n",
    "\n",
    "#     if not success:\n",
    "#         print(\"there are no numbers\")\n",
    "    \n",
    "#     else:\n",
    "#         print('success')\n",
    "    \n",
    "    return success"
   ]
  },
  {
   "cell_type": "code",
   "execution_count": 117,
   "metadata": {},
   "outputs": [
    {
     "name": "stdout",
     "output_type": "stream",
     "text": [
      "there are no numbers\n"
     ]
    },
    {
     "data": {
      "text/plain": [
       "[]"
      ]
     },
     "execution_count": 117,
     "metadata": {},
     "output_type": "execute_result"
    }
   ],
   "source": [
    "sum_finder(testa)"
   ]
  },
  {
   "cell_type": "code",
   "execution_count": 118,
   "metadata": {},
   "outputs": [],
   "source": [
    "testa = \"1??aaaaaaaaaaaaaaaaaaa?4?3\"\n",
    "testb = 'acc?7??sss?3rr1??????5'\n",
    "testc = \"5??aaaaaaaaaaaaaaaaaaa?5?5\""
   ]
  },
  {
   "cell_type": "code",
   "execution_count": 119,
   "metadata": {},
   "outputs": [
    {
     "name": "stdout",
     "output_type": "stream",
     "text": [
      "there are no numbers\n",
      "[]\n",
      "success\n",
      "[7, 3]\n"
     ]
    }
   ],
   "source": [
    "print(sum_finder(testa))\n",
    "print(sum_finder(testb))"
   ]
  },
  {
   "cell_type": "code",
   "execution_count": null,
   "metadata": {},
   "outputs": [],
   "source": []
  },
  {
   "cell_type": "code",
   "execution_count": 123,
   "metadata": {},
   "outputs": [],
   "source": [
    "def split(text):\n",
    "    return [char for char in text] "
   ]
  },
  {
   "cell_type": "code",
   "execution_count": 128,
   "metadata": {},
   "outputs": [
    {
     "name": "stdout",
     "output_type": "stream",
     "text": [
      "testa: ['1', '?', '?', 'a', 'a', 'a', 'a', 'a', 'a', 'a', 'a', 'a', 'a', 'a', 'a', 'a', 'a', 'a', 'a', 'a', 'a', 'a', '?', '4', '?', '3']\n",
      "testb: ['a', 'c', 'c', '?', '7', '?', '?', 's', 's', 's', '?', '3', 'r', 'r', '1', '?', '?', '?', '?', '?', '?', '5']\n"
     ]
    }
   ],
   "source": [
    "print('testa: {}'.format(split(testa)))\n",
    "print('testb: {}'.format(split(testb)))"
   ]
  },
  {
   "cell_type": "code",
   "execution_count": 120,
   "metadata": {},
   "outputs": [
    {
     "name": "stdout",
     "output_type": "stream",
     "text": [
      "['a', 'c', 'c', '?', '7', '?', '?', 's', 's', 's', '?', '3', 'r', 'r', '1', '?', '?', '?', '?', '?', '?', '5']\n"
     ]
    }
   ],
   "source": [
    "a = [char for char in testb]\n",
    "print(a)\n",
    "# print(a.index('7')) "
   ]
  },
  {
   "cell_type": "code",
   "execution_count": 39,
   "metadata": {},
   "outputs": [
    {
     "name": "stdout",
     "output_type": "stream",
     "text": [
      "['c', 'c']\n"
     ]
    }
   ],
   "source": [
    "# b = a[1:3]\n",
    "# print(b)"
   ]
  },
  {
   "cell_type": "code",
   "execution_count": 134,
   "metadata": {},
   "outputs": [],
   "source": [
    "def char_test(sample):\n",
    "    \n",
    "    # Call function to see if there are two numbers that add to 10 in the text string\n",
    "    success = sum_finder(sample)\n",
    "    \n",
    "    # Check to see if success (the return is empty or not)\n",
    "    if not success:\n",
    "        print(\"False\")\n",
    "        \n",
    "    else:\n",
    "        # These are the two numbers that add to 10\n",
    "        s1 = str(success[0])\n",
    "        s2 = str(success[1])\n",
    "        #  print(s1,s2)\n",
    "\n",
    "        # Split the text to a list of char\n",
    "        sample_as_list = split(sample)\n",
    "\n",
    "        # Get indices of the two numbers, make sure they are ints\n",
    "        index1 = int(sample_as_list.index(s1))\n",
    "        index2 = int(sample_as_list.index(s2))\n",
    "\n",
    "        # slice of sample_as_list using the 2 indices\n",
    "        sub_sample = sample_as_list[index1:index2]\n",
    "\n",
    "        # counter of question marks\n",
    "        qm_counter = 0\n",
    "\n",
    "        # Count the question marks in the list slice\n",
    "        for char in sub_sample:\n",
    "            if char == \"?\":\n",
    "                qm_counter +=1\n",
    "            else:\n",
    "                pass\n",
    "        \n",
    "        # Check to see if there are 3 or more question marks between the two numbers\n",
    "        if qm_counter == 3:\n",
    "            print(\"True\")\n",
    "        else:\n",
    "            print(\"False\")\n",
    "        \n"
   ]
  },
  {
   "cell_type": "code",
   "execution_count": 135,
   "metadata": {},
   "outputs": [
    {
     "name": "stdout",
     "output_type": "stream",
     "text": [
      "False\n"
     ]
    }
   ],
   "source": [
    "char_test(testa)"
   ]
  },
  {
   "cell_type": "code",
   "execution_count": 136,
   "metadata": {},
   "outputs": [
    {
     "name": "stdout",
     "output_type": "stream",
     "text": [
      "True\n"
     ]
    }
   ],
   "source": [
    "char_test(testb)"
   ]
  },
  {
   "cell_type": "code",
   "execution_count": 110,
   "metadata": {},
   "outputs": [
    {
     "name": "stdout",
     "output_type": "stream",
     "text": [
      "false\n"
     ]
    }
   ],
   "source": [
    "char_test(testc)"
   ]
  },
  {
   "cell_type": "markdown",
   "metadata": {},
   "source": [
    "### Qlogin's solution\n",
    "Doesn't work ??"
   ]
  },
  {
   "cell_type": "code",
   "execution_count": 161,
   "metadata": {},
   "outputs": [
    {
     "ename": "SyntaxError",
     "evalue": "invalid syntax (<ipython-input-161-7888246c7e4b>, line 14)",
     "output_type": "error",
     "traceback": [
      "\u001b[0;36m  File \u001b[0;32m\"<ipython-input-161-7888246c7e4b>\"\u001b[0;36m, line \u001b[0;32m14\u001b[0m\n\u001b[0;31m    elif ch == '?':\u001b[0m\n\u001b[0m       ^\u001b[0m\n\u001b[0;31mSyntaxError\u001b[0m\u001b[0;31m:\u001b[0m invalid syntax\n"
     ]
    }
   ],
   "source": [
    "def QuestionsMarks(s):\n",
    "    qnum = 0\n",
    "    dig = 0\n",
    "    has_10 = False\n",
    "    \n",
    "    for ch in s:\n",
    "        if ch.isdigit():\n",
    "            if int(ch) + dig == 10:\n",
    "                if qnum != 3:\n",
    "                    return 'false'\n",
    "            has_10 = True\n",
    "        dig = int(ch)\n",
    "        qnum = 0\n",
    "        elif ch == '?':\n",
    "            qnum += 1\n",
    "    return 'true' if has_10 else 'false'"
   ]
  },
  {
   "cell_type": "markdown",
   "metadata": {},
   "source": [
    "### Refactoring"
   ]
  },
  {
   "cell_type": "code",
   "execution_count": 162,
   "metadata": {},
   "outputs": [],
   "source": [
    "def qm_test(sample):\n",
    "    for ch in sample:\n",
    "        if ch.isdigit():\n",
    "            print(ch)\n",
    "\n",
    "\n",
    "# def qm_test(sample):\n",
    "    \n",
    "#     target = 10\n",
    "#     result = []\n",
    "\n",
    "#     for i in range(0, len(sample)-1):\n",
    "\n",
    "#         num_sum = (sample[i] + sample[i+1])\n",
    "\n",
    "#         if num_sum == target:\n",
    "#             result.append(sample[i])\n",
    "#             result.append(sample[i+1])\n",
    "#         else:\n",
    "#             print(\"false\")\n",
    "#             break\n",
    "\n",
    "#     if result:\n",
    "#         s1 = str(result[0])\n",
    "#         s2 = str(result[1])\n",
    "\n",
    "#         sample_as_list = [char for char in sample] \n",
    "\n",
    "#         index1 = int(sample_as_list.index(s1))\n",
    "#         index2 = int(sample_as_list.index(s2))\n",
    "\n",
    "#         sub_sample = sample_as_list[index1:index2]\n",
    "\n",
    "#         qm_counter = 0\n",
    "\n",
    "#         for char in sub_sample:\n",
    "#             if char == \"?\":\n",
    "#                 qm_counter +=1\n",
    "#             else:\n",
    "#                 pass\n",
    "#     else:\n",
    "#         print(\"False\")\n",
    "            \n",
    "    \n",
    "#         if qm_counter == 3:\n",
    "#             print(\"True\")\n",
    "#         else:\n",
    "#             print(\"FFalse\")"
   ]
  },
  {
   "cell_type": "code",
   "execution_count": 163,
   "metadata": {},
   "outputs": [
    {
     "name": "stdout",
     "output_type": "stream",
     "text": [
      "1\n",
      "4\n",
      "3\n",
      "None\n"
     ]
    }
   ],
   "source": [
    "print(qm_test(testa))"
   ]
  },
  {
   "cell_type": "markdown",
   "metadata": {},
   "source": [
    "### Unused code for QM code challenge"
   ]
  },
  {
   "cell_type": "code",
   "execution_count": null,
   "metadata": {},
   "outputs": [],
   "source": []
  },
  {
   "cell_type": "code",
   "execution_count": 52,
   "metadata": {},
   "outputs": [],
   "source": [
    "# string = ''.join([i for i in test if i.isalpha()])\n",
    "# print(string)"
   ]
  },
  {
   "cell_type": "code",
   "execution_count": null,
   "metadata": {},
   "outputs": [],
   "source": [
    "#     if s1 in sample_as_list:\n",
    "#         print('success')\n",
    "        \n",
    "#     sub = sample_as_list.index([s1])\n",
    "#     print(sub)\n",
    "    \n",
    "#     if success: \n",
    "#         start = success[0]\n",
    "#         print(start)\n",
    "#         index1 = sample.index('start')\n",
    "#         print(index1)\n",
    "        \n",
    "#         sub = sample[start:end]\n",
    "#         print(sub)\n",
    "\n",
    "        \n",
    "#         for char in sample[::]:\n",
    "#             if char.isdigit():\n",
    "#             num_list.append(int(char))\n",
    "                               \n",
    "#         elif char == \"?\":\n",
    "#             print(char, \"qm\")\n",
    "#             qm_counter += 1\n",
    "#     print(num_list)  \n",
    "    \n",
    "            \n",
    "#     print(f\"the number of qm are: {qm_counter} \")\n",
    "    \n",
    "#     else:\n",
    "#         print(\"false\")"
   ]
  },
  {
   "cell_type": "markdown",
   "metadata": {},
   "source": [
    "## Bracket Matcher Code Challenge\n",
    "Description: For this challenge you will determine if the brackets in a string are correctly matched up."
   ]
  },
  {
   "cell_type": "code",
   "execution_count": 164,
   "metadata": {},
   "outputs": [],
   "source": [
    "sample1='hi()'\n",
    "sample2='(hi'"
   ]
  },
  {
   "cell_type": "code",
   "execution_count": 188,
   "metadata": {},
   "outputs": [],
   "source": [
    "def bracket_matcher(sample):\n",
    "    \n",
    "    for char in sample:\n",
    "        if char == ')':\n",
    "            print('True')\n",
    "        else:\n",
    "            print('False')"
   ]
  },
  {
   "cell_type": "code",
   "execution_count": 189,
   "metadata": {},
   "outputs": [
    {
     "name": "stdout",
     "output_type": "stream",
     "text": [
      "False\n",
      "False\n",
      "False\n"
     ]
    }
   ],
   "source": [
    "bracket_matcher(sample2)"
   ]
  },
  {
   "cell_type": "code",
   "execution_count": 174,
   "metadata": {},
   "outputs": [],
   "source": [
    "def bracket_matcher(sample):\n",
    "    return ')' in sample"
   ]
  },
  {
   "cell_type": "code",
   "execution_count": 173,
   "metadata": {},
   "outputs": [
    {
     "data": {
      "text/plain": [
       "True"
      ]
     },
     "execution_count": 173,
     "metadata": {},
     "output_type": "execute_result"
    }
   ],
   "source": [
    "bracket_matcher(sample1)"
   ]
  },
  {
   "cell_type": "code",
   "execution_count": null,
   "metadata": {},
   "outputs": [],
   "source": [
    "def bracket_matcher(sample):\n",
    "    brackets = [')',']']\n",
    "    flag = False\n",
    "    \n",
    "    for a, b in zip(brackets, sample):\n",
    "        if a == b:\n",
    "            flag = True \n",
    "        \n",
    "    print(flag)"
   ]
  },
  {
   "cell_type": "code",
   "execution_count": null,
   "metadata": {},
   "outputs": [],
   "source": [
    "bracket_matcher(sample1)"
   ]
  },
  {
   "cell_type": "markdown",
   "metadata": {},
   "source": [
    "## Walrus Operator"
   ]
  },
  {
   "cell_type": "code",
   "execution_count": null,
   "metadata": {},
   "outputs": [],
   "source": []
  },
  {
   "cell_type": "code",
   "execution_count": 91,
   "metadata": {},
   "outputs": [],
   "source": [
    "seal = 10"
   ]
  },
  {
   "cell_type": "code",
   "execution_count": 92,
   "metadata": {},
   "outputs": [
    {
     "name": "stdout",
     "output_type": "stream",
     "text": [
      "10\n"
     ]
    }
   ],
   "source": [
    "print(seal)"
   ]
  },
  {
   "cell_type": "code",
   "execution_count": 94,
   "metadata": {},
   "outputs": [],
   "source": [
    "# print(walrus := 20)"
   ]
  },
  {
   "cell_type": "code",
   "execution_count": null,
   "metadata": {},
   "outputs": [],
   "source": []
  }
 ],
 "metadata": {
  "kernelspec": {
   "display_name": "Python [conda env:learn-env] *",
   "language": "python",
   "name": "conda-env-learn-env-py"
  },
  "language_info": {
   "codemirror_mode": {
    "name": "ipython",
    "version": 3
   },
   "file_extension": ".py",
   "mimetype": "text/x-python",
   "name": "python",
   "nbconvert_exporter": "python",
   "pygments_lexer": "ipython3",
   "version": "3.6.6"
  },
  "toc": {
   "base_numbering": 1,
   "nav_menu": {},
   "number_sections": true,
   "sideBar": true,
   "skip_h1_title": false,
   "title_cell": "Table of Contents",
   "title_sidebar": "Contents",
   "toc_cell": true,
   "toc_position": {},
   "toc_section_display": true,
   "toc_window_display": false
  },
  "varInspector": {
   "cols": {
    "lenName": 16,
    "lenType": 16,
    "lenVar": 40
   },
   "kernels_config": {
    "python": {
     "delete_cmd_postfix": "",
     "delete_cmd_prefix": "del ",
     "library": "var_list.py",
     "varRefreshCmd": "print(var_dic_list())"
    },
    "r": {
     "delete_cmd_postfix": ") ",
     "delete_cmd_prefix": "rm(",
     "library": "var_list.r",
     "varRefreshCmd": "cat(var_dic_list()) "
    }
   },
   "types_to_exclude": [
    "module",
    "function",
    "builtin_function_or_method",
    "instance",
    "_Feature"
   ],
   "window_display": false
  }
 },
 "nbformat": 4,
 "nbformat_minor": 2
}
