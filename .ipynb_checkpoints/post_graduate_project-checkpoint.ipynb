{
 "cells": [
  {
   "cell_type": "markdown",
   "metadata": {
    "toc": true
   },
   "source": [
    "<h1>Table of Contents<span class=\"tocSkip\"></span></h1>\n",
    "<div class=\"toc\"><ul class=\"toc-item\"><li><span><a href=\"#Coding-question:-fumbled-and-the-re-do\" data-toc-modified-id=\"Coding-question:-fumbled-and-the-re-do-1\"><span class=\"toc-item-num\">1&nbsp;&nbsp;</span>Coding question: fumbled and the re-do</a></span></li><li><span><a href=\"#Python-interview-questions\" data-toc-modified-id=\"Python-interview-questions-2\"><span class=\"toc-item-num\">2&nbsp;&nbsp;</span>Python interview questions</a></span><ul class=\"toc-item\"><li><span><a href=\"#Reverse-the-string\" data-toc-modified-id=\"Reverse-the-string-2.1\"><span class=\"toc-item-num\">2.1&nbsp;&nbsp;</span>Reverse the string</a></span></li><li><span><a href=\"#Identify-the-palindromes\" data-toc-modified-id=\"Identify-the-palindromes-2.2\"><span class=\"toc-item-num\">2.2&nbsp;&nbsp;</span>Identify the palindromes</a></span></li><li><span><a href=\"#Identify-palindromes-in-a-text-string\" data-toc-modified-id=\"Identify-palindromes-in-a-text-string-2.3\"><span class=\"toc-item-num\">2.3&nbsp;&nbsp;</span>Identify palindromes in a text string</a></span></li><li><span><a href=\"#Fizz-Buzz-problem\" data-toc-modified-id=\"Fizz-Buzz-problem-2.4\"><span class=\"toc-item-num\">2.4&nbsp;&nbsp;</span>Fizz Buzz problem</a></span></li></ul></li></ul></div>"
   ]
  },
  {
   "cell_type": "markdown",
   "metadata": {},
   "source": [
    "## Coding question: fumbled and the re-do"
   ]
  },
  {
   "cell_type": "code",
   "execution_count": 1,
   "metadata": {},
   "outputs": [],
   "source": [
    "a = [1,2,3,3,4,5,5]"
   ]
  },
  {
   "cell_type": "code",
   "execution_count": 2,
   "metadata": {},
   "outputs": [],
   "source": [
    "numbers = []\n",
    "duplicates = []"
   ]
  },
  {
   "cell_type": "code",
   "execution_count": 3,
   "metadata": {},
   "outputs": [],
   "source": [
    "for i in a:\n",
    "    if i in numbers:\n",
    "        duplicates.append(i)\n",
    "    else:\n",
    "        numbers.append(i)\n",
    "\n"
   ]
  },
  {
   "cell_type": "code",
   "execution_count": 4,
   "metadata": {},
   "outputs": [
    {
     "name": "stdout",
     "output_type": "stream",
     "text": [
      "duplicates [3, 5]\n",
      "numbers [1, 2, 3, 4, 5]\n"
     ]
    }
   ],
   "source": [
    "print(\"duplicates\", duplicates)\n",
    "print(\"numbers\", numbers)"
   ]
  },
  {
   "cell_type": "markdown",
   "metadata": {},
   "source": [
    "## Python interview questions\n"
   ]
  },
  {
   "cell_type": "markdown",
   "metadata": {},
   "source": [
    "### Reverse the string"
   ]
  },
  {
   "cell_type": "code",
   "execution_count": 1,
   "metadata": {},
   "outputs": [],
   "source": [
    "a = \"the fox jumps over the lazy dog\""
   ]
  },
  {
   "cell_type": "code",
   "execution_count": 6,
   "metadata": {},
   "outputs": [
    {
     "name": "stdout",
     "output_type": "stream",
     "text": [
      "g\n"
     ]
    }
   ],
   "source": [
    "print(a[-1])"
   ]
  },
  {
   "cell_type": "code",
   "execution_count": 5,
   "metadata": {},
   "outputs": [
    {
     "name": "stdout",
     "output_type": "stream",
     "text": [
      "god yzal eht revo spmuj xof eht\n"
     ]
    }
   ],
   "source": [
    "print(a[::-1])"
   ]
  },
  {
   "cell_type": "markdown",
   "metadata": {},
   "source": [
    "### Identify a palindrome"
   ]
  },
  {
   "cell_type": "code",
   "execution_count": 18,
   "metadata": {},
   "outputs": [],
   "source": [
    "b = \"Lol, this is a gag, I didn't laugh so hard in a long time\""
   ]
  },
  {
   "cell_type": "code",
   "execution_count": 23,
   "metadata": {},
   "outputs": [],
   "source": [
    "c = \"hi\"\n",
    "d = \"hannah\""
   ]
  },
  {
   "cell_type": "code",
   "execution_count": 24,
   "metadata": {},
   "outputs": [],
   "source": [
    "# look at a word and see if it is the same back and forward"
   ]
  },
  {
   "cell_type": "code",
   "execution_count": 79,
   "metadata": {},
   "outputs": [],
   "source": [
    "def is_it_palindrome(word):\n",
    "    if word == word[::-1]:\n",
    "        print(\"Yes! {} is a palindrome\".format(word))\n",
    "    else:\n",
    "        pass"
   ]
  },
  {
   "cell_type": "code",
   "execution_count": 73,
   "metadata": {},
   "outputs": [
    {
     "name": "stdout",
     "output_type": "stream",
     "text": [
      "no\n",
      "Yes! hannah is a palindrome\n"
     ]
    }
   ],
   "source": [
    "is_it_palindrome(c)\n",
    "is_it_palindrome(d)"
   ]
  },
  {
   "cell_type": "markdown",
   "metadata": {},
   "source": [
    "### Identify palindromes in a text string"
   ]
  },
  {
   "cell_type": "code",
   "execution_count": 74,
   "metadata": {},
   "outputs": [],
   "source": [
    "# replaced all commas, should be all puncuation\n",
    "# split a text string into words and print out individually"
   ]
  },
  {
   "cell_type": "code",
   "execution_count": 75,
   "metadata": {},
   "outputs": [],
   "source": [
    "def split_text_string(text):\n",
    "    words = text.replace(\",\", \"\")\n",
    "    words = words.split(' ')\n",
    "    print(words)"
   ]
  },
  {
   "cell_type": "code",
   "execution_count": 76,
   "metadata": {},
   "outputs": [
    {
     "name": "stdout",
     "output_type": "stream",
     "text": [
      "['Lol', 'this', 'is', 'a', 'gag', 'I', \"didn't\", 'laugh', 'so', 'hard', 'in', 'a', 'long', 'time']\n"
     ]
    }
   ],
   "source": [
    "split_text_string(b)"
   ]
  },
  {
   "cell_type": "code",
   "execution_count": 82,
   "metadata": {},
   "outputs": [],
   "source": [
    "def identify_palindromes(text):\n",
    "    words = text.replace(\",\", \"\")\n",
    "    words = words.lower()\n",
    "    words = words.split(' ')\n",
    "\n",
    "    for i in words:\n",
    "        if len(i) >1:\n",
    "            is_it_palindrome(i)\n",
    "        else:\n",
    "            pass"
   ]
  },
  {
   "cell_type": "code",
   "execution_count": 85,
   "metadata": {},
   "outputs": [
    {
     "name": "stdout",
     "output_type": "stream",
     "text": [
      "Yes! lol is a palindrome\n",
      "Yes! gag is a palindrome\n"
     ]
    }
   ],
   "source": [
    "identify_palindromes(b)"
   ]
  },
  {
   "cell_type": "markdown",
   "metadata": {},
   "source": [
    "### Fizz Buzz problem\n",
    "Write a program that prints the number for 1 to 50, for number multiple of 2 print fizz instead of a number, for numbers multiple of 3 print buzz, for numbers which are multiple of both 2 and 3 fizzbuzz."
   ]
  },
  {
   "cell_type": "code",
   "execution_count": null,
   "metadata": {},
   "outputs": [],
   "source": []
  }
 ],
 "metadata": {
  "kernelspec": {
   "display_name": "Python [conda env:learn-env] *",
   "language": "python",
   "name": "conda-env-learn-env-py"
  },
  "language_info": {
   "codemirror_mode": {
    "name": "ipython",
    "version": 3
   },
   "file_extension": ".py",
   "mimetype": "text/x-python",
   "name": "python",
   "nbconvert_exporter": "python",
   "pygments_lexer": "ipython3",
   "version": "3.6.6"
  },
  "toc": {
   "base_numbering": 1,
   "nav_menu": {},
   "number_sections": true,
   "sideBar": true,
   "skip_h1_title": false,
   "title_cell": "Table of Contents",
   "title_sidebar": "Contents",
   "toc_cell": true,
   "toc_position": {},
   "toc_section_display": true,
   "toc_window_display": false
  },
  "varInspector": {
   "cols": {
    "lenName": 16,
    "lenType": 16,
    "lenVar": 40
   },
   "kernels_config": {
    "python": {
     "delete_cmd_postfix": "",
     "delete_cmd_prefix": "del ",
     "library": "var_list.py",
     "varRefreshCmd": "print(var_dic_list())"
    },
    "r": {
     "delete_cmd_postfix": ") ",
     "delete_cmd_prefix": "rm(",
     "library": "var_list.r",
     "varRefreshCmd": "cat(var_dic_list()) "
    }
   },
   "types_to_exclude": [
    "module",
    "function",
    "builtin_function_or_method",
    "instance",
    "_Feature"
   ],
   "window_display": false
  }
 },
 "nbformat": 4,
 "nbformat_minor": 2
}
