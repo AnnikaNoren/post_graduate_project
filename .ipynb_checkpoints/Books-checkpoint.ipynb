{
 "cells": [
  {
   "cell_type": "markdown",
   "metadata": {
    "toc": true
   },
   "source": [
    "<h1>Table of Contents<span class=\"tocSkip\"></span></h1>\n",
    "<div class=\"toc\"><ul class=\"toc-item\"><li><span><a href=\"#Goal\" data-toc-modified-id=\"Goal-1\"><span class=\"toc-item-num\">1&nbsp;&nbsp;</span>Goal</a></span></li><li><span><a href=\"#Look-at-Training-Set\" data-toc-modified-id=\"Look-at-Training-Set-2\"><span class=\"toc-item-num\">2&nbsp;&nbsp;</span>Look at Training Set</a></span><ul class=\"toc-item\"><li><span><a href=\"#Add-Another-Reviews-Column-With-Float\" data-toc-modified-id=\"Add-Another-Reviews-Column-With-Float-2.1\"><span class=\"toc-item-num\">2.1&nbsp;&nbsp;</span>Add Another Reviews Column With Float</a></span></li></ul></li><li><span><a href=\"#Add-Another-Ratings-Column-as-Int\" data-toc-modified-id=\"Add-Another-Ratings-Column-as-Int-3\"><span class=\"toc-item-num\">3&nbsp;&nbsp;</span>Add Another Ratings Column as Int</a></span></li></ul></div>"
   ]
  },
  {
   "cell_type": "markdown",
   "metadata": {},
   "source": [
    "# Goal\n",
    "\n",
    "Taken from machinehack.com:\n",
    "\n",
    "In this challenge, participants are required to use the dataset to build a Machine Learning model to predict the price of books based on a given set of features. \n",
    "\n",
    "Size of training set: 6237 records \n",
    "Size of test set: 1560 records \n",
    "\n",
    "FEATURES: \n",
    "- Title: The title of the book \n",
    "- Author: The author(s) of the book\n",
    "- Edition: The edition of the book eg (Paperback,– Import, 26 Apr 2018) \n",
    "- Reviews: The customer reviews about the book \n",
    "- Ratings: The customer ratings of the book \n",
    "- Synopsis: The synopsis of the book \n",
    "- Genre: The genre the book belongs to \n",
    "- BookCategory: The department the book is usually available at\n",
    "- Price: The price of the book (Target variable)"
   ]
  },
  {
   "cell_type": "code",
   "execution_count": 1,
   "metadata": {},
   "outputs": [],
   "source": [
    "import pandas as pd\n",
    "import numpy as np\n",
    "\n",
    "import matplotlib.pyplot as plt\n",
    "import seaborn as sns\n",
    "\n",
    "# from datetime import datetime\n",
    "\n",
    "# import warnings\n",
    "# warnings.filterwarnings(\"ignore\")\n",
    "# %matplotlib inline\n",
    "\n",
    "# import scipy.stats as stats\n",
    "# import statsmodels.api as sm\n",
    "# from statsmodels.formula.api import ols\n",
    "# import statsmodels.stats.api as sms\n",
    "\n",
    "# from sklearn import datasets"
   ]
  },
  {
   "cell_type": "markdown",
   "metadata": {},
   "source": [
    "# Look at Training Set"
   ]
  },
  {
   "cell_type": "code",
   "execution_count": 2,
   "metadata": {},
   "outputs": [],
   "source": [
    "df = pd.read_excel(\"Data_Train.xlsx\")"
   ]
  },
  {
   "cell_type": "code",
   "execution_count": 3,
   "metadata": {},
   "outputs": [
    {
     "data": {
      "text/html": [
       "<div>\n",
       "<style scoped>\n",
       "    .dataframe tbody tr th:only-of-type {\n",
       "        vertical-align: middle;\n",
       "    }\n",
       "\n",
       "    .dataframe tbody tr th {\n",
       "        vertical-align: top;\n",
       "    }\n",
       "\n",
       "    .dataframe thead th {\n",
       "        text-align: right;\n",
       "    }\n",
       "</style>\n",
       "<table border=\"1\" class=\"dataframe\">\n",
       "  <thead>\n",
       "    <tr style=\"text-align: right;\">\n",
       "      <th></th>\n",
       "      <th>Title</th>\n",
       "      <th>Author</th>\n",
       "      <th>Edition</th>\n",
       "      <th>Reviews</th>\n",
       "      <th>Ratings</th>\n",
       "      <th>Synopsis</th>\n",
       "      <th>Genre</th>\n",
       "      <th>BookCategory</th>\n",
       "      <th>Price</th>\n",
       "    </tr>\n",
       "  </thead>\n",
       "  <tbody>\n",
       "    <tr>\n",
       "      <th>0</th>\n",
       "      <td>The Prisoner's Gold (The Hunters 3)</td>\n",
       "      <td>Chris Kuzneski</td>\n",
       "      <td>Paperback,– 10 Mar 2016</td>\n",
       "      <td>4.0 out of 5 stars</td>\n",
       "      <td>8 customer reviews</td>\n",
       "      <td>THE HUNTERS return in their third brilliant no...</td>\n",
       "      <td>Action &amp; Adventure (Books)</td>\n",
       "      <td>Action &amp; Adventure</td>\n",
       "      <td>220.00</td>\n",
       "    </tr>\n",
       "    <tr>\n",
       "      <th>1</th>\n",
       "      <td>Guru Dutt: A Tragedy in Three Acts</td>\n",
       "      <td>Arun Khopkar</td>\n",
       "      <td>Paperback,– 7 Nov 2012</td>\n",
       "      <td>3.9 out of 5 stars</td>\n",
       "      <td>14 customer reviews</td>\n",
       "      <td>A layered portrait of a troubled genius for wh...</td>\n",
       "      <td>Cinema &amp; Broadcast (Books)</td>\n",
       "      <td>Biographies, Diaries &amp; True Accounts</td>\n",
       "      <td>202.93</td>\n",
       "    </tr>\n",
       "  </tbody>\n",
       "</table>\n",
       "</div>"
      ],
      "text/plain": [
       "                                 Title          Author  \\\n",
       "0  The Prisoner's Gold (The Hunters 3)  Chris Kuzneski   \n",
       "1   Guru Dutt: A Tragedy in Three Acts    Arun Khopkar   \n",
       "\n",
       "                   Edition             Reviews              Ratings  \\\n",
       "0  Paperback,– 10 Mar 2016  4.0 out of 5 stars   8 customer reviews   \n",
       "1   Paperback,– 7 Nov 2012  3.9 out of 5 stars  14 customer reviews   \n",
       "\n",
       "                                            Synopsis  \\\n",
       "0  THE HUNTERS return in their third brilliant no...   \n",
       "1  A layered portrait of a troubled genius for wh...   \n",
       "\n",
       "                        Genre                          BookCategory   Price  \n",
       "0  Action & Adventure (Books)                    Action & Adventure  220.00  \n",
       "1  Cinema & Broadcast (Books)  Biographies, Diaries & True Accounts  202.93  "
      ]
     },
     "execution_count": 3,
     "metadata": {},
     "output_type": "execute_result"
    }
   ],
   "source": [
    "df.head(2)"
   ]
  },
  {
   "cell_type": "code",
   "execution_count": 4,
   "metadata": {},
   "outputs": [
    {
     "name": "stdout",
     "output_type": "stream",
     "text": [
      "<class 'pandas.core.frame.DataFrame'>\n",
      "RangeIndex: 6237 entries, 0 to 6236\n",
      "Data columns (total 9 columns):\n",
      " #   Column        Non-Null Count  Dtype  \n",
      "---  ------        --------------  -----  \n",
      " 0   Title         6237 non-null   object \n",
      " 1   Author        6237 non-null   object \n",
      " 2   Edition       6237 non-null   object \n",
      " 3   Reviews       6237 non-null   object \n",
      " 4   Ratings       6237 non-null   object \n",
      " 5   Synopsis      6237 non-null   object \n",
      " 6   Genre         6237 non-null   object \n",
      " 7   BookCategory  6237 non-null   object \n",
      " 8   Price         6237 non-null   float64\n",
      "dtypes: float64(1), object(8)\n",
      "memory usage: 438.7+ KB\n"
     ]
    }
   ],
   "source": [
    "df.info()"
   ]
  },
  {
   "cell_type": "code",
   "execution_count": 5,
   "metadata": {},
   "outputs": [
    {
     "data": {
      "text/html": [
       "<div>\n",
       "<style scoped>\n",
       "    .dataframe tbody tr th:only-of-type {\n",
       "        vertical-align: middle;\n",
       "    }\n",
       "\n",
       "    .dataframe tbody tr th {\n",
       "        vertical-align: top;\n",
       "    }\n",
       "\n",
       "    .dataframe thead th {\n",
       "        text-align: right;\n",
       "    }\n",
       "</style>\n",
       "<table border=\"1\" class=\"dataframe\">\n",
       "  <thead>\n",
       "    <tr style=\"text-align: right;\">\n",
       "      <th></th>\n",
       "      <th>Price</th>\n",
       "    </tr>\n",
       "  </thead>\n",
       "  <tbody>\n",
       "    <tr>\n",
       "      <th>count</th>\n",
       "      <td>6237.000000</td>\n",
       "    </tr>\n",
       "    <tr>\n",
       "      <th>mean</th>\n",
       "      <td>560.707516</td>\n",
       "    </tr>\n",
       "    <tr>\n",
       "      <th>std</th>\n",
       "      <td>690.110657</td>\n",
       "    </tr>\n",
       "    <tr>\n",
       "      <th>min</th>\n",
       "      <td>25.000000</td>\n",
       "    </tr>\n",
       "    <tr>\n",
       "      <th>25%</th>\n",
       "      <td>249.180000</td>\n",
       "    </tr>\n",
       "    <tr>\n",
       "      <th>50%</th>\n",
       "      <td>373.000000</td>\n",
       "    </tr>\n",
       "    <tr>\n",
       "      <th>75%</th>\n",
       "      <td>599.000000</td>\n",
       "    </tr>\n",
       "    <tr>\n",
       "      <th>max</th>\n",
       "      <td>14100.000000</td>\n",
       "    </tr>\n",
       "  </tbody>\n",
       "</table>\n",
       "</div>"
      ],
      "text/plain": [
       "              Price\n",
       "count   6237.000000\n",
       "mean     560.707516\n",
       "std      690.110657\n",
       "min       25.000000\n",
       "25%      249.180000\n",
       "50%      373.000000\n",
       "75%      599.000000\n",
       "max    14100.000000"
      ]
     },
     "execution_count": 5,
     "metadata": {},
     "output_type": "execute_result"
    }
   ],
   "source": [
    "df.describe()"
   ]
  },
  {
   "cell_type": "code",
   "execution_count": 6,
   "metadata": {},
   "outputs": [],
   "source": [
    "# plot price to see outliers\n",
    "# change some of the columns \n",
    "# what to do about synopsis?"
   ]
  },
  {
   "cell_type": "code",
   "execution_count": 7,
   "metadata": {},
   "outputs": [
    {
     "data": {
      "text/plain": [
       "(array([5.855e+03, 3.010e+02, 4.400e+01, 2.300e+01, 5.000e+00, 3.000e+00,\n",
       "        2.000e+00, 1.000e+00, 1.000e+00, 2.000e+00]),\n",
       " array([   25. ,  1432.5,  2840. ,  4247.5,  5655. ,  7062.5,  8470. ,\n",
       "         9877.5, 11285. , 12692.5, 14100. ]),\n",
       " <BarContainer object of 10 artists>)"
      ]
     },
     "execution_count": 7,
     "metadata": {},
     "output_type": "execute_result"
    },
    {
     "data": {
      "image/png": "[encoded data removed]",
      "text/plain": [
       "<Figure size 432x288 with 1 Axes>"
      ]
     },
     "metadata": {
      "needs_background": "light"
     },
     "output_type": "display_data"
    }
   ],
   "source": [
    "plt.hist(df['Price'])"
   ]
  },
  {
   "cell_type": "code",
   "execution_count": 8,
   "metadata": {},
   "outputs": [
    {
     "name": "stdout",
     "output_type": "stream",
     "text": [
      "more than 4000 price  43\n",
      "more than 6000 price  12\n",
      "more than 140000 price  1\n"
     ]
    }
   ],
   "source": [
    "# how many above 4000, 6000 and 14000\n",
    "print(\"more than 4000 price \", len(df[df.Price > 4000]))\n",
    "print(\"more than 6000 price \", len(df[df.Price > 6000]))\n",
    "print(\"more than 140000 price \", len(df[df.Price > 14000]))"
   ]
  },
  {
   "cell_type": "code",
   "execution_count": 9,
   "metadata": {},
   "outputs": [
    {
     "data": {
      "text/html": [
       "<div>\n",
       "<style scoped>\n",
       "    .dataframe tbody tr th:only-of-type {\n",
       "        vertical-align: middle;\n",
       "    }\n",
       "\n",
       "    .dataframe tbody tr th {\n",
       "        vertical-align: top;\n",
       "    }\n",
       "\n",
       "    .dataframe thead th {\n",
       "        text-align: right;\n",
       "    }\n",
       "</style>\n",
       "<table border=\"1\" class=\"dataframe\">\n",
       "  <thead>\n",
       "    <tr style=\"text-align: right;\">\n",
       "      <th></th>\n",
       "      <th>Title</th>\n",
       "      <th>Author</th>\n",
       "      <th>Edition</th>\n",
       "      <th>Reviews</th>\n",
       "      <th>Ratings</th>\n",
       "      <th>Synopsis</th>\n",
       "      <th>Genre</th>\n",
       "      <th>BookCategory</th>\n",
       "      <th>Price</th>\n",
       "    </tr>\n",
       "  </thead>\n",
       "  <tbody>\n",
       "    <tr>\n",
       "      <th>2455</th>\n",
       "      <td>The Complete Asterix Box Set (36 Titles)</td>\n",
       "      <td>Rene Goscinny</td>\n",
       "      <td>Product Bundle,– 26 Aug 2016</td>\n",
       "      <td>4.9 out of 5 stars</td>\n",
       "      <td>22 customer reviews</td>\n",
       "      <td>Composed of thirty six, four-colour albums in ...</td>\n",
       "      <td>Comics &amp; Graphic Novels (Books)</td>\n",
       "      <td>Comics &amp; Mangas</td>\n",
       "      <td>14100.0</td>\n",
       "    </tr>\n",
       "  </tbody>\n",
       "</table>\n",
       "</div>"
      ],
      "text/plain": [
       "                                         Title         Author  \\\n",
       "2455  The Complete Asterix Box Set (36 Titles)  Rene Goscinny   \n",
       "\n",
       "                           Edition             Reviews              Ratings  \\\n",
       "2455  Product Bundle,– 26 Aug 2016  4.9 out of 5 stars  22 customer reviews   \n",
       "\n",
       "                                               Synopsis  \\\n",
       "2455  Composed of thirty six, four-colour albums in ...   \n",
       "\n",
       "                                Genre     BookCategory    Price  \n",
       "2455  Comics & Graphic Novels (Books)  Comics & Mangas  14100.0  "
      ]
     },
     "execution_count": 9,
     "metadata": {},
     "output_type": "execute_result"
    }
   ],
   "source": [
    "# what is that book that cost so much?\n",
    "df[df.Price == df.Price.max()]\n",
    "\n",
    "# it is 36 title box set, seems possible."
   ]
  },
  {
   "cell_type": "code",
   "execution_count": 10,
   "metadata": {},
   "outputs": [
    {
     "data": {
      "text/html": [
       "<div>\n",
       "<style scoped>\n",
       "    .dataframe tbody tr th:only-of-type {\n",
       "        vertical-align: middle;\n",
       "    }\n",
       "\n",
       "    .dataframe tbody tr th {\n",
       "        vertical-align: top;\n",
       "    }\n",
       "\n",
       "    .dataframe thead th {\n",
       "        text-align: right;\n",
       "    }\n",
       "</style>\n",
       "<table border=\"1\" class=\"dataframe\">\n",
       "  <thead>\n",
       "    <tr style=\"text-align: right;\">\n",
       "      <th></th>\n",
       "      <th>Title</th>\n",
       "      <th>Author</th>\n",
       "      <th>Edition</th>\n",
       "      <th>Reviews</th>\n",
       "      <th>Ratings</th>\n",
       "      <th>Synopsis</th>\n",
       "      <th>Genre</th>\n",
       "      <th>BookCategory</th>\n",
       "      <th>Price</th>\n",
       "    </tr>\n",
       "  </thead>\n",
       "  <tbody>\n",
       "    <tr>\n",
       "      <th>886</th>\n",
       "      <td>Modern Labor Economics: Theory and Public Poli...</td>\n",
       "      <td>Ronald G. Ehrenberg</td>\n",
       "      <td>Hardcover,– Import, 27 Oct 1999</td>\n",
       "      <td>4.0 out of 5 stars</td>\n",
       "      <td>1 customer review</td>\n",
       "      <td>Comprehensively surveying the field of labor e...</td>\n",
       "      <td>Labor &amp; Industrial Relations</td>\n",
       "      <td>Politics</td>\n",
       "      <td>13244.67</td>\n",
       "    </tr>\n",
       "    <tr>\n",
       "      <th>2455</th>\n",
       "      <td>The Complete Asterix Box Set (36 Titles)</td>\n",
       "      <td>Rene Goscinny</td>\n",
       "      <td>Product Bundle,– 26 Aug 2016</td>\n",
       "      <td>4.9 out of 5 stars</td>\n",
       "      <td>22 customer reviews</td>\n",
       "      <td>Composed of thirty six, four-colour albums in ...</td>\n",
       "      <td>Comics &amp; Graphic Novels (Books)</td>\n",
       "      <td>Comics &amp; Mangas</td>\n",
       "      <td>14100.00</td>\n",
       "    </tr>\n",
       "    <tr>\n",
       "      <th>2560</th>\n",
       "      <td>Ranga Roopa: Gods. Words. Images</td>\n",
       "      <td>B.N. Goswamy</td>\n",
       "      <td>Paperback,– 28 May 2010</td>\n",
       "      <td>4.5 out of 5 stars</td>\n",
       "      <td>10 customer reviews</td>\n",
       "      <td>The delights of Indian art and poetry are brou...</td>\n",
       "      <td>Arts History, Theory &amp; Criticism (Books)</td>\n",
       "      <td>Arts, Film &amp; Photography</td>\n",
       "      <td>9096.00</td>\n",
       "    </tr>\n",
       "    <tr>\n",
       "      <th>2607</th>\n",
       "      <td>Fifty Cars that Changed the World: Design Muse...</td>\n",
       "      <td>Design Museum Enterprise Limited</td>\n",
       "      <td>Hardcover,– 6 Oct 2009</td>\n",
       "      <td>4.0 out of 5 stars</td>\n",
       "      <td>1 customer review</td>\n",
       "      <td>Everything around us is designed and the word ...</td>\n",
       "      <td>Arts History, Theory &amp; Criticism (Books)</td>\n",
       "      <td>Arts, Film &amp; Photography</td>\n",
       "      <td>11715.12</td>\n",
       "    </tr>\n",
       "    <tr>\n",
       "      <th>2818</th>\n",
       "      <td>On the Night of the Seventh Moon: The Classic ...</td>\n",
       "      <td>Victoria Holt</td>\n",
       "      <td>Paperback,– 2 Mar 2010</td>\n",
       "      <td>5.0 out of 5 stars</td>\n",
       "      <td>1 customer review</td>\n",
       "      <td>For generations, Victoria Holt has dazzled and...</td>\n",
       "      <td>Romance (Books)</td>\n",
       "      <td>Romance</td>\n",
       "      <td>9984.00</td>\n",
       "    </tr>\n",
       "    <tr>\n",
       "      <th>3703</th>\n",
       "      <td>The Sandman Omnibus Vol. 1</td>\n",
       "      <td>Neil Gaiman</td>\n",
       "      <td>Hardcover,– 3 Sep 2013</td>\n",
       "      <td>5.0 out of 5 stars</td>\n",
       "      <td>11 customer reviews</td>\n",
       "      <td>A New York Times Bestseller!\\n\\nThe Sandman is...</td>\n",
       "      <td>Comics</td>\n",
       "      <td>Comics &amp; Mangas</td>\n",
       "      <td>6840.00</td>\n",
       "    </tr>\n",
       "    <tr>\n",
       "      <th>4282</th>\n",
       "      <td>The Sandman Omnibus Vol. 2</td>\n",
       "      <td>Neil Gaiman</td>\n",
       "      <td>Hardcover,– 12 Nov 2013</td>\n",
       "      <td>5.0 out of 5 stars</td>\n",
       "      <td>4 customer reviews</td>\n",
       "      <td>A New York Times bestseller!\\n\\nThe Sandman is...</td>\n",
       "      <td>Comics</td>\n",
       "      <td>Comics &amp; Mangas</td>\n",
       "      <td>7195.00</td>\n",
       "    </tr>\n",
       "    <tr>\n",
       "      <th>4301</th>\n",
       "      <td>Bleach Box Set 3: Includes vols. 49-74 with pr...</td>\n",
       "      <td>Tite Kubo</td>\n",
       "      <td>Paperback,– Import, 6 Nov 2018</td>\n",
       "      <td>5.0 out of 5 stars</td>\n",
       "      <td>1 customer review</td>\n",
       "      <td>Part-time student, full-time Soul Reaper, Ichi...</td>\n",
       "      <td>Mangas</td>\n",
       "      <td>Comics &amp; Mangas</td>\n",
       "      <td>8999.00</td>\n",
       "    </tr>\n",
       "    <tr>\n",
       "      <th>4463</th>\n",
       "      <td>Essentials of Strength Training and Conditioning</td>\n",
       "      <td>G.Gregory Haff, N. Travis Triplett</td>\n",
       "      <td>Hardcover,– 16 Nov 2015</td>\n",
       "      <td>4.5 out of 5 stars</td>\n",
       "      <td>2 customer reviews</td>\n",
       "      <td>Essentials of Strength Training and Conditioni...</td>\n",
       "      <td>Healthy Living &amp; Wellness (Books)</td>\n",
       "      <td>Sports</td>\n",
       "      <td>7132.00</td>\n",
       "    </tr>\n",
       "    <tr>\n",
       "      <th>5704</th>\n",
       "      <td>Homer Kelley's Golfing Machine: The Curious Qu...</td>\n",
       "      <td>Scott Gummer</td>\n",
       "      <td>Paperback,– 4 May 2010</td>\n",
       "      <td>4.0 out of 5 stars</td>\n",
       "      <td>1 customer review</td>\n",
       "      <td>The remarkable true story of a lone genius who...</td>\n",
       "      <td>Baseball (Books)</td>\n",
       "      <td>Sports</td>\n",
       "      <td>7302.00</td>\n",
       "    </tr>\n",
       "    <tr>\n",
       "      <th>5825</th>\n",
       "      <td>Watchmen: Absolute Edition (Absolute Editions)</td>\n",
       "      <td>Alan Moore</td>\n",
       "      <td>Hardcover,– 13 Dec 2011</td>\n",
       "      <td>5.0 out of 5 stars</td>\n",
       "      <td>2 customer reviews</td>\n",
       "      <td>SOON TO BE A FEATURE FILM!\\nThis Hugo Award-wi...</td>\n",
       "      <td>Comics</td>\n",
       "      <td>Comics &amp; Mangas</td>\n",
       "      <td>6415.00</td>\n",
       "    </tr>\n",
       "    <tr>\n",
       "      <th>5896</th>\n",
       "      <td>Daredevil by Frank Miller &amp; Klaus Jason Omnibu...</td>\n",
       "      <td>Frank Miller</td>\n",
       "      <td>Hardcover,– 15 Mar 2016</td>\n",
       "      <td>5.0 out of 5 stars</td>\n",
       "      <td>1 customer review</td>\n",
       "      <td>A classic Marvel hero redefined by one of comi...</td>\n",
       "      <td>Comics</td>\n",
       "      <td>Comics &amp; Mangas</td>\n",
       "      <td>6911.00</td>\n",
       "    </tr>\n",
       "  </tbody>\n",
       "</table>\n",
       "</div>"
      ],
      "text/plain": [
       "                                                  Title  \\\n",
       "886   Modern Labor Economics: Theory and Public Poli...   \n",
       "2455           The Complete Asterix Box Set (36 Titles)   \n",
       "2560                   Ranga Roopa: Gods. Words. Images   \n",
       "2607  Fifty Cars that Changed the World: Design Muse...   \n",
       "2818  On the Night of the Seventh Moon: The Classic ...   \n",
       "3703                         The Sandman Omnibus Vol. 1   \n",
       "4282                         The Sandman Omnibus Vol. 2   \n",
       "4301  Bleach Box Set 3: Includes vols. 49-74 with pr...   \n",
       "4463   Essentials of Strength Training and Conditioning   \n",
       "5704  Homer Kelley's Golfing Machine: The Curious Qu...   \n",
       "5825     Watchmen: Absolute Edition (Absolute Editions)   \n",
       "5896  Daredevil by Frank Miller & Klaus Jason Omnibu...   \n",
       "\n",
       "                                  Author                          Edition  \\\n",
       "886                  Ronald G. Ehrenberg  Hardcover,– Import, 27 Oct 1999   \n",
       "2455                       Rene Goscinny     Product Bundle,– 26 Aug 2016   \n",
       "2560                        B.N. Goswamy          Paperback,– 28 May 2010   \n",
       "2607    Design Museum Enterprise Limited           Hardcover,– 6 Oct 2009   \n",
       "2818                       Victoria Holt           Paperback,– 2 Mar 2010   \n",
       "3703                         Neil Gaiman           Hardcover,– 3 Sep 2013   \n",
       "4282                         Neil Gaiman          Hardcover,– 12 Nov 2013   \n",
       "4301                           Tite Kubo   Paperback,– Import, 6 Nov 2018   \n",
       "4463  G.Gregory Haff, N. Travis Triplett          Hardcover,– 16 Nov 2015   \n",
       "5704                        Scott Gummer           Paperback,– 4 May 2010   \n",
       "5825                          Alan Moore          Hardcover,– 13 Dec 2011   \n",
       "5896                        Frank Miller          Hardcover,– 15 Mar 2016   \n",
       "\n",
       "                 Reviews              Ratings  \\\n",
       "886   4.0 out of 5 stars    1 customer review   \n",
       "2455  4.9 out of 5 stars  22 customer reviews   \n",
       "2560  4.5 out of 5 stars  10 customer reviews   \n",
       "2607  4.0 out of 5 stars    1 customer review   \n",
       "2818  5.0 out of 5 stars    1 customer review   \n",
       "3703  5.0 out of 5 stars  11 customer reviews   \n",
       "4282  5.0 out of 5 stars   4 customer reviews   \n",
       "4301  5.0 out of 5 stars    1 customer review   \n",
       "4463  4.5 out of 5 stars   2 customer reviews   \n",
       "5704  4.0 out of 5 stars    1 customer review   \n",
       "5825  5.0 out of 5 stars   2 customer reviews   \n",
       "5896  5.0 out of 5 stars    1 customer review   \n",
       "\n",
       "                                               Synopsis  \\\n",
       "886   Comprehensively surveying the field of labor e...   \n",
       "2455  Composed of thirty six, four-colour albums in ...   \n",
       "2560  The delights of Indian art and poetry are brou...   \n",
       "2607  Everything around us is designed and the word ...   \n",
       "2818  For generations, Victoria Holt has dazzled and...   \n",
       "3703  A New York Times Bestseller!\\n\\nThe Sandman is...   \n",
       "4282  A New York Times bestseller!\\n\\nThe Sandman is...   \n",
       "4301  Part-time student, full-time Soul Reaper, Ichi...   \n",
       "4463  Essentials of Strength Training and Conditioni...   \n",
       "5704  The remarkable true story of a lone genius who...   \n",
       "5825  SOON TO BE A FEATURE FILM!\\nThis Hugo Award-wi...   \n",
       "5896  A classic Marvel hero redefined by one of comi...   \n",
       "\n",
       "                                         Genre              BookCategory  \\\n",
       "886               Labor & Industrial Relations                  Politics   \n",
       "2455           Comics & Graphic Novels (Books)           Comics & Mangas   \n",
       "2560  Arts History, Theory & Criticism (Books)  Arts, Film & Photography   \n",
       "2607  Arts History, Theory & Criticism (Books)  Arts, Film & Photography   \n",
       "2818                           Romance (Books)                   Romance   \n",
       "3703                                    Comics           Comics & Mangas   \n",
       "4282                                    Comics           Comics & Mangas   \n",
       "4301                                    Mangas           Comics & Mangas   \n",
       "4463         Healthy Living & Wellness (Books)                    Sports   \n",
       "5704                          Baseball (Books)                    Sports   \n",
       "5825                                    Comics           Comics & Mangas   \n",
       "5896                                    Comics           Comics & Mangas   \n",
       "\n",
       "         Price  \n",
       "886   13244.67  \n",
       "2455  14100.00  \n",
       "2560   9096.00  \n",
       "2607  11715.12  \n",
       "2818   9984.00  \n",
       "3703   6840.00  \n",
       "4282   7195.00  \n",
       "4301   8999.00  \n",
       "4463   7132.00  \n",
       "5704   7302.00  \n",
       "5825   6415.00  \n",
       "5896   6911.00  "
      ]
     },
     "execution_count": 10,
     "metadata": {},
     "output_type": "execute_result"
    }
   ],
   "source": [
    "df[df.Price > 6000]"
   ]
  },
  {
   "cell_type": "markdown",
   "metadata": {},
   "source": [
    "## Add Another Reviews Column With Float "
   ]
  },
  {
   "cell_type": "code",
   "execution_count": 11,
   "metadata": {},
   "outputs": [],
   "source": [
    "# try using regex\n",
    "import re"
   ]
  },
  {
   "cell_type": "code",
   "execution_count": 12,
   "metadata": {},
   "outputs": [
    {
     "data": {
      "text/plain": [
       "0       4.0 out of 5 stars\n",
       "1       3.9 out of 5 stars\n",
       "2       4.8 out of 5 stars\n",
       "3       4.1 out of 5 stars\n",
       "4       5.0 out of 5 stars\n",
       "               ...        \n",
       "6232    5.0 out of 5 stars\n",
       "6233    3.3 out of 5 stars\n",
       "6234    3.8 out of 5 stars\n",
       "6235    3.5 out of 5 stars\n",
       "6236    3.9 out of 5 stars\n",
       "Name: Reviews, Length: 6237, dtype: object"
      ]
     },
     "execution_count": 12,
     "metadata": {},
     "output_type": "execute_result"
    }
   ],
   "source": [
    "df.Reviews.astype('str')"
   ]
  },
  {
   "cell_type": "code",
   "execution_count": 13,
   "metadata": {},
   "outputs": [],
   "source": [
    "import re\n",
    "\n",
    "df['Reviews_float'] = df.Reviews.str.extract('(\\d+\\.\\d+)')"
   ]
  },
  {
   "cell_type": "code",
   "execution_count": 14,
   "metadata": {},
   "outputs": [
    {
     "data": {
      "text/plain": [
       "Title             object\n",
       "Author            object\n",
       "Edition           object\n",
       "Reviews           object\n",
       "Ratings           object\n",
       "Synopsis          object\n",
       "Genre             object\n",
       "BookCategory      object\n",
       "Price            float64\n",
       "Reviews_float     object\n",
       "dtype: object"
      ]
     },
     "execution_count": 14,
     "metadata": {},
     "output_type": "execute_result"
    }
   ],
   "source": [
    "df.dtypes"
   ]
  },
  {
   "cell_type": "code",
   "execution_count": 15,
   "metadata": {},
   "outputs": [
    {
     "data": {
      "text/html": [
       "<div>\n",
       "<style scoped>\n",
       "    .dataframe tbody tr th:only-of-type {\n",
       "        vertical-align: middle;\n",
       "    }\n",
       "\n",
       "    .dataframe tbody tr th {\n",
       "        vertical-align: top;\n",
       "    }\n",
       "\n",
       "    .dataframe thead th {\n",
       "        text-align: right;\n",
       "    }\n",
       "</style>\n",
       "<table border=\"1\" class=\"dataframe\">\n",
       "  <thead>\n",
       "    <tr style=\"text-align: right;\">\n",
       "      <th></th>\n",
       "      <th>Title</th>\n",
       "      <th>Author</th>\n",
       "      <th>Edition</th>\n",
       "      <th>Reviews</th>\n",
       "      <th>Ratings</th>\n",
       "      <th>Synopsis</th>\n",
       "      <th>Genre</th>\n",
       "      <th>BookCategory</th>\n",
       "      <th>Price</th>\n",
       "      <th>Reviews_float</th>\n",
       "    </tr>\n",
       "  </thead>\n",
       "  <tbody>\n",
       "    <tr>\n",
       "      <th>6210</th>\n",
       "      <td>Am I There Yet? (@bymariandrew)</td>\n",
       "      <td>Mari Andrew</td>\n",
       "      <td>Hardcover,– 10 Jul 2018</td>\n",
       "      <td>3.3 out of 5 stars</td>\n",
       "      <td>5 customer reviews</td>\n",
       "      <td>New York times bestseller this on-point guide ...</td>\n",
       "      <td>Arts History, Theory &amp; Criticism (Books)</td>\n",
       "      <td>Biographies, Diaries &amp; True Accounts</td>\n",
       "      <td>539.13</td>\n",
       "      <td>3.3</td>\n",
       "    </tr>\n",
       "  </tbody>\n",
       "</table>\n",
       "</div>"
      ],
      "text/plain": [
       "                                Title       Author                  Edition  \\\n",
       "6210  Am I There Yet? (@bymariandrew)  Mari Andrew  Hardcover,– 10 Jul 2018   \n",
       "\n",
       "                 Reviews             Ratings  \\\n",
       "6210  3.3 out of 5 stars  5 customer reviews   \n",
       "\n",
       "                                               Synopsis  \\\n",
       "6210  New York times bestseller this on-point guide ...   \n",
       "\n",
       "                                         Genre  \\\n",
       "6210  Arts History, Theory & Criticism (Books)   \n",
       "\n",
       "                              BookCategory   Price Reviews_float  \n",
       "6210  Biographies, Diaries & True Accounts  539.13           3.3  "
      ]
     },
     "execution_count": 15,
     "metadata": {},
     "output_type": "execute_result"
    }
   ],
   "source": [
    "df.sample()"
   ]
  },
  {
   "cell_type": "code",
   "execution_count": 16,
   "metadata": {},
   "outputs": [
    {
     "data": {
      "text/plain": [
       "0       4.0\n",
       "1       3.9\n",
       "2       4.8\n",
       "3       4.1\n",
       "4       5.0\n",
       "       ... \n",
       "6232    5.0\n",
       "6233    3.3\n",
       "6234    3.8\n",
       "6235    3.5\n",
       "6236    3.9\n",
       "Name: Reviews_float, Length: 6237, dtype: float64"
      ]
     },
     "execution_count": 16,
     "metadata": {},
     "output_type": "execute_result"
    }
   ],
   "source": [
    "df['Reviews_float'].astype(float)"
   ]
  },
  {
   "cell_type": "code",
   "execution_count": 17,
   "metadata": {},
   "outputs": [
    {
     "data": {
      "text/plain": [
       "0       4.0\n",
       "1       3.9\n",
       "2       4.8\n",
       "3       4.1\n",
       "4       5.0\n",
       "       ... \n",
       "6232    5.0\n",
       "6233    3.3\n",
       "6234    3.8\n",
       "6235    3.5\n",
       "6236    3.9\n",
       "Name: Reviews_float, Length: 6237, dtype: float64"
      ]
     },
     "execution_count": 17,
     "metadata": {},
     "output_type": "execute_result"
    }
   ],
   "source": [
    "pd.to_numeric(df['Reviews_float'], errors='coerce')"
   ]
  },
  {
   "cell_type": "code",
   "execution_count": 18,
   "metadata": {},
   "outputs": [],
   "source": [
    "df['Reviews_float'] = pd.to_numeric(df['Reviews_float'], errors='coerce')\n",
    "\n",
    "\n",
    "\n",
    "# df['strain_float'] = df['strain'].astype(float).round(2)"
   ]
  },
  {
   "cell_type": "code",
   "execution_count": 19,
   "metadata": {},
   "outputs": [
    {
     "name": "stdout",
     "output_type": "stream",
     "text": [
      "<class 'pandas.core.frame.DataFrame'>\n",
      "RangeIndex: 6237 entries, 0 to 6236\n",
      "Data columns (total 10 columns):\n",
      " #   Column         Non-Null Count  Dtype  \n",
      "---  ------         --------------  -----  \n",
      " 0   Title          6237 non-null   object \n",
      " 1   Author         6237 non-null   object \n",
      " 2   Edition        6237 non-null   object \n",
      " 3   Reviews        6237 non-null   object \n",
      " 4   Ratings        6237 non-null   object \n",
      " 5   Synopsis       6237 non-null   object \n",
      " 6   Genre          6237 non-null   object \n",
      " 7   BookCategory   6237 non-null   object \n",
      " 8   Price          6237 non-null   float64\n",
      " 9   Reviews_float  6237 non-null   float64\n",
      "dtypes: float64(2), object(8)\n",
      "memory usage: 487.4+ KB\n"
     ]
    }
   ],
   "source": [
    "df.info()"
   ]
  },
  {
   "cell_type": "code",
   "execution_count": 20,
   "metadata": {},
   "outputs": [
    {
     "data": {
      "text/plain": [
       "<bound method Series.count of 0       4.0\n",
       "1       3.9\n",
       "2       4.8\n",
       "3       4.1\n",
       "4       5.0\n",
       "       ... \n",
       "6232    5.0\n",
       "6233    3.3\n",
       "6234    3.8\n",
       "6235    3.5\n",
       "6236    3.9\n",
       "Name: Reviews_float, Length: 6237, dtype: float64>"
      ]
     },
     "execution_count": 20,
     "metadata": {},
     "output_type": "execute_result"
    }
   ],
   "source": [
    "df['Reviews_float'].count"
   ]
  },
  {
   "cell_type": "code",
   "execution_count": 21,
   "metadata": {},
   "outputs": [
    {
     "data": {
      "text/plain": [
       "6237"
      ]
     },
     "execution_count": 21,
     "metadata": {},
     "output_type": "execute_result"
    }
   ],
   "source": [
    "df['Reviews_float'].count()"
   ]
  },
  {
   "cell_type": "code",
   "execution_count": 22,
   "metadata": {},
   "outputs": [
    {
     "data": {
      "text/plain": [
       "array([4. , 3.9, 4.8, 4.1, 5. , 4.5, 4.4, 4.7, 4.2, 4.9, 3.5, 3.8, 4.3,\n",
       "       3.1, 4.6, 2. , 3.7, 3.2, 2.6, 2.8, 3.4, 2.9, 3.3, 3. , 2.5, 1. ,\n",
       "       3.6, 2.7, 1.5, 2.3, 1.7, 2.2, 1.4, 2.4, 1.6, 2.1])"
      ]
     },
     "execution_count": 22,
     "metadata": {},
     "output_type": "execute_result"
    }
   ],
   "source": [
    "df['Reviews_float'].unique()"
   ]
  },
  {
   "cell_type": "code",
   "execution_count": 23,
   "metadata": {},
   "outputs": [
    {
     "data": {
      "text/plain": [
       "<bound method Series.unique of 0       4.0\n",
       "1       3.9\n",
       "2       4.8\n",
       "3       4.1\n",
       "4       5.0\n",
       "       ... \n",
       "6232    5.0\n",
       "6233    3.3\n",
       "6234    3.8\n",
       "6235    3.5\n",
       "6236    3.9\n",
       "Name: Reviews_float, Length: 6237, dtype: float64>"
      ]
     },
     "execution_count": 23,
     "metadata": {},
     "output_type": "execute_result"
    }
   ],
   "source": [
    "df['Reviews_float'].unique"
   ]
  },
  {
   "cell_type": "code",
   "execution_count": 24,
   "metadata": {},
   "outputs": [
    {
     "data": {
      "text/plain": [
       "36"
      ]
     },
     "execution_count": 24,
     "metadata": {},
     "output_type": "execute_result"
    }
   ],
   "source": [
    "df['Reviews_float'].nunique()"
   ]
  },
  {
   "cell_type": "code",
   "execution_count": 25,
   "metadata": {},
   "outputs": [
    {
     "data": {
      "text/plain": [
       "5.0    1375\n",
       "4.0     570\n",
       "4.5     507\n",
       "4.6     394\n",
       "4.4     389\n",
       "4.3     359\n",
       "4.7     343\n",
       "4.2     324\n",
       "4.1     310\n",
       "3.9     241\n",
       "4.8     222\n",
       "3.8     190\n",
       "3.7     167\n",
       "3.0     138\n",
       "3.5     115\n",
       "3.6     110\n",
       "4.9      75\n",
       "3.4      75\n",
       "3.3      57\n",
       "3.1      49\n",
       "1.0      49\n",
       "3.2      41\n",
       "2.0      39\n",
       "2.9      26\n",
       "2.5      18\n",
       "2.7      16\n",
       "2.8      10\n",
       "2.3       7\n",
       "1.5       5\n",
       "2.6       4\n",
       "2.4       4\n",
       "2.2       3\n",
       "1.4       2\n",
       "1.7       1\n",
       "2.1       1\n",
       "1.6       1\n",
       "Name: Reviews_float, dtype: int64"
      ]
     },
     "execution_count": 25,
     "metadata": {},
     "output_type": "execute_result"
    }
   ],
   "source": [
    "df['Reviews_float'].value_counts()"
   ]
  },
  {
   "cell_type": "code",
   "execution_count": 26,
   "metadata": {},
   "outputs": [
    {
     "data": {
      "text/plain": [
       "6237"
      ]
     },
     "execution_count": 26,
     "metadata": {},
     "output_type": "execute_result"
    }
   ],
   "source": [
    "df['Reviews_float'].value_counts().sum()"
   ]
  },
  {
   "cell_type": "code",
   "execution_count": 27,
   "metadata": {},
   "outputs": [
    {
     "data": {
      "text/plain": [
       "(4.0, 5.0]      4298\n",
       "(3.0, 4.0]      1615\n",
       "(2.0, 3.0]       227\n",
       "(0.995, 2.0]      97\n",
       "Name: Reviews_float, dtype: int64"
      ]
     },
     "execution_count": 27,
     "metadata": {},
     "output_type": "execute_result"
    }
   ],
   "source": [
    "# doesn't work with floats\n",
    "\n",
    "df['Reviews_float'].value_counts(bins=4)"
   ]
  },
  {
   "cell_type": "code",
   "execution_count": 28,
   "metadata": {},
   "outputs": [
    {
     "data": {
      "text/plain": [
       "1.6       1\n",
       "2.1       1\n",
       "1.7       1\n",
       "1.4       2\n",
       "2.2       3\n",
       "2.4       4\n",
       "2.6       4\n",
       "1.5       5\n",
       "2.3       7\n",
       "2.8      10\n",
       "2.7      16\n",
       "2.5      18\n",
       "2.9      26\n",
       "2.0      39\n",
       "3.2      41\n",
       "1.0      49\n",
       "3.1      49\n",
       "3.3      57\n",
       "3.4      75\n",
       "4.9      75\n",
       "3.6     110\n",
       "3.5     115\n",
       "3.0     138\n",
       "3.7     167\n",
       "3.8     190\n",
       "4.8     222\n",
       "3.9     241\n",
       "4.1     310\n",
       "4.2     324\n",
       "4.7     343\n",
       "4.3     359\n",
       "4.4     389\n",
       "4.6     394\n",
       "4.5     507\n",
       "4.0     570\n",
       "5.0    1375\n",
       "Name: Reviews_float, dtype: int64"
      ]
     },
     "execution_count": 28,
     "metadata": {},
     "output_type": "execute_result"
    }
   ],
   "source": [
    "df['Reviews_float'].value_counts(ascending=True)"
   ]
  },
  {
   "cell_type": "code",
   "execution_count": 29,
   "metadata": {},
   "outputs": [
    {
     "data": {
      "text/plain": [
       "6237"
      ]
     },
     "execution_count": 29,
     "metadata": {},
     "output_type": "execute_result"
    }
   ],
   "source": [
    "df['Reviews_float'].size"
   ]
  },
  {
   "cell_type": "code",
   "execution_count": 30,
   "metadata": {},
   "outputs": [
    {
     "data": {
      "text/plain": [
       "(array([  49.,    9.,   40.,   32.,   56.,  360.,  582., 1121., 1579.,\n",
       "        2409.]),\n",
       " array([1. , 1.4, 1.8, 2.2, 2.6, 3. , 3.4, 3.8, 4.2, 4.6, 5. ]),\n",
       " <BarContainer object of 10 artists>)"
      ]
     },
     "execution_count": 30,
     "metadata": {},
     "output_type": "execute_result"
    },
    {
     "data": {
      "image/png": "[encoded data removed]",
      "text/plain": [
       "<Figure size 432x288 with 1 Axes>"
      ]
     },
     "metadata": {
      "needs_background": "light"
     },
     "output_type": "display_data"
    }
   ],
   "source": [
    "plt.hist(df['Reviews_float'])"
   ]
  },
  {
   "cell_type": "code",
   "execution_count": 31,
   "metadata": {
    "scrolled": true
   },
   "outputs": [
    {
     "data": {
      "text/plain": [
       "0    4.0\n",
       "1    3.9\n",
       "2    4.8\n",
       "3    4.1\n",
       "4    5.0\n",
       "Name: Reviews_float, dtype: float64"
      ]
     },
     "execution_count": 31,
     "metadata": {},
     "output_type": "execute_result"
    }
   ],
   "source": [
    "df['Reviews_float'].head()"
   ]
  },
  {
   "cell_type": "code",
   "execution_count": 32,
   "metadata": {},
   "outputs": [
    {
     "data": {
      "text/plain": [
       "6232    5.0\n",
       "6233    3.3\n",
       "6234    3.8\n",
       "6235    3.5\n",
       "6236    3.9\n",
       "Name: Reviews_float, dtype: float64"
      ]
     },
     "execution_count": 32,
     "metadata": {},
     "output_type": "execute_result"
    }
   ],
   "source": [
    "df['Reviews_float'].tail()"
   ]
  },
  {
   "cell_type": "code",
   "execution_count": 33,
   "metadata": {},
   "outputs": [
    {
     "data": {
      "text/plain": [
       "5377    5.0\n",
       "4073    4.7\n",
       "3787    4.7\n",
       "5179    3.3\n",
       "4836    4.4\n",
       "3065    3.8\n",
       "1081    4.4\n",
       "1593    4.8\n",
       "378     3.0\n",
       "1602    4.1\n",
       "Name: Reviews_float, dtype: float64"
      ]
     },
     "execution_count": 33,
     "metadata": {},
     "output_type": "execute_result"
    }
   ],
   "source": [
    "df['Reviews_float'].sample(10)"
   ]
  },
  {
   "cell_type": "code",
   "execution_count": 34,
   "metadata": {},
   "outputs": [
    {
     "data": {
      "text/plain": [
       "4    5.0\n",
       "5    4.5\n",
       "Name: Reviews_float, dtype: float64"
      ]
     },
     "execution_count": 34,
     "metadata": {},
     "output_type": "execute_result"
    }
   ],
   "source": [
    "df['Reviews_float'][4:6]"
   ]
  },
  {
   "cell_type": "markdown",
   "metadata": {},
   "source": [
    "# Add Another Ratings Column as Int"
   ]
  },
  {
   "cell_type": "code",
   "execution_count": 89,
   "metadata": {},
   "outputs": [
    {
     "data": {
      "text/plain": [
       "dtype('O')"
      ]
     },
     "execution_count": 89,
     "metadata": {},
     "output_type": "execute_result"
    }
   ],
   "source": [
    "df.Ratings.dtype"
   ]
  },
  {
   "cell_type": "code",
   "execution_count": 55,
   "metadata": {},
   "outputs": [
    {
     "data": {
      "text/html": [
       "<div>\n",
       "<style scoped>\n",
       "    .dataframe tbody tr th:only-of-type {\n",
       "        vertical-align: middle;\n",
       "    }\n",
       "\n",
       "    .dataframe tbody tr th {\n",
       "        vertical-align: top;\n",
       "    }\n",
       "\n",
       "    .dataframe thead th {\n",
       "        text-align: right;\n",
       "    }\n",
       "</style>\n",
       "<table border=\"1\" class=\"dataframe\">\n",
       "  <thead>\n",
       "    <tr style=\"text-align: right;\">\n",
       "      <th></th>\n",
       "      <th>Title</th>\n",
       "      <th>Author</th>\n",
       "      <th>Edition</th>\n",
       "      <th>Reviews</th>\n",
       "      <th>Ratings</th>\n",
       "      <th>Synopsis</th>\n",
       "      <th>Genre</th>\n",
       "      <th>BookCategory</th>\n",
       "      <th>Price</th>\n",
       "      <th>Reviews_float</th>\n",
       "    </tr>\n",
       "  </thead>\n",
       "  <tbody>\n",
       "    <tr>\n",
       "      <th>3069</th>\n",
       "      <td>Detective Stories: A Collection of Un-Put-Down...</td>\n",
       "      <td>VS Editorial Board</td>\n",
       "      <td>Paperback,– 4 Oct 2014</td>\n",
       "      <td>1.0 out of 5 stars</td>\n",
       "      <td>1 customer review</td>\n",
       "      <td>This book contains an introductory page exclus...</td>\n",
       "      <td>Dictionaries</td>\n",
       "      <td>Language, Linguistics &amp; Writing</td>\n",
       "      <td>178.0</td>\n",
       "      <td>1.0</td>\n",
       "    </tr>\n",
       "  </tbody>\n",
       "</table>\n",
       "</div>"
      ],
      "text/plain": [
       "                                                  Title              Author  \\\n",
       "3069  Detective Stories: A Collection of Un-Put-Down...  VS Editorial Board   \n",
       "\n",
       "                     Edition             Reviews            Ratings  \\\n",
       "3069  Paperback,– 4 Oct 2014  1.0 out of 5 stars  1 customer review   \n",
       "\n",
       "                                               Synopsis         Genre  \\\n",
       "3069  This book contains an introductory page exclus...  Dictionaries   \n",
       "\n",
       "                         BookCategory  Price  Reviews_float  \n",
       "3069  Language, Linguistics & Writing  178.0            1.0  "
      ]
     },
     "execution_count": 55,
     "metadata": {},
     "output_type": "execute_result"
    }
   ],
   "source": [
    "df.sample()"
   ]
  },
  {
   "cell_type": "code",
   "execution_count": 56,
   "metadata": {},
   "outputs": [
    {
     "data": {
      "text/plain": [
       "1 customer review       1040\n",
       "2 customer reviews       708\n",
       "3 customer reviews       491\n",
       "4 customer reviews       355\n",
       "5 customer reviews       300\n",
       "                        ... \n",
       "132 customer reviews       1\n",
       "800 customer reviews       1\n",
       "307 customer reviews       1\n",
       "382 customer reviews       1\n",
       "286 customer reviews       1\n",
       "Name: Ratings, Length: 342, dtype: int64"
      ]
     },
     "execution_count": 56,
     "metadata": {},
     "output_type": "execute_result"
    }
   ],
   "source": [
    "df.Ratings.value_counts()"
   ]
  },
  {
   "cell_type": "code",
   "execution_count": 90,
   "metadata": {},
   "outputs": [],
   "source": [
    "df['Ratings'] = df['Ratings'].astype(str)"
   ]
  },
  {
   "cell_type": "code",
   "execution_count": 91,
   "metadata": {},
   "outputs": [
    {
     "data": {
      "text/plain": [
       "dtype('O')"
      ]
     },
     "execution_count": 91,
     "metadata": {},
     "output_type": "execute_result"
    }
   ],
   "source": [
    "df.Ratings.dtype"
   ]
  },
  {
   "cell_type": "code",
   "execution_count": 92,
   "metadata": {},
   "outputs": [],
   "source": [
    "# create a list from Ratings column\n",
    "commas = df.Ratings.tolist()"
   ]
  },
  {
   "cell_type": "code",
   "execution_count": 109,
   "metadata": {},
   "outputs": [
    {
     "name": "stdout",
     "output_type": "stream",
     "text": [
      "8 customer reviews\n"
     ]
    },
    {
     "ename": "TypeError",
     "evalue": "replace() takes no keyword arguments",
     "output_type": "error",
     "traceback": [
      "\u001b[0;31m---------------------------------------------------------------------------\u001b[0m",
      "\u001b[0;31mTypeError\u001b[0m                                 Traceback (most recent call last)",
      "\u001b[0;32m<ipython-input-109-3dfd045e1542>\u001b[0m in \u001b[0;36m<module>\u001b[0;34m\u001b[0m\n\u001b[1;32m      2\u001b[0m \u001b[0mprint\u001b[0m\u001b[0;34m(\u001b[0m\u001b[0mtest\u001b[0m\u001b[0;34m)\u001b[0m\u001b[0;34m\u001b[0m\u001b[0;34m\u001b[0m\u001b[0m\n\u001b[1;32m      3\u001b[0m \u001b[0;31m# x = test.replace(\"8\",\"test\")\u001b[0m\u001b[0;34m\u001b[0m\u001b[0;34m\u001b[0m\u001b[0;34m\u001b[0m\u001b[0m\n\u001b[0;32m----> 4\u001b[0;31m \u001b[0mtest\u001b[0m\u001b[0;34m.\u001b[0m\u001b[0mreplace\u001b[0m\u001b[0;34m(\u001b[0m\u001b[0;34m\"8\"\u001b[0m\u001b[0;34m,\u001b[0m\u001b[0;34m\"test\"\u001b[0m\u001b[0;34m,\u001b[0m\u001b[0minplace\u001b[0m\u001b[0;34m=\u001b[0m\u001b[0;32mTrue\u001b[0m\u001b[0;34m)\u001b[0m\u001b[0;34m\u001b[0m\u001b[0;34m\u001b[0m\u001b[0m\n\u001b[0m\u001b[1;32m      5\u001b[0m \u001b[0;31m# print(x)\u001b[0m\u001b[0;34m\u001b[0m\u001b[0;34m\u001b[0m\u001b[0;34m\u001b[0m\u001b[0m\n\u001b[1;32m      6\u001b[0m \u001b[0mprint\u001b[0m\u001b[0;34m(\u001b[0m\u001b[0mtest\u001b[0m\u001b[0;34m)\u001b[0m\u001b[0;34m\u001b[0m\u001b[0;34m\u001b[0m\u001b[0m\n",
      "\u001b[0;31mTypeError\u001b[0m: replace() takes no keyword arguments"
     ]
    }
   ],
   "source": [
    "# str.replace is different than replace in dataframe\n",
    "\n",
    "# test = str(df.Ratings[0])\n",
    "# print(test)\n",
    "# # x = test.replace(\"8\",\"test\")\n",
    "# test.replace(\"8\",\"test\",inplace=True)\n",
    "# # print(x)\n",
    "# print(test)\n",
    "\n",
    "# txt = \"one one was a race horse, two two was one too.\"\n",
    "# x = txt.replace(\"one\", \"three\")\n",
    "# print(x)\n",
    "\n",
    "# str.replace(old, new[, count])\n",
    "# Return a copy of the string with all occurrences of substring old replaced by new. If the optional argument \n",
    "# count is given, only the first count occurrences are replaced."
   ]
  },
  {
   "cell_type": "code",
   "execution_count": 93,
   "metadata": {},
   "outputs": [
    {
     "name": "stdout",
     "output_type": "stream",
     "text": [
      "1,416 customer reviews True\n",
      "1,558 customer reviews True\n",
      "1,142 customer reviews True\n",
      "2,048 customer reviews True\n",
      "1,097 customer reviews True\n",
      "2,081 customer reviews True\n",
      "2,084 customer reviews True\n",
      "6,090 customer reviews True\n",
      "1,227 customer reviews True\n",
      "3,135 customer reviews True\n",
      "1,392 customer reviews True\n",
      "1,684 customer reviews True\n",
      "1,403 customer reviews True\n",
      "1,248 customer reviews True\n",
      "1,563 customer reviews True\n",
      "1,259 customer reviews True\n",
      "2,255 customer reviews True\n",
      "3,075 customer reviews True\n",
      "1,256 customer reviews True\n",
      "1,416 customer reviews True\n"
     ]
    }
   ],
   "source": [
    "# check if there are commas\n",
    "for i in commas:\n",
    "    if i.count(\",\") != 0:\n",
    "        print(i,True)"
   ]
  },
  {
   "cell_type": "code",
   "execution_count": 113,
   "metadata": {},
   "outputs": [],
   "source": [
    "# needed the str !!!\n",
    "# the clue was at the bottom on this post\n",
    "# https://stackoverflow.com/questions/27060098/replacing-few-values-in-a-pandas-dataframe-column-with-another-value\n",
    "df['Ratings'] = df['Ratings'].str.replace(\",\",\"\")"
   ]
  },
  {
   "cell_type": "code",
   "execution_count": 114,
   "metadata": {},
   "outputs": [],
   "source": [
    "redo_commas = df.Ratings.tolist()"
   ]
  },
  {
   "cell_type": "code",
   "execution_count": 115,
   "metadata": {},
   "outputs": [],
   "source": [
    "for i in redo_commas:\n",
    "    if i.count(\",\") != 0:\n",
    "        print(i,True)"
   ]
  },
  {
   "cell_type": "code",
   "execution_count": 58,
   "metadata": {},
   "outputs": [],
   "source": [
    "import re\n",
    "\n",
    "# print(re.findall(\"(\\d+)\",df.Ratings))\n",
    "\n",
    "df['Ratings_int'] = df.Ratings.str.extract('(\\d+\\.\\d+)')\n",
    "\n",
    "# df['Ratings_int'] = df.Ratings.str.extract('(\\d+\\)')"
   ]
  },
  {
   "cell_type": "code",
   "execution_count": null,
   "metadata": {},
   "outputs": [],
   "source": []
  },
  {
   "cell_type": "code",
   "execution_count": 52,
   "metadata": {},
   "outputs": [],
   "source": [
    "# text = \"4,345 customer reviews\""
   ]
  },
  {
   "cell_type": "code",
   "execution_count": 60,
   "metadata": {},
   "outputs": [
    {
     "data": {
      "text/html": [
       "<div>\n",
       "<style scoped>\n",
       "    .dataframe tbody tr th:only-of-type {\n",
       "        vertical-align: middle;\n",
       "    }\n",
       "\n",
       "    .dataframe tbody tr th {\n",
       "        vertical-align: top;\n",
       "    }\n",
       "\n",
       "    .dataframe thead th {\n",
       "        text-align: right;\n",
       "    }\n",
       "</style>\n",
       "<table border=\"1\" class=\"dataframe\">\n",
       "  <thead>\n",
       "    <tr style=\"text-align: right;\">\n",
       "      <th></th>\n",
       "      <th>Title</th>\n",
       "      <th>Author</th>\n",
       "      <th>Edition</th>\n",
       "      <th>Reviews</th>\n",
       "      <th>Ratings</th>\n",
       "      <th>Synopsis</th>\n",
       "      <th>Genre</th>\n",
       "      <th>BookCategory</th>\n",
       "      <th>Price</th>\n",
       "      <th>Reviews_float</th>\n",
       "      <th>Ratings_int</th>\n",
       "    </tr>\n",
       "  </thead>\n",
       "  <tbody>\n",
       "    <tr>\n",
       "      <th>3255</th>\n",
       "      <td>The Culture Map</td>\n",
       "      <td>Erin Meyer</td>\n",
       "      <td>Hardcover,– 27 May 2014</td>\n",
       "      <td>4.5 out of 5 stars</td>\n",
       "      <td>15 customer reviews</td>\n",
       "      <td>An international business expert helps you und...</td>\n",
       "      <td>International Business</td>\n",
       "      <td>Politics</td>\n",
       "      <td>950.0</td>\n",
       "      <td>4.5</td>\n",
       "      <td>NaN</td>\n",
       "    </tr>\n",
       "  </tbody>\n",
       "</table>\n",
       "</div>"
      ],
      "text/plain": [
       "                Title      Author                  Edition  \\\n",
       "3255  The Culture Map  Erin Meyer  Hardcover,– 27 May 2014   \n",
       "\n",
       "                 Reviews              Ratings  \\\n",
       "3255  4.5 out of 5 stars  15 customer reviews   \n",
       "\n",
       "                                               Synopsis  \\\n",
       "3255  An international business expert helps you und...   \n",
       "\n",
       "                       Genre BookCategory  Price  Reviews_float Ratings_int  \n",
       "3255  International Business     Politics  950.0            4.5         NaN  "
      ]
     },
     "execution_count": 60,
     "metadata": {},
     "output_type": "execute_result"
    }
   ],
   "source": [
    "df.sample()"
   ]
  },
  {
   "cell_type": "code",
   "execution_count": 53,
   "metadata": {},
   "outputs": [],
   "source": [
    "# def extract_ratings(rating):\n",
    "#     numbers = []\n",
    "\n",
    "#     for word in rating:\n",
    "#         if word. isdigit():\n",
    "#             numbers. append(int(word))\n",
    "\n",
    "#     print(numbers)"
   ]
  },
  {
   "cell_type": "code",
   "execution_count": 54,
   "metadata": {},
   "outputs": [
    {
     "name": "stdout",
     "output_type": "stream",
     "text": [
      "[4, 3, 4, 5]\n"
     ]
    }
   ],
   "source": [
    "# extract_ratings(text)"
   ]
  },
  {
   "cell_type": "code",
   "execution_count": null,
   "metadata": {},
   "outputs": [],
   "source": []
  },
  {
   "cell_type": "code",
   "execution_count": null,
   "metadata": {},
   "outputs": [],
   "source": []
  }
 ],
 "metadata": {
  "kernelspec": {
   "display_name": "Python 3",
   "language": "python",
   "name": "python3"
  },
  "language_info": {
   "codemirror_mode": {
    "name": "ipython",
    "version": 3
   },
   "file_extension": ".py",
   "mimetype": "text/x-python",
   "name": "python",
   "nbconvert_exporter": "python",
   "pygments_lexer": "ipython3",
   "version": "3.7.1"
  },
  "toc": {
   "base_numbering": 1,
   "nav_menu": {},
   "number_sections": true,
   "sideBar": true,
   "skip_h1_title": false,
   "title_cell": "Table of Contents",
   "title_sidebar": "Contents",
   "toc_cell": true,
   "toc_position": {},
   "toc_section_display": true,
   "toc_window_display": false
  },
  "varInspector": {
   "cols": {
    "lenName": 16,
    "lenType": 16,
    "lenVar": 40
   },
   "kernels_config": {
    "python": {
     "delete_cmd_postfix": "",
     "delete_cmd_prefix": "del ",
     "library": "var_list.py",
     "varRefreshCmd": "print(var_dic_list())"
    },
    "r": {
     "delete_cmd_postfix": ") ",
     "delete_cmd_prefix": "rm(",
     "library": "var_list.r",
     "varRefreshCmd": "cat(var_dic_list()) "
    }
   },
   "types_to_exclude": [
    "module",
    "function",
    "builtin_function_or_method",
    "instance",
    "_Feature"
   ],
   "window_display": false
  }
 },
 "nbformat": 4,
 "nbformat_minor": 2
}
