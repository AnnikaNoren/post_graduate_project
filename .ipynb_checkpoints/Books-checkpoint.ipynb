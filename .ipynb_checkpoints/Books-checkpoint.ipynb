{
 "cells": [
  {
   "cell_type": "markdown",
   "metadata": {
    "toc": true
   },
   "source": [
    "<h1>Table of Contents<span class=\"tocSkip\"></span></h1>\n",
    "<div class=\"toc\"><ul class=\"toc-item\"><li><span><a href=\"#Goal\" data-toc-modified-id=\"Goal-1\"><span class=\"toc-item-num\">1&nbsp;&nbsp;</span>Goal</a></span></li><li><span><a href=\"#Look-at-Training-Set\" data-toc-modified-id=\"Look-at-Training-Set-2\"><span class=\"toc-item-num\">2&nbsp;&nbsp;</span>Look at Training Set</a></span><ul class=\"toc-item\"><li><span><a href=\"#Add-Another-Reviews-Column-With-Float\" data-toc-modified-id=\"Add-Another-Reviews-Column-With-Float-2.1\"><span class=\"toc-item-num\">2.1&nbsp;&nbsp;</span>Add Another Reviews Column With Float</a></span></li></ul></li><li><span><a href=\"#Add-Another-Ratings-Column-as-Int\" data-toc-modified-id=\"Add-Another-Ratings-Column-as-Int-3\"><span class=\"toc-item-num\">3&nbsp;&nbsp;</span>Add Another Ratings Column as Int</a></span><ul class=\"toc-item\"><li><span><a href=\"#Playing-With-String-Replace\" data-toc-modified-id=\"Playing-With-String-Replace-3.1\"><span class=\"toc-item-num\">3.1&nbsp;&nbsp;</span>Playing With String Replace</a></span></li><li><span><a href=\"#Remove-Commas-Using-df.replace()\" data-toc-modified-id=\"Remove-Commas-Using-df.replace()-3.2\"><span class=\"toc-item-num\">3.2&nbsp;&nbsp;</span>Remove Commas Using df.replace()</a></span></li><li><span><a href=\"#First-attempt:-no-luck\" data-toc-modified-id=\"First-attempt:-no-luck-3.3\"><span class=\"toc-item-num\">3.3&nbsp;&nbsp;</span>First attempt: no luck</a></span></li><li><span><a href=\"#Different-syntax:-no-luck\" data-toc-modified-id=\"Different-syntax:-no-luck-3.4\"><span class=\"toc-item-num\">3.4&nbsp;&nbsp;</span>Different syntax: no luck</a></span></li><li><span><a href=\"#An-EXACT-match-doesn't-work-either\" data-toc-modified-id=\"An-EXACT-match-doesn't-work-either-3.5\"><span class=\"toc-item-num\">3.5&nbsp;&nbsp;</span>An EXACT match doesn't work either</a></span></li><li><span><a href=\"#need-the-str\" data-toc-modified-id=\"need-the-str-3.6\"><span class=\"toc-item-num\">3.6&nbsp;&nbsp;</span>need the str</a></span></li><li><span><a href=\"#Extract-the-Number-From-Ratings\" data-toc-modified-id=\"Extract-the-Number-From-Ratings-3.7\"><span class=\"toc-item-num\">3.7&nbsp;&nbsp;</span>Extract the Number From Ratings</a></span></li><li><span><a href=\"#Look-at-iRatings\" data-toc-modified-id=\"Look-at-iRatings-3.8\"><span class=\"toc-item-num\">3.8&nbsp;&nbsp;</span>Look at iRatings</a></span></li></ul></li><li><span><a href=\"#Look-at-Genres\" data-toc-modified-id=\"Look-at-Genres-4\"><span class=\"toc-item-num\">4&nbsp;&nbsp;</span>Look at Genres</a></span></li><li><span><a href=\"#Look-at-BookCategory\" data-toc-modified-id=\"Look-at-BookCategory-5\"><span class=\"toc-item-num\">5&nbsp;&nbsp;</span>Look at BookCategory</a></span></li><li><span><a href=\"#Groupby()-Study\" data-toc-modified-id=\"Groupby()-Study-6\"><span class=\"toc-item-num\">6&nbsp;&nbsp;</span>Groupby() Study</a></span></li></ul></div>"
   ]
  },
  {
   "cell_type": "markdown",
   "metadata": {},
   "source": [
    "# Goal\n",
    "\n",
    "Taken from machinehack.com:\n",
    "\n",
    "In this challenge, participants are required to use the dataset to build a Machine Learning model to predict the price of books based on a given set of features. \n",
    "\n",
    "Size of training set: 6237 records \n",
    "Size of test set: 1560 records \n",
    "\n",
    "FEATURES: \n",
    "- Title: The title of the book \n",
    "- Author: The author(s) of the book\n",
    "- Edition: The edition of the book eg (Paperback,– Import, 26 Apr 2018) \n",
    "- Reviews: The customer reviews about the book \n",
    "- Ratings: The customer ratings of the book \n",
    "- Synopsis: The synopsis of the book \n",
    "- Genre: The genre the book belongs to \n",
    "- BookCategory: The department the book is usually available at\n",
    "- Price: The price of the book (Target variable)"
   ]
  },
  {
   "cell_type": "code",
   "execution_count": 1,
   "metadata": {},
   "outputs": [],
   "source": [
    "import pandas as pd\n",
    "import numpy as np\n",
    "\n",
    "import matplotlib.pyplot as plt\n",
    "import seaborn as sns\n",
    "\n",
    "# from datetime import datetime\n",
    "\n",
    "# import warnings\n",
    "# warnings.filterwarnings(\"ignore\")\n",
    "# %matplotlib inline\n",
    "\n",
    "# import scipy.stats as stats\n",
    "# import statsmodels.api as sm\n",
    "# from statsmodels.formula.api import ols\n",
    "# import statsmodels.stats.api as sms\n",
    "\n",
    "# from sklearn import datasets"
   ]
  },
  {
   "cell_type": "markdown",
   "metadata": {},
   "source": [
    "# Look at Training Set"
   ]
  },
  {
   "cell_type": "code",
   "execution_count": 2,
   "metadata": {},
   "outputs": [],
   "source": [
    "df = pd.read_excel(\"Data_Train.xlsx\")"
   ]
  },
  {
   "cell_type": "code",
   "execution_count": 3,
   "metadata": {},
   "outputs": [
    {
     "data": {
      "text/html": [
       "<div>\n",
       "<style scoped>\n",
       "    .dataframe tbody tr th:only-of-type {\n",
       "        vertical-align: middle;\n",
       "    }\n",
       "\n",
       "    .dataframe tbody tr th {\n",
       "        vertical-align: top;\n",
       "    }\n",
       "\n",
       "    .dataframe thead th {\n",
       "        text-align: right;\n",
       "    }\n",
       "</style>\n",
       "<table border=\"1\" class=\"dataframe\">\n",
       "  <thead>\n",
       "    <tr style=\"text-align: right;\">\n",
       "      <th></th>\n",
       "      <th>Title</th>\n",
       "      <th>Author</th>\n",
       "      <th>Edition</th>\n",
       "      <th>Reviews</th>\n",
       "      <th>Ratings</th>\n",
       "      <th>Synopsis</th>\n",
       "      <th>Genre</th>\n",
       "      <th>BookCategory</th>\n",
       "      <th>Price</th>\n",
       "    </tr>\n",
       "  </thead>\n",
       "  <tbody>\n",
       "    <tr>\n",
       "      <th>0</th>\n",
       "      <td>The Prisoner's Gold (The Hunters 3)</td>\n",
       "      <td>Chris Kuzneski</td>\n",
       "      <td>Paperback,– 10 Mar 2016</td>\n",
       "      <td>4.0 out of 5 stars</td>\n",
       "      <td>8 customer reviews</td>\n",
       "      <td>THE HUNTERS return in their third brilliant no...</td>\n",
       "      <td>Action &amp; Adventure (Books)</td>\n",
       "      <td>Action &amp; Adventure</td>\n",
       "      <td>220.00</td>\n",
       "    </tr>\n",
       "    <tr>\n",
       "      <th>1</th>\n",
       "      <td>Guru Dutt: A Tragedy in Three Acts</td>\n",
       "      <td>Arun Khopkar</td>\n",
       "      <td>Paperback,– 7 Nov 2012</td>\n",
       "      <td>3.9 out of 5 stars</td>\n",
       "      <td>14 customer reviews</td>\n",
       "      <td>A layered portrait of a troubled genius for wh...</td>\n",
       "      <td>Cinema &amp; Broadcast (Books)</td>\n",
       "      <td>Biographies, Diaries &amp; True Accounts</td>\n",
       "      <td>202.93</td>\n",
       "    </tr>\n",
       "  </tbody>\n",
       "</table>\n",
       "</div>"
      ],
      "text/plain": [
       "                                 Title          Author  \\\n",
       "0  The Prisoner's Gold (The Hunters 3)  Chris Kuzneski   \n",
       "1   Guru Dutt: A Tragedy in Three Acts    Arun Khopkar   \n",
       "\n",
       "                   Edition             Reviews              Ratings  \\\n",
       "0  Paperback,– 10 Mar 2016  4.0 out of 5 stars   8 customer reviews   \n",
       "1   Paperback,– 7 Nov 2012  3.9 out of 5 stars  14 customer reviews   \n",
       "\n",
       "                                            Synopsis  \\\n",
       "0  THE HUNTERS return in their third brilliant no...   \n",
       "1  A layered portrait of a troubled genius for wh...   \n",
       "\n",
       "                        Genre                          BookCategory   Price  \n",
       "0  Action & Adventure (Books)                    Action & Adventure  220.00  \n",
       "1  Cinema & Broadcast (Books)  Biographies, Diaries & True Accounts  202.93  "
      ]
     },
     "execution_count": 3,
     "metadata": {},
     "output_type": "execute_result"
    }
   ],
   "source": [
    "df.head(2)"
   ]
  },
  {
   "cell_type": "code",
   "execution_count": 4,
   "metadata": {},
   "outputs": [
    {
     "name": "stdout",
     "output_type": "stream",
     "text": [
      "<class 'pandas.core.frame.DataFrame'>\n",
      "RangeIndex: 6237 entries, 0 to 6236\n",
      "Data columns (total 9 columns):\n",
      " #   Column        Non-Null Count  Dtype  \n",
      "---  ------        --------------  -----  \n",
      " 0   Title         6237 non-null   object \n",
      " 1   Author        6237 non-null   object \n",
      " 2   Edition       6237 non-null   object \n",
      " 3   Reviews       6237 non-null   object \n",
      " 4   Ratings       6237 non-null   object \n",
      " 5   Synopsis      6237 non-null   object \n",
      " 6   Genre         6237 non-null   object \n",
      " 7   BookCategory  6237 non-null   object \n",
      " 8   Price         6237 non-null   float64\n",
      "dtypes: float64(1), object(8)\n",
      "memory usage: 438.7+ KB\n"
     ]
    }
   ],
   "source": [
    "df.info()"
   ]
  },
  {
   "cell_type": "code",
   "execution_count": 5,
   "metadata": {},
   "outputs": [
    {
     "data": {
      "text/html": [
       "<div>\n",
       "<style scoped>\n",
       "    .dataframe tbody tr th:only-of-type {\n",
       "        vertical-align: middle;\n",
       "    }\n",
       "\n",
       "    .dataframe tbody tr th {\n",
       "        vertical-align: top;\n",
       "    }\n",
       "\n",
       "    .dataframe thead th {\n",
       "        text-align: right;\n",
       "    }\n",
       "</style>\n",
       "<table border=\"1\" class=\"dataframe\">\n",
       "  <thead>\n",
       "    <tr style=\"text-align: right;\">\n",
       "      <th></th>\n",
       "      <th>Price</th>\n",
       "    </tr>\n",
       "  </thead>\n",
       "  <tbody>\n",
       "    <tr>\n",
       "      <th>count</th>\n",
       "      <td>6237.000000</td>\n",
       "    </tr>\n",
       "    <tr>\n",
       "      <th>mean</th>\n",
       "      <td>560.707516</td>\n",
       "    </tr>\n",
       "    <tr>\n",
       "      <th>std</th>\n",
       "      <td>690.110657</td>\n",
       "    </tr>\n",
       "    <tr>\n",
       "      <th>min</th>\n",
       "      <td>25.000000</td>\n",
       "    </tr>\n",
       "    <tr>\n",
       "      <th>25%</th>\n",
       "      <td>249.180000</td>\n",
       "    </tr>\n",
       "    <tr>\n",
       "      <th>50%</th>\n",
       "      <td>373.000000</td>\n",
       "    </tr>\n",
       "    <tr>\n",
       "      <th>75%</th>\n",
       "      <td>599.000000</td>\n",
       "    </tr>\n",
       "    <tr>\n",
       "      <th>max</th>\n",
       "      <td>14100.000000</td>\n",
       "    </tr>\n",
       "  </tbody>\n",
       "</table>\n",
       "</div>"
      ],
      "text/plain": [
       "              Price\n",
       "count   6237.000000\n",
       "mean     560.707516\n",
       "std      690.110657\n",
       "min       25.000000\n",
       "25%      249.180000\n",
       "50%      373.000000\n",
       "75%      599.000000\n",
       "max    14100.000000"
      ]
     },
     "execution_count": 5,
     "metadata": {},
     "output_type": "execute_result"
    }
   ],
   "source": [
    "df.describe()"
   ]
  },
  {
   "cell_type": "code",
   "execution_count": 6,
   "metadata": {},
   "outputs": [],
   "source": [
    "# plot price to see outliers\n",
    "# change some of the columns \n",
    "# what to do about synopsis?"
   ]
  },
  {
   "cell_type": "code",
   "execution_count": 7,
   "metadata": {},
   "outputs": [
    {
     "data": {
      "text/plain": [
       "(array([5.855e+03, 3.010e+02, 4.400e+01, 2.300e+01, 5.000e+00, 3.000e+00,\n",
       "        2.000e+00, 1.000e+00, 1.000e+00, 2.000e+00]),\n",
       " array([   25. ,  1432.5,  2840. ,  4247.5,  5655. ,  7062.5,  8470. ,\n",
       "         9877.5, 11285. , 12692.5, 14100. ]),\n",
       " <BarContainer object of 10 artists>)"
      ]
     },
     "execution_count": 7,
     "metadata": {},
     "output_type": "execute_result"
    },
    {
     "data": {
      "image/png": "[encoded data removed]",
      "text/plain": [
       "<Figure size 432x288 with 1 Axes>"
      ]
     },
     "metadata": {
      "needs_background": "light"
     },
     "output_type": "display_data"
    }
   ],
   "source": [
    "plt.hist(df['Price'])"
   ]
  },
  {
   "cell_type": "code",
   "execution_count": 8,
   "metadata": {},
   "outputs": [
    {
     "name": "stdout",
     "output_type": "stream",
     "text": [
      "more than 4000 price  43\n",
      "more than 6000 price  12\n",
      "more than 140000 price  1\n"
     ]
    }
   ],
   "source": [
    "# how many above 4000, 6000 and 14000\n",
    "print(\"more than 4000 price \", len(df[df.Price > 4000]))\n",
    "print(\"more than 6000 price \", len(df[df.Price > 6000]))\n",
    "print(\"more than 140000 price \", len(df[df.Price > 14000]))"
   ]
  },
  {
   "cell_type": "code",
   "execution_count": 9,
   "metadata": {},
   "outputs": [
    {
     "name": "stdout",
     "output_type": "stream",
     "text": [
      "0.6894340227673561\n"
     ]
    }
   ],
   "source": [
    "print(43/6237*100)"
   ]
  },
  {
   "cell_type": "code",
   "execution_count": 10,
   "metadata": {},
   "outputs": [
    {
     "data": {
      "text/html": [
       "<div>\n",
       "<style scoped>\n",
       "    .dataframe tbody tr th:only-of-type {\n",
       "        vertical-align: middle;\n",
       "    }\n",
       "\n",
       "    .dataframe tbody tr th {\n",
       "        vertical-align: top;\n",
       "    }\n",
       "\n",
       "    .dataframe thead th {\n",
       "        text-align: right;\n",
       "    }\n",
       "</style>\n",
       "<table border=\"1\" class=\"dataframe\">\n",
       "  <thead>\n",
       "    <tr style=\"text-align: right;\">\n",
       "      <th></th>\n",
       "      <th>Title</th>\n",
       "      <th>Author</th>\n",
       "      <th>Edition</th>\n",
       "      <th>Reviews</th>\n",
       "      <th>Ratings</th>\n",
       "      <th>Synopsis</th>\n",
       "      <th>Genre</th>\n",
       "      <th>BookCategory</th>\n",
       "      <th>Price</th>\n",
       "    </tr>\n",
       "  </thead>\n",
       "  <tbody>\n",
       "    <tr>\n",
       "      <th>2455</th>\n",
       "      <td>The Complete Asterix Box Set (36 Titles)</td>\n",
       "      <td>Rene Goscinny</td>\n",
       "      <td>Product Bundle,– 26 Aug 2016</td>\n",
       "      <td>4.9 out of 5 stars</td>\n",
       "      <td>22 customer reviews</td>\n",
       "      <td>Composed of thirty six, four-colour albums in ...</td>\n",
       "      <td>Comics &amp; Graphic Novels (Books)</td>\n",
       "      <td>Comics &amp; Mangas</td>\n",
       "      <td>14100.0</td>\n",
       "    </tr>\n",
       "  </tbody>\n",
       "</table>\n",
       "</div>"
      ],
      "text/plain": [
       "                                         Title         Author  \\\n",
       "2455  The Complete Asterix Box Set (36 Titles)  Rene Goscinny   \n",
       "\n",
       "                           Edition             Reviews              Ratings  \\\n",
       "2455  Product Bundle,– 26 Aug 2016  4.9 out of 5 stars  22 customer reviews   \n",
       "\n",
       "                                               Synopsis  \\\n",
       "2455  Composed of thirty six, four-colour albums in ...   \n",
       "\n",
       "                                Genre     BookCategory    Price  \n",
       "2455  Comics & Graphic Novels (Books)  Comics & Mangas  14100.0  "
      ]
     },
     "execution_count": 10,
     "metadata": {},
     "output_type": "execute_result"
    }
   ],
   "source": [
    "# what is that book that cost so much?\n",
    "df[df.Price == df.Price.max()]\n",
    "\n",
    "# it is 36 title box set, seems possible."
   ]
  },
  {
   "cell_type": "code",
   "execution_count": 11,
   "metadata": {},
   "outputs": [
    {
     "data": {
      "text/html": [
       "<div>\n",
       "<style scoped>\n",
       "    .dataframe tbody tr th:only-of-type {\n",
       "        vertical-align: middle;\n",
       "    }\n",
       "\n",
       "    .dataframe tbody tr th {\n",
       "        vertical-align: top;\n",
       "    }\n",
       "\n",
       "    .dataframe thead th {\n",
       "        text-align: right;\n",
       "    }\n",
       "</style>\n",
       "<table border=\"1\" class=\"dataframe\">\n",
       "  <thead>\n",
       "    <tr style=\"text-align: right;\">\n",
       "      <th></th>\n",
       "      <th>Title</th>\n",
       "      <th>Author</th>\n",
       "      <th>Edition</th>\n",
       "      <th>Reviews</th>\n",
       "      <th>Ratings</th>\n",
       "      <th>Synopsis</th>\n",
       "      <th>Genre</th>\n",
       "      <th>BookCategory</th>\n",
       "      <th>Price</th>\n",
       "    </tr>\n",
       "  </thead>\n",
       "  <tbody>\n",
       "    <tr>\n",
       "      <th>886</th>\n",
       "      <td>Modern Labor Economics: Theory and Public Poli...</td>\n",
       "      <td>Ronald G. Ehrenberg</td>\n",
       "      <td>Hardcover,– Import, 27 Oct 1999</td>\n",
       "      <td>4.0 out of 5 stars</td>\n",
       "      <td>1 customer review</td>\n",
       "      <td>Comprehensively surveying the field of labor e...</td>\n",
       "      <td>Labor &amp; Industrial Relations</td>\n",
       "      <td>Politics</td>\n",
       "      <td>13244.67</td>\n",
       "    </tr>\n",
       "    <tr>\n",
       "      <th>2455</th>\n",
       "      <td>The Complete Asterix Box Set (36 Titles)</td>\n",
       "      <td>Rene Goscinny</td>\n",
       "      <td>Product Bundle,– 26 Aug 2016</td>\n",
       "      <td>4.9 out of 5 stars</td>\n",
       "      <td>22 customer reviews</td>\n",
       "      <td>Composed of thirty six, four-colour albums in ...</td>\n",
       "      <td>Comics &amp; Graphic Novels (Books)</td>\n",
       "      <td>Comics &amp; Mangas</td>\n",
       "      <td>14100.00</td>\n",
       "    </tr>\n",
       "    <tr>\n",
       "      <th>2560</th>\n",
       "      <td>Ranga Roopa: Gods. Words. Images</td>\n",
       "      <td>B.N. Goswamy</td>\n",
       "      <td>Paperback,– 28 May 2010</td>\n",
       "      <td>4.5 out of 5 stars</td>\n",
       "      <td>10 customer reviews</td>\n",
       "      <td>The delights of Indian art and poetry are brou...</td>\n",
       "      <td>Arts History, Theory &amp; Criticism (Books)</td>\n",
       "      <td>Arts, Film &amp; Photography</td>\n",
       "      <td>9096.00</td>\n",
       "    </tr>\n",
       "    <tr>\n",
       "      <th>2607</th>\n",
       "      <td>Fifty Cars that Changed the World: Design Muse...</td>\n",
       "      <td>Design Museum Enterprise Limited</td>\n",
       "      <td>Hardcover,– 6 Oct 2009</td>\n",
       "      <td>4.0 out of 5 stars</td>\n",
       "      <td>1 customer review</td>\n",
       "      <td>Everything around us is designed and the word ...</td>\n",
       "      <td>Arts History, Theory &amp; Criticism (Books)</td>\n",
       "      <td>Arts, Film &amp; Photography</td>\n",
       "      <td>11715.12</td>\n",
       "    </tr>\n",
       "    <tr>\n",
       "      <th>2818</th>\n",
       "      <td>On the Night of the Seventh Moon: The Classic ...</td>\n",
       "      <td>Victoria Holt</td>\n",
       "      <td>Paperback,– 2 Mar 2010</td>\n",
       "      <td>5.0 out of 5 stars</td>\n",
       "      <td>1 customer review</td>\n",
       "      <td>For generations, Victoria Holt has dazzled and...</td>\n",
       "      <td>Romance (Books)</td>\n",
       "      <td>Romance</td>\n",
       "      <td>9984.00</td>\n",
       "    </tr>\n",
       "    <tr>\n",
       "      <th>3703</th>\n",
       "      <td>The Sandman Omnibus Vol. 1</td>\n",
       "      <td>Neil Gaiman</td>\n",
       "      <td>Hardcover,– 3 Sep 2013</td>\n",
       "      <td>5.0 out of 5 stars</td>\n",
       "      <td>11 customer reviews</td>\n",
       "      <td>A New York Times Bestseller!\\n\\nThe Sandman is...</td>\n",
       "      <td>Comics</td>\n",
       "      <td>Comics &amp; Mangas</td>\n",
       "      <td>6840.00</td>\n",
       "    </tr>\n",
       "    <tr>\n",
       "      <th>4282</th>\n",
       "      <td>The Sandman Omnibus Vol. 2</td>\n",
       "      <td>Neil Gaiman</td>\n",
       "      <td>Hardcover,– 12 Nov 2013</td>\n",
       "      <td>5.0 out of 5 stars</td>\n",
       "      <td>4 customer reviews</td>\n",
       "      <td>A New York Times bestseller!\\n\\nThe Sandman is...</td>\n",
       "      <td>Comics</td>\n",
       "      <td>Comics &amp; Mangas</td>\n",
       "      <td>7195.00</td>\n",
       "    </tr>\n",
       "    <tr>\n",
       "      <th>4301</th>\n",
       "      <td>Bleach Box Set 3: Includes vols. 49-74 with pr...</td>\n",
       "      <td>Tite Kubo</td>\n",
       "      <td>Paperback,– Import, 6 Nov 2018</td>\n",
       "      <td>5.0 out of 5 stars</td>\n",
       "      <td>1 customer review</td>\n",
       "      <td>Part-time student, full-time Soul Reaper, Ichi...</td>\n",
       "      <td>Mangas</td>\n",
       "      <td>Comics &amp; Mangas</td>\n",
       "      <td>8999.00</td>\n",
       "    </tr>\n",
       "    <tr>\n",
       "      <th>4463</th>\n",
       "      <td>Essentials of Strength Training and Conditioning</td>\n",
       "      <td>G.Gregory Haff, N. Travis Triplett</td>\n",
       "      <td>Hardcover,– 16 Nov 2015</td>\n",
       "      <td>4.5 out of 5 stars</td>\n",
       "      <td>2 customer reviews</td>\n",
       "      <td>Essentials of Strength Training and Conditioni...</td>\n",
       "      <td>Healthy Living &amp; Wellness (Books)</td>\n",
       "      <td>Sports</td>\n",
       "      <td>7132.00</td>\n",
       "    </tr>\n",
       "    <tr>\n",
       "      <th>5704</th>\n",
       "      <td>Homer Kelley's Golfing Machine: The Curious Qu...</td>\n",
       "      <td>Scott Gummer</td>\n",
       "      <td>Paperback,– 4 May 2010</td>\n",
       "      <td>4.0 out of 5 stars</td>\n",
       "      <td>1 customer review</td>\n",
       "      <td>The remarkable true story of a lone genius who...</td>\n",
       "      <td>Baseball (Books)</td>\n",
       "      <td>Sports</td>\n",
       "      <td>7302.00</td>\n",
       "    </tr>\n",
       "    <tr>\n",
       "      <th>5825</th>\n",
       "      <td>Watchmen: Absolute Edition (Absolute Editions)</td>\n",
       "      <td>Alan Moore</td>\n",
       "      <td>Hardcover,– 13 Dec 2011</td>\n",
       "      <td>5.0 out of 5 stars</td>\n",
       "      <td>2 customer reviews</td>\n",
       "      <td>SOON TO BE A FEATURE FILM!\\nThis Hugo Award-wi...</td>\n",
       "      <td>Comics</td>\n",
       "      <td>Comics &amp; Mangas</td>\n",
       "      <td>6415.00</td>\n",
       "    </tr>\n",
       "    <tr>\n",
       "      <th>5896</th>\n",
       "      <td>Daredevil by Frank Miller &amp; Klaus Jason Omnibu...</td>\n",
       "      <td>Frank Miller</td>\n",
       "      <td>Hardcover,– 15 Mar 2016</td>\n",
       "      <td>5.0 out of 5 stars</td>\n",
       "      <td>1 customer review</td>\n",
       "      <td>A classic Marvel hero redefined by one of comi...</td>\n",
       "      <td>Comics</td>\n",
       "      <td>Comics &amp; Mangas</td>\n",
       "      <td>6911.00</td>\n",
       "    </tr>\n",
       "  </tbody>\n",
       "</table>\n",
       "</div>"
      ],
      "text/plain": [
       "                                                  Title  \\\n",
       "886   Modern Labor Economics: Theory and Public Poli...   \n",
       "2455           The Complete Asterix Box Set (36 Titles)   \n",
       "2560                   Ranga Roopa: Gods. Words. Images   \n",
       "2607  Fifty Cars that Changed the World: Design Muse...   \n",
       "2818  On the Night of the Seventh Moon: The Classic ...   \n",
       "3703                         The Sandman Omnibus Vol. 1   \n",
       "4282                         The Sandman Omnibus Vol. 2   \n",
       "4301  Bleach Box Set 3: Includes vols. 49-74 with pr...   \n",
       "4463   Essentials of Strength Training and Conditioning   \n",
       "5704  Homer Kelley's Golfing Machine: The Curious Qu...   \n",
       "5825     Watchmen: Absolute Edition (Absolute Editions)   \n",
       "5896  Daredevil by Frank Miller & Klaus Jason Omnibu...   \n",
       "\n",
       "                                  Author                          Edition  \\\n",
       "886                  Ronald G. Ehrenberg  Hardcover,– Import, 27 Oct 1999   \n",
       "2455                       Rene Goscinny     Product Bundle,– 26 Aug 2016   \n",
       "2560                        B.N. Goswamy          Paperback,– 28 May 2010   \n",
       "2607    Design Museum Enterprise Limited           Hardcover,– 6 Oct 2009   \n",
       "2818                       Victoria Holt           Paperback,– 2 Mar 2010   \n",
       "3703                         Neil Gaiman           Hardcover,– 3 Sep 2013   \n",
       "4282                         Neil Gaiman          Hardcover,– 12 Nov 2013   \n",
       "4301                           Tite Kubo   Paperback,– Import, 6 Nov 2018   \n",
       "4463  G.Gregory Haff, N. Travis Triplett          Hardcover,– 16 Nov 2015   \n",
       "5704                        Scott Gummer           Paperback,– 4 May 2010   \n",
       "5825                          Alan Moore          Hardcover,– 13 Dec 2011   \n",
       "5896                        Frank Miller          Hardcover,– 15 Mar 2016   \n",
       "\n",
       "                 Reviews              Ratings  \\\n",
       "886   4.0 out of 5 stars    1 customer review   \n",
       "2455  4.9 out of 5 stars  22 customer reviews   \n",
       "2560  4.5 out of 5 stars  10 customer reviews   \n",
       "2607  4.0 out of 5 stars    1 customer review   \n",
       "2818  5.0 out of 5 stars    1 customer review   \n",
       "3703  5.0 out of 5 stars  11 customer reviews   \n",
       "4282  5.0 out of 5 stars   4 customer reviews   \n",
       "4301  5.0 out of 5 stars    1 customer review   \n",
       "4463  4.5 out of 5 stars   2 customer reviews   \n",
       "5704  4.0 out of 5 stars    1 customer review   \n",
       "5825  5.0 out of 5 stars   2 customer reviews   \n",
       "5896  5.0 out of 5 stars    1 customer review   \n",
       "\n",
       "                                               Synopsis  \\\n",
       "886   Comprehensively surveying the field of labor e...   \n",
       "2455  Composed of thirty six, four-colour albums in ...   \n",
       "2560  The delights of Indian art and poetry are brou...   \n",
       "2607  Everything around us is designed and the word ...   \n",
       "2818  For generations, Victoria Holt has dazzled and...   \n",
       "3703  A New York Times Bestseller!\\n\\nThe Sandman is...   \n",
       "4282  A New York Times bestseller!\\n\\nThe Sandman is...   \n",
       "4301  Part-time student, full-time Soul Reaper, Ichi...   \n",
       "4463  Essentials of Strength Training and Conditioni...   \n",
       "5704  The remarkable true story of a lone genius who...   \n",
       "5825  SOON TO BE A FEATURE FILM!\\nThis Hugo Award-wi...   \n",
       "5896  A classic Marvel hero redefined by one of comi...   \n",
       "\n",
       "                                         Genre              BookCategory  \\\n",
       "886               Labor & Industrial Relations                  Politics   \n",
       "2455           Comics & Graphic Novels (Books)           Comics & Mangas   \n",
       "2560  Arts History, Theory & Criticism (Books)  Arts, Film & Photography   \n",
       "2607  Arts History, Theory & Criticism (Books)  Arts, Film & Photography   \n",
       "2818                           Romance (Books)                   Romance   \n",
       "3703                                    Comics           Comics & Mangas   \n",
       "4282                                    Comics           Comics & Mangas   \n",
       "4301                                    Mangas           Comics & Mangas   \n",
       "4463         Healthy Living & Wellness (Books)                    Sports   \n",
       "5704                          Baseball (Books)                    Sports   \n",
       "5825                                    Comics           Comics & Mangas   \n",
       "5896                                    Comics           Comics & Mangas   \n",
       "\n",
       "         Price  \n",
       "886   13244.67  \n",
       "2455  14100.00  \n",
       "2560   9096.00  \n",
       "2607  11715.12  \n",
       "2818   9984.00  \n",
       "3703   6840.00  \n",
       "4282   7195.00  \n",
       "4301   8999.00  \n",
       "4463   7132.00  \n",
       "5704   7302.00  \n",
       "5825   6415.00  \n",
       "5896   6911.00  "
      ]
     },
     "execution_count": 11,
     "metadata": {},
     "output_type": "execute_result"
    }
   ],
   "source": [
    "df[df.Price > 6000]"
   ]
  },
  {
   "cell_type": "markdown",
   "metadata": {},
   "source": [
    "## Add Another Reviews Column With Float "
   ]
  },
  {
   "cell_type": "code",
   "execution_count": 12,
   "metadata": {},
   "outputs": [],
   "source": [
    "# try using regex\n",
    "import re"
   ]
  },
  {
   "cell_type": "code",
   "execution_count": 13,
   "metadata": {},
   "outputs": [
    {
     "data": {
      "text/plain": [
       "0       4.0 out of 5 stars\n",
       "1       3.9 out of 5 stars\n",
       "2       4.8 out of 5 stars\n",
       "3       4.1 out of 5 stars\n",
       "4       5.0 out of 5 stars\n",
       "               ...        \n",
       "6232    5.0 out of 5 stars\n",
       "6233    3.3 out of 5 stars\n",
       "6234    3.8 out of 5 stars\n",
       "6235    3.5 out of 5 stars\n",
       "6236    3.9 out of 5 stars\n",
       "Name: Reviews, Length: 6237, dtype: object"
      ]
     },
     "execution_count": 13,
     "metadata": {},
     "output_type": "execute_result"
    }
   ],
   "source": [
    "df.Reviews.astype('str')"
   ]
  },
  {
   "cell_type": "code",
   "execution_count": 14,
   "metadata": {},
   "outputs": [],
   "source": [
    "import re\n",
    "\n",
    "df['fReviews'] = df.Reviews.str.extract('(\\d+\\.\\d+)')"
   ]
  },
  {
   "cell_type": "code",
   "execution_count": 15,
   "metadata": {},
   "outputs": [
    {
     "data": {
      "text/plain": [
       "Title            object\n",
       "Author           object\n",
       "Edition          object\n",
       "Reviews          object\n",
       "Ratings          object\n",
       "Synopsis         object\n",
       "Genre            object\n",
       "BookCategory     object\n",
       "Price           float64\n",
       "fReviews         object\n",
       "dtype: object"
      ]
     },
     "execution_count": 15,
     "metadata": {},
     "output_type": "execute_result"
    }
   ],
   "source": [
    "df.dtypes"
   ]
  },
  {
   "cell_type": "code",
   "execution_count": 16,
   "metadata": {},
   "outputs": [
    {
     "data": {
      "text/html": [
       "<div>\n",
       "<style scoped>\n",
       "    .dataframe tbody tr th:only-of-type {\n",
       "        vertical-align: middle;\n",
       "    }\n",
       "\n",
       "    .dataframe tbody tr th {\n",
       "        vertical-align: top;\n",
       "    }\n",
       "\n",
       "    .dataframe thead th {\n",
       "        text-align: right;\n",
       "    }\n",
       "</style>\n",
       "<table border=\"1\" class=\"dataframe\">\n",
       "  <thead>\n",
       "    <tr style=\"text-align: right;\">\n",
       "      <th></th>\n",
       "      <th>Title</th>\n",
       "      <th>Author</th>\n",
       "      <th>Edition</th>\n",
       "      <th>Reviews</th>\n",
       "      <th>Ratings</th>\n",
       "      <th>Synopsis</th>\n",
       "      <th>Genre</th>\n",
       "      <th>BookCategory</th>\n",
       "      <th>Price</th>\n",
       "      <th>fReviews</th>\n",
       "    </tr>\n",
       "  </thead>\n",
       "  <tbody>\n",
       "    <tr>\n",
       "      <th>5006</th>\n",
       "      <td>Women Who Love Too Much</td>\n",
       "      <td>Robin Norwood</td>\n",
       "      <td>Paperback,– 2 Sep 2004</td>\n",
       "      <td>3.8 out of 5 stars</td>\n",
       "      <td>15 customer reviews</td>\n",
       "      <td>Is having 'somebody to love' the most importan...</td>\n",
       "      <td>Family &amp; Relationships (Books)</td>\n",
       "      <td>Humour</td>\n",
       "      <td>449.0</td>\n",
       "      <td>3.8</td>\n",
       "    </tr>\n",
       "  </tbody>\n",
       "</table>\n",
       "</div>"
      ],
      "text/plain": [
       "                        Title         Author                 Edition  \\\n",
       "5006  Women Who Love Too Much  Robin Norwood  Paperback,– 2 Sep 2004   \n",
       "\n",
       "                 Reviews              Ratings  \\\n",
       "5006  3.8 out of 5 stars  15 customer reviews   \n",
       "\n",
       "                                               Synopsis  \\\n",
       "5006  Is having 'somebody to love' the most importan...   \n",
       "\n",
       "                               Genre BookCategory  Price fReviews  \n",
       "5006  Family & Relationships (Books)       Humour  449.0      3.8  "
      ]
     },
     "execution_count": 16,
     "metadata": {},
     "output_type": "execute_result"
    }
   ],
   "source": [
    "df.sample()"
   ]
  },
  {
   "cell_type": "code",
   "execution_count": 17,
   "metadata": {},
   "outputs": [
    {
     "data": {
      "text/plain": [
       "0       4.0\n",
       "1       3.9\n",
       "2       4.8\n",
       "3       4.1\n",
       "4       5.0\n",
       "       ... \n",
       "6232    5.0\n",
       "6233    3.3\n",
       "6234    3.8\n",
       "6235    3.5\n",
       "6236    3.9\n",
       "Name: fReviews, Length: 6237, dtype: float64"
      ]
     },
     "execution_count": 17,
     "metadata": {},
     "output_type": "execute_result"
    }
   ],
   "source": [
    "df['fReviews'].astype(float)"
   ]
  },
  {
   "cell_type": "code",
   "execution_count": 18,
   "metadata": {},
   "outputs": [
    {
     "data": {
      "text/plain": [
       "0       4.0\n",
       "1       3.9\n",
       "2       4.8\n",
       "3       4.1\n",
       "4       5.0\n",
       "       ... \n",
       "6232    5.0\n",
       "6233    3.3\n",
       "6234    3.8\n",
       "6235    3.5\n",
       "6236    3.9\n",
       "Name: fReviews, Length: 6237, dtype: float64"
      ]
     },
     "execution_count": 18,
     "metadata": {},
     "output_type": "execute_result"
    }
   ],
   "source": [
    "pd.to_numeric(df['fReviews'], errors='coerce')"
   ]
  },
  {
   "cell_type": "code",
   "execution_count": 19,
   "metadata": {},
   "outputs": [],
   "source": [
    "df['fReviews'] = pd.to_numeric(df['fReviews'], errors='coerce')\n",
    "\n",
    "\n",
    "\n",
    "# df['strain_float'] = df['strain'].astype(float).round(2)"
   ]
  },
  {
   "cell_type": "code",
   "execution_count": 20,
   "metadata": {},
   "outputs": [
    {
     "name": "stdout",
     "output_type": "stream",
     "text": [
      "<class 'pandas.core.frame.DataFrame'>\n",
      "RangeIndex: 6237 entries, 0 to 6236\n",
      "Data columns (total 10 columns):\n",
      " #   Column        Non-Null Count  Dtype  \n",
      "---  ------        --------------  -----  \n",
      " 0   Title         6237 non-null   object \n",
      " 1   Author        6237 non-null   object \n",
      " 2   Edition       6237 non-null   object \n",
      " 3   Reviews       6237 non-null   object \n",
      " 4   Ratings       6237 non-null   object \n",
      " 5   Synopsis      6237 non-null   object \n",
      " 6   Genre         6237 non-null   object \n",
      " 7   BookCategory  6237 non-null   object \n",
      " 8   Price         6237 non-null   float64\n",
      " 9   fReviews      6237 non-null   float64\n",
      "dtypes: float64(2), object(8)\n",
      "memory usage: 487.4+ KB\n"
     ]
    }
   ],
   "source": [
    "df.info()"
   ]
  },
  {
   "cell_type": "code",
   "execution_count": 21,
   "metadata": {},
   "outputs": [
    {
     "data": {
      "text/plain": [
       "<bound method Series.count of 0       4.0\n",
       "1       3.9\n",
       "2       4.8\n",
       "3       4.1\n",
       "4       5.0\n",
       "       ... \n",
       "6232    5.0\n",
       "6233    3.3\n",
       "6234    3.8\n",
       "6235    3.5\n",
       "6236    3.9\n",
       "Name: fReviews, Length: 6237, dtype: float64>"
      ]
     },
     "execution_count": 21,
     "metadata": {},
     "output_type": "execute_result"
    }
   ],
   "source": [
    "df['fReviews'].count"
   ]
  },
  {
   "cell_type": "code",
   "execution_count": 22,
   "metadata": {},
   "outputs": [
    {
     "data": {
      "text/plain": [
       "6237"
      ]
     },
     "execution_count": 22,
     "metadata": {},
     "output_type": "execute_result"
    }
   ],
   "source": [
    "df['fReviews'].count()"
   ]
  },
  {
   "cell_type": "code",
   "execution_count": 23,
   "metadata": {},
   "outputs": [
    {
     "data": {
      "text/plain": [
       "array([4. , 3.9, 4.8, 4.1, 5. , 4.5, 4.4, 4.7, 4.2, 4.9, 3.5, 3.8, 4.3,\n",
       "       3.1, 4.6, 2. , 3.7, 3.2, 2.6, 2.8, 3.4, 2.9, 3.3, 3. , 2.5, 1. ,\n",
       "       3.6, 2.7, 1.5, 2.3, 1.7, 2.2, 1.4, 2.4, 1.6, 2.1])"
      ]
     },
     "execution_count": 23,
     "metadata": {},
     "output_type": "execute_result"
    }
   ],
   "source": [
    "df['fReviews'].unique()"
   ]
  },
  {
   "cell_type": "code",
   "execution_count": 24,
   "metadata": {},
   "outputs": [
    {
     "data": {
      "text/plain": [
       "<bound method Series.unique of 0       4.0\n",
       "1       3.9\n",
       "2       4.8\n",
       "3       4.1\n",
       "4       5.0\n",
       "       ... \n",
       "6232    5.0\n",
       "6233    3.3\n",
       "6234    3.8\n",
       "6235    3.5\n",
       "6236    3.9\n",
       "Name: fReviews, Length: 6237, dtype: float64>"
      ]
     },
     "execution_count": 24,
     "metadata": {},
     "output_type": "execute_result"
    }
   ],
   "source": [
    "df['fReviews'].unique"
   ]
  },
  {
   "cell_type": "code",
   "execution_count": 25,
   "metadata": {},
   "outputs": [
    {
     "data": {
      "text/plain": [
       "36"
      ]
     },
     "execution_count": 25,
     "metadata": {},
     "output_type": "execute_result"
    }
   ],
   "source": [
    "df['fReviews'].nunique()"
   ]
  },
  {
   "cell_type": "code",
   "execution_count": 26,
   "metadata": {},
   "outputs": [
    {
     "data": {
      "text/plain": [
       "5.0    1375\n",
       "4.0     570\n",
       "4.5     507\n",
       "4.6     394\n",
       "4.4     389\n",
       "4.3     359\n",
       "4.7     343\n",
       "4.2     324\n",
       "4.1     310\n",
       "3.9     241\n",
       "4.8     222\n",
       "3.8     190\n",
       "3.7     167\n",
       "3.0     138\n",
       "3.5     115\n",
       "3.6     110\n",
       "4.9      75\n",
       "3.4      75\n",
       "3.3      57\n",
       "3.1      49\n",
       "1.0      49\n",
       "3.2      41\n",
       "2.0      39\n",
       "2.9      26\n",
       "2.5      18\n",
       "2.7      16\n",
       "2.8      10\n",
       "2.3       7\n",
       "1.5       5\n",
       "2.6       4\n",
       "2.4       4\n",
       "2.2       3\n",
       "1.4       2\n",
       "1.7       1\n",
       "2.1       1\n",
       "1.6       1\n",
       "Name: fReviews, dtype: int64"
      ]
     },
     "execution_count": 26,
     "metadata": {},
     "output_type": "execute_result"
    }
   ],
   "source": [
    "df['fReviews'].value_counts()"
   ]
  },
  {
   "cell_type": "code",
   "execution_count": 27,
   "metadata": {},
   "outputs": [
    {
     "data": {
      "text/plain": [
       "6237"
      ]
     },
     "execution_count": 27,
     "metadata": {},
     "output_type": "execute_result"
    }
   ],
   "source": [
    "df['fReviews'].value_counts().sum()"
   ]
  },
  {
   "cell_type": "code",
   "execution_count": 28,
   "metadata": {},
   "outputs": [
    {
     "data": {
      "text/plain": [
       "(4.0, 5.0]      4298\n",
       "(3.0, 4.0]      1615\n",
       "(2.0, 3.0]       227\n",
       "(0.995, 2.0]      97\n",
       "Name: fReviews, dtype: int64"
      ]
     },
     "execution_count": 28,
     "metadata": {},
     "output_type": "execute_result"
    }
   ],
   "source": [
    "df['fReviews'].value_counts(bins=4)"
   ]
  },
  {
   "cell_type": "code",
   "execution_count": 29,
   "metadata": {},
   "outputs": [
    {
     "data": {
      "text/plain": [
       "1.6       1\n",
       "2.1       1\n",
       "1.7       1\n",
       "1.4       2\n",
       "2.2       3\n",
       "2.4       4\n",
       "2.6       4\n",
       "1.5       5\n",
       "2.3       7\n",
       "2.8      10\n",
       "2.7      16\n",
       "2.5      18\n",
       "2.9      26\n",
       "2.0      39\n",
       "3.2      41\n",
       "1.0      49\n",
       "3.1      49\n",
       "3.3      57\n",
       "3.4      75\n",
       "4.9      75\n",
       "3.6     110\n",
       "3.5     115\n",
       "3.0     138\n",
       "3.7     167\n",
       "3.8     190\n",
       "4.8     222\n",
       "3.9     241\n",
       "4.1     310\n",
       "4.2     324\n",
       "4.7     343\n",
       "4.3     359\n",
       "4.4     389\n",
       "4.6     394\n",
       "4.5     507\n",
       "4.0     570\n",
       "5.0    1375\n",
       "Name: fReviews, dtype: int64"
      ]
     },
     "execution_count": 29,
     "metadata": {},
     "output_type": "execute_result"
    }
   ],
   "source": [
    "df['fReviews'].value_counts(ascending=True)"
   ]
  },
  {
   "cell_type": "code",
   "execution_count": 30,
   "metadata": {},
   "outputs": [
    {
     "data": {
      "text/plain": [
       "6237"
      ]
     },
     "execution_count": 30,
     "metadata": {},
     "output_type": "execute_result"
    }
   ],
   "source": [
    "df['fReviews'].size"
   ]
  },
  {
   "cell_type": "code",
   "execution_count": 31,
   "metadata": {},
   "outputs": [
    {
     "data": {
      "text/plain": [
       "(array([  49.,    9.,   40.,   32.,   56.,  360.,  582., 1121., 1579.,\n",
       "        2409.]),\n",
       " array([1. , 1.4, 1.8, 2.2, 2.6, 3. , 3.4, 3.8, 4.2, 4.6, 5. ]),\n",
       " <BarContainer object of 10 artists>)"
      ]
     },
     "execution_count": 31,
     "metadata": {},
     "output_type": "execute_result"
    },
    {
     "data": {
      "image/png": "[encoded data removed]",
      "text/plain": [
       "<Figure size 432x288 with 1 Axes>"
      ]
     },
     "metadata": {
      "needs_background": "light"
     },
     "output_type": "display_data"
    }
   ],
   "source": [
    "plt.hist(df['fReviews'])"
   ]
  },
  {
   "cell_type": "code",
   "execution_count": 32,
   "metadata": {
    "scrolled": true
   },
   "outputs": [
    {
     "data": {
      "text/plain": [
       "0    4.0\n",
       "1    3.9\n",
       "2    4.8\n",
       "3    4.1\n",
       "4    5.0\n",
       "Name: fReviews, dtype: float64"
      ]
     },
     "execution_count": 32,
     "metadata": {},
     "output_type": "execute_result"
    }
   ],
   "source": [
    "df['fReviews'].head()"
   ]
  },
  {
   "cell_type": "code",
   "execution_count": 33,
   "metadata": {},
   "outputs": [
    {
     "data": {
      "text/plain": [
       "6232    5.0\n",
       "6233    3.3\n",
       "6234    3.8\n",
       "6235    3.5\n",
       "6236    3.9\n",
       "Name: fReviews, dtype: float64"
      ]
     },
     "execution_count": 33,
     "metadata": {},
     "output_type": "execute_result"
    }
   ],
   "source": [
    "df['fReviews'].tail()"
   ]
  },
  {
   "cell_type": "code",
   "execution_count": 34,
   "metadata": {},
   "outputs": [
    {
     "data": {
      "text/plain": [
       "877     5.0\n",
       "5426    4.3\n",
       "5504    5.0\n",
       "5428    5.0\n",
       "4708    5.0\n",
       "346     3.9\n",
       "1726    3.6\n",
       "1010    4.1\n",
       "6177    4.3\n",
       "3464    3.7\n",
       "Name: fReviews, dtype: float64"
      ]
     },
     "execution_count": 34,
     "metadata": {},
     "output_type": "execute_result"
    }
   ],
   "source": [
    "df['fReviews'].sample(10)"
   ]
  },
  {
   "cell_type": "code",
   "execution_count": 35,
   "metadata": {},
   "outputs": [
    {
     "data": {
      "text/plain": [
       "4    5.0\n",
       "5    4.5\n",
       "Name: fReviews, dtype: float64"
      ]
     },
     "execution_count": 35,
     "metadata": {},
     "output_type": "execute_result"
    }
   ],
   "source": [
    "df['fReviews'][4:6]"
   ]
  },
  {
   "cell_type": "markdown",
   "metadata": {},
   "source": [
    "# Add Another Ratings Column as Int"
   ]
  },
  {
   "cell_type": "code",
   "execution_count": 36,
   "metadata": {},
   "outputs": [
    {
     "data": {
      "text/plain": [
       "dtype('O')"
      ]
     },
     "execution_count": 36,
     "metadata": {},
     "output_type": "execute_result"
    }
   ],
   "source": [
    "df.Ratings.dtype"
   ]
  },
  {
   "cell_type": "code",
   "execution_count": 37,
   "metadata": {},
   "outputs": [
    {
     "data": {
      "text/html": [
       "<div>\n",
       "<style scoped>\n",
       "    .dataframe tbody tr th:only-of-type {\n",
       "        vertical-align: middle;\n",
       "    }\n",
       "\n",
       "    .dataframe tbody tr th {\n",
       "        vertical-align: top;\n",
       "    }\n",
       "\n",
       "    .dataframe thead th {\n",
       "        text-align: right;\n",
       "    }\n",
       "</style>\n",
       "<table border=\"1\" class=\"dataframe\">\n",
       "  <thead>\n",
       "    <tr style=\"text-align: right;\">\n",
       "      <th></th>\n",
       "      <th>Title</th>\n",
       "      <th>Author</th>\n",
       "      <th>Edition</th>\n",
       "      <th>Reviews</th>\n",
       "      <th>Ratings</th>\n",
       "      <th>Synopsis</th>\n",
       "      <th>Genre</th>\n",
       "      <th>BookCategory</th>\n",
       "      <th>Price</th>\n",
       "      <th>fReviews</th>\n",
       "    </tr>\n",
       "  </thead>\n",
       "  <tbody>\n",
       "    <tr>\n",
       "      <th>3359</th>\n",
       "      <td>Private Delhi: (Private 13)</td>\n",
       "      <td>James Patterson</td>\n",
       "      <td>Paperback,– Import, 4 May 2017</td>\n",
       "      <td>4.0 out of 5 stars</td>\n",
       "      <td>76 customer reviews</td>\n",
       "      <td>Santosh Wagh quit his job as head of Private I...</td>\n",
       "      <td>Contemporary Fiction (Books)</td>\n",
       "      <td>Crime, Thriller &amp; Mystery</td>\n",
       "      <td>169.0</td>\n",
       "      <td>4.0</td>\n",
       "    </tr>\n",
       "    <tr>\n",
       "      <th>1039</th>\n",
       "      <td>Wired</td>\n",
       "      <td>Julie Garwood</td>\n",
       "      <td>Mass Market Paperback,– Import, 3 Jul 2018</td>\n",
       "      <td>3.1 out of 5 stars</td>\n",
       "      <td>4 customer reviews</td>\n",
       "      <td>A beautiful computer hacker and a bad-boy FBI ...</td>\n",
       "      <td>Romance (Books)</td>\n",
       "      <td>Romance</td>\n",
       "      <td>448.0</td>\n",
       "      <td>3.1</td>\n",
       "    </tr>\n",
       "    <tr>\n",
       "      <th>3970</th>\n",
       "      <td>Like a Love Song</td>\n",
       "      <td>Nikita Singh</td>\n",
       "      <td>Paperback,– 19 Mar 2016</td>\n",
       "      <td>3.8 out of 5 stars</td>\n",
       "      <td>136 customer reviews</td>\n",
       "      <td>Love is a many-flavoured thing: it can go from...</td>\n",
       "      <td>Romance (Books)</td>\n",
       "      <td>Romance</td>\n",
       "      <td>131.0</td>\n",
       "      <td>3.8</td>\n",
       "    </tr>\n",
       "  </tbody>\n",
       "</table>\n",
       "</div>"
      ],
      "text/plain": [
       "                            Title           Author  \\\n",
       "3359  Private Delhi: (Private 13)  James Patterson   \n",
       "1039                        Wired    Julie Garwood   \n",
       "3970             Like a Love Song     Nikita Singh   \n",
       "\n",
       "                                         Edition             Reviews  \\\n",
       "3359              Paperback,– Import, 4 May 2017  4.0 out of 5 stars   \n",
       "1039  Mass Market Paperback,– Import, 3 Jul 2018  3.1 out of 5 stars   \n",
       "3970                     Paperback,– 19 Mar 2016  3.8 out of 5 stars   \n",
       "\n",
       "                   Ratings                                           Synopsis  \\\n",
       "3359   76 customer reviews  Santosh Wagh quit his job as head of Private I...   \n",
       "1039    4 customer reviews  A beautiful computer hacker and a bad-boy FBI ...   \n",
       "3970  136 customer reviews  Love is a many-flavoured thing: it can go from...   \n",
       "\n",
       "                             Genre               BookCategory  Price  fReviews  \n",
       "3359  Contemporary Fiction (Books)  Crime, Thriller & Mystery  169.0       4.0  \n",
       "1039               Romance (Books)                    Romance  448.0       3.1  \n",
       "3970               Romance (Books)                    Romance  131.0       3.8  "
      ]
     },
     "execution_count": 37,
     "metadata": {},
     "output_type": "execute_result"
    }
   ],
   "source": [
    "df.sample(3)"
   ]
  },
  {
   "cell_type": "code",
   "execution_count": 38,
   "metadata": {},
   "outputs": [
    {
     "data": {
      "text/plain": [
       "1 customer review         1040\n",
       "2 customer reviews         708\n",
       "3 customer reviews         491\n",
       "4 customer reviews         355\n",
       "5 customer reviews         300\n",
       "                          ... \n",
       "332 customer reviews         1\n",
       "358 customer reviews         1\n",
       "157 customer reviews         1\n",
       "1,403 customer reviews       1\n",
       "1,684 customer reviews       1\n",
       "Name: Ratings, Length: 342, dtype: int64"
      ]
     },
     "execution_count": 38,
     "metadata": {},
     "output_type": "execute_result"
    }
   ],
   "source": [
    "df.Ratings.value_counts()"
   ]
  },
  {
   "cell_type": "code",
   "execution_count": 39,
   "metadata": {},
   "outputs": [],
   "source": [
    "# Don't know why this doens't change the data type to str\n",
    "\n",
    "df['Ratings'] = df['Ratings'].astype(str)"
   ]
  },
  {
   "cell_type": "code",
   "execution_count": 40,
   "metadata": {},
   "outputs": [
    {
     "data": {
      "text/plain": [
       "dtype('O')"
      ]
     },
     "execution_count": 40,
     "metadata": {},
     "output_type": "execute_result"
    }
   ],
   "source": [
    "df.Ratings.dtype"
   ]
  },
  {
   "cell_type": "markdown",
   "metadata": {},
   "source": [
    "## Playing With String Replace\n",
    "\n",
    "str.replace is different than replace in dataframe\n",
    "\n",
    "Syntax: str.replace(old, new[, count])\n",
    "\n",
    "Return a copy of the string with all occurrences of substring old replaced by new. If the optional argument \n",
    "count is given, only the first count occurrences are replaced."
   ]
  },
  {
   "cell_type": "code",
   "execution_count": 41,
   "metadata": {},
   "outputs": [
    {
     "name": "stdout",
     "output_type": "stream",
     "text": [
      "THREE one one is a test, two two two was one too.\n"
     ]
    }
   ],
   "source": [
    "# inplace = True not an argument for string replace\n",
    "# test = str(df.Ratings[0])\n",
    "# print(test)\n",
    "# # test.replace(\"8\",\"test\",inplace=True)\n",
    "# # print(test)\n",
    "\n",
    "# x = test.replace(\"8\",\"TEST\")\n",
    "# print(x)\n",
    "\n",
    "# String replace\n",
    "\n",
    "txt = \"one one one is a test, two two two was one too.\"\n",
    "x = txt.replace(\"one\", \"THREE\",1)\n",
    "print(x)"
   ]
  },
  {
   "cell_type": "code",
   "execution_count": 42,
   "metadata": {},
   "outputs": [
    {
     "name": "stdout",
     "output_type": "stream",
     "text": [
      "THREE one one is a test, two two two was one too.\n",
      "THREE THREE THREE is a test, two two two was one too.\n",
      "THREE THREE THREE is a test, two two two was THREE too.\n"
     ]
    }
   ],
   "source": [
    "txt = \"one one one is a test, two two two was one too.\"\n",
    "x = txt.replace(\"one\", \"THREE\",1)\n",
    "print(x)\n",
    "\n",
    "txt = \"one one one is a test, two two two was one too.\"\n",
    "x = txt.replace(\"one\", \"THREE\",3)\n",
    "print(x)\n",
    "\n",
    "txt = \"one one one is a test, two two two was one too.\"\n",
    "x = txt.replace(\"one\", \"THREE\")\n",
    "print(x)"
   ]
  },
  {
   "cell_type": "markdown",
   "metadata": {},
   "source": [
    "## Remove Commas Using df.replace()\n",
    "\n",
    "Syntax: DataFrame.replace(to_replace=None, value=None, inplace=False, limit=None, regex=False, method='pad'"
   ]
  },
  {
   "cell_type": "code",
   "execution_count": 43,
   "metadata": {},
   "outputs": [],
   "source": [
    "# create a list from Ratings column\n",
    "# Goal is to find the commas and then take them out\n",
    "\n",
    "commas = df.Ratings.tolist()"
   ]
  },
  {
   "cell_type": "code",
   "execution_count": 44,
   "metadata": {},
   "outputs": [],
   "source": [
    "# check if there are commas\n",
    "def comma_checker(aList):\n",
    "    for i in aList:\n",
    "        if i.count(\",\") != 0:\n",
    "            print(i,True)\n",
    "    print(\"checked\")"
   ]
  },
  {
   "cell_type": "code",
   "execution_count": 45,
   "metadata": {},
   "outputs": [
    {
     "name": "stdout",
     "output_type": "stream",
     "text": [
      "1,416 customer reviews True\n",
      "1,558 customer reviews True\n",
      "1,142 customer reviews True\n",
      "2,048 customer reviews True\n",
      "1,097 customer reviews True\n",
      "2,081 customer reviews True\n",
      "2,084 customer reviews True\n",
      "6,090 customer reviews True\n",
      "1,227 customer reviews True\n",
      "3,135 customer reviews True\n",
      "1,392 customer reviews True\n",
      "1,684 customer reviews True\n",
      "1,403 customer reviews True\n",
      "1,248 customer reviews True\n",
      "1,563 customer reviews True\n",
      "1,259 customer reviews True\n",
      "2,255 customer reviews True\n",
      "3,075 customer reviews True\n",
      "1,256 customer reviews True\n",
      "1,416 customer reviews True\n",
      "checked\n"
     ]
    }
   ],
   "source": [
    "comma_checker(commas)"
   ]
  },
  {
   "cell_type": "markdown",
   "metadata": {},
   "source": [
    "## First attempt: no luck"
   ]
  },
  {
   "cell_type": "code",
   "execution_count": 46,
   "metadata": {},
   "outputs": [],
   "source": [
    "df['Ratings'].replace(\",\",\"\", inplace=True)"
   ]
  },
  {
   "cell_type": "code",
   "execution_count": 47,
   "metadata": {},
   "outputs": [],
   "source": [
    "redo_commas = df.Ratings.tolist()"
   ]
  },
  {
   "cell_type": "code",
   "execution_count": 48,
   "metadata": {},
   "outputs": [
    {
     "name": "stdout",
     "output_type": "stream",
     "text": [
      "1,416 customer reviews True\n",
      "1,558 customer reviews True\n",
      "1,142 customer reviews True\n",
      "2,048 customer reviews True\n",
      "1,097 customer reviews True\n",
      "2,081 customer reviews True\n",
      "2,084 customer reviews True\n",
      "6,090 customer reviews True\n",
      "1,227 customer reviews True\n",
      "3,135 customer reviews True\n",
      "1,392 customer reviews True\n",
      "1,684 customer reviews True\n",
      "1,403 customer reviews True\n",
      "1,248 customer reviews True\n",
      "1,563 customer reviews True\n",
      "1,259 customer reviews True\n",
      "2,255 customer reviews True\n",
      "3,075 customer reviews True\n",
      "1,256 customer reviews True\n",
      "1,416 customer reviews True\n",
      "checked\n"
     ]
    }
   ],
   "source": [
    "# Check to see if commas are gone\n",
    "comma_checker(redo_commas)"
   ]
  },
  {
   "cell_type": "markdown",
   "metadata": {},
   "source": [
    "## Different syntax: no luck"
   ]
  },
  {
   "cell_type": "code",
   "execution_count": 49,
   "metadata": {},
   "outputs": [],
   "source": [
    "df[\"Ratings\"].replace({\",\": \"\"}, inplace=True)"
   ]
  },
  {
   "cell_type": "code",
   "execution_count": 50,
   "metadata": {},
   "outputs": [],
   "source": [
    "redo_commas = df.Ratings.tolist()"
   ]
  },
  {
   "cell_type": "code",
   "execution_count": 51,
   "metadata": {},
   "outputs": [
    {
     "name": "stdout",
     "output_type": "stream",
     "text": [
      "1,416 customer reviews True\n",
      "1,558 customer reviews True\n",
      "1,142 customer reviews True\n",
      "2,048 customer reviews True\n",
      "1,097 customer reviews True\n",
      "2,081 customer reviews True\n",
      "2,084 customer reviews True\n",
      "6,090 customer reviews True\n",
      "1,227 customer reviews True\n",
      "3,135 customer reviews True\n",
      "1,392 customer reviews True\n",
      "1,684 customer reviews True\n",
      "1,403 customer reviews True\n",
      "1,248 customer reviews True\n",
      "1,563 customer reviews True\n",
      "1,259 customer reviews True\n",
      "2,255 customer reviews True\n",
      "3,075 customer reviews True\n",
      "1,256 customer reviews True\n",
      "1,416 customer reviews True\n",
      "checked\n"
     ]
    }
   ],
   "source": [
    "comma_checker(redo_commas)"
   ]
  },
  {
   "cell_type": "markdown",
   "metadata": {},
   "source": [
    "## An EXACT match doesn't work either\n",
    "\n",
    "\n",
    "https://pandas.pydata.org/pandas-docs/stable/reference/api/pandas.DataFrame.replace.html\n",
    "\n",
    "str: string exactly matching to_replace will be replaced with value"
   ]
  },
  {
   "cell_type": "code",
   "execution_count": 52,
   "metadata": {},
   "outputs": [],
   "source": [
    "df[\"Ratings\"].replace(\"1,416\", \"1416\", inplace=True)"
   ]
  },
  {
   "cell_type": "code",
   "execution_count": 53,
   "metadata": {},
   "outputs": [],
   "source": [
    "redo_commas = df.Ratings.tolist()"
   ]
  },
  {
   "cell_type": "code",
   "execution_count": 54,
   "metadata": {},
   "outputs": [
    {
     "name": "stdout",
     "output_type": "stream",
     "text": [
      "1,416 customer reviews True\n",
      "1,558 customer reviews True\n",
      "1,142 customer reviews True\n",
      "2,048 customer reviews True\n",
      "1,097 customer reviews True\n",
      "2,081 customer reviews True\n",
      "2,084 customer reviews True\n",
      "6,090 customer reviews True\n",
      "1,227 customer reviews True\n",
      "3,135 customer reviews True\n",
      "1,392 customer reviews True\n",
      "1,684 customer reviews True\n",
      "1,403 customer reviews True\n",
      "1,248 customer reviews True\n",
      "1,563 customer reviews True\n",
      "1,259 customer reviews True\n",
      "2,255 customer reviews True\n",
      "3,075 customer reviews True\n",
      "1,256 customer reviews True\n",
      "1,416 customer reviews True\n",
      "checked\n"
     ]
    }
   ],
   "source": [
    "comma_checker(redo_commas)"
   ]
  },
  {
   "cell_type": "markdown",
   "metadata": {},
   "source": [
    "## need the str \n",
    "\n",
    "the clue was at the bottom on this post\n",
    "https://stackoverflow.com/questions/27060098/replacing-few-values-in-a-pandas-dataframe-column-with-another-value"
   ]
  },
  {
   "cell_type": "code",
   "execution_count": 55,
   "metadata": {},
   "outputs": [],
   "source": [
    "df['Ratings'] = df['Ratings'].str.replace(\",\",\"\")"
   ]
  },
  {
   "cell_type": "code",
   "execution_count": 56,
   "metadata": {},
   "outputs": [],
   "source": [
    "redo_commas = df.Ratings.tolist()"
   ]
  },
  {
   "cell_type": "code",
   "execution_count": 57,
   "metadata": {},
   "outputs": [
    {
     "name": "stdout",
     "output_type": "stream",
     "text": [
      "checked\n"
     ]
    }
   ],
   "source": [
    "comma_checker(redo_commas)"
   ]
  },
  {
   "cell_type": "markdown",
   "metadata": {},
   "source": [
    "## Extract the Number From Ratings"
   ]
  },
  {
   "cell_type": "code",
   "execution_count": 58,
   "metadata": {},
   "outputs": [
    {
     "data": {
      "text/plain": [
       "'8 customer reviews'"
      ]
     },
     "execution_count": 58,
     "metadata": {},
     "output_type": "execute_result"
    }
   ],
   "source": [
    "df.Ratings[0]"
   ]
  },
  {
   "cell_type": "code",
   "execution_count": 59,
   "metadata": {},
   "outputs": [],
   "source": [
    "# Regex didn't work \n",
    "# maybe because the .astype(int) not on the end\n",
    "\n",
    "# import re\n",
    "\n",
    "# print(re.findall(\"(\\d+)\",df.Ratings))\n",
    "# df['Ratings_int'] = df.Ratings.str.extract('(\\d+\\.\\d+)')\n",
    "# df['Ratings_int'] = df.Ratings.str.extract('(\\d+\\)')"
   ]
  },
  {
   "cell_type": "code",
   "execution_count": 60,
   "metadata": {},
   "outputs": [],
   "source": [
    "# This worked like a charm, on the first try!\n",
    "# https://stackoverflow.com/questions/49704051/pandas-dataframe-extract-numerical-values-including-decimals-from-string\n",
    "\n",
    "# m = df['Ratings'].str.contains('\\d+km')\n",
    "# df['iRatings'] = df['Ratings'].str.extract('(\\d+)', expand=False).astype(int)\n",
    "# df.loc[m, 'Ratings'] *= 1000 \n",
    "\n",
    "# https://pandas.pydata.org/pandas-docs/stable/reference/api/pandas.Series.str.extract.html\n",
    "\n",
    "df['iRatings'] = df['Ratings'].str.extract('(\\d+)', expand=False).astype(int)"
   ]
  },
  {
   "cell_type": "code",
   "execution_count": 61,
   "metadata": {},
   "outputs": [
    {
     "data": {
      "text/html": [
       "<div>\n",
       "<style scoped>\n",
       "    .dataframe tbody tr th:only-of-type {\n",
       "        vertical-align: middle;\n",
       "    }\n",
       "\n",
       "    .dataframe tbody tr th {\n",
       "        vertical-align: top;\n",
       "    }\n",
       "\n",
       "    .dataframe thead th {\n",
       "        text-align: right;\n",
       "    }\n",
       "</style>\n",
       "<table border=\"1\" class=\"dataframe\">\n",
       "  <thead>\n",
       "    <tr style=\"text-align: right;\">\n",
       "      <th></th>\n",
       "      <th>Title</th>\n",
       "      <th>Author</th>\n",
       "      <th>Edition</th>\n",
       "      <th>Reviews</th>\n",
       "      <th>Ratings</th>\n",
       "      <th>Synopsis</th>\n",
       "      <th>Genre</th>\n",
       "      <th>BookCategory</th>\n",
       "      <th>Price</th>\n",
       "      <th>fReviews</th>\n",
       "      <th>iRatings</th>\n",
       "    </tr>\n",
       "  </thead>\n",
       "  <tbody>\n",
       "    <tr>\n",
       "      <th>4653</th>\n",
       "      <td>My First Piano Adventure - Lesson Book B/CD</td>\n",
       "      <td>Nancy Faber, Randall Faber</td>\n",
       "      <td>Paperback,– 1 Jan 2008</td>\n",
       "      <td>4.0 out of 5 stars</td>\n",
       "      <td>3 customer reviews</td>\n",
       "      <td>(Faber Piano Adventures ). Book B of the Faber...</td>\n",
       "      <td>Music Books</td>\n",
       "      <td>Humour</td>\n",
       "      <td>662.0</td>\n",
       "      <td>4.0</td>\n",
       "      <td>3</td>\n",
       "    </tr>\n",
       "  </tbody>\n",
       "</table>\n",
       "</div>"
      ],
      "text/plain": [
       "                                            Title                      Author  \\\n",
       "4653  My First Piano Adventure - Lesson Book B/CD  Nancy Faber, Randall Faber   \n",
       "\n",
       "                     Edition             Reviews             Ratings  \\\n",
       "4653  Paperback,– 1 Jan 2008  4.0 out of 5 stars  3 customer reviews   \n",
       "\n",
       "                                               Synopsis        Genre  \\\n",
       "4653  (Faber Piano Adventures ). Book B of the Faber...  Music Books   \n",
       "\n",
       "     BookCategory  Price  fReviews  iRatings  \n",
       "4653       Humour  662.0       4.0         3  "
      ]
     },
     "execution_count": 61,
     "metadata": {},
     "output_type": "execute_result"
    }
   ],
   "source": [
    "df.sample()"
   ]
  },
  {
   "cell_type": "markdown",
   "metadata": {},
   "source": [
    "## Look at iRatings"
   ]
  },
  {
   "cell_type": "code",
   "execution_count": 62,
   "metadata": {},
   "outputs": [
    {
     "data": {
      "text/plain": [
       "(array([6.181e+03, 3.800e+01, 1.100e+01, 4.000e+00, 0.000e+00, 2.000e+00,\n",
       "        0.000e+00, 0.000e+00, 0.000e+00, 1.000e+00]),\n",
       " array([1.0000e+00, 6.0990e+02, 1.2188e+03, 1.8277e+03, 2.4366e+03,\n",
       "        3.0455e+03, 3.6544e+03, 4.2633e+03, 4.8722e+03, 5.4811e+03,\n",
       "        6.0900e+03]),\n",
       " <BarContainer object of 10 artists>)"
      ]
     },
     "execution_count": 62,
     "metadata": {},
     "output_type": "execute_result"
    },
    {
     "data": {
      "image/png": "[encoded data removed]",
      "text/plain": [
       "<Figure size 432x288 with 1 Axes>"
      ]
     },
     "metadata": {
      "needs_background": "light"
     },
     "output_type": "display_data"
    }
   ],
   "source": [
    "plt.hist(df['iRatings'])"
   ]
  },
  {
   "cell_type": "code",
   "execution_count": 63,
   "metadata": {},
   "outputs": [
    {
     "data": {
      "text/plain": [
       "342"
      ]
     },
     "execution_count": 63,
     "metadata": {},
     "output_type": "execute_result"
    }
   ],
   "source": [
    "df.iRatings.nunique()"
   ]
  },
  {
   "cell_type": "code",
   "execution_count": 64,
   "metadata": {},
   "outputs": [
    {
     "data": {
      "text/plain": [
       "1       1040\n",
       "2        708\n",
       "3        491\n",
       "4        355\n",
       "5        300\n",
       "        ... \n",
       "727        1\n",
       "1097       1\n",
       "973        1\n",
       "893        1\n",
       "1563       1\n",
       "Name: iRatings, Length: 342, dtype: int64"
      ]
     },
     "execution_count": 64,
     "metadata": {},
     "output_type": "execute_result"
    }
   ],
   "source": [
    "df.iRatings.value_counts()"
   ]
  },
  {
   "cell_type": "code",
   "execution_count": 65,
   "metadata": {},
   "outputs": [
    {
     "data": {
      "text/plain": [
       "count    6237.000000\n",
       "mean       35.984287\n",
       "std       149.995031\n",
       "min         1.000000\n",
       "25%         2.000000\n",
       "50%         7.000000\n",
       "75%        22.000000\n",
       "max      6090.000000\n",
       "Name: iRatings, dtype: float64"
      ]
     },
     "execution_count": 65,
     "metadata": {},
     "output_type": "execute_result"
    }
   ],
   "source": [
    "df.iRatings.describe()"
   ]
  },
  {
   "cell_type": "markdown",
   "metadata": {},
   "source": [
    "# Look at Genres"
   ]
  },
  {
   "cell_type": "code",
   "execution_count": 66,
   "metadata": {},
   "outputs": [],
   "source": [
    "# 345 different genres\n",
    "\n",
    "# df.Genre.nunique()\n",
    "\n",
    "# df.Genre.unique()"
   ]
  },
  {
   "cell_type": "code",
   "execution_count": 67,
   "metadata": {},
   "outputs": [
    {
     "data": {
      "text/plain": [
       "Radiological & Ultrasound Technology       1\n",
       "Travel with Pets                           1\n",
       "Sailing (Books)                            1\n",
       "Air Sports (Books)                         1\n",
       "C# Programming                             1\n",
       "                                        ... \n",
       "Contemporary Fiction (Books)             256\n",
       "Crime, Thriller & Mystery (Books)        276\n",
       "Biographies & Autobiographies (Books)    373\n",
       "Romance (Books)                          419\n",
       "Action & Adventure (Books)               947\n",
       "Name: Genre, Length: 345, dtype: int64"
      ]
     },
     "execution_count": 67,
     "metadata": {},
     "output_type": "execute_result"
    }
   ],
   "source": [
    "df.Genre.value_counts(ascending=True)"
   ]
  },
  {
   "cell_type": "code",
   "execution_count": 68,
   "metadata": {},
   "outputs": [
    {
     "name": "stdout",
     "output_type": "stream",
     "text": [
      "1:  89\n",
      "2 - 10:  170\n",
      "11 - 20:  35\n",
      "21 - 30:  9\n",
      "31 - 40:  11\n",
      "41 - 100:  23\n",
      "101 - 200:  3\n",
      "201 - 300:  2\n",
      "301 - 400:  1\n",
      "401 - 500:  1\n",
      "501 - 600:  0\n",
      "600+:  1\n"
     ]
    }
   ],
   "source": [
    "# There are 89 different Genres that only have 1 book assigned to them\n",
    "\n",
    "print(\"1: \",(df.Genre.value_counts() <= 1).sum())\n",
    "print(\"2 - 10: \",((df.Genre.value_counts() <= 10) & (df.Genre.value_counts() > 1)).sum())\n",
    "print(\"11 - 20: \",((df.Genre.value_counts() <= 20) & (df.Genre.value_counts() > 10)).sum())\n",
    "print(\"21 - 30: \",((df.Genre.value_counts() <= 30) & (df.Genre.value_counts() > 20)).sum())\n",
    "print(\"31 - 40: \",((df.Genre.value_counts() <= 40) & (df.Genre.value_counts() > 30)).sum())\n",
    "print(\"41 - 100: \",((df.Genre.value_counts() <= 100) & (df.Genre.value_counts() > 40)).sum())\n",
    "print(\"101 - 200: \",((df.Genre.value_counts() <= 200) & (df.Genre.value_counts() > 100)).sum())\n",
    "print(\"201 - 300: \",((df.Genre.value_counts() <= 300) & (df.Genre.value_counts() > 200)).sum())\n",
    "print(\"301 - 400: \",((df.Genre.value_counts() <= 400) & (df.Genre.value_counts() > 300)).sum())\n",
    "print(\"401 - 500: \",((df.Genre.value_counts() <= 500) & (df.Genre.value_counts() > 400)).sum())\n",
    "print(\"501 - 600: \",((df.Genre.value_counts() <= 600) & (df.Genre.value_counts() > 500)).sum())\n",
    "print(\"600+: \",(df.Genre.value_counts() > 600).sum())"
   ]
  },
  {
   "cell_type": "markdown",
   "metadata": {},
   "source": [
    "# Look at BookCategory"
   ]
  },
  {
   "cell_type": "code",
   "execution_count": 69,
   "metadata": {},
   "outputs": [
    {
     "data": {
      "text/plain": [
       "Politics                                325\n",
       "Sports                                  471\n",
       "Computing, Internet & Digital Media     510\n",
       "Arts, Film & Photography                517\n",
       "Humour                                  540\n",
       "Romance                                 560\n",
       "Comics & Mangas                         583\n",
       "Language, Linguistics & Writing         594\n",
       "Biographies, Diaries & True Accounts    596\n",
       "Crime, Thriller & Mystery               723\n",
       "Action & Adventure                      818\n",
       "Name: BookCategory, dtype: int64"
      ]
     },
     "execution_count": 69,
     "metadata": {},
     "output_type": "execute_result"
    }
   ],
   "source": [
    "df['BookCategory'].value_counts(ascending=True)"
   ]
  },
  {
   "cell_type": "markdown",
   "metadata": {},
   "source": [
    "# Groupby() Study"
   ]
  },
  {
   "cell_type": "code",
   "execution_count": 70,
   "metadata": {},
   "outputs": [],
   "source": [
    "pd.options.display.max_rows = 4000"
   ]
  },
  {
   "cell_type": "code",
   "execution_count": 77,
   "metadata": {},
   "outputs": [
    {
     "data": {
      "text/plain": [
       "<pandas.core.groupby.generic.DataFrameGroupBy object at 0x11906def0>"
      ]
     },
     "execution_count": 77,
     "metadata": {},
     "output_type": "execute_result"
    }
   ],
   "source": [
    "df.groupby('BookCategory')\n",
    "# df.groupby(df['BookCategory'])\n",
    "# Note that this alone will not display a result -- although you have split the dataset into groups, you don't \n",
    "# have a meaningful way to display information until you chain an Aggregation Function onto the groupby. "
   ]
  },
  {
   "cell_type": "code",
   "execution_count": 78,
   "metadata": {},
   "outputs": [
    {
     "data": {
      "text/html": [
       "<div>\n",
       "<style scoped>\n",
       "    .dataframe tbody tr th:only-of-type {\n",
       "        vertical-align: middle;\n",
       "    }\n",
       "\n",
       "    .dataframe tbody tr th {\n",
       "        vertical-align: top;\n",
       "    }\n",
       "\n",
       "    .dataframe thead th {\n",
       "        text-align: right;\n",
       "    }\n",
       "</style>\n",
       "<table border=\"1\" class=\"dataframe\">\n",
       "  <thead>\n",
       "    <tr style=\"text-align: right;\">\n",
       "      <th></th>\n",
       "      <th>Price</th>\n",
       "      <th>fReviews</th>\n",
       "      <th>iRatings</th>\n",
       "    </tr>\n",
       "    <tr>\n",
       "      <th>BookCategory</th>\n",
       "      <th></th>\n",
       "      <th></th>\n",
       "      <th></th>\n",
       "    </tr>\n",
       "  </thead>\n",
       "  <tbody>\n",
       "    <tr>\n",
       "      <th>Action &amp; Adventure</th>\n",
       "      <td>340133.32</td>\n",
       "      <td>3524.6</td>\n",
       "      <td>28343</td>\n",
       "    </tr>\n",
       "    <tr>\n",
       "      <th>Arts, Film &amp; Photography</th>\n",
       "      <td>430798.60</td>\n",
       "      <td>2265.0</td>\n",
       "      <td>7800</td>\n",
       "    </tr>\n",
       "    <tr>\n",
       "      <th>Biographies, Diaries &amp; True Accounts</th>\n",
       "      <td>205705.05</td>\n",
       "      <td>2579.2</td>\n",
       "      <td>53870</td>\n",
       "    </tr>\n",
       "    <tr>\n",
       "      <th>Comics &amp; Mangas</th>\n",
       "      <td>438609.11</td>\n",
       "      <td>2613.7</td>\n",
       "      <td>8378</td>\n",
       "    </tr>\n",
       "    <tr>\n",
       "      <th>Computing, Internet &amp; Digital Media</th>\n",
       "      <td>493210.25</td>\n",
       "      <td>2159.1</td>\n",
       "      <td>8661</td>\n",
       "    </tr>\n",
       "    <tr>\n",
       "      <th>Crime, Thriller &amp; Mystery</th>\n",
       "      <td>243895.08</td>\n",
       "      <td>2997.3</td>\n",
       "      <td>31074</td>\n",
       "    </tr>\n",
       "    <tr>\n",
       "      <th>Humour</th>\n",
       "      <td>353322.31</td>\n",
       "      <td>2348.9</td>\n",
       "      <td>9200</td>\n",
       "    </tr>\n",
       "    <tr>\n",
       "      <th>Language, Linguistics &amp; Writing</th>\n",
       "      <td>274496.82</td>\n",
       "      <td>2480.1</td>\n",
       "      <td>24868</td>\n",
       "    </tr>\n",
       "    <tr>\n",
       "      <th>Politics</th>\n",
       "      <td>168933.09</td>\n",
       "      <td>1383.2</td>\n",
       "      <td>13015</td>\n",
       "    </tr>\n",
       "    <tr>\n",
       "      <th>Romance</th>\n",
       "      <td>199374.37</td>\n",
       "      <td>2354.8</td>\n",
       "      <td>32333</td>\n",
       "    </tr>\n",
       "    <tr>\n",
       "      <th>Sports</th>\n",
       "      <td>348654.78</td>\n",
       "      <td>2070.8</td>\n",
       "      <td>6892</td>\n",
       "    </tr>\n",
       "  </tbody>\n",
       "</table>\n",
       "</div>"
      ],
      "text/plain": [
       "                                          Price  fReviews  iRatings\n",
       "BookCategory                                                       \n",
       "Action & Adventure                    340133.32    3524.6     28343\n",
       "Arts, Film & Photography              430798.60    2265.0      7800\n",
       "Biographies, Diaries & True Accounts  205705.05    2579.2     53870\n",
       "Comics & Mangas                       438609.11    2613.7      8378\n",
       "Computing, Internet & Digital Media   493210.25    2159.1      8661\n",
       "Crime, Thriller & Mystery             243895.08    2997.3     31074\n",
       "Humour                                353322.31    2348.9      9200\n",
       "Language, Linguistics & Writing       274496.82    2480.1     24868\n",
       "Politics                              168933.09    1383.2     13015\n",
       "Romance                               199374.37    2354.8     32333\n",
       "Sports                                348654.78    2070.8      6892"
      ]
     },
     "execution_count": 78,
     "metadata": {},
     "output_type": "execute_result"
    }
   ],
   "source": [
    "df.groupby('BookCategory').sum()"
   ]
  },
  {
   "cell_type": "code",
   "execution_count": 100,
   "metadata": {},
   "outputs": [],
   "source": [
    "# 13 Aggregate Functions\n",
    "aggs = ['.sum()', '.mean()','.size()']"
   ]
  },
  {
   "cell_type": "code",
   "execution_count": 103,
   "metadata": {},
   "outputs": [],
   "source": [
    "def groupby_agg(options):\n",
    "    for option in aggs:\n",
    "        str1 = \"df.groupby(df.BookCategory)\" \n",
    "        result = str1 + option\n",
    "        print(result)"
   ]
  },
  {
   "cell_type": "code",
   "execution_count": 104,
   "metadata": {},
   "outputs": [
    {
     "name": "stdout",
     "output_type": "stream",
     "text": [
      "df.groupby(df.BookCategory).sum()\n",
      "df.groupby(df.BookCategory).mean()\n",
      "df.groupby(df.BookCategory).size()\n"
     ]
    }
   ],
   "source": [
    "groupby_agg(df)"
   ]
  },
  {
   "cell_type": "code",
   "execution_count": null,
   "metadata": {},
   "outputs": [],
   "source": [
    "# df.groupby(['BookCategory','Genre']).size()"
   ]
  },
  {
   "cell_type": "code",
   "execution_count": 71,
   "metadata": {},
   "outputs": [],
   "source": [
    "# df.groupby(['Genre','BookCategory']).size()"
   ]
  },
  {
   "cell_type": "code",
   "execution_count": 72,
   "metadata": {},
   "outputs": [],
   "source": [
    "# df.groupby(['BookCategory','Genre']).agg(['min', 'max'])"
   ]
  },
  {
   "cell_type": "code",
   "execution_count": 73,
   "metadata": {},
   "outputs": [],
   "source": [
    "# df.sample()"
   ]
  },
  {
   "cell_type": "code",
   "execution_count": 74,
   "metadata": {},
   "outputs": [],
   "source": [
    "# categories = (df['BookCategory'].unique()).tolist()"
   ]
  },
  {
   "cell_type": "code",
   "execution_count": 75,
   "metadata": {},
   "outputs": [],
   "source": [
    "# print(categories)\n",
    "# print(len(categories))\n",
    "# print(type(categories))"
   ]
  },
  {
   "cell_type": "code",
   "execution_count": 76,
   "metadata": {},
   "outputs": [],
   "source": [
    "# for category in categories: \n",
    "#     for book in df:\n",
    "#         if category == df['BookCategory']:\n",
    "#             print(df['Genre'])"
   ]
  }
 ],
 "metadata": {
  "kernelspec": {
   "display_name": "Python 3",
   "language": "python",
   "name": "python3"
  },
  "language_info": {
   "codemirror_mode": {
    "name": "ipython",
    "version": 3
   },
   "file_extension": ".py",
   "mimetype": "text/x-python",
   "name": "python",
   "nbconvert_exporter": "python",
   "pygments_lexer": "ipython3",
   "version": "3.7.1"
  },
  "toc": {
   "base_numbering": 1,
   "nav_menu": {},
   "number_sections": true,
   "sideBar": true,
   "skip_h1_title": false,
   "title_cell": "Table of Contents",
   "title_sidebar": "Contents",
   "toc_cell": true,
   "toc_position": {},
   "toc_section_display": true,
   "toc_window_display": false
  },
  "varInspector": {
   "cols": {
    "lenName": 16,
    "lenType": 16,
    "lenVar": 40
   },
   "kernels_config": {
    "python": {
     "delete_cmd_postfix": "",
     "delete_cmd_prefix": "del ",
     "library": "var_list.py",
     "varRefreshCmd": "print(var_dic_list())"
    },
    "r": {
     "delete_cmd_postfix": ") ",
     "delete_cmd_prefix": "rm(",
     "library": "var_list.r",
     "varRefreshCmd": "cat(var_dic_list()) "
    }
   },
   "position": {
    "height": "121.484px",
    "left": "2197.5px",
    "right": "20px",
    "top": "120px",
    "width": "350px"
   },
   "types_to_exclude": [
    "module",
    "function",
    "builtin_function_or_method",
    "instance",
    "_Feature"
   ],
   "window_display": false
  }
 },
 "nbformat": 4,
 "nbformat_minor": 2
}
