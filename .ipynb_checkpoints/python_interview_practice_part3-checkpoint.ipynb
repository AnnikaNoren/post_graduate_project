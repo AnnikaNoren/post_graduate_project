{
 "cells": [
  {
   "cell_type": "markdown",
   "metadata": {
    "toc": true
   },
   "source": [
    "<h1>Table of Contents<span class=\"tocSkip\"></span></h1>\n",
    "<div class=\"toc\"><ul class=\"toc-item\"><li><span><a href=\"#Learn-Git-Branching\" data-toc-modified-id=\"Learn-Git-Branching-1\"><span class=\"toc-item-num\">1&nbsp;&nbsp;</span>Learn Git Branching</a></span><ul class=\"toc-item\"><li><span><a href=\"#Git-v-Github\" data-toc-modified-id=\"Git-v-Github-1.1\"><span class=\"toc-item-num\">1.1&nbsp;&nbsp;</span>Git v Github</a></span></li><li><span><a href=\"#Hash\" data-toc-modified-id=\"Hash-1.2\"><span class=\"toc-item-num\">1.2&nbsp;&nbsp;</span>Hash</a></span></li><li><span><a href=\"#Git-commands\" data-toc-modified-id=\"Git-commands-1.3\"><span class=\"toc-item-num\">1.3&nbsp;&nbsp;</span>Git commands</a></span></li><li><span><a href=\"#Moving-around\" data-toc-modified-id=\"Moving-around-1.4\"><span class=\"toc-item-num\">1.4&nbsp;&nbsp;</span>Moving around</a></span></li></ul></li><li><span><a href=\"#Practice-5-different-ways-to-download-data\" data-toc-modified-id=\"Practice-5-different-ways-to-download-data-2\"><span class=\"toc-item-num\">2&nbsp;&nbsp;</span>Practice 5 different ways to download data</a></span></li><li><span><a href=\"#Pybites-Olympic-dataset-challenge\" data-toc-modified-id=\"Pybites-Olympic-dataset-challenge-3\"><span class=\"toc-item-num\">3&nbsp;&nbsp;</span>Pybites Olympic dataset challenge</a></span></li><li><span><a href=\"#101-Pandas-exercises\" data-toc-modified-id=\"101-Pandas-exercises-4\"><span class=\"toc-item-num\">4&nbsp;&nbsp;</span>101 Pandas exercises</a></span></li><li><span><a href=\"#Code-from-Dan-Bader\" data-toc-modified-id=\"Code-from-Dan-Bader-5\"><span class=\"toc-item-num\">5&nbsp;&nbsp;</span>Code from Dan Bader</a></span><ul class=\"toc-item\"><li><span><a href=\"#Python-Riddle\" data-toc-modified-id=\"Python-Riddle-5.1\"><span class=\"toc-item-num\">5.1&nbsp;&nbsp;</span>Python Riddle</a></span></li></ul></li></ul></div>"
   ]
  },
  {
   "cell_type": "markdown",
   "metadata": {},
   "source": [
    "# Learn Git Branching\n",
    "\n",
    "https://learngitbranching.js.org/\n",
    "\n",
    "There are 5 sections: introduction sequence, ramping up, moving work around, a mixed bag, advanced topics\n",
    "\n",
    "90% of useful stuff covered in intro and ramping\n"
   ]
  },
  {
   "cell_type": "markdown",
   "metadata": {},
   "source": [
    "## Git v Github\n",
    "Git is a revision control system, a tool to manage your source code history. GitHub is a hosting service for Git repositories. So they are not the same thing: Git is the tool, GitHub is the service for projects that use Git."
   ]
  },
  {
   "cell_type": "markdown",
   "metadata": {},
   "source": [
    "## Hash\n",
    "every time a commit is added to a git repo, a hash string is generated to identify the commit\n",
    "\n",
    "a hash is generated using an algorithm and is 20 bytes long (8 bits = 1 byte)"
   ]
  },
  {
   "cell_type": "markdown",
   "metadata": {},
   "source": [
    "## Git commands\n",
    "\n",
    "git branch (name) - creates a new branch\n",
    "\n",
    "git commit \n",
    "\n",
    "git checkout (name)   - put on branch before commiting changes\n",
    "\n",
    "shortcut: git checkout -b (name)  - creates a new branch and checkout at same time\n",
    "\n",
    "git merge (name)\n",
    "\n",
    "git rebase (name to move to)\n"
   ]
  },
  {
   "cell_type": "markdown",
   "metadata": {},
   "source": [
    "## Moving around\n",
    "\n",
    "HEAD - symbolic name for currently checkouted commit (the commit your're working on top of), the HEAD in Git is the pointer to the current branch reference, which is in turn a pointer to the last commit you made or the last commit that was checked out into your working directory. That also means it will be the parent of the next commit you do.\n",
    "\n",
    "detaching head - attaching to a commit instead of a branch\n",
    "\n",
    "git log - to see hashes\n",
    "\n",
    "caret (^) moves to the commit before the name specified\n",
    "\n",
    "git branch -f master HEAD~3  - moves the master branch to 3 parents behind HEAD (a symbolic name)\n",
    "\n",
    "git reset - reverts changes by moving a branch reference backwards in time to an older commit. In this sense you can think of it as \"rewriting history;\" git reset will move a branch backwards as if the commit had never been made in the first place.\n",
    "\n",
    "git revert - while resetting works great for local branches on your own machine, its method of \"rewriting history\" doesn't work for remote branches that others are using. In order to reverse changes and share those reversed changes with others, we need to use git revert."
   ]
  },
  {
   "cell_type": "markdown",
   "metadata": {},
   "source": [
    "# Practice 5 different ways to download data\n",
    "https://www.kdnuggets.com/2020/08/5-different-ways-load-data-python.html?utm_source=Iterable&utm_medium=email&utm_campaign=newsletter_96"
   ]
  },
  {
   "cell_type": "markdown",
   "metadata": {},
   "source": [
    "# Pybites Olympic dataset challenge\n",
    "https://pybit.es/codechallenge57.html"
   ]
  },
  {
   "cell_type": "markdown",
   "metadata": {},
   "source": [
    "# 101 Pandas exercises\n",
    "https://www.machinelearningplus.com/python/101-pandas-exercises-python/"
   ]
  },
  {
   "cell_type": "markdown",
   "metadata": {},
   "source": [
    "# Code from Dan Bader"
   ]
  },
  {
   "cell_type": "code",
   "execution_count": 1,
   "metadata": {},
   "outputs": [
    {
     "name": "stdout",
     "output_type": "stream",
     "text": [
      "passed\n",
      "passed\n",
      "passed\n",
      "passed\n"
     ]
    }
   ],
   "source": [
    "# Different ways to test multiple\n",
    "# flags at once in Python\n",
    "x, y, z = 0, 1, 0\n",
    "\n",
    "if x == 1 or y == 1 or z == 1:\n",
    "    print('passed')\n",
    "\n",
    "if 1 in (x, y, z):\n",
    "    print('passed')\n",
    "\n",
    "# These only test for truthiness:\n",
    "if x or y or z:\n",
    "    print('passed')\n",
    "\n",
    "if any((x, y, z)):\n",
    "    print('passed')"
   ]
  },
  {
   "cell_type": "code",
   "execution_count": 3,
   "metadata": {},
   "outputs": [
    {
     "data": {
      "text/plain": [
       "[('d', 1), ('c', 2), ('b', 3), ('a', 4)]"
      ]
     },
     "execution_count": 3,
     "metadata": {},
     "output_type": "execute_result"
    }
   ],
   "source": [
    "# How to sort a Python dict by value\n",
    "# (== get a representation sorted by value)\n",
    "\n",
    "xs = {'a': 4, 'b': 3, 'c': 2, 'd': 1}\n",
    "\n",
    "sorted(xs.items(), key=lambda x: x[1])\n",
    "[('d', 1), ('c', 2), ('b', 3), ('a', 4)]"
   ]
  },
  {
   "cell_type": "code",
   "execution_count": 4,
   "metadata": {},
   "outputs": [
    {
     "data": {
      "text/plain": [
       "[('d', 1), ('c', 2), ('b', 3), ('a', 4)]"
      ]
     },
     "execution_count": 4,
     "metadata": {},
     "output_type": "execute_result"
    }
   ],
   "source": [
    "import operator\n",
    "sorted(xs.items(), key=operator.itemgetter(1))\n",
    "[('d', 1), ('c', 2), ('b', 3), ('a', 4)]"
   ]
  },
  {
   "cell_type": "code",
   "execution_count": null,
   "metadata": {},
   "outputs": [],
   "source": [
    "# The \"timeit\" module lets you measure the execution\n",
    "# time of small bits of Python code\n",
    "\n",
    "# >>> import timeit\n",
    "# >>> timeit.timeit('\"-\".join(str(n) for n in range(100))',\n",
    "#                   number=10000)\n",
    "\n",
    "# 0.3412662749997253\n",
    "\n",
    "# >>> timeit.timeit('\"-\".join([str(n) for n in range(100)])',\n",
    "#                   number=10000)\n",
    "\n",
    "# 0.2996307989997149\n",
    "\n",
    "# >>> timeit.timeit('\"-\".join(map(str, range(100)))',\n",
    "#                   number=10000)\n",
    "\n",
    "# 0.24581470699922647"
   ]
  },
  {
   "cell_type": "code",
   "execution_count": 3,
   "metadata": {},
   "outputs": [
    {
     "name": "stdout",
     "output_type": "stream",
     "text": [
      "23 42\n"
     ]
    }
   ],
   "source": [
    "# Why Python Is Great:\n",
    "# In-place value swapping\n",
    "\n",
    "# Let's say we want to swap\n",
    "# the values of a and b...\n",
    "a = 23\n",
    "b = 42\n",
    "print(a,b)"
   ]
  },
  {
   "cell_type": "code",
   "execution_count": 4,
   "metadata": {},
   "outputs": [
    {
     "name": "stdout",
     "output_type": "stream",
     "text": [
      "42 23\n"
     ]
    }
   ],
   "source": [
    "# The \"classic\" way to do it\n",
    "# with a temporary variable:\n",
    "tmp = a\n",
    "a = b\n",
    "b = tmp\n",
    "print(a,b)"
   ]
  },
  {
   "cell_type": "code",
   "execution_count": 5,
   "metadata": {},
   "outputs": [
    {
     "name": "stdout",
     "output_type": "stream",
     "text": [
      "42 23\n"
     ]
    }
   ],
   "source": [
    "# Python also lets us\n",
    "# use this short-hand:\n",
    "a = 23\n",
    "b = 42\n",
    "a, b = b, a\n",
    "print(a,b)"
   ]
  },
  {
   "cell_type": "markdown",
   "metadata": {},
   "source": [
    "## Python Riddle\n",
    "\n",
    "https://dbader.org/blog/python-mystery-dict-expression"
   ]
  },
  {
   "cell_type": "code",
   "execution_count": 6,
   "metadata": {},
   "outputs": [
    {
     "data": {
      "text/plain": [
       "{True: 'maybe'}"
      ]
     },
     "execution_count": 6,
     "metadata": {},
     "output_type": "execute_result"
    }
   ],
   "source": [
    "{True: 'yes', 1: 'no', 1.0: 'maybe'}"
   ]
  },
  {
   "cell_type": "code",
   "execution_count": 8,
   "metadata": {},
   "outputs": [
    {
     "data": {
      "text/plain": [
       "{True: '3', 4: 'maybe'}"
      ]
     },
     "execution_count": 8,
     "metadata": {},
     "output_type": "execute_result"
    }
   ],
   "source": [
    "{True: '1', 1: '3', 4: 'maybe'}"
   ]
  },
  {
   "cell_type": "code",
   "execution_count": 9,
   "metadata": {},
   "outputs": [
    {
     "data": {
      "text/plain": [
       "True"
      ]
     },
     "execution_count": 9,
     "metadata": {},
     "output_type": "execute_result"
    }
   ],
   "source": [
    "True == 1 == 1.0"
   ]
  },
  {
   "cell_type": "code",
   "execution_count": null,
   "metadata": {},
   "outputs": [],
   "source": []
  }
 ],
 "metadata": {
  "kernelspec": {
   "display_name": "Python [conda env:learn-env] *",
   "language": "python",
   "name": "conda-env-learn-env-py"
  },
  "language_info": {
   "codemirror_mode": {
    "name": "ipython",
    "version": 3
   },
   "file_extension": ".py",
   "mimetype": "text/x-python",
   "name": "python",
   "nbconvert_exporter": "python",
   "pygments_lexer": "ipython3",
   "version": "3.6.6"
  },
  "toc": {
   "base_numbering": 1,
   "nav_menu": {},
   "number_sections": true,
   "sideBar": true,
   "skip_h1_title": false,
   "title_cell": "Table of Contents",
   "title_sidebar": "Contents",
   "toc_cell": true,
   "toc_position": {},
   "toc_section_display": true,
   "toc_window_display": false
  },
  "varInspector": {
   "cols": {
    "lenName": 16,
    "lenType": 16,
    "lenVar": 40
   },
   "kernels_config": {
    "python": {
     "delete_cmd_postfix": "",
     "delete_cmd_prefix": "del ",
     "library": "var_list.py",
     "varRefreshCmd": "print(var_dic_list())"
    },
    "r": {
     "delete_cmd_postfix": ") ",
     "delete_cmd_prefix": "rm(",
     "library": "var_list.r",
     "varRefreshCmd": "cat(var_dic_list()) "
    }
   },
   "types_to_exclude": [
    "module",
    "function",
    "builtin_function_or_method",
    "instance",
    "_Feature"
   ],
   "window_display": false
  }
 },
 "nbformat": 4,
 "nbformat_minor": 2
}
