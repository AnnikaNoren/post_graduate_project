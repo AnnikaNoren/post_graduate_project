{
 "cells": [
  {
   "cell_type": "markdown",
   "metadata": {
    "toc": true
   },
   "source": [
    "<h1>Table of Contents<span class=\"tocSkip\"></span></h1>\n",
    "<div class=\"toc\"><ul class=\"toc-item\"><li><span><a href=\"#Learn-Git-Branching\" data-toc-modified-id=\"Learn-Git-Branching-1\"><span class=\"toc-item-num\">1&nbsp;&nbsp;</span>Learn Git Branching</a></span><ul class=\"toc-item\"><li><span><a href=\"#Git-v-Github\" data-toc-modified-id=\"Git-v-Github-1.1\"><span class=\"toc-item-num\">1.1&nbsp;&nbsp;</span>Git v Github</a></span></li><li><span><a href=\"#Hash\" data-toc-modified-id=\"Hash-1.2\"><span class=\"toc-item-num\">1.2&nbsp;&nbsp;</span>Hash</a></span></li><li><span><a href=\"#Git-commands\" data-toc-modified-id=\"Git-commands-1.3\"><span class=\"toc-item-num\">1.3&nbsp;&nbsp;</span>Git commands</a></span></li><li><span><a href=\"#Moving-around\" data-toc-modified-id=\"Moving-around-1.4\"><span class=\"toc-item-num\">1.4&nbsp;&nbsp;</span>Moving around</a></span></li></ul></li><li><span><a href=\"#Practice-5-different-ways-to-download-data\" data-toc-modified-id=\"Practice-5-different-ways-to-download-data-2\"><span class=\"toc-item-num\">2&nbsp;&nbsp;</span>Practice 5 different ways to download data</a></span></li><li><span><a href=\"#Pybites-Olympic-dataset-challenge\" data-toc-modified-id=\"Pybites-Olympic-dataset-challenge-3\"><span class=\"toc-item-num\">3&nbsp;&nbsp;</span>Pybites Olympic dataset challenge</a></span></li><li><span><a href=\"#101-Pandas-exercises\" data-toc-modified-id=\"101-Pandas-exercises-4\"><span class=\"toc-item-num\">4&nbsp;&nbsp;</span>101 Pandas exercises</a></span></li><li><span><a href=\"#Code-from-Dan-Bader\" data-toc-modified-id=\"Code-from-Dan-Bader-5\"><span class=\"toc-item-num\">5&nbsp;&nbsp;</span>Code from Dan Bader</a></span><ul class=\"toc-item\"><li><span><a href=\"#Functions-are-first-class-citizens?\" data-toc-modified-id=\"Functions-are-first-class-citizens?-5.1\"><span class=\"toc-item-num\">5.1&nbsp;&nbsp;</span>Functions are first class citizens?</a></span></li><li><span><a href=\"#Python-Riddle\" data-toc-modified-id=\"Python-Riddle-5.2\"><span class=\"toc-item-num\">5.2&nbsp;&nbsp;</span>Python Riddle</a></span></li></ul></li><li><span><a href=\"#Prime-Number\" data-toc-modified-id=\"Prime-Number-6\"><span class=\"toc-item-num\">6&nbsp;&nbsp;</span>Prime Number</a></span></li><li><span><a href=\"#Easter-Eggs\" data-toc-modified-id=\"Easter-Eggs-7\"><span class=\"toc-item-num\">7&nbsp;&nbsp;</span>Easter Eggs</a></span></li><li><span><a href=\"#Global,-Local-and-Nonlocal-variables\" data-toc-modified-id=\"Global,-Local-and-Nonlocal-variables-8\"><span class=\"toc-item-num\">8&nbsp;&nbsp;</span>Global, Local and Nonlocal variables</a></span><ul class=\"toc-item\"><li><span><a href=\"#Global\" data-toc-modified-id=\"Global-8.1\"><span class=\"toc-item-num\">8.1&nbsp;&nbsp;</span>Global</a></span></li><li><span><a href=\"#UnboundLocalError\" data-toc-modified-id=\"UnboundLocalError-8.2\"><span class=\"toc-item-num\">8.2&nbsp;&nbsp;</span>UnboundLocalError</a></span></li><li><span><a href=\"#Local\" data-toc-modified-id=\"Local-8.3\"><span class=\"toc-item-num\">8.3&nbsp;&nbsp;</span>Local</a></span></li><li><span><a href=\"#Same-name-for-global-and-local\" data-toc-modified-id=\"Same-name-for-global-and-local-8.4\"><span class=\"toc-item-num\">8.4&nbsp;&nbsp;</span>Same name for global and local</a></span></li><li><span><a href=\"#Nonlocal\" data-toc-modified-id=\"Nonlocal-8.5\"><span class=\"toc-item-num\">8.5&nbsp;&nbsp;</span>Nonlocal</a></span></li></ul></li><li><span><a href=\"#Disarmium-Number\" data-toc-modified-id=\"Disarmium-Number-9\"><span class=\"toc-item-num\">9&nbsp;&nbsp;</span>Disarmium Number</a></span></li><li><span><a href=\"#Type-Hinting\" data-toc-modified-id=\"Type-Hinting-10\"><span class=\"toc-item-num\">10&nbsp;&nbsp;</span>Type Hinting</a></span></li><li><span><a href=\"#Friday-the-13th\" data-toc-modified-id=\"Friday-the-13th-11\"><span class=\"toc-item-num\">11&nbsp;&nbsp;</span>Friday the 13th</a></span><ul class=\"toc-item\"><li><span><a href=\"#find-day-of-week\" data-toc-modified-id=\"find-day-of-week-11.1\"><span class=\"toc-item-num\">11.1&nbsp;&nbsp;</span>find day of week</a></span></li><li><span><a href=\"#day=-13,-given-month-and-year\" data-toc-modified-id=\"day=-13,-given-month-and-year-11.2\"><span class=\"toc-item-num\">11.2&nbsp;&nbsp;</span>day= 13, given month and year</a></span></li><li><span><a href=\"#refined-strptime()\" data-toc-modified-id=\"refined-strptime()-11.3\"><span class=\"toc-item-num\">11.3&nbsp;&nbsp;</span>refined strptime()</a></span></li><li><span><a href=\"#refined-strftime()\" data-toc-modified-id=\"refined-strftime()-11.4\"><span class=\"toc-item-num\">11.4&nbsp;&nbsp;</span>refined strftime()</a></span></li></ul></li><li><span><a href=\"#Karaca's-Encryption-Algorithm\" data-toc-modified-id=\"Karaca's-Encryption-Algorithm-12\"><span class=\"toc-item-num\">12&nbsp;&nbsp;</span>Karaca's Encryption Algorithm</a></span><ul class=\"toc-item\"><li><span><a href=\"#str.translate()\" data-toc-modified-id=\"str.translate()-12.1\"><span class=\"toc-item-num\">12.1&nbsp;&nbsp;</span>str.translate()</a></span></li><li><span><a href=\"#Translate-with-translation-table\" data-toc-modified-id=\"Translate-with-translation-table-12.2\"><span class=\"toc-item-num\">12.2&nbsp;&nbsp;</span>Translate with translation table</a></span></li><li><span><a href=\"#Translate-with-manual-translation-table\" data-toc-modified-id=\"Translate-with-manual-translation-table-12.3\"><span class=\"toc-item-num\">12.3&nbsp;&nbsp;</span>Translate with manual translation table</a></span></li></ul></li></ul></div>"
   ]
  },
  {
   "cell_type": "markdown",
   "metadata": {},
   "source": [
    "# Learn Git Branching\n",
    "\n",
    "https://learngitbranching.js.org/\n",
    "\n",
    "There are 5 sections: introduction sequence, ramping up, moving work around, a mixed bag, advanced topics\n",
    "\n",
    "90% of useful stuff covered in intro and ramping\n"
   ]
  },
  {
   "cell_type": "markdown",
   "metadata": {},
   "source": [
    "## Git v Github\n",
    "Git is a revision control system, a tool to manage your source code history. GitHub is a hosting service for Git repositories. So they are not the same thing: Git is the tool, GitHub is the service for projects that use Git."
   ]
  },
  {
   "cell_type": "markdown",
   "metadata": {},
   "source": [
    "## Hash\n",
    "every time a commit is added to a git repo, a hash string is generated to identify the commit\n",
    "\n",
    "a hash is generated using an algorithm and is 20 bytes long (8 bits = 1 byte)"
   ]
  },
  {
   "cell_type": "markdown",
   "metadata": {},
   "source": [
    "## Git commands\n",
    "\n",
    "git branch (name) - creates a new branch\n",
    "\n",
    "git commit \n",
    "\n",
    "git checkout (name)   - put on branch before commiting changes\n",
    "\n",
    "shortcut: git checkout -b (name)  - creates a new branch and checkout at same time\n",
    "\n",
    "git merge (name)\n",
    "\n",
    "git rebase (name to move to)\n"
   ]
  },
  {
   "cell_type": "markdown",
   "metadata": {},
   "source": [
    "## Moving around\n",
    "\n",
    "HEAD - symbolic name for currently checkouted commit (the commit your're working on top of), the HEAD in Git is the pointer to the current branch reference, which is in turn a pointer to the last commit you made or the last commit that was checked out into your working directory. That also means it will be the parent of the next commit you do.\n",
    "\n",
    "detaching head - attaching to a commit instead of a branch\n",
    "\n",
    "git log - to see hashes\n",
    "\n",
    "caret (^) moves to the commit before the name specified\n",
    "\n",
    "git branch -f master HEAD~3  - moves the master branch to 3 parents behind HEAD (a symbolic name)\n",
    "\n",
    "git reset - reverts changes by moving a branch reference backwards in time to an older commit. In this sense you can think of it as \"rewriting history;\" git reset will move a branch backwards as if the commit had never been made in the first place.\n",
    "\n",
    "git revert - while resetting works great for local branches on your own machine, its method of \"rewriting history\" doesn't work for remote branches that others are using. In order to reverse changes and share those reversed changes with others, we need to use git revert."
   ]
  },
  {
   "cell_type": "markdown",
   "metadata": {},
   "source": [
    "# Practice 5 different ways to download data\n",
    "https://www.kdnuggets.com/2020/08/5-different-ways-load-data-python.html?utm_source=Iterable&utm_medium=email&utm_campaign=newsletter_96"
   ]
  },
  {
   "cell_type": "markdown",
   "metadata": {},
   "source": [
    "# Pybites Olympic dataset challenge\n",
    "https://pybit.es/codechallenge57.html"
   ]
  },
  {
   "cell_type": "markdown",
   "metadata": {},
   "source": [
    "# 101 Pandas exercises\n",
    "https://www.machinelearningplus.com/python/101-pandas-exercises-python/"
   ]
  },
  {
   "cell_type": "markdown",
   "metadata": {},
   "source": [
    "# Code from Dan Bader"
   ]
  },
  {
   "cell_type": "code",
   "execution_count": null,
   "metadata": {},
   "outputs": [],
   "source": [
    "# Different ways to test multiple\n",
    "# flags at once in Python\n",
    "x, y, z = 0, 1, 0\n",
    "\n",
    "if x == 1 or y == 1 or z == 1:\n",
    "    print('passed')\n",
    "\n",
    "if 1 in (x, y, z):\n",
    "    print('passed')\n",
    "\n",
    "# These only test for truthiness:\n",
    "if x or y or z:\n",
    "    print('passed')\n",
    "\n",
    "if any((x, y, z)):\n",
    "    print('passed')"
   ]
  },
  {
   "cell_type": "code",
   "execution_count": null,
   "metadata": {},
   "outputs": [],
   "source": [
    "# How to sort a Python dict by value\n",
    "# (== get a representation sorted by value)\n",
    "\n",
    "xs = {'a': 4, 'b': 3, 'c': 2, 'd': 1}\n",
    "\n",
    "sorted(xs.items(), key=lambda x: x[1])\n",
    "[('d', 1), ('c', 2), ('b', 3), ('a', 4)]"
   ]
  },
  {
   "cell_type": "code",
   "execution_count": null,
   "metadata": {},
   "outputs": [],
   "source": [
    "import operator\n",
    "sorted(xs.items(), key=operator.itemgetter(1))\n",
    "[('d', 1), ('c', 2), ('b', 3), ('a', 4)]"
   ]
  },
  {
   "cell_type": "code",
   "execution_count": null,
   "metadata": {},
   "outputs": [],
   "source": [
    "# The \"timeit\" module lets you measure the execution\n",
    "# time of small bits of Python code\n",
    "\n",
    "# >>> import timeit\n",
    "# >>> timeit.timeit('\"-\".join(str(n) for n in range(100))',\n",
    "#                   number=10000)\n",
    "\n",
    "# 0.3412662749997253\n",
    "\n",
    "# >>> timeit.timeit('\"-\".join([str(n) for n in range(100)])',\n",
    "#                   number=10000)\n",
    "\n",
    "# 0.2996307989997149\n",
    "\n",
    "# >>> timeit.timeit('\"-\".join(map(str, range(100)))',\n",
    "#                   number=10000)\n",
    "\n",
    "# 0.24581470699922647"
   ]
  },
  {
   "cell_type": "code",
   "execution_count": null,
   "metadata": {},
   "outputs": [],
   "source": [
    "# Why Python Is Great:\n",
    "# In-place value swapping\n",
    "\n",
    "# Let's say we want to swap\n",
    "# the values of a and b...\n",
    "a = 23\n",
    "b = 42\n",
    "print(a,b)"
   ]
  },
  {
   "cell_type": "code",
   "execution_count": null,
   "metadata": {},
   "outputs": [],
   "source": [
    "# The \"classic\" way to do it\n",
    "# with a temporary variable:\n",
    "tmp = a\n",
    "a = b\n",
    "b = tmp\n",
    "print(a,b)"
   ]
  },
  {
   "cell_type": "code",
   "execution_count": null,
   "metadata": {},
   "outputs": [],
   "source": [
    "# Python also lets us\n",
    "# use this short-hand:\n",
    "a = 23\n",
    "b = 42\n",
    "a, b = b, a\n",
    "print(a,b)"
   ]
  },
  {
   "cell_type": "markdown",
   "metadata": {},
   "source": [
    "## Functions are first class citizens?"
   ]
  },
  {
   "cell_type": "code",
   "execution_count": null,
   "metadata": {},
   "outputs": [],
   "source": [
    "def myfunc(a, b):\n",
    "    return a + b"
   ]
  },
  {
   "cell_type": "code",
   "execution_count": null,
   "metadata": {},
   "outputs": [],
   "source": [
    "funcs = [myfunc]"
   ]
  },
  {
   "cell_type": "code",
   "execution_count": null,
   "metadata": {},
   "outputs": [],
   "source": [
    "funcs[0]"
   ]
  },
  {
   "cell_type": "code",
   "execution_count": null,
   "metadata": {},
   "outputs": [],
   "source": [
    "funcs[0](2,3)"
   ]
  },
  {
   "cell_type": "markdown",
   "metadata": {},
   "source": [
    "## Python Riddle\n",
    "\n",
    "https://dbader.org/blog/python-mystery-dict-expression"
   ]
  },
  {
   "cell_type": "code",
   "execution_count": null,
   "metadata": {},
   "outputs": [],
   "source": [
    "{True: 'yes', 1: 'no', 1.0: 'maybe'}"
   ]
  },
  {
   "cell_type": "code",
   "execution_count": null,
   "metadata": {},
   "outputs": [],
   "source": [
    "{True: '1', 1: '3', 4: 'maybe'}"
   ]
  },
  {
   "cell_type": "code",
   "execution_count": null,
   "metadata": {},
   "outputs": [],
   "source": [
    "True == 1 == 1.0"
   ]
  },
  {
   "cell_type": "code",
   "execution_count": null,
   "metadata": {},
   "outputs": [],
   "source": [
    "{True: 'hello', False: 'goodbye', 2: 'im back', \"3\": \"i never left\"}"
   ]
  },
  {
   "cell_type": "code",
   "execution_count": null,
   "metadata": {},
   "outputs": [],
   "source": [
    "id(2)"
   ]
  },
  {
   "cell_type": "code",
   "execution_count": null,
   "metadata": {},
   "outputs": [],
   "source": [
    "type(2)"
   ]
  },
  {
   "cell_type": "code",
   "execution_count": null,
   "metadata": {},
   "outputs": [],
   "source": [
    "type('3')"
   ]
  },
  {
   "cell_type": "code",
   "execution_count": null,
   "metadata": {},
   "outputs": [],
   "source": [
    "type(2.0)"
   ]
  },
  {
   "cell_type": "code",
   "execution_count": null,
   "metadata": {},
   "outputs": [],
   "source": [
    "2.0 == 2"
   ]
  },
  {
   "cell_type": "code",
   "execution_count": null,
   "metadata": {},
   "outputs": [],
   "source": [
    "# keys are immutable\n",
    "# immutable python objects as keys: bool, int, float, tuple, str, frozenset\n",
    "# mutable python objects (can not be keys): list, set, dict\n",
    "#\n",
    "# example of a tuple as a key: pointColor[(x, y, z)] = \"red\"\n",
    "# https://stackoverflow.com/questions/1938614/in-what-case-would-i-use-a-tuple-as-a-dictionary-key/1938638"
   ]
  },
  {
   "cell_type": "code",
   "execution_count": null,
   "metadata": {},
   "outputs": [],
   "source": [
    "{(2,3,4): \"red\", True: 'hello', 1:'goodbye'}"
   ]
  },
  {
   "cell_type": "markdown",
   "metadata": {},
   "source": [
    "# Prime Number"
   ]
  },
  {
   "cell_type": "code",
   "execution_count": null,
   "metadata": {},
   "outputs": [],
   "source": [
    "\n",
    "    "
   ]
  },
  {
   "cell_type": "code",
   "execution_count": null,
   "metadata": {},
   "outputs": [],
   "source": [
    "def primes(n):\n",
    "    primes = []\n",
    "    for num in range(2,n+1):\n",
    "        prime = True\n",
    "        for i in range(2,num):\n",
    "            if (num%i==0):\n",
    "                prime = False\n",
    "        if prime:\n",
    "#             print (num)\n",
    "            primes.append(num)\n",
    "    return(primes)"
   ]
  },
  {
   "cell_type": "code",
   "execution_count": null,
   "metadata": {},
   "outputs": [],
   "source": [
    "primes(6)"
   ]
  },
  {
   "cell_type": "code",
   "execution_count": null,
   "metadata": {},
   "outputs": [],
   "source": [
    "# I don't get the indentation\n",
    "\n",
    "# Python program to display all the prime numbers within an interval\n",
    "\n",
    "# lower = 900\n",
    "# upper = 1000\n",
    "\n",
    "# print(\"Prime numbers between\", lower, \"and\", upper, \"are:\")\n",
    "\n",
    "# for num in range(lower, upper + 1):\n",
    "#    # all prime numbers are greater than 1\n",
    "#     if num > 1:\n",
    "#         for i in range(2, num):\n",
    "#             if (num % i) == 0:\n",
    "#                 break\n",
    "#         else:\n",
    "#             print(num)"
   ]
  },
  {
   "cell_type": "code",
   "execution_count": null,
   "metadata": {},
   "outputs": [],
   "source": [
    "# pythonic way\n",
    "\n",
    "for num in range(2,10):\n",
    "    print(\"first\",num)\n",
    "    if all(num%i!=0 for i in range(2,num)):\n",
    "        print (num)"
   ]
  },
  {
   "cell_type": "code",
   "execution_count": null,
   "metadata": {},
   "outputs": [],
   "source": [
    "2 % 2 != 0"
   ]
  },
  {
   "cell_type": "code",
   "execution_count": null,
   "metadata": {},
   "outputs": [],
   "source": [
    "for i in range (2,2):\n",
    "    print(i)\n",
    "else:\n",
    "    print('here')"
   ]
  },
  {
   "cell_type": "code",
   "execution_count": null,
   "metadata": {},
   "outputs": [],
   "source": [
    "def primer(number):\n",
    "\n",
    "    if number > 1:\n",
    "        for i in range(2, number):\n",
    "            if (number % i) == 0:\n",
    "                print(number, \"isn't a prime\")\n",
    "                break\n",
    "        else:\n",
    "            print(number, \"is a prime\")\n",
    "\n",
    "\n",
    "    else:\n",
    "        print(number, \"isn't a prime\")"
   ]
  },
  {
   "cell_type": "code",
   "execution_count": null,
   "metadata": {},
   "outputs": [],
   "source": [
    "primer(2)"
   ]
  },
  {
   "cell_type": "code",
   "execution_count": null,
   "metadata": {},
   "outputs": [],
   "source": [
    "# https://stackoverflow.com/questions/11619942/print-series-of-prime-numbers-in-python\n",
    "\n",
    "# for num in range(2,5):\n",
    "#     prime = True\n",
    "#     print(\"the number is: \",num)\n",
    "#     for i in range(2,num):\n",
    "#         print(\"i is\", i)\n",
    "#         if (num%i==0):\n",
    "#             prime = False\n",
    "#     if prime:\n",
    "#         print (num)"
   ]
  },
  {
   "cell_type": "markdown",
   "metadata": {},
   "source": [
    "# Easter Eggs"
   ]
  },
  {
   "cell_type": "code",
   "execution_count": null,
   "metadata": {},
   "outputs": [],
   "source": [
    "hash(float('inf'))"
   ]
  },
  {
   "cell_type": "code",
   "execution_count": null,
   "metadata": {},
   "outputs": [],
   "source": [
    "from __future__ import braces"
   ]
  },
  {
   "cell_type": "code",
   "execution_count": null,
   "metadata": {},
   "outputs": [],
   "source": [
    "import this"
   ]
  },
  {
   "cell_type": "markdown",
   "metadata": {},
   "source": [
    "# Global, Local and Nonlocal variables"
   ]
  },
  {
   "cell_type": "markdown",
   "metadata": {},
   "source": [
    "## Global"
   ]
  },
  {
   "cell_type": "code",
   "execution_count": null,
   "metadata": {},
   "outputs": [],
   "source": [
    "a = \"global\"\n",
    "\n",
    "print(\"Outside of the function\",a)\n",
    "\n",
    "def my_func():\n",
    "    print(\"Inside of the function\",a)\n",
    "    \n",
    "my_func()"
   ]
  },
  {
   "cell_type": "code",
   "execution_count": null,
   "metadata": {},
   "outputs": [],
   "source": [
    "a = \"global\"\n",
    "b = \"global\"\n",
    "\n",
    "a = 2*a\n",
    "\n",
    "print(\"Outside of the function\",a)\n",
    "\n",
    "def my_func():\n",
    "    b = 2*b\n",
    "    print(\"Inside of the function\",b)\n",
    "    \n",
    "my_func()"
   ]
  },
  {
   "cell_type": "code",
   "execution_count": null,
   "metadata": {},
   "outputs": [],
   "source": [
    "# Changing a global inside of a function\n",
    "\n",
    "b = 2\n",
    "\n",
    "print(\"outside of the function\",b)\n",
    "def my_other_func():\n",
    "    b = b * b\n",
    "    print(\"Inside of the function\",b)\n",
    "    \n",
    "my_other_func()"
   ]
  },
  {
   "cell_type": "markdown",
   "metadata": {},
   "source": [
    "## UnboundLocalError\n",
    "This is because when you make an assignment to a variable in a scope, that variable becomes local to that scope and shadows any similarly named variable in the outer scope.\n",
    "\n",
    "https://eli.thegreenplace.net/2011/05/15/understanding-unboundlocalerror-in-python/"
   ]
  },
  {
   "cell_type": "code",
   "execution_count": null,
   "metadata": {},
   "outputs": [],
   "source": [
    "lst = [10,5,1]\n",
    "\n",
    "def my_other_func():\n",
    "    lst.append(15)\n",
    "\n",
    "my_other_func()\n",
    "print(lst)"
   ]
  },
  {
   "cell_type": "code",
   "execution_count": null,
   "metadata": {},
   "outputs": [],
   "source": [
    "lst = [10,5,1]\n",
    "lst += [5]\n",
    "print(lst)"
   ]
  },
  {
   "cell_type": "code",
   "execution_count": null,
   "metadata": {},
   "outputs": [],
   "source": [
    "lst = [10,5,1]\n",
    "\n",
    "def my_other_func():\n",
    "    lst+= [5]\n",
    "\n",
    "my_other_func()\n",
    "print(lst)"
   ]
  },
  {
   "cell_type": "code",
   "execution_count": null,
   "metadata": {},
   "outputs": [],
   "source": [
    "lst = [10,5,1]\n",
    "\n",
    "def my_other_func():\n",
    "    global lst\n",
    "    lst+= [5]\n",
    "\n",
    "my_other_func()\n",
    "print(lst)"
   ]
  },
  {
   "cell_type": "markdown",
   "metadata": {},
   "source": [
    "## Local"
   ]
  },
  {
   "cell_type": "code",
   "execution_count": null,
   "metadata": {},
   "outputs": [],
   "source": [
    "def my_func():\n",
    "    c = \"local\"\n",
    "\n",
    "my_func()\n",
    "print(c)"
   ]
  },
  {
   "cell_type": "code",
   "execution_count": null,
   "metadata": {},
   "outputs": [],
   "source": [
    "def my_func():\n",
    "    c = \"local\"\n",
    "    print('Inside of the function',c)\n",
    "\n",
    "my_func()\n",
    "print('Outside the function',c)"
   ]
  },
  {
   "cell_type": "markdown",
   "metadata": {},
   "source": [
    "## Same name for global and local"
   ]
  },
  {
   "cell_type": "code",
   "execution_count": null,
   "metadata": {},
   "outputs": [],
   "source": [
    "d = \"here I am outside\""
   ]
  },
  {
   "cell_type": "code",
   "execution_count": null,
   "metadata": {},
   "outputs": [],
   "source": [
    "def my_func():\n",
    "    d = \"here I am inside\"\n",
    "    print ('local:',d)\n",
    "\n",
    "my_func()\n",
    "print('global:',d)"
   ]
  },
  {
   "cell_type": "markdown",
   "metadata": {},
   "source": [
    "## Nonlocal \n",
    "\n",
    "Nonlocal variables are used in nested functions whose local scope is not defined. This means that the variable can be neither in the local nor the global scope.\n",
    "\n",
    "https://www.programiz.com/python-programming/global-local-nonlocal-variables#:~:text=In%20Python%2C%20a%20variable%20declared,variable%20is%20created%20in%20Python."
   ]
  },
  {
   "cell_type": "code",
   "execution_count": null,
   "metadata": {},
   "outputs": [],
   "source": [
    "def outer_func():\n",
    "    x = \"local\"\n",
    "\n",
    "    def inner_func():\n",
    "        nonlocal x\n",
    "        x = \"nonlocal\"\n",
    "        print(\"inner:\", x)\n",
    "\n",
    "    inner_func()\n",
    "    print(\"outer:\", x)\n",
    "\n",
    "\n",
    "outer_func()"
   ]
  },
  {
   "cell_type": "markdown",
   "metadata": {},
   "source": [
    "# Disarmium Number\n",
    "https://edabit.com/challenges/python3\n",
    "\n",
    "A Disarium number is a number defined by the following process: Sum of its digits powered with their respective position is equal to the original number. Some other DISARIUM are 89, 175, 518\n"
   ]
  },
  {
   "cell_type": "code",
   "execution_count": null,
   "metadata": {},
   "outputs": [],
   "source": [
    "x = 89\n",
    "y = 88\n",
    "z = 131\n",
    "u = 175"
   ]
  },
  {
   "cell_type": "code",
   "execution_count": null,
   "metadata": {},
   "outputs": [],
   "source": [
    "def disarm(num):\n",
    "    num_str = str(num)\n",
    "    count = len(num_str)\n",
    "    temp = 0\n",
    "    \n",
    "    for i in range(0, count):\n",
    "        temp += int(num_str[i]) ** int((i+1))\n",
    "    if temp == num:\n",
    "        print(\"The number\", num, \"is a disarmuim\")\n",
    "    else:\n",
    "        print(\"Sorry, the number \", num, \"is not a disarmium\")"
   ]
  },
  {
   "cell_type": "code",
   "execution_count": null,
   "metadata": {},
   "outputs": [],
   "source": [
    "disarm(y)"
   ]
  },
  {
   "cell_type": "code",
   "execution_count": null,
   "metadata": {},
   "outputs": [],
   "source": [
    "disarm(z)"
   ]
  },
  {
   "cell_type": "code",
   "execution_count": null,
   "metadata": {},
   "outputs": [],
   "source": [
    "disarm(u)"
   ]
  },
  {
   "cell_type": "code",
   "execution_count": null,
   "metadata": {},
   "outputs": [],
   "source": [
    "def disarm(num):\n",
    "    temp = 0\n",
    "    num_list = [int(x) for x in str(num)] \n",
    "    \n",
    "    for i, j in enumerate(num_list):\n",
    "        temp += j ** (i+1)\n",
    "        \n",
    "    if temp == num:\n",
    "        print(\"The number\", num, \"is a disarmuim\")\n",
    "    else:\n",
    "        print(\"Sorry, the number \", num, \"is not a disarmium\")"
   ]
  },
  {
   "cell_type": "code",
   "execution_count": null,
   "metadata": {},
   "outputs": [],
   "source": [
    "disarm(x)"
   ]
  },
  {
   "cell_type": "code",
   "execution_count": null,
   "metadata": {},
   "outputs": [],
   "source": [
    "disarm(z)"
   ]
  },
  {
   "cell_type": "code",
   "execution_count": null,
   "metadata": {},
   "outputs": [],
   "source": [
    "def disarm_short(num):\n",
    "# version 1\n",
    "#     temp = 0\n",
    "    \n",
    "#     for i, j in enumerate([int(x) for x in str(num)]):\n",
    "#         temp += j ** (i+1)\n",
    "#     return(temp==num)\n",
    "\n",
    "# version 1b\n",
    "#     temp = 0\n",
    "#     num_str = str(num)\n",
    "    \n",
    "#     for i, j in enumerate(num_str):\n",
    "#         temp += int(j) ** (i+1)\n",
    "#     return(num,temp,temp==num)\n",
    "\n",
    "# version  2\n",
    "#     temp = []\n",
    "#     for i,j in enumerate([int(x) for x in str(num)]):\n",
    "#         temp.append(j ** (i+1))\n",
    "#     return(num,temp,sum(temp)==num)\n",
    "\n",
    "# version 3\n",
    "#     return sum(j ** (i+1) for i,j in enumerate([int(x) for x in str(num)])) == num\n",
    "\n",
    "#verion 3b\n",
    "    return (num, sum(int(j) ** (i+1) for i,j in enumerate(str(num))) == num, sum(int(j) ** (i+1) for i,j in enumerate(str(num))))"
   ]
  },
  {
   "cell_type": "code",
   "execution_count": null,
   "metadata": {},
   "outputs": [],
   "source": [
    "disarm_short(z)"
   ]
  },
  {
   "cell_type": "code",
   "execution_count": null,
   "metadata": {},
   "outputs": [],
   "source": [
    "# https://edabit.com/challenge/yvJbdkmKHvCNtcZy9\n",
    "# Deep Xavier's solution\n",
    "\n",
    "def is_disarium(n):\n",
    "      return sum(int(x)**(i+1) for i, x in enumerate(str(n))) == n"
   ]
  },
  {
   "cell_type": "code",
   "execution_count": null,
   "metadata": {},
   "outputs": [],
   "source": [
    "is_disarium(x)"
   ]
  },
  {
   "cell_type": "code",
   "execution_count": null,
   "metadata": {},
   "outputs": [],
   "source": [
    "# Deep Xavier's recursive\n",
    "def is_disarium(n, s=0, i=1):\n",
    "      return s == n if i > len(str(n)) else is_disarium(n, s+int(str(n)[i-1])**i, i+1)"
   ]
  },
  {
   "cell_type": "code",
   "execution_count": null,
   "metadata": {},
   "outputs": [],
   "source": [
    "is_disarium(x)"
   ]
  },
  {
   "cell_type": "markdown",
   "metadata": {},
   "source": [
    "# Type Hinting\n",
    "\n",
    "https://medium.com/better-programming/9-python-3-features-you-might-not-use-yet-fade13932a3e\n",
    "\n",
    "https://www.youtube.com/watch?v=2wDvzy6Hgxg"
   ]
  },
  {
   "cell_type": "code",
   "execution_count": null,
   "metadata": {},
   "outputs": [],
   "source": [
    "def fruits_word(line: str) -> bool:\n",
    "      return \"fruit\" in line\n",
    "test = fruits_word(\"I love to eat fresh fruits\")\n",
    "print(test)\n",
    "# True"
   ]
  },
  {
   "cell_type": "markdown",
   "metadata": {},
   "source": [
    "# Friday the 13th\n",
    "\n",
    "Given the month and year as numbers, return whether that month contains a Friday 13th.\n",
    "\n",
    "https://edabit.com/challenge/Xkc2iAjwCap2z9N5D\n",
    "\n",
    "check out datetime\n",
    "\n",
    "example: \n",
    "has_friday_13(3, 2020) ➞ True\n",
    "\n",
    "has_friday_13(10, 2017) ➞ True\n",
    "\n",
    "has_friday_13(1, 1985) ➞ False"
   ]
  },
  {
   "cell_type": "code",
   "execution_count": null,
   "metadata": {},
   "outputs": [],
   "source": [
    "import datetime"
   ]
  },
  {
   "cell_type": "code",
   "execution_count": null,
   "metadata": {},
   "outputs": [],
   "source": [
    "datetime_object = datetime.datetime.now()\n",
    "print(datetime_object)"
   ]
  },
  {
   "cell_type": "code",
   "execution_count": null,
   "metadata": {},
   "outputs": [],
   "source": [
    "datetime_object = datetime.date.today()\n",
    "print(datetime_object,type(datetime_object))"
   ]
  },
  {
   "cell_type": "code",
   "execution_count": null,
   "metadata": {},
   "outputs": [],
   "source": [
    "# import date class\n",
    "# create a date object containing the current date by using a classmethod named today()\n",
    "\n",
    "\n",
    "\n",
    "\n",
    "from datetime import date\n",
    "\n",
    "a = date(2019, 4, 13)\n",
    "print(a)"
   ]
  },
  {
   "cell_type": "code",
   "execution_count": null,
   "metadata": {},
   "outputs": [],
   "source": [
    "today = date.today()\n",
    "print(today)"
   ]
  },
  {
   "cell_type": "code",
   "execution_count": null,
   "metadata": {},
   "outputs": [],
   "source": [
    "print(today.year,today.month)"
   ]
  },
  {
   "cell_type": "code",
   "execution_count": null,
   "metadata": {},
   "outputs": [],
   "source": [
    "# time and datetime classes too\n",
    "from datetime import time,datetime"
   ]
  },
  {
   "cell_type": "markdown",
   "metadata": {},
   "source": [
    "## find day of week"
   ]
  },
  {
   "cell_type": "code",
   "execution_count": null,
   "metadata": {},
   "outputs": [],
   "source": [
    "# naive - don't know about time zones "
   ]
  },
  {
   "cell_type": "code",
   "execution_count": null,
   "metadata": {},
   "outputs": [],
   "source": [
    "# parse time, strptime\n",
    "\n",
    "import datetime\n",
    "import calendar\n",
    "\n",
    "def find_day(date): \n",
    "    born = datetime.datetime.strptime(date, '%d %m %Y').weekday() \n",
    "    return (calendar.day_name[born]) "
   ]
  },
  {
   "cell_type": "code",
   "execution_count": null,
   "metadata": {},
   "outputs": [],
   "source": [
    "date = '03 02 2019'\n",
    "print(find_day(date))"
   ]
  },
  {
   "cell_type": "code",
   "execution_count": null,
   "metadata": {},
   "outputs": [],
   "source": [
    "# format time, strftime\n",
    "# %A Full weekday name, https://www.tutorialspoint.com/python/time_strftime.htm\n",
    "\n",
    "import datetime  \n",
    "from datetime import date \n",
    "import calendar \n",
    "  \n",
    "def find_day(date): \n",
    "    day, month, year = (int(i) for i in date.split(' ')) \n",
    "    print(day,month,year)\n",
    "    born = datetime.date(year, month, day) \n",
    "    return born.strftime(\"%A\") "
   ]
  },
  {
   "cell_type": "code",
   "execution_count": null,
   "metadata": {},
   "outputs": [],
   "source": [
    "date = '03 02 2019'\n",
    "print(find_day(date))"
   ]
  },
  {
   "cell_type": "markdown",
   "metadata": {},
   "source": [
    "## day= 13, given month and year"
   ]
  },
  {
   "cell_type": "code",
   "execution_count": null,
   "metadata": {},
   "outputs": [],
   "source": [
    "# strptime\n",
    "\n",
    "def has_friday_13(date):\n",
    "    spooky = datetime.datetime.strptime(date, '%m %Y').weekday()\n",
    "    return (calendar.day_name[spooky])"
   ]
  },
  {
   "cell_type": "code",
   "execution_count": null,
   "metadata": {},
   "outputs": [],
   "source": [
    "date = '03 2020'\n",
    "print(has_friday_13(date))"
   ]
  },
  {
   "cell_type": "code",
   "execution_count": null,
   "metadata": {},
   "outputs": [],
   "source": [
    "# strftime\n",
    "import datetime  \n",
    "from datetime import date \n",
    "import calendar \n",
    "\n",
    "def has_friday_13(date):\n",
    "    month, day, year = (int(i) for i in date.split(' '))   \n",
    "    spooky = datetime.date(year, month, day) \n",
    "    return spooky.strftime(\"%A\") "
   ]
  },
  {
   "cell_type": "code",
   "execution_count": null,
   "metadata": {},
   "outputs": [],
   "source": [
    "date = '3 13 2020'\n",
    "print(has_friday_13(date))"
   ]
  },
  {
   "cell_type": "code",
   "execution_count": null,
   "metadata": {},
   "outputs": [],
   "source": [
    "def has_friday_13(date):\n",
    "    month, day, year = (int(i) for i in date.split(' '))   \n",
    "    return datetime.date(year, month, day).strftime(\"%A\") "
   ]
  },
  {
   "cell_type": "code",
   "execution_count": null,
   "metadata": {},
   "outputs": [],
   "source": [
    "date = '3 13 2020'\n",
    "print(has_friday_13(date))"
   ]
  },
  {
   "cell_type": "markdown",
   "metadata": {},
   "source": [
    "## refined strptime()"
   ]
  },
  {
   "cell_type": "code",
   "execution_count": 15,
   "metadata": {},
   "outputs": [],
   "source": [
    "# strptime\n",
    "import datetime\n",
    "import calendar\n",
    "\n",
    "def has_friday_13(month, year):\n",
    "#     date = str(month) + '13' + str(year)\n",
    "    date = f'{month} 13 {year}'.format()\n",
    "    print(date)\n",
    "    print(type(date))\n",
    "    spooky = datetime.datetime.strptime(date, '%m %d %Y').weekday()\n",
    "    print(type(spooky))\n",
    "    print(spooky)\n",
    "    return (calendar.day_name[spooky]) == \"Friday\""
   ]
  },
  {
   "cell_type": "code",
   "execution_count": 16,
   "metadata": {},
   "outputs": [
    {
     "name": "stdout",
     "output_type": "stream",
     "text": [
      "3 13 2020\n",
      "<class 'str'>\n",
      "<class 'int'>\n",
      "4\n"
     ]
    },
    {
     "data": {
      "text/plain": [
       "True"
      ]
     },
     "execution_count": 16,
     "metadata": {},
     "output_type": "execute_result"
    }
   ],
   "source": [
    "has_friday_13(3,2020)"
   ]
  },
  {
   "cell_type": "code",
   "execution_count": 87,
   "metadata": {},
   "outputs": [],
   "source": [
    "# Final\n",
    "\n",
    "import datetime\n",
    "from datetime import datetime\n",
    "import calendar\n",
    "\n",
    "def has_friday_13(month, year):\n",
    "    date = f'{month} 13 {year}'.format()\n",
    "    spooky = datetime.strptime(date, '%m %d %Y').weekday()\n",
    "    return (calendar.day_name[spooky]) == \"Friday\""
   ]
  },
  {
   "cell_type": "code",
   "execution_count": 88,
   "metadata": {},
   "outputs": [
    {
     "data": {
      "text/plain": [
       "True"
      ]
     },
     "execution_count": 88,
     "metadata": {},
     "output_type": "execute_result"
    }
   ],
   "source": [
    "has_friday_13(3,2020)"
   ]
  },
  {
   "cell_type": "code",
   "execution_count": 61,
   "metadata": {},
   "outputs": [
    {
     "data": {
      "text/plain": [
       "True"
      ]
     },
     "execution_count": 61,
     "metadata": {},
     "output_type": "execute_result"
    }
   ],
   "source": [
    "has_friday_13(10,2017)"
   ]
  },
  {
   "cell_type": "code",
   "execution_count": 62,
   "metadata": {},
   "outputs": [
    {
     "data": {
      "text/plain": [
       "False"
      ]
     },
     "execution_count": 62,
     "metadata": {},
     "output_type": "execute_result"
    }
   ],
   "source": [
    "has_friday_13(1, 1985) "
   ]
  },
  {
   "cell_type": "markdown",
   "metadata": {},
   "source": [
    "## refined strftime()"
   ]
  },
  {
   "cell_type": "code",
   "execution_count": 78,
   "metadata": {},
   "outputs": [],
   "source": [
    "import datetime  \n",
    "from datetime import date "
   ]
  },
  {
   "cell_type": "code",
   "execution_count": 79,
   "metadata": {},
   "outputs": [],
   "source": [
    "def has_friday_13(date):\n",
    "    month, day, year = (int(i) for i in date.split(' '))   \n",
    "    spooky = datetime.date(year, month, day) \n",
    "    return spooky.strftime(\"%A\") == \"Friday\""
   ]
  },
  {
   "cell_type": "code",
   "execution_count": 80,
   "metadata": {},
   "outputs": [
    {
     "data": {
      "text/plain": [
       "False"
      ]
     },
     "execution_count": 80,
     "metadata": {},
     "output_type": "execute_result"
    }
   ],
   "source": [
    "has_friday_13('1 13 1985')"
   ]
  },
  {
   "cell_type": "code",
   "execution_count": 81,
   "metadata": {},
   "outputs": [],
   "source": [
    "# datetime.date year, month, day https://docs.python.org/3/library/datetime.html\n",
    "def has_friday_13(month, year):\n",
    "    spooky = datetime.date(year, month, 13)\n",
    "    return spooky.strftime(\"%A\") == \"Friday\""
   ]
  },
  {
   "cell_type": "code",
   "execution_count": 82,
   "metadata": {},
   "outputs": [
    {
     "data": {
      "text/plain": [
       "False"
      ]
     },
     "execution_count": 82,
     "metadata": {},
     "output_type": "execute_result"
    }
   ],
   "source": [
    "has_friday_13(1, 1985) "
   ]
  },
  {
   "cell_type": "code",
   "execution_count": 83,
   "metadata": {},
   "outputs": [],
   "source": [
    "# Final version\n",
    "\n",
    "def has_friday_13(month, year):\n",
    "    return datetime.date(year, month, 13).strftime(\"%A\") == \"Friday\""
   ]
  },
  {
   "cell_type": "code",
   "execution_count": 84,
   "metadata": {},
   "outputs": [
    {
     "data": {
      "text/plain": [
       "False"
      ]
     },
     "execution_count": 84,
     "metadata": {},
     "output_type": "execute_result"
    }
   ],
   "source": [
    "has_friday_13(1, 1985) "
   ]
  },
  {
   "cell_type": "markdown",
   "metadata": {},
   "source": [
    "# Karaca's Encryption Algorithm\n",
    "\n",
    "Make a function that encrypts a given input with these steps:\n",
    "\n",
    "Input: \"apple\"\n",
    "\n",
    "Step 1: Reverse the input: \"elppa\"\n",
    "\n",
    "Step 2: Replace all vowels using the following chart:\n",
    "\n",
    "a => 0\n",
    "e => 1\n",
    "i => 2\n",
    "o => 2\n",
    "u => 3\n",
    "\n",
    "\n",
    "Step 3: Add \"aca\" to the end of the word: \"1lpp0aca\"\n",
    "\n",
    "Output: \"1lpp0aca\"\n",
    "\n",
    "Examples\n",
    "encrypt(\"banana\") ➞ \"0n0n0baca\"\n",
    "\n",
    "encrypt(\"karaca\") ➞ \"0c0r0kaca\"\n",
    "\n",
    "encrypt(\"burak\") ➞ \"k0r3baca\"\n",
    "\n",
    "encrypt(\"alpaca\") ➞ \"0c0pl0aca\"\n",
    "\n",
    "\n",
    "https://stackoverflow.com/questions/45205216/python-how-to-replace-values-in-one-list-with-values-in-a-dictionary"
   ]
  },
  {
   "cell_type": "code",
   "execution_count": 90,
   "metadata": {},
   "outputs": [],
   "source": [
    "# V1\n",
    "\n",
    "def encrypt(word):\n",
    "    replacers = {'a':0, 'e' :1, 'i':2, 'o':2,'u':3}\n",
    "    \n",
    "    word_as_list = list(word[::-1])\n",
    "      \n",
    "    def replace(list, dictionary):\n",
    "        return [replacers.get(item, item) for item in list]\n",
    "    \n",
    "    replaced_list = replace(word_as_list,replacers)\n",
    "    \n",
    "    list_to_string = ''.join([str(elem) for elem in replaced_list])\n",
    "    list_to_string += 'aca'\n",
    "    return(list_to_string)"
   ]
  },
  {
   "cell_type": "code",
   "execution_count": null,
   "metadata": {},
   "outputs": [],
   "source": [
    "# V2\n",
    "\n",
    "def encrypt(word):\n",
    "    replacers = {'a':0, 'e' :1, 'i':2, 'o':2,'u':3}\n",
    "    \n",
    "    word_as_list = list(word[::-1])\n",
    "    \n",
    "    replaced_list = [replacers.get(item,item) for item in word_as_list]\n",
    "    \n",
    "    list_to_string = ''.join([str(elem) for elem in replaced_list])\n",
    "    list_to_string += 'aca'\n",
    "    \n",
    "    return(list_to_string)"
   ]
  },
  {
   "cell_type": "code",
   "execution_count": 91,
   "metadata": {},
   "outputs": [
    {
     "data": {
      "text/plain": [
       "'1lpp0aca'"
      ]
     },
     "execution_count": 91,
     "metadata": {},
     "output_type": "execute_result"
    }
   ],
   "source": [
    "encrypt('apple')"
   ]
  },
  {
   "cell_type": "code",
   "execution_count": 92,
   "metadata": {},
   "outputs": [
    {
     "data": {
      "text/plain": [
       "'0c0r0kaca'"
      ]
     },
     "execution_count": 92,
     "metadata": {},
     "output_type": "execute_result"
    }
   ],
   "source": [
    "encrypt('karaca')"
   ]
  },
  {
   "cell_type": "code",
   "execution_count": 93,
   "metadata": {},
   "outputs": [
    {
     "data": {
      "text/plain": [
       "'0c0pl0aca'"
      ]
     },
     "execution_count": 93,
     "metadata": {},
     "output_type": "execute_result"
    }
   ],
   "source": [
    "encrypt('alpaca')"
   ]
  },
  {
   "cell_type": "markdown",
   "metadata": {},
   "source": [
    "## str.translate()"
   ]
  },
  {
   "cell_type": "code",
   "execution_count": 94,
   "metadata": {},
   "outputs": [],
   "source": [
    "# Answer from zatoichi\n",
    "# learn str.translate!!!!\n",
    "\n",
    "def encrypt(word):\n",
    "\treturn word[::-1].translate(str.maketrans('aeou', '0123')) + 'aca'"
   ]
  },
  {
   "cell_type": "code",
   "execution_count": 96,
   "metadata": {},
   "outputs": [
    {
     "data": {
      "text/plain": [
       "'1lpp0aca'"
      ]
     },
     "execution_count": 96,
     "metadata": {},
     "output_type": "execute_result"
    }
   ],
   "source": [
    "encrypt('apple')"
   ]
  },
  {
   "cell_type": "markdown",
   "metadata": {},
   "source": [
    "### str.maketrans() \n",
    "the string maketrans() returns a mapping table for translation usable for translate() method\n",
    "\n",
    "the syntax is string.maketrans(x[,y[,z]]) with y and z optional\n",
    "\n",
    "x - If only one argument is supplied, it must be a dictionary.\n",
    "The dictionary should contain a 1-to-1 mapping from a single character string to its translation OR a Unicode number (97 for 'a') to its translation.\n",
    "\n",
    "y - If two arguments are passed, it must be two strings with equal length.\n",
    "Each character in the first string is a replacement to its corresponding index in the second string.\n",
    "\n",
    "z - If three arguments are passed, each character in the third argument is mapped to None.\n",
    "\n",
    "https://www.programiz.com/python-programming/methods/string/translate"
   ]
  },
  {
   "cell_type": "code",
   "execution_count": 101,
   "metadata": {},
   "outputs": [
    {
     "name": "stdout",
     "output_type": "stream",
     "text": [
      "{97: '123', 98: '456', 99: '789'}\n"
     ]
    }
   ],
   "source": [
    "# example dictionary\n",
    "dict = {\"a\": \"123\", \"b\": \"456\", \"c\": \"789\"}\n",
    "string = \"abc\"\n",
    "print(string.maketrans(dict))"
   ]
  },
  {
   "cell_type": "code",
   "execution_count": 103,
   "metadata": {},
   "outputs": [
    {
     "name": "stdout",
     "output_type": "stream",
     "text": [
      "{100: '000', 120: '123', 121: '456', 122: '789'}\n"
     ]
    }
   ],
   "source": [
    "dict = {\"d\":\"000\", \"x\": \"123\", \"y\": \"456\", \"z\": \"789\"}\n",
    "string = \"dxyz\"\n",
    "print(string.maketrans(dict))"
   ]
  },
  {
   "cell_type": "code",
   "execution_count": 111,
   "metadata": {},
   "outputs": [
    {
     "name": "stdout",
     "output_type": "stream",
     "text": [
      "{97: 100, 98: 101, 99: 102}\n"
     ]
    }
   ],
   "source": [
    "# two strings\n",
    "firstString = \"abc\"\n",
    "secondString = \"def\"\n",
    "string2 = \"\"\n",
    "print(string2.maketrans(firstString, secondString))"
   ]
  },
  {
   "cell_type": "code",
   "execution_count": 105,
   "metadata": {},
   "outputs": [
    {
     "ename": "ValueError",
     "evalue": "the first two maketrans arguments must have equal length",
     "output_type": "error",
     "traceback": [
      "\u001b[0;31m---------------------------------------------------------------------------\u001b[0m",
      "\u001b[0;31mValueError\u001b[0m                                Traceback (most recent call last)",
      "\u001b[0;32m<ipython-input-105-04bfb041dbf7>\u001b[0m in \u001b[0;36m<module>\u001b[0;34m()\u001b[0m\n\u001b[1;32m      3\u001b[0m \u001b[0msecondString\u001b[0m \u001b[0;34m=\u001b[0m \u001b[0;34m\"defghi\"\u001b[0m\u001b[0;34m\u001b[0m\u001b[0m\n\u001b[1;32m      4\u001b[0m \u001b[0mstring\u001b[0m \u001b[0;34m=\u001b[0m \u001b[0;34m\"abc\"\u001b[0m\u001b[0;34m\u001b[0m\u001b[0m\n\u001b[0;32m----> 5\u001b[0;31m \u001b[0mprint\u001b[0m\u001b[0;34m(\u001b[0m\u001b[0mstring\u001b[0m\u001b[0;34m.\u001b[0m\u001b[0mmaketrans\u001b[0m\u001b[0;34m(\u001b[0m\u001b[0mfirstString\u001b[0m\u001b[0;34m,\u001b[0m \u001b[0msecondString\u001b[0m\u001b[0;34m)\u001b[0m\u001b[0;34m)\u001b[0m\u001b[0;34m\u001b[0m\u001b[0m\n\u001b[0m",
      "\u001b[0;31mValueError\u001b[0m: the first two maketrans arguments must have equal length"
     ]
    }
   ],
   "source": [
    "# two strings, different length\n",
    "firstString = \"abc\"\n",
    "secondString = \"defghi\"\n",
    "string = \"abc\"\n",
    "print(string.maketrans(firstString, secondString))"
   ]
  },
  {
   "cell_type": "code",
   "execution_count": 113,
   "metadata": {},
   "outputs": [
    {
     "name": "stdout",
     "output_type": "stream",
     "text": [
      "{97: None, 98: None, 99: 102, 100: None}\n"
     ]
    }
   ],
   "source": [
    "# translation table with removable string\n",
    "firstString = \"abc\"\n",
    "secondString = \"def\"\n",
    "thirdString = \"abd\"\n",
    "string = \"abc\"\n",
    "print(string.maketrans(firstString, secondString, thirdString))\n",
    "# a = 97, b = 98, c = 99, d = 100, e = 101, f = 102\n",
    "# in first round: a becomes 100, b is 101 and c is 102\n",
    "# in second round: resets mapping of each character to none, and creates new mapping for non-existent characters\n",
    "# a (97) is none, b (98) is none, c (99) is still 102, d (100) is none"
   ]
  },
  {
   "cell_type": "markdown",
   "metadata": {},
   "source": [
    "## Translate with translation table"
   ]
  },
  {
   "cell_type": "code",
   "execution_count": 117,
   "metadata": {},
   "outputs": [],
   "source": [
    "firstString = \"abc\"\n",
    "secondString = \"ghi\"\n",
    "thirdString = \"ab\""
   ]
  },
  {
   "cell_type": "code",
   "execution_count": 118,
   "metadata": {},
   "outputs": [
    {
     "name": "stdout",
     "output_type": "stream",
     "text": [
      "Original string: abcdef\n"
     ]
    }
   ],
   "source": [
    "string = \"abcdef\"\n",
    "print(\"Original string:\", string)"
   ]
  },
  {
   "cell_type": "code",
   "execution_count": 119,
   "metadata": {},
   "outputs": [
    {
     "name": "stdout",
     "output_type": "stream",
     "text": [
      "{97: None, 98: None, 99: 105}\n"
     ]
    }
   ],
   "source": [
    "# translation table is created by static method maketrans()\n",
    "# Static methods in Python are extremely similar to python class level methods, the difference being that a \n",
    "# static method is bound to a class rather than the objects for that class. This means that a static method \n",
    "# can be called without an object for that class.\n",
    "\n",
    "translation = string.maketrans(firstString, secondString, thirdString)\n",
    "print(translation)"
   ]
  },
  {
   "cell_type": "code",
   "execution_count": 121,
   "metadata": {},
   "outputs": [
    {
     "name": "stdout",
     "output_type": "stream",
     "text": [
      "Translated string: idef\n"
     ]
    }
   ],
   "source": [
    "print(\"Translated string:\", string.translate(translation))\n",
    "# a, b and c are mapped to g, h and i. Then the removal string resets mapping of a and b to none. c is 105/i.\n",
    "# So, with string abcdef, the a and b are removed and c is i and nothing happened to def."
   ]
  },
  {
   "cell_type": "markdown",
   "metadata": {},
   "source": [
    "## Translate with manual translation table"
   ]
  },
  {
   "cell_type": "code",
   "execution_count": 122,
   "metadata": {},
   "outputs": [
    {
     "name": "stdout",
     "output_type": "stream",
     "text": [
      "Original string: abcdef\n",
      "Translated string: idef\n"
     ]
    }
   ],
   "source": [
    "# translation table - a dictionary\n",
    "translation = {97: None, 98: None, 99: 105}\n",
    "\n",
    "string = \"abcdef\"\n",
    "print(\"Original string:\", string)\n",
    "\n",
    "# translate string\n",
    "print(\"Translated string:\", string.translate(translation))"
   ]
  },
  {
   "cell_type": "markdown",
   "metadata": {},
   "source": [
    "## Back to algorithm"
   ]
  },
  {
   "cell_type": "code",
   "execution_count": 124,
   "metadata": {},
   "outputs": [],
   "source": [
    "replacers = {'a':0, 'e' :1, 'i':2, 'o':2,'u':3}\n",
    "string = 'apple'"
   ]
  },
  {
   "cell_type": "code",
   "execution_count": 125,
   "metadata": {},
   "outputs": [
    {
     "name": "stdout",
     "output_type": "stream",
     "text": [
      "tranlated string:  apple\n"
     ]
    }
   ],
   "source": [
    "print(\"tranlated string: \", string.translate(replacers))"
   ]
  },
  {
   "cell_type": "code",
   "execution_count": null,
   "metadata": {},
   "outputs": [],
   "source": [
    "firstString= 'aeiou'\n",
    "secondString = '01223'"
   ]
  },
  {
   "cell_type": "code",
   "execution_count": 126,
   "metadata": {},
   "outputs": [],
   "source": [
    "string = 'apple'\n",
    "translation = string.maketrans(firstString, secondString)"
   ]
  },
  {
   "cell_type": "code",
   "execution_count": 127,
   "metadata": {},
   "outputs": [
    {
     "name": "stdout",
     "output_type": "stream",
     "text": [
      "translated string:  gpple\n"
     ]
    }
   ],
   "source": [
    "print('translated string: ', string.translate(translation))"
   ]
  },
  {
   "cell_type": "code",
   "execution_count": null,
   "metadata": {},
   "outputs": [],
   "source": []
  }
 ],
 "metadata": {
  "kernelspec": {
   "display_name": "Python [conda env:learn-env] *",
   "language": "python",
   "name": "conda-env-learn-env-py"
  },
  "language_info": {
   "codemirror_mode": {
    "name": "ipython",
    "version": 3
   },
   "file_extension": ".py",
   "mimetype": "text/x-python",
   "name": "python",
   "nbconvert_exporter": "python",
   "pygments_lexer": "ipython3",
   "version": "3.6.6"
  },
  "toc": {
   "base_numbering": 1,
   "nav_menu": {},
   "number_sections": true,
   "sideBar": true,
   "skip_h1_title": false,
   "title_cell": "Table of Contents",
   "title_sidebar": "Contents",
   "toc_cell": true,
   "toc_position": {},
   "toc_section_display": true,
   "toc_window_display": false
  },
  "varInspector": {
   "cols": {
    "lenName": 16,
    "lenType": 16,
    "lenVar": 40
   },
   "kernels_config": {
    "python": {
     "delete_cmd_postfix": "",
     "delete_cmd_prefix": "del ",
     "library": "var_list.py",
     "varRefreshCmd": "print(var_dic_list())"
    },
    "r": {
     "delete_cmd_postfix": ") ",
     "delete_cmd_prefix": "rm(",
     "library": "var_list.r",
     "varRefreshCmd": "cat(var_dic_list()) "
    }
   },
   "types_to_exclude": [
    "module",
    "function",
    "builtin_function_or_method",
    "instance",
    "_Feature"
   ],
   "window_display": false
  }
 },
 "nbformat": 4,
 "nbformat_minor": 2
}
