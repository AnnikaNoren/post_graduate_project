{
 "cells": [
  {
   "cell_type": "markdown",
   "metadata": {
    "toc": true
   },
   "source": [
    "<h1>Table of Contents<span class=\"tocSkip\"></span></h1>\n",
    "<div class=\"toc\"><ul class=\"toc-item\"><li><span><a href=\"#Learn-Git-Branching\" data-toc-modified-id=\"Learn-Git-Branching-1\"><span class=\"toc-item-num\">1&nbsp;&nbsp;</span>Learn Git Branching</a></span><ul class=\"toc-item\"><li><span><a href=\"#Git-v-Github\" data-toc-modified-id=\"Git-v-Github-1.1\"><span class=\"toc-item-num\">1.1&nbsp;&nbsp;</span>Git v Github</a></span></li><li><span><a href=\"#Hash\" data-toc-modified-id=\"Hash-1.2\"><span class=\"toc-item-num\">1.2&nbsp;&nbsp;</span>Hash</a></span></li><li><span><a href=\"#Git-commands\" data-toc-modified-id=\"Git-commands-1.3\"><span class=\"toc-item-num\">1.3&nbsp;&nbsp;</span>Git commands</a></span></li><li><span><a href=\"#Moving-around\" data-toc-modified-id=\"Moving-around-1.4\"><span class=\"toc-item-num\">1.4&nbsp;&nbsp;</span>Moving around</a></span></li></ul></li><li><span><a href=\"#Practice-5-different-ways-to-download-data\" data-toc-modified-id=\"Practice-5-different-ways-to-download-data-2\"><span class=\"toc-item-num\">2&nbsp;&nbsp;</span>Practice 5 different ways to download data</a></span></li><li><span><a href=\"#Pybites-Olympic-dataset-challenge\" data-toc-modified-id=\"Pybites-Olympic-dataset-challenge-3\"><span class=\"toc-item-num\">3&nbsp;&nbsp;</span>Pybites Olympic dataset challenge</a></span></li><li><span><a href=\"#101-Pandas-exercises\" data-toc-modified-id=\"101-Pandas-exercises-4\"><span class=\"toc-item-num\">4&nbsp;&nbsp;</span>101 Pandas exercises</a></span></li><li><span><a href=\"#Code-from-Dan-Bader\" data-toc-modified-id=\"Code-from-Dan-Bader-5\"><span class=\"toc-item-num\">5&nbsp;&nbsp;</span>Code from Dan Bader</a></span><ul class=\"toc-item\"><li><span><a href=\"#Functions-are-first-class-citizens?\" data-toc-modified-id=\"Functions-are-first-class-citizens?-5.1\"><span class=\"toc-item-num\">5.1&nbsp;&nbsp;</span>Functions are first class citizens?</a></span></li><li><span><a href=\"#Python-Riddle\" data-toc-modified-id=\"Python-Riddle-5.2\"><span class=\"toc-item-num\">5.2&nbsp;&nbsp;</span>Python Riddle</a></span></li></ul></li><li><span><a href=\"#Prime-Number\" data-toc-modified-id=\"Prime-Number-6\"><span class=\"toc-item-num\">6&nbsp;&nbsp;</span>Prime Number</a></span></li><li><span><a href=\"#Easter-Eggs\" data-toc-modified-id=\"Easter-Eggs-7\"><span class=\"toc-item-num\">7&nbsp;&nbsp;</span>Easter Eggs</a></span></li><li><span><a href=\"#Global,-Local-and-Nonlocal-variables\" data-toc-modified-id=\"Global,-Local-and-Nonlocal-variables-8\"><span class=\"toc-item-num\">8&nbsp;&nbsp;</span>Global, Local and Nonlocal variables</a></span><ul class=\"toc-item\"><li><span><a href=\"#Global\" data-toc-modified-id=\"Global-8.1\"><span class=\"toc-item-num\">8.1&nbsp;&nbsp;</span>Global</a></span></li><li><span><a href=\"#UnboundLocalError\" data-toc-modified-id=\"UnboundLocalError-8.2\"><span class=\"toc-item-num\">8.2&nbsp;&nbsp;</span>UnboundLocalError</a></span></li><li><span><a href=\"#Local\" data-toc-modified-id=\"Local-8.3\"><span class=\"toc-item-num\">8.3&nbsp;&nbsp;</span>Local</a></span></li><li><span><a href=\"#Same-name-for-global-and-local\" data-toc-modified-id=\"Same-name-for-global-and-local-8.4\"><span class=\"toc-item-num\">8.4&nbsp;&nbsp;</span>Same name for global and local</a></span></li><li><span><a href=\"#Nonlocal\" data-toc-modified-id=\"Nonlocal-8.5\"><span class=\"toc-item-num\">8.5&nbsp;&nbsp;</span>Nonlocal</a></span></li></ul></li><li><span><a href=\"#Disarmium-Number\" data-toc-modified-id=\"Disarmium-Number-9\"><span class=\"toc-item-num\">9&nbsp;&nbsp;</span>Disarmium Number</a></span></li><li><span><a href=\"#Type-Hinting\" data-toc-modified-id=\"Type-Hinting-10\"><span class=\"toc-item-num\">10&nbsp;&nbsp;</span>Type Hinting</a></span></li></ul></div>"
   ]
  },
  {
   "cell_type": "markdown",
   "metadata": {},
   "source": [
    "# Learn Git Branching\n",
    "\n",
    "https://learngitbranching.js.org/\n",
    "\n",
    "There are 5 sections: introduction sequence, ramping up, moving work around, a mixed bag, advanced topics\n",
    "\n",
    "90% of useful stuff covered in intro and ramping\n"
   ]
  },
  {
   "cell_type": "markdown",
   "metadata": {},
   "source": [
    "## Git v Github\n",
    "Git is a revision control system, a tool to manage your source code history. GitHub is a hosting service for Git repositories. So they are not the same thing: Git is the tool, GitHub is the service for projects that use Git."
   ]
  },
  {
   "cell_type": "markdown",
   "metadata": {},
   "source": [
    "## Hash\n",
    "every time a commit is added to a git repo, a hash string is generated to identify the commit\n",
    "\n",
    "a hash is generated using an algorithm and is 20 bytes long (8 bits = 1 byte)"
   ]
  },
  {
   "cell_type": "markdown",
   "metadata": {},
   "source": [
    "## Git commands\n",
    "\n",
    "git branch (name) - creates a new branch\n",
    "\n",
    "git commit \n",
    "\n",
    "git checkout (name)   - put on branch before commiting changes\n",
    "\n",
    "shortcut: git checkout -b (name)  - creates a new branch and checkout at same time\n",
    "\n",
    "git merge (name)\n",
    "\n",
    "git rebase (name to move to)\n"
   ]
  },
  {
   "cell_type": "markdown",
   "metadata": {},
   "source": [
    "## Moving around\n",
    "\n",
    "HEAD - symbolic name for currently checkouted commit (the commit your're working on top of), the HEAD in Git is the pointer to the current branch reference, which is in turn a pointer to the last commit you made or the last commit that was checked out into your working directory. That also means it will be the parent of the next commit you do.\n",
    "\n",
    "detaching head - attaching to a commit instead of a branch\n",
    "\n",
    "git log - to see hashes\n",
    "\n",
    "caret (^) moves to the commit before the name specified\n",
    "\n",
    "git branch -f master HEAD~3  - moves the master branch to 3 parents behind HEAD (a symbolic name)\n",
    "\n",
    "git reset - reverts changes by moving a branch reference backwards in time to an older commit. In this sense you can think of it as \"rewriting history;\" git reset will move a branch backwards as if the commit had never been made in the first place.\n",
    "\n",
    "git revert - while resetting works great for local branches on your own machine, its method of \"rewriting history\" doesn't work for remote branches that others are using. In order to reverse changes and share those reversed changes with others, we need to use git revert."
   ]
  },
  {
   "cell_type": "markdown",
   "metadata": {},
   "source": [
    "# Practice 5 different ways to download data\n",
    "https://www.kdnuggets.com/2020/08/5-different-ways-load-data-python.html?utm_source=Iterable&utm_medium=email&utm_campaign=newsletter_96"
   ]
  },
  {
   "cell_type": "markdown",
   "metadata": {},
   "source": [
    "# Pybites Olympic dataset challenge\n",
    "https://pybit.es/codechallenge57.html"
   ]
  },
  {
   "cell_type": "markdown",
   "metadata": {},
   "source": [
    "# 101 Pandas exercises\n",
    "https://www.machinelearningplus.com/python/101-pandas-exercises-python/"
   ]
  },
  {
   "cell_type": "markdown",
   "metadata": {},
   "source": [
    "# Code from Dan Bader"
   ]
  },
  {
   "cell_type": "code",
   "execution_count": 1,
   "metadata": {},
   "outputs": [
    {
     "name": "stdout",
     "output_type": "stream",
     "text": [
      "passed\n",
      "passed\n",
      "passed\n",
      "passed\n"
     ]
    }
   ],
   "source": [
    "# Different ways to test multiple\n",
    "# flags at once in Python\n",
    "x, y, z = 0, 1, 0\n",
    "\n",
    "if x == 1 or y == 1 or z == 1:\n",
    "    print('passed')\n",
    "\n",
    "if 1 in (x, y, z):\n",
    "    print('passed')\n",
    "\n",
    "# These only test for truthiness:\n",
    "if x or y or z:\n",
    "    print('passed')\n",
    "\n",
    "if any((x, y, z)):\n",
    "    print('passed')"
   ]
  },
  {
   "cell_type": "code",
   "execution_count": 3,
   "metadata": {},
   "outputs": [
    {
     "data": {
      "text/plain": [
       "[('d', 1), ('c', 2), ('b', 3), ('a', 4)]"
      ]
     },
     "execution_count": 3,
     "metadata": {},
     "output_type": "execute_result"
    }
   ],
   "source": [
    "# How to sort a Python dict by value\n",
    "# (== get a representation sorted by value)\n",
    "\n",
    "xs = {'a': 4, 'b': 3, 'c': 2, 'd': 1}\n",
    "\n",
    "sorted(xs.items(), key=lambda x: x[1])\n",
    "[('d', 1), ('c', 2), ('b', 3), ('a', 4)]"
   ]
  },
  {
   "cell_type": "code",
   "execution_count": 4,
   "metadata": {},
   "outputs": [
    {
     "data": {
      "text/plain": [
       "[('d', 1), ('c', 2), ('b', 3), ('a', 4)]"
      ]
     },
     "execution_count": 4,
     "metadata": {},
     "output_type": "execute_result"
    }
   ],
   "source": [
    "import operator\n",
    "sorted(xs.items(), key=operator.itemgetter(1))\n",
    "[('d', 1), ('c', 2), ('b', 3), ('a', 4)]"
   ]
  },
  {
   "cell_type": "code",
   "execution_count": null,
   "metadata": {},
   "outputs": [],
   "source": [
    "# The \"timeit\" module lets you measure the execution\n",
    "# time of small bits of Python code\n",
    "\n",
    "# >>> import timeit\n",
    "# >>> timeit.timeit('\"-\".join(str(n) for n in range(100))',\n",
    "#                   number=10000)\n",
    "\n",
    "# 0.3412662749997253\n",
    "\n",
    "# >>> timeit.timeit('\"-\".join([str(n) for n in range(100)])',\n",
    "#                   number=10000)\n",
    "\n",
    "# 0.2996307989997149\n",
    "\n",
    "# >>> timeit.timeit('\"-\".join(map(str, range(100)))',\n",
    "#                   number=10000)\n",
    "\n",
    "# 0.24581470699922647"
   ]
  },
  {
   "cell_type": "code",
   "execution_count": 3,
   "metadata": {},
   "outputs": [
    {
     "name": "stdout",
     "output_type": "stream",
     "text": [
      "23 42\n"
     ]
    }
   ],
   "source": [
    "# Why Python Is Great:\n",
    "# In-place value swapping\n",
    "\n",
    "# Let's say we want to swap\n",
    "# the values of a and b...\n",
    "a = 23\n",
    "b = 42\n",
    "print(a,b)"
   ]
  },
  {
   "cell_type": "code",
   "execution_count": 4,
   "metadata": {},
   "outputs": [
    {
     "name": "stdout",
     "output_type": "stream",
     "text": [
      "42 23\n"
     ]
    }
   ],
   "source": [
    "# The \"classic\" way to do it\n",
    "# with a temporary variable:\n",
    "tmp = a\n",
    "a = b\n",
    "b = tmp\n",
    "print(a,b)"
   ]
  },
  {
   "cell_type": "code",
   "execution_count": 5,
   "metadata": {},
   "outputs": [
    {
     "name": "stdout",
     "output_type": "stream",
     "text": [
      "42 23\n"
     ]
    }
   ],
   "source": [
    "# Python also lets us\n",
    "# use this short-hand:\n",
    "a = 23\n",
    "b = 42\n",
    "a, b = b, a\n",
    "print(a,b)"
   ]
  },
  {
   "cell_type": "markdown",
   "metadata": {},
   "source": [
    "## Functions are first class citizens?"
   ]
  },
  {
   "cell_type": "code",
   "execution_count": 76,
   "metadata": {},
   "outputs": [],
   "source": [
    "def myfunc(a, b):\n",
    "    return a + b"
   ]
  },
  {
   "cell_type": "code",
   "execution_count": 77,
   "metadata": {},
   "outputs": [],
   "source": [
    "funcs = [myfunc]"
   ]
  },
  {
   "cell_type": "code",
   "execution_count": 78,
   "metadata": {},
   "outputs": [
    {
     "data": {
      "text/plain": [
       "<function __main__.myfunc(a, b)>"
      ]
     },
     "execution_count": 78,
     "metadata": {},
     "output_type": "execute_result"
    }
   ],
   "source": [
    "funcs[0]"
   ]
  },
  {
   "cell_type": "code",
   "execution_count": 79,
   "metadata": {},
   "outputs": [
    {
     "data": {
      "text/plain": [
       "5"
      ]
     },
     "execution_count": 79,
     "metadata": {},
     "output_type": "execute_result"
    }
   ],
   "source": [
    "funcs[0](2,3)"
   ]
  },
  {
   "cell_type": "markdown",
   "metadata": {},
   "source": [
    "## Python Riddle\n",
    "\n",
    "https://dbader.org/blog/python-mystery-dict-expression"
   ]
  },
  {
   "cell_type": "code",
   "execution_count": 6,
   "metadata": {},
   "outputs": [
    {
     "data": {
      "text/plain": [
       "{True: 'maybe'}"
      ]
     },
     "execution_count": 6,
     "metadata": {},
     "output_type": "execute_result"
    }
   ],
   "source": [
    "{True: 'yes', 1: 'no', 1.0: 'maybe'}"
   ]
  },
  {
   "cell_type": "code",
   "execution_count": 8,
   "metadata": {},
   "outputs": [
    {
     "data": {
      "text/plain": [
       "{True: '3', 4: 'maybe'}"
      ]
     },
     "execution_count": 8,
     "metadata": {},
     "output_type": "execute_result"
    }
   ],
   "source": [
    "{True: '1', 1: '3', 4: 'maybe'}"
   ]
  },
  {
   "cell_type": "code",
   "execution_count": 9,
   "metadata": {},
   "outputs": [
    {
     "data": {
      "text/plain": [
       "True"
      ]
     },
     "execution_count": 9,
     "metadata": {},
     "output_type": "execute_result"
    }
   ],
   "source": [
    "True == 1 == 1.0"
   ]
  },
  {
   "cell_type": "code",
   "execution_count": 10,
   "metadata": {},
   "outputs": [
    {
     "data": {
      "text/plain": [
       "{True: 'hello', False: 'goodbye', 2: 'im back', '3': 'i never left'}"
      ]
     },
     "execution_count": 10,
     "metadata": {},
     "output_type": "execute_result"
    }
   ],
   "source": [
    "{True: 'hello', False: 'goodbye', 2: 'im back', \"3\": \"i never left\"}"
   ]
  },
  {
   "cell_type": "code",
   "execution_count": 11,
   "metadata": {},
   "outputs": [
    {
     "data": {
      "text/plain": [
       "4478223744"
      ]
     },
     "execution_count": 11,
     "metadata": {},
     "output_type": "execute_result"
    }
   ],
   "source": [
    "id(2)"
   ]
  },
  {
   "cell_type": "code",
   "execution_count": 12,
   "metadata": {},
   "outputs": [
    {
     "data": {
      "text/plain": [
       "int"
      ]
     },
     "execution_count": 12,
     "metadata": {},
     "output_type": "execute_result"
    }
   ],
   "source": [
    "type(2)"
   ]
  },
  {
   "cell_type": "code",
   "execution_count": 13,
   "metadata": {},
   "outputs": [
    {
     "data": {
      "text/plain": [
       "str"
      ]
     },
     "execution_count": 13,
     "metadata": {},
     "output_type": "execute_result"
    }
   ],
   "source": [
    "type('3')"
   ]
  },
  {
   "cell_type": "code",
   "execution_count": 85,
   "metadata": {},
   "outputs": [
    {
     "data": {
      "text/plain": [
       "float"
      ]
     },
     "execution_count": 85,
     "metadata": {},
     "output_type": "execute_result"
    }
   ],
   "source": [
    "type(2.0)"
   ]
  },
  {
   "cell_type": "code",
   "execution_count": 86,
   "metadata": {},
   "outputs": [
    {
     "data": {
      "text/plain": [
       "True"
      ]
     },
     "execution_count": 86,
     "metadata": {},
     "output_type": "execute_result"
    }
   ],
   "source": [
    "2.0 == 2"
   ]
  },
  {
   "cell_type": "code",
   "execution_count": 14,
   "metadata": {},
   "outputs": [],
   "source": [
    "# keys are immutable\n",
    "# immutable python objects as keys: bool, int, float, tuple, str, frozenset\n",
    "# mutable python objects (can not be keys): list, set, dict\n",
    "#\n",
    "# example of a tuple as a key: pointColor[(x, y, z)] = \"red\"\n",
    "# https://stackoverflow.com/questions/1938614/in-what-case-would-i-use-a-tuple-as-a-dictionary-key/1938638"
   ]
  },
  {
   "cell_type": "code",
   "execution_count": 17,
   "metadata": {},
   "outputs": [
    {
     "data": {
      "text/plain": [
       "{(2, 3, 4): 'red', True: 'goodbye'}"
      ]
     },
     "execution_count": 17,
     "metadata": {},
     "output_type": "execute_result"
    }
   ],
   "source": [
    "{(2,3,4): \"red\", True: 'hello', 1:'goodbye'}"
   ]
  },
  {
   "cell_type": "markdown",
   "metadata": {},
   "source": [
    "# Prime Number"
   ]
  },
  {
   "cell_type": "code",
   "execution_count": null,
   "metadata": {},
   "outputs": [],
   "source": [
    "\n",
    "    "
   ]
  },
  {
   "cell_type": "code",
   "execution_count": 74,
   "metadata": {},
   "outputs": [],
   "source": [
    "def primes(n):\n",
    "    primes = []\n",
    "    for num in range(2,n+1):\n",
    "        prime = True\n",
    "        for i in range(2,num):\n",
    "            if (num%i==0):\n",
    "                prime = False\n",
    "        if prime:\n",
    "#             print (num)\n",
    "            primes.append(num)\n",
    "    return(primes)"
   ]
  },
  {
   "cell_type": "code",
   "execution_count": 75,
   "metadata": {},
   "outputs": [
    {
     "data": {
      "text/plain": [
       "[2, 3, 5]"
      ]
     },
     "execution_count": 75,
     "metadata": {},
     "output_type": "execute_result"
    }
   ],
   "source": [
    "primes(6)"
   ]
  },
  {
   "cell_type": "code",
   "execution_count": 52,
   "metadata": {},
   "outputs": [],
   "source": [
    "# I don't get the indentation\n",
    "\n",
    "# Python program to display all the prime numbers within an interval\n",
    "\n",
    "# lower = 900\n",
    "# upper = 1000\n",
    "\n",
    "# print(\"Prime numbers between\", lower, \"and\", upper, \"are:\")\n",
    "\n",
    "# for num in range(lower, upper + 1):\n",
    "#    # all prime numbers are greater than 1\n",
    "#     if num > 1:\n",
    "#         for i in range(2, num):\n",
    "#             if (num % i) == 0:\n",
    "#                 break\n",
    "#         else:\n",
    "#             print(num)"
   ]
  },
  {
   "cell_type": "code",
   "execution_count": 92,
   "metadata": {},
   "outputs": [
    {
     "name": "stdout",
     "output_type": "stream",
     "text": [
      "first 2\n",
      "2\n",
      "first 3\n",
      "3\n",
      "first 4\n",
      "first 5\n",
      "5\n",
      "first 6\n",
      "first 7\n",
      "7\n",
      "first 8\n",
      "first 9\n"
     ]
    }
   ],
   "source": [
    "# pythonic way\n",
    "\n",
    "for num in range(2,10):\n",
    "    print(\"first\",num)\n",
    "    if all(num%i!=0 for i in range(2,num)):\n",
    "        print (num)"
   ]
  },
  {
   "cell_type": "code",
   "execution_count": 93,
   "metadata": {},
   "outputs": [
    {
     "data": {
      "text/plain": [
       "False"
      ]
     },
     "execution_count": 93,
     "metadata": {},
     "output_type": "execute_result"
    }
   ],
   "source": [
    "2 % 2 != 0"
   ]
  },
  {
   "cell_type": "code",
   "execution_count": 101,
   "metadata": {},
   "outputs": [
    {
     "name": "stdout",
     "output_type": "stream",
     "text": [
      "here\n"
     ]
    }
   ],
   "source": [
    "for i in range (2,2):\n",
    "    print(i)\n",
    "else:\n",
    "    print('here')"
   ]
  },
  {
   "cell_type": "code",
   "execution_count": 99,
   "metadata": {},
   "outputs": [],
   "source": [
    "def primer(number):\n",
    "\n",
    "    if number > 1:\n",
    "        for i in range(2, number):\n",
    "            if (number % i) == 0:\n",
    "                print(number, \"isn't a prime\")\n",
    "                break\n",
    "        else:\n",
    "            print(number, \"is a prime\")\n",
    "\n",
    "\n",
    "    else:\n",
    "        print(number, \"isn't a prime\")"
   ]
  },
  {
   "cell_type": "code",
   "execution_count": 100,
   "metadata": {},
   "outputs": [
    {
     "name": "stdout",
     "output_type": "stream",
     "text": [
      "2 is a prime number\n"
     ]
    }
   ],
   "source": [
    "primer(2)"
   ]
  },
  {
   "cell_type": "code",
   "execution_count": 68,
   "metadata": {},
   "outputs": [],
   "source": [
    "# https://stackoverflow.com/questions/11619942/print-series-of-prime-numbers-in-python\n",
    "\n",
    "# for num in range(2,5):\n",
    "#     prime = True\n",
    "#     print(\"the number is: \",num)\n",
    "#     for i in range(2,num):\n",
    "#         print(\"i is\", i)\n",
    "#         if (num%i==0):\n",
    "#             prime = False\n",
    "#     if prime:\n",
    "#         print (num)"
   ]
  },
  {
   "cell_type": "markdown",
   "metadata": {},
   "source": [
    "# Easter Eggs"
   ]
  },
  {
   "cell_type": "code",
   "execution_count": 83,
   "metadata": {},
   "outputs": [
    {
     "data": {
      "text/plain": [
       "314159"
      ]
     },
     "execution_count": 83,
     "metadata": {},
     "output_type": "execute_result"
    }
   ],
   "source": [
    "hash(float('inf'))"
   ]
  },
  {
   "cell_type": "code",
   "execution_count": 84,
   "metadata": {},
   "outputs": [
    {
     "ename": "SyntaxError",
     "evalue": "not a chance (<ipython-input-84-6d5c5b2f0daf>, line 1)",
     "output_type": "error",
     "traceback": [
      "\u001b[0;36m  File \u001b[0;32m\"<ipython-input-84-6d5c5b2f0daf>\"\u001b[0;36m, line \u001b[0;32m1\u001b[0m\n\u001b[0;31m    from __future__ import braces\u001b[0m\n\u001b[0m                                 ^\u001b[0m\n\u001b[0;31mSyntaxError\u001b[0m\u001b[0;31m:\u001b[0m not a chance\n"
     ]
    }
   ],
   "source": [
    "from __future__ import braces"
   ]
  },
  {
   "cell_type": "code",
   "execution_count": 102,
   "metadata": {},
   "outputs": [
    {
     "name": "stdout",
     "output_type": "stream",
     "text": [
      "The Zen of Python, by Tim Peters\n",
      "\n",
      "Beautiful is better than ugly.\n",
      "Explicit is better than implicit.\n",
      "Simple is better than complex.\n",
      "Complex is better than complicated.\n",
      "Flat is better than nested.\n",
      "Sparse is better than dense.\n",
      "Readability counts.\n",
      "Special cases aren't special enough to break the rules.\n",
      "Although practicality beats purity.\n",
      "Errors should never pass silently.\n",
      "Unless explicitly silenced.\n",
      "In the face of ambiguity, refuse the temptation to guess.\n",
      "There should be one-- and preferably only one --obvious way to do it.\n",
      "Although that way may not be obvious at first unless you're Dutch.\n",
      "Now is better than never.\n",
      "Although never is often better than *right* now.\n",
      "If the implementation is hard to explain, it's a bad idea.\n",
      "If the implementation is easy to explain, it may be a good idea.\n",
      "Namespaces are one honking great idea -- let's do more of those!\n"
     ]
    }
   ],
   "source": [
    "import this"
   ]
  },
  {
   "cell_type": "markdown",
   "metadata": {},
   "source": [
    "# Global, Local and Nonlocal variables"
   ]
  },
  {
   "cell_type": "markdown",
   "metadata": {},
   "source": [
    "## Global"
   ]
  },
  {
   "cell_type": "code",
   "execution_count": 112,
   "metadata": {},
   "outputs": [
    {
     "name": "stdout",
     "output_type": "stream",
     "text": [
      "Outside of the function global\n",
      "Inside of the function global\n"
     ]
    }
   ],
   "source": [
    "a = \"global\"\n",
    "\n",
    "print(\"Outside of the function\",a)\n",
    "\n",
    "def my_func():\n",
    "    print(\"Inside of the function\",a)\n",
    "    \n",
    "my_func()"
   ]
  },
  {
   "cell_type": "code",
   "execution_count": 113,
   "metadata": {},
   "outputs": [
    {
     "ename": "UnboundLocalError",
     "evalue": "local variable 'b' referenced before assignment",
     "output_type": "error",
     "traceback": [
      "\u001b[0;31m---------------------------------------------------------------------------\u001b[0m",
      "\u001b[0;31mUnboundLocalError\u001b[0m                         Traceback (most recent call last)",
      "\u001b[0;32m<ipython-input-113-e54e7e63eb06>\u001b[0m in \u001b[0;36m<module>\u001b[0;34m()\u001b[0m\n\u001b[1;32m      7\u001b[0m     \u001b[0mprint\u001b[0m\u001b[0;34m(\u001b[0m\u001b[0;34m\"Inside of the function\"\u001b[0m\u001b[0;34m,\u001b[0m\u001b[0mb\u001b[0m\u001b[0;34m)\u001b[0m\u001b[0;34m\u001b[0m\u001b[0m\n\u001b[1;32m      8\u001b[0m \u001b[0;34m\u001b[0m\u001b[0m\n\u001b[0;32m----> 9\u001b[0;31m \u001b[0mmy_other_func\u001b[0m\u001b[0;34m(\u001b[0m\u001b[0;34m)\u001b[0m\u001b[0;34m\u001b[0m\u001b[0m\n\u001b[0m",
      "\u001b[0;32m<ipython-input-113-e54e7e63eb06>\u001b[0m in \u001b[0;36mmy_other_func\u001b[0;34m()\u001b[0m\n\u001b[1;32m      4\u001b[0m \u001b[0;34m\u001b[0m\u001b[0m\n\u001b[1;32m      5\u001b[0m \u001b[0;32mdef\u001b[0m \u001b[0mmy_other_func\u001b[0m\u001b[0;34m(\u001b[0m\u001b[0;34m)\u001b[0m\u001b[0;34m:\u001b[0m\u001b[0;34m\u001b[0m\u001b[0m\n\u001b[0;32m----> 6\u001b[0;31m     \u001b[0mb\u001b[0m \u001b[0;34m=\u001b[0m \u001b[0mb\u001b[0m \u001b[0;34m*\u001b[0m \u001b[0mb\u001b[0m\u001b[0;34m\u001b[0m\u001b[0m\n\u001b[0m\u001b[1;32m      7\u001b[0m     \u001b[0mprint\u001b[0m\u001b[0;34m(\u001b[0m\u001b[0;34m\"Inside of the function\"\u001b[0m\u001b[0;34m,\u001b[0m\u001b[0mb\u001b[0m\u001b[0;34m)\u001b[0m\u001b[0;34m\u001b[0m\u001b[0m\n\u001b[1;32m      8\u001b[0m \u001b[0;34m\u001b[0m\u001b[0m\n",
      "\u001b[0;31mUnboundLocalError\u001b[0m: local variable 'b' referenced before assignment"
     ]
    }
   ],
   "source": [
    "# Changing a global inside of a function\n",
    "\n",
    "b = 2\n",
    "\n",
    "def my_other_func():\n",
    "    b = b * b\n",
    "    print(\"Inside of the function\",b)\n",
    "    \n",
    "my_other_func()"
   ]
  },
  {
   "cell_type": "markdown",
   "metadata": {},
   "source": [
    "## UnboundLocalError\n",
    "This is because when you make an assignment to a variable in a scope, that variable becomes local to that scope and shadows any similarly named variable in the outer scope.\n",
    "\n",
    "https://eli.thegreenplace.net/2011/05/15/understanding-unboundlocalerror-in-python/"
   ]
  },
  {
   "cell_type": "code",
   "execution_count": 114,
   "metadata": {},
   "outputs": [
    {
     "name": "stdout",
     "output_type": "stream",
     "text": [
      "[10, 5, 1, 15]\n"
     ]
    }
   ],
   "source": [
    "lst = [10,5,1]\n",
    "\n",
    "def my_other_func():\n",
    "    lst.append(15)\n",
    "\n",
    "my_other_func()\n",
    "print(lst)"
   ]
  },
  {
   "cell_type": "code",
   "execution_count": 115,
   "metadata": {},
   "outputs": [
    {
     "name": "stdout",
     "output_type": "stream",
     "text": [
      "[10, 5, 1, 5]\n"
     ]
    }
   ],
   "source": [
    "lst = [10,5,1]\n",
    "lst += [5]\n",
    "print(lst)"
   ]
  },
  {
   "cell_type": "code",
   "execution_count": 116,
   "metadata": {},
   "outputs": [
    {
     "ename": "UnboundLocalError",
     "evalue": "local variable 'lst' referenced before assignment",
     "output_type": "error",
     "traceback": [
      "\u001b[0;31m---------------------------------------------------------------------------\u001b[0m",
      "\u001b[0;31mUnboundLocalError\u001b[0m                         Traceback (most recent call last)",
      "\u001b[0;32m<ipython-input-116-353e89a4a167>\u001b[0m in \u001b[0;36m<module>\u001b[0;34m()\u001b[0m\n\u001b[1;32m      4\u001b[0m     \u001b[0mlst\u001b[0m\u001b[0;34m+=\u001b[0m \u001b[0;34m[\u001b[0m\u001b[0;36m5\u001b[0m\u001b[0;34m]\u001b[0m\u001b[0;34m\u001b[0m\u001b[0m\n\u001b[1;32m      5\u001b[0m \u001b[0;34m\u001b[0m\u001b[0m\n\u001b[0;32m----> 6\u001b[0;31m \u001b[0mmy_other_func\u001b[0m\u001b[0;34m(\u001b[0m\u001b[0;34m)\u001b[0m\u001b[0;34m\u001b[0m\u001b[0m\n\u001b[0m\u001b[1;32m      7\u001b[0m \u001b[0mprint\u001b[0m\u001b[0;34m(\u001b[0m\u001b[0mlst\u001b[0m\u001b[0;34m)\u001b[0m\u001b[0;34m\u001b[0m\u001b[0m\n",
      "\u001b[0;32m<ipython-input-116-353e89a4a167>\u001b[0m in \u001b[0;36mmy_other_func\u001b[0;34m()\u001b[0m\n\u001b[1;32m      2\u001b[0m \u001b[0;34m\u001b[0m\u001b[0m\n\u001b[1;32m      3\u001b[0m \u001b[0;32mdef\u001b[0m \u001b[0mmy_other_func\u001b[0m\u001b[0;34m(\u001b[0m\u001b[0;34m)\u001b[0m\u001b[0;34m:\u001b[0m\u001b[0;34m\u001b[0m\u001b[0m\n\u001b[0;32m----> 4\u001b[0;31m     \u001b[0mlst\u001b[0m\u001b[0;34m+=\u001b[0m \u001b[0;34m[\u001b[0m\u001b[0;36m5\u001b[0m\u001b[0;34m]\u001b[0m\u001b[0;34m\u001b[0m\u001b[0m\n\u001b[0m\u001b[1;32m      5\u001b[0m \u001b[0;34m\u001b[0m\u001b[0m\n\u001b[1;32m      6\u001b[0m \u001b[0mmy_other_func\u001b[0m\u001b[0;34m(\u001b[0m\u001b[0;34m)\u001b[0m\u001b[0;34m\u001b[0m\u001b[0m\n",
      "\u001b[0;31mUnboundLocalError\u001b[0m: local variable 'lst' referenced before assignment"
     ]
    }
   ],
   "source": [
    "lst = [10,5,1]\n",
    "\n",
    "def my_other_func():\n",
    "    lst+= [5]\n",
    "\n",
    "my_other_func()\n",
    "print(lst)"
   ]
  },
  {
   "cell_type": "code",
   "execution_count": 111,
   "metadata": {},
   "outputs": [
    {
     "name": "stdout",
     "output_type": "stream",
     "text": [
      "[10, 5, 1, 5]\n"
     ]
    }
   ],
   "source": [
    "lst = [10,5,1]\n",
    "\n",
    "def my_other_func():\n",
    "    global lst\n",
    "    lst+= [5]\n",
    "\n",
    "my_other_func()\n",
    "print(lst)"
   ]
  },
  {
   "cell_type": "markdown",
   "metadata": {},
   "source": [
    "## Local"
   ]
  },
  {
   "cell_type": "code",
   "execution_count": 118,
   "metadata": {},
   "outputs": [
    {
     "ename": "NameError",
     "evalue": "name 'c' is not defined",
     "output_type": "error",
     "traceback": [
      "\u001b[0;31m---------------------------------------------------------------------------\u001b[0m",
      "\u001b[0;31mNameError\u001b[0m                                 Traceback (most recent call last)",
      "\u001b[0;32m<ipython-input-118-21dcf6430219>\u001b[0m in \u001b[0;36m<module>\u001b[0;34m()\u001b[0m\n\u001b[1;32m      3\u001b[0m \u001b[0;34m\u001b[0m\u001b[0m\n\u001b[1;32m      4\u001b[0m \u001b[0mmy_func\u001b[0m\u001b[0;34m(\u001b[0m\u001b[0;34m)\u001b[0m\u001b[0;34m\u001b[0m\u001b[0m\n\u001b[0;32m----> 5\u001b[0;31m \u001b[0mprint\u001b[0m\u001b[0;34m(\u001b[0m\u001b[0mc\u001b[0m\u001b[0;34m)\u001b[0m\u001b[0;34m\u001b[0m\u001b[0m\n\u001b[0m",
      "\u001b[0;31mNameError\u001b[0m: name 'c' is not defined"
     ]
    }
   ],
   "source": [
    "def my_func():\n",
    "    c = \"local\"\n",
    "\n",
    "my_func()\n",
    "print(c)"
   ]
  },
  {
   "cell_type": "code",
   "execution_count": 119,
   "metadata": {},
   "outputs": [
    {
     "name": "stdout",
     "output_type": "stream",
     "text": [
      "Inside of the function local\n"
     ]
    }
   ],
   "source": [
    "def my_func():\n",
    "    c = \"local\"\n",
    "    print('Inside of the function',c)\n",
    "\n",
    "my_func()"
   ]
  },
  {
   "cell_type": "markdown",
   "metadata": {},
   "source": [
    "## Same name for global and local"
   ]
  },
  {
   "cell_type": "code",
   "execution_count": 122,
   "metadata": {},
   "outputs": [],
   "source": [
    "d = \"here I am outside\""
   ]
  },
  {
   "cell_type": "code",
   "execution_count": 123,
   "metadata": {},
   "outputs": [
    {
     "name": "stdout",
     "output_type": "stream",
     "text": [
      "local: here I am inside\n",
      "global: here I am outside\n"
     ]
    }
   ],
   "source": [
    "def my_func():\n",
    "    d = \"here I am inside\"\n",
    "    print ('local:',d)\n",
    "\n",
    "my_func()\n",
    "print('global:',d)"
   ]
  },
  {
   "cell_type": "markdown",
   "metadata": {},
   "source": [
    "## Nonlocal \n",
    "\n",
    "Nonlocal variables are used in nested functions whose local scope is not defined. This means that the variable can be neither in the local nor the global scope.\n",
    "\n",
    "https://www.programiz.com/python-programming/global-local-nonlocal-variables#:~:text=In%20Python%2C%20a%20variable%20declared,variable%20is%20created%20in%20Python."
   ]
  },
  {
   "cell_type": "code",
   "execution_count": 129,
   "metadata": {},
   "outputs": [
    {
     "name": "stdout",
     "output_type": "stream",
     "text": [
      "inner: nonlocal\n",
      "outer: nonlocal\n"
     ]
    }
   ],
   "source": [
    "def outer_func():\n",
    "    x = \"local\"\n",
    "\n",
    "    def inner_func():\n",
    "        nonlocal x\n",
    "        x = \"nonlocal\"\n",
    "        print(\"inner:\", x)\n",
    "\n",
    "    inner_func()\n",
    "    print(\"outer:\", x)\n",
    "\n",
    "\n",
    "outer_func()"
   ]
  },
  {
   "cell_type": "markdown",
   "metadata": {},
   "source": [
    "# Disarmium Number\n",
    "https://edabit.com/challenges/python3\n",
    "\n",
    "A Disarium number is a number defined by the following process: Sum of its digits powered with their respective position is equal to the original number. Some other DISARIUM are 89, 175, 518\n"
   ]
  },
  {
   "cell_type": "code",
   "execution_count": 169,
   "metadata": {},
   "outputs": [],
   "source": [
    "x = 89\n",
    "y = 88\n",
    "z = 131\n",
    "u = 175"
   ]
  },
  {
   "cell_type": "code",
   "execution_count": 165,
   "metadata": {},
   "outputs": [],
   "source": [
    "def disarm(num):\n",
    "    num_str = str(num)\n",
    "    count = len(num_str)\n",
    "    temp = 0\n",
    "    \n",
    "    for i in range(0, count):\n",
    "        temp += int(num_str[i]) ** int((i+1))\n",
    "    if temp == num:\n",
    "        print(\"The number\", num, \"is a disarmuim\")\n",
    "    else:\n",
    "        print(\"Sorry, the number \", num, \"is not a disarmium\")"
   ]
  },
  {
   "cell_type": "code",
   "execution_count": 166,
   "metadata": {},
   "outputs": [
    {
     "name": "stdout",
     "output_type": "stream",
     "text": [
      "sorry, the number  88 is not a disarmium\n"
     ]
    }
   ],
   "source": [
    "disarm(y)"
   ]
  },
  {
   "cell_type": "code",
   "execution_count": 168,
   "metadata": {},
   "outputs": [
    {
     "name": "stdout",
     "output_type": "stream",
     "text": [
      "sorry, the number  131 is not a disarmium\n"
     ]
    }
   ],
   "source": [
    "disarm(z)"
   ]
  },
  {
   "cell_type": "code",
   "execution_count": 170,
   "metadata": {},
   "outputs": [
    {
     "name": "stdout",
     "output_type": "stream",
     "text": [
      "The number 175 is a disarmuim\n"
     ]
    }
   ],
   "source": [
    "disarm(u)"
   ]
  },
  {
   "cell_type": "code",
   "execution_count": 192,
   "metadata": {},
   "outputs": [],
   "source": [
    "def disarm(num):\n",
    "    temp = 0\n",
    "    num_list = [int(x) for x in str(num)] \n",
    "    \n",
    "    for i, j in enumerate(num_list):\n",
    "        temp += j ** (i+1)\n",
    "        \n",
    "    if temp == num:\n",
    "        print(\"The number\", num, \"is a disarmuim\")\n",
    "    else:\n",
    "        print(\"Sorry, the number \", num, \"is not a disarmium\")"
   ]
  },
  {
   "cell_type": "code",
   "execution_count": 193,
   "metadata": {},
   "outputs": [
    {
     "name": "stdout",
     "output_type": "stream",
     "text": [
      "The number 89 is a disarmuim\n"
     ]
    }
   ],
   "source": [
    "disarm(x)"
   ]
  },
  {
   "cell_type": "code",
   "execution_count": 195,
   "metadata": {},
   "outputs": [
    {
     "name": "stdout",
     "output_type": "stream",
     "text": [
      "Sorry, the number  131 is not a disarmium\n"
     ]
    }
   ],
   "source": [
    "disarm(z)"
   ]
  },
  {
   "cell_type": "code",
   "execution_count": 224,
   "metadata": {},
   "outputs": [],
   "source": [
    "def disarm_short(num):\n",
    "# version 1\n",
    "#     temp = 0\n",
    "    \n",
    "#     for i, j in enumerate([int(x) for x in str(num)]):\n",
    "#         temp += j ** (i+1)\n",
    "#     return(temp==num)\n",
    "\n",
    "# version 1b\n",
    "#     temp = 0\n",
    "#     num_str = str(num)\n",
    "    \n",
    "#     for i, j in enumerate(num_str):\n",
    "#         temp += int(j) ** (i+1)\n",
    "#     return(num,temp,temp==num)\n",
    "\n",
    "# version  2\n",
    "#     temp = []\n",
    "#     for i,j in enumerate([int(x) for x in str(num)]):\n",
    "#         temp.append(j ** (i+1))\n",
    "#     return(num,temp,sum(temp)==num)\n",
    "\n",
    "# version 3\n",
    "#     return sum(j ** (i+1) for i,j in enumerate([int(x) for x in str(num)])) == num\n",
    "\n",
    "#verion 3b\n",
    "    return (num, sum(int(j) ** (i+1) for i,j in enumerate(str(num))) == num, sum(int(j) ** (i+1) for i,j in enumerate(str(num))))"
   ]
  },
  {
   "cell_type": "code",
   "execution_count": 225,
   "metadata": {},
   "outputs": [
    {
     "data": {
      "text/plain": [
       "(131, False, 11)"
      ]
     },
     "execution_count": 225,
     "metadata": {},
     "output_type": "execute_result"
    }
   ],
   "source": [
    "disarm_short(z)"
   ]
  },
  {
   "cell_type": "code",
   "execution_count": 196,
   "metadata": {},
   "outputs": [],
   "source": [
    "# https://edabit.com/challenge/yvJbdkmKHvCNtcZy9\n",
    "# Deep Xavier's solution\n",
    "\n",
    "def is_disarium(n):\n",
    "      return sum(int(x)**(i+1) for i, x in enumerate(str(n))) == n"
   ]
  },
  {
   "cell_type": "code",
   "execution_count": 197,
   "metadata": {},
   "outputs": [
    {
     "data": {
      "text/plain": [
       "True"
      ]
     },
     "execution_count": 197,
     "metadata": {},
     "output_type": "execute_result"
    }
   ],
   "source": [
    "is_disarium(x)"
   ]
  },
  {
   "cell_type": "code",
   "execution_count": 200,
   "metadata": {},
   "outputs": [],
   "source": [
    "# Deep Xavier's recursive\n",
    "def is_disarium(n, s=0, i=1):\n",
    "      return s == n if i > len(str(n)) else is_disarium(n, s+int(str(n)[i-1])**i, i+1)"
   ]
  },
  {
   "cell_type": "code",
   "execution_count": 199,
   "metadata": {},
   "outputs": [
    {
     "data": {
      "text/plain": [
       "True"
      ]
     },
     "execution_count": 199,
     "metadata": {},
     "output_type": "execute_result"
    }
   ],
   "source": [
    "is_disarium(x)"
   ]
  },
  {
   "cell_type": "markdown",
   "metadata": {},
   "source": [
    "# Type Hinting\n",
    "\n",
    "https://medium.com/better-programming/9-python-3-features-you-might-not-use-yet-fade13932a3e\n",
    "\n",
    "https://www.youtube.com/watch?v=2wDvzy6Hgxg"
   ]
  },
  {
   "cell_type": "code",
   "execution_count": 201,
   "metadata": {},
   "outputs": [
    {
     "name": "stdout",
     "output_type": "stream",
     "text": [
      "True\n"
     ]
    }
   ],
   "source": [
    "def fruits_word(line: str) -> bool:\n",
    "      return \"fruit\" in line\n",
    "test = fruits_word(\"I love to eat fresh fruits\")\n",
    "print(test)\n",
    "# True"
   ]
  },
  {
   "cell_type": "code",
   "execution_count": null,
   "metadata": {},
   "outputs": [],
   "source": []
  }
 ],
 "metadata": {
  "kernelspec": {
   "display_name": "Python [conda env:learn-env] *",
   "language": "python",
   "name": "conda-env-learn-env-py"
  },
  "language_info": {
   "codemirror_mode": {
    "name": "ipython",
    "version": 3
   },
   "file_extension": ".py",
   "mimetype": "text/x-python",
   "name": "python",
   "nbconvert_exporter": "python",
   "pygments_lexer": "ipython3",
   "version": "3.6.6"
  },
  "toc": {
   "base_numbering": 1,
   "nav_menu": {},
   "number_sections": true,
   "sideBar": true,
   "skip_h1_title": false,
   "title_cell": "Table of Contents",
   "title_sidebar": "Contents",
   "toc_cell": true,
   "toc_position": {},
   "toc_section_display": true,
   "toc_window_display": false
  },
  "varInspector": {
   "cols": {
    "lenName": 16,
    "lenType": 16,
    "lenVar": 40
   },
   "kernels_config": {
    "python": {
     "delete_cmd_postfix": "",
     "delete_cmd_prefix": "del ",
     "library": "var_list.py",
     "varRefreshCmd": "print(var_dic_list())"
    },
    "r": {
     "delete_cmd_postfix": ") ",
     "delete_cmd_prefix": "rm(",
     "library": "var_list.r",
     "varRefreshCmd": "cat(var_dic_list()) "
    }
   },
   "types_to_exclude": [
    "module",
    "function",
    "builtin_function_or_method",
    "instance",
    "_Feature"
   ],
   "window_display": false
  }
 },
 "nbformat": 4,
 "nbformat_minor": 2
}
