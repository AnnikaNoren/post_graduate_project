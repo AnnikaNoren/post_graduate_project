{
 "cells": [
  {
   "cell_type": "markdown",
   "metadata": {
    "toc": true
   },
   "source": [
    "<h1>Table of Contents<span class=\"tocSkip\"></span></h1>\n",
    "<div class=\"toc\"><ul class=\"toc-item\"><li><span><a href=\"#Practice-5-different-ways-to-download-data\" data-toc-modified-id=\"Practice-5-different-ways-to-download-data-1\"><span class=\"toc-item-num\">1&nbsp;&nbsp;</span>Practice 5 different ways to download data</a></span></li><li><span><a href=\"#Pybites-Olympic-dataset-challenge\" data-toc-modified-id=\"Pybites-Olympic-dataset-challenge-2\"><span class=\"toc-item-num\">2&nbsp;&nbsp;</span>Pybites Olympic dataset challenge</a></span></li><li><span><a href=\"#101-Pandas-exercises\" data-toc-modified-id=\"101-Pandas-exercises-3\"><span class=\"toc-item-num\">3&nbsp;&nbsp;</span>101 Pandas exercises</a></span></li><li><span><a href=\"#Create-a-README-file-in-markdown\" data-toc-modified-id=\"Create-a-README-file-in-markdown-4\"><span class=\"toc-item-num\">4&nbsp;&nbsp;</span>Create a README file in markdown</a></span></li><li><span><a href=\"#Code-from-Dan-Bader\" data-toc-modified-id=\"Code-from-Dan-Bader-5\"><span class=\"toc-item-num\">5&nbsp;&nbsp;</span>Code from Dan Bader</a></span></li></ul></div>"
   ]
  },
  {
   "cell_type": "markdown",
   "metadata": {},
   "source": [
    "# Practice 5 different ways to download data\n",
    "https://www.kdnuggets.com/2020/08/5-different-ways-load-data-python.html?utm_source=Iterable&utm_medium=email&utm_campaign=newsletter_96"
   ]
  },
  {
   "cell_type": "markdown",
   "metadata": {},
   "source": [
    "# Pybites Olympic dataset challenge\n",
    "https://pybit.es/codechallenge57.html"
   ]
  },
  {
   "cell_type": "markdown",
   "metadata": {},
   "source": [
    "# 101 Pandas exercises\n",
    "https://www.machinelearningplus.com/python/101-pandas-exercises-python/"
   ]
  },
  {
   "cell_type": "markdown",
   "metadata": {},
   "source": [
    "# Create a README file in markdown"
   ]
  },
  {
   "cell_type": "markdown",
   "metadata": {},
   "source": [
    "# Code from Dan Bader"
   ]
  },
  {
   "cell_type": "code",
   "execution_count": 1,
   "metadata": {},
   "outputs": [
    {
     "name": "stdout",
     "output_type": "stream",
     "text": [
      "passed\n",
      "passed\n",
      "passed\n",
      "passed\n"
     ]
    }
   ],
   "source": [
    "# Different ways to test multiple\n",
    "# flags at once in Python\n",
    "x, y, z = 0, 1, 0\n",
    "\n",
    "if x == 1 or y == 1 or z == 1:\n",
    "    print('passed')\n",
    "\n",
    "if 1 in (x, y, z):\n",
    "    print('passed')\n",
    "\n",
    "# These only test for truthiness:\n",
    "if x or y or z:\n",
    "    print('passed')\n",
    "\n",
    "if any((x, y, z)):\n",
    "    print('passed')"
   ]
  },
  {
   "cell_type": "code",
   "execution_count": 3,
   "metadata": {},
   "outputs": [
    {
     "data": {
      "text/plain": [
       "[('d', 1), ('c', 2), ('b', 3), ('a', 4)]"
      ]
     },
     "execution_count": 3,
     "metadata": {},
     "output_type": "execute_result"
    }
   ],
   "source": [
    "# How to sort a Python dict by value\n",
    "# (== get a representation sorted by value)\n",
    "\n",
    "xs = {'a': 4, 'b': 3, 'c': 2, 'd': 1}\n",
    "\n",
    "sorted(xs.items(), key=lambda x: x[1])\n",
    "[('d', 1), ('c', 2), ('b', 3), ('a', 4)]"
   ]
  },
  {
   "cell_type": "code",
   "execution_count": 4,
   "metadata": {},
   "outputs": [
    {
     "data": {
      "text/plain": [
       "[('d', 1), ('c', 2), ('b', 3), ('a', 4)]"
      ]
     },
     "execution_count": 4,
     "metadata": {},
     "output_type": "execute_result"
    }
   ],
   "source": [
    "import operator\n",
    "sorted(xs.items(), key=operator.itemgetter(1))\n",
    "[('d', 1), ('c', 2), ('b', 3), ('a', 4)]"
   ]
  },
  {
   "cell_type": "code",
   "execution_count": null,
   "metadata": {},
   "outputs": [],
   "source": []
  }
 ],
 "metadata": {
  "kernelspec": {
   "display_name": "Python [conda env:learn-env] *",
   "language": "python",
   "name": "conda-env-learn-env-py"
  },
  "language_info": {
   "codemirror_mode": {
    "name": "ipython",
    "version": 3
   },
   "file_extension": ".py",
   "mimetype": "text/x-python",
   "name": "python",
   "nbconvert_exporter": "python",
   "pygments_lexer": "ipython3",
   "version": "3.6.6"
  },
  "toc": {
   "base_numbering": 1,
   "nav_menu": {},
   "number_sections": true,
   "sideBar": true,
   "skip_h1_title": false,
   "title_cell": "Table of Contents",
   "title_sidebar": "Contents",
   "toc_cell": true,
   "toc_position": {},
   "toc_section_display": true,
   "toc_window_display": false
  },
  "varInspector": {
   "cols": {
    "lenName": 16,
    "lenType": 16,
    "lenVar": 40
   },
   "kernels_config": {
    "python": {
     "delete_cmd_postfix": "",
     "delete_cmd_prefix": "del ",
     "library": "var_list.py",
     "varRefreshCmd": "print(var_dic_list())"
    },
    "r": {
     "delete_cmd_postfix": ") ",
     "delete_cmd_prefix": "rm(",
     "library": "var_list.r",
     "varRefreshCmd": "cat(var_dic_list()) "
    }
   },
   "types_to_exclude": [
    "module",
    "function",
    "builtin_function_or_method",
    "instance",
    "_Feature"
   ],
   "window_display": false
  }
 },
 "nbformat": 4,
 "nbformat_minor": 2
}
