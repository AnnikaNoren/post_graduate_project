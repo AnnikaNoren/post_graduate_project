{
 "cells": [
  {
   "cell_type": "markdown",
   "metadata": {
    "toc": true
   },
   "source": [
    "<h1>Table of Contents<span class=\"tocSkip\"></span></h1>\n",
    "<div class=\"toc\"><ul class=\"toc-item\"><li><span><a href=\"#Goal\" data-toc-modified-id=\"Goal-1\"><span class=\"toc-item-num\">1&nbsp;&nbsp;</span>Goal</a></span></li><li><span><a href=\"#Iterate-With-enumerate()-Instead-of-range()\" data-toc-modified-id=\"Iterate-With-enumerate()-Instead-of-range()-2\"><span class=\"toc-item-num\">2&nbsp;&nbsp;</span>Iterate With enumerate() Instead of range()</a></span></li></ul></div>"
   ]
  },
  {
   "cell_type": "markdown",
   "metadata": {},
   "source": [
    "# Goal\n",
    "https://realpython.com/python-coding-interview-tips/\n",
    "Select the Right Built-In Function for the Job\n",
    "Python has a large standard library but only a small library of built-in functions, which are always available and don’t need to be imported. It’s worth going through each one, but until you get the chance to do so, here are a few built-in functions worth understanding how to use, and in the case of some of them, what alternatives to use instead."
   ]
  },
  {
   "cell_type": "markdown",
   "metadata": {},
   "source": [
    "# Iterate With enumerate() Instead of range()"
   ]
  },
  {
   "cell_type": "code",
   "execution_count": 1,
   "metadata": {},
   "outputs": [
    {
     "name": "stdout",
     "output_type": "stream",
     "text": [
      "fizz 2\n",
      "buzz 3\n",
      "fizz 4\n",
      "fizzbuzz 6\n",
      "fizz 8\n",
      "buzz 9\n",
      "fizz 10\n",
      "fizzbuzz 12\n",
      "fizz 14\n",
      "buzz 15\n",
      "fizz 16\n",
      "fizzbuzz 18\n",
      "fizz 20\n",
      "buzz 21\n",
      "fizz 22\n",
      "fizzbuzz 24\n",
      "fizz 26\n",
      "buzz 27\n",
      "fizz 28\n",
      "fizzbuzz 30\n",
      "fizz 32\n",
      "buzz 33\n",
      "fizz 34\n",
      "fizzbuzz 36\n",
      "fizz 38\n",
      "buzz 39\n",
      "fizz 40\n",
      "fizzbuzz 42\n",
      "fizz 44\n",
      "buzz 45\n",
      "fizz 46\n",
      "fizzbuzz 48\n"
     ]
    }
   ],
   "source": [
    "# This is the less-than-effienct version, but it uses range \n",
    "for i in range(1,50):\n",
    "    if (i % 6) ==0 :\n",
    "        print(\"fizzbuzz\", i)\n",
    "    elif (i % 3) == 0:\n",
    "        print(\"buzz\",i)\n",
    "    elif (i % 2) == 0:\n",
    "        print(\"fizz\", i)\n",
    "    else:\n",
    "        pass"
   ]
  },
  {
   "cell_type": "markdown",
   "metadata": {},
   "source": [
    "A lot of times when dealing with iterators, we also get a need to keep a count of iterations. Python eases the programmers’ task by providing a built-in function enumerate() for this task.\n",
    "Enumerate() method adds a counter to an iterable and returns it in a form of enumerate object. This enumerate object can then be used directly in for loops or be converted into a list of tuples using list() method."
   ]
  },
  {
   "cell_type": "code",
   "execution_count": 8,
   "metadata": {},
   "outputs": [],
   "source": [
    "numbers = [45, 22, 14, 65, 97, 72]"
   ]
  },
  {
   "cell_type": "code",
   "execution_count": 9,
   "metadata": {},
   "outputs": [
    {
     "name": "stdout",
     "output_type": "stream",
     "text": [
      "buzz 0 45\n",
      "fizz 1 22\n",
      "fizz 2 14\n",
      "fizzbuzz 5 72\n"
     ]
    }
   ],
   "source": [
    "for i, j in enumerate(numbers):\n",
    "    if (j % 6) == 0 :\n",
    "        print(\"fizzbuzz\", i,j)\n",
    "    elif (j % 3) == 0:\n",
    "        print(\"buzz\",i,j)\n",
    "    elif (j % 2) == 0:\n",
    "        print(\"fizz\", i,j)"
   ]
  },
  {
   "cell_type": "code",
   "execution_count": 14,
   "metadata": {},
   "outputs": [],
   "source": [
    "string = 'I love python'"
   ]
  },
  {
   "cell_type": "code",
   "execution_count": 15,
   "metadata": {},
   "outputs": [
    {
     "name": "stdout",
     "output_type": "stream",
     "text": [
      "0 I\n",
      "1  \n",
      "2 l\n",
      "3 o\n",
      "4 v\n",
      "5 e\n",
      "6  \n",
      "7 p\n",
      "8 y\n",
      "9 t\n",
      "10 h\n",
      "11 o\n",
      "12 n\n"
     ]
    }
   ],
   "source": [
    "for i, j in enumerate(string):\n",
    "    print(i,j)"
   ]
  },
  {
   "cell_type": "code",
   "execution_count": null,
   "metadata": {},
   "outputs": [],
   "source": []
  }
 ],
 "metadata": {
  "kernelspec": {
   "display_name": "Python [conda env:learn-env] *",
   "language": "python",
   "name": "conda-env-learn-env-py"
  },
  "language_info": {
   "codemirror_mode": {
    "name": "ipython",
    "version": 3
   },
   "file_extension": ".py",
   "mimetype": "text/x-python",
   "name": "python",
   "nbconvert_exporter": "python",
   "pygments_lexer": "ipython3",
   "version": "3.6.6"
  },
  "toc": {
   "base_numbering": 1,
   "nav_menu": {},
   "number_sections": true,
   "sideBar": true,
   "skip_h1_title": false,
   "title_cell": "Table of Contents",
   "title_sidebar": "Contents",
   "toc_cell": true,
   "toc_position": {},
   "toc_section_display": true,
   "toc_window_display": false
  },
  "varInspector": {
   "cols": {
    "lenName": 16,
    "lenType": 16,
    "lenVar": 40
   },
   "kernels_config": {
    "python": {
     "delete_cmd_postfix": "",
     "delete_cmd_prefix": "del ",
     "library": "var_list.py",
     "varRefreshCmd": "print(var_dic_list())"
    },
    "r": {
     "delete_cmd_postfix": ") ",
     "delete_cmd_prefix": "rm(",
     "library": "var_list.r",
     "varRefreshCmd": "cat(var_dic_list()) "
    }
   },
   "types_to_exclude": [
    "module",
    "function",
    "builtin_function_or_method",
    "instance",
    "_Feature"
   ],
   "window_display": false
  }
 },
 "nbformat": 4,
 "nbformat_minor": 2
}
