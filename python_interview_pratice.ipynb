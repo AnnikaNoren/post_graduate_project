{
 "cells": [
  {
   "cell_type": "markdown",
   "metadata": {
    "toc": true
   },
   "source": [
    "<h1>Table of Contents<span class=\"tocSkip\"></span></h1>\n",
    "<div class=\"toc\"><ul class=\"toc-item\"><li><span><a href=\"#Goal\" data-toc-modified-id=\"Goal-1\"><span class=\"toc-item-num\">1&nbsp;&nbsp;</span>Goal</a></span></li><li><span><a href=\"#Iterate-With-enumerate()-Instead-of-range()\" data-toc-modified-id=\"Iterate-With-enumerate()-Instead-of-range()-2\"><span class=\"toc-item-num\">2&nbsp;&nbsp;</span>Iterate With enumerate() Instead of range()</a></span><ul class=\"toc-item\"><li><span><a href=\"#Other-Enumerate-Tricks\" data-toc-modified-id=\"Other-Enumerate-Tricks-2.1\"><span class=\"toc-item-num\">2.1&nbsp;&nbsp;</span>Other Enumerate Tricks</a></span></li><li><span><a href=\"#Enumerate-vs-list.index\" data-toc-modified-id=\"Enumerate-vs-list.index-2.2\"><span class=\"toc-item-num\">2.2&nbsp;&nbsp;</span>Enumerate vs list.index</a></span></li><li><span><a href=\"#Enumerate-Object\" data-toc-modified-id=\"Enumerate-Object-2.3\"><span class=\"toc-item-num\">2.3&nbsp;&nbsp;</span>Enumerate Object</a></span><ul class=\"toc-item\"><li><span><a href=\"#Enumerate-and-Big-O-notation\" data-toc-modified-id=\"Enumerate-and-Big-O-notation-2.3.1\"><span class=\"toc-item-num\">2.3.1&nbsp;&nbsp;</span>Enumerate and Big O notation</a></span></li><li><span><a href=\"#Enumerate-with-Dictionaries-and-Sets?\" data-toc-modified-id=\"Enumerate-with-Dictionaries-and-Sets?-2.3.2\"><span class=\"toc-item-num\">2.3.2&nbsp;&nbsp;</span>Enumerate with Dictionaries and Sets?</a></span></li></ul></li></ul></li><li><span><a href=\"#List-Comprehension\" data-toc-modified-id=\"List-Comprehension-3\"><span class=\"toc-item-num\">3&nbsp;&nbsp;</span>List Comprehension</a></span></li><li><span><a href=\"#Formatting-using-F-strings\" data-toc-modified-id=\"Formatting-using-F-strings-4\"><span class=\"toc-item-num\">4&nbsp;&nbsp;</span>Formatting using F-strings</a></span></li><li><span><a href=\"#5-Different-ways-to-load-data\" data-toc-modified-id=\"5-Different-ways-to-load-data-5\"><span class=\"toc-item-num\">5&nbsp;&nbsp;</span>5 Different ways to load data</a></span></li></ul></div>"
   ]
  },
  {
   "cell_type": "markdown",
   "metadata": {},
   "source": [
    "# Goal\n",
    "https://realpython.com/python-coding-interview-tips/\n",
    "Select the Right Built-In Function for the Job\n",
    "Python has a large standard library but only a small library of built-in functions, which are always available and don’t need to be imported. It’s worth going through each one, but until you get the chance to do so, here are a few built-in functions worth understanding how to use, and in the case of some of them, what alternatives to use instead."
   ]
  },
  {
   "cell_type": "markdown",
   "metadata": {},
   "source": [
    "# Iterate With enumerate() Instead of range()"
   ]
  },
  {
   "cell_type": "code",
   "execution_count": 1,
   "metadata": {},
   "outputs": [
    {
     "name": "stdout",
     "output_type": "stream",
     "text": [
      "fizz 2\n",
      "buzz 3\n",
      "fizz 4\n",
      "fizzbuzz 6\n",
      "fizz 8\n",
      "buzz 9\n",
      "fizz 10\n",
      "fizzbuzz 12\n",
      "fizz 14\n",
      "buzz 15\n",
      "fizz 16\n",
      "fizzbuzz 18\n",
      "fizz 20\n",
      "buzz 21\n",
      "fizz 22\n",
      "fizzbuzz 24\n",
      "fizz 26\n",
      "buzz 27\n",
      "fizz 28\n",
      "fizzbuzz 30\n",
      "fizz 32\n",
      "buzz 33\n",
      "fizz 34\n",
      "fizzbuzz 36\n",
      "fizz 38\n",
      "buzz 39\n",
      "fizz 40\n",
      "fizzbuzz 42\n",
      "fizz 44\n",
      "buzz 45\n",
      "fizz 46\n",
      "fizzbuzz 48\n"
     ]
    }
   ],
   "source": [
    "# This is the less-than-effienct version, but it uses range \n",
    "for i in range(1,50):\n",
    "    if (i % 6) ==0 :\n",
    "        print(\"fizzbuzz\", i)\n",
    "    elif (i % 3) == 0:\n",
    "        print(\"buzz\",i)\n",
    "    elif (i % 2) == 0:\n",
    "        print(\"fizz\", i)\n",
    "    else:\n",
    "        pass"
   ]
  },
  {
   "cell_type": "markdown",
   "metadata": {},
   "source": [
    "A lot of times when dealing with iterators, we also get a need to keep a count of iterations. Python eases the programmers’ task by providing a built-in function enumerate() for this task.\n",
    "Enumerate() method adds a counter to an iterable and returns it in a form of enumerate object. This enumerate object can then be used directly in for loops or be converted into a list of tuples using list() method."
   ]
  },
  {
   "cell_type": "code",
   "execution_count": 8,
   "metadata": {},
   "outputs": [],
   "source": [
    "numbers = [45, 22, 14, 65, 97, 72]"
   ]
  },
  {
   "cell_type": "code",
   "execution_count": 9,
   "metadata": {},
   "outputs": [
    {
     "name": "stdout",
     "output_type": "stream",
     "text": [
      "buzz 0 45\n",
      "fizz 1 22\n",
      "fizz 2 14\n",
      "fizzbuzz 5 72\n"
     ]
    }
   ],
   "source": [
    "for i, j in enumerate(numbers):\n",
    "    if (j % 6) == 0 :\n",
    "        print(\"fizzbuzz\", i,j)\n",
    "    elif (j % 3) == 0:\n",
    "        print(\"buzz\",i,j)\n",
    "    elif (j % 2) == 0:\n",
    "        print(\"fizz\", i,j)"
   ]
  },
  {
   "cell_type": "markdown",
   "metadata": {},
   "source": [
    "## Other Enumerate Tricks "
   ]
  },
  {
   "cell_type": "code",
   "execution_count": 14,
   "metadata": {},
   "outputs": [],
   "source": [
    "# enumerate a string\n",
    "string = 'I love python'"
   ]
  },
  {
   "cell_type": "code",
   "execution_count": 15,
   "metadata": {},
   "outputs": [
    {
     "name": "stdout",
     "output_type": "stream",
     "text": [
      "0 I\n",
      "1  \n",
      "2 l\n",
      "3 o\n",
      "4 v\n",
      "5 e\n",
      "6  \n",
      "7 p\n",
      "8 y\n",
      "9 t\n",
      "10 h\n",
      "11 o\n",
      "12 n\n"
     ]
    }
   ],
   "source": [
    "for i, j in enumerate(string):\n",
    "    print(i,j)"
   ]
  },
  {
   "cell_type": "code",
   "execution_count": 50,
   "metadata": {},
   "outputs": [],
   "source": [
    "def enumerator(str):\n",
    "    for i,j in enumerate(str):\n",
    "        print(i,j)"
   ]
  },
  {
   "cell_type": "code",
   "execution_count": 52,
   "metadata": {},
   "outputs": [
    {
     "name": "stdout",
     "output_type": "stream",
     "text": [
      "0 I\n",
      "1  \n",
      "2 l\n",
      "3 o\n",
      "4 v\n",
      "5 e\n",
      "6  \n",
      "7 p\n",
      "8 y\n",
      "9 t\n",
      "10 h\n",
      "11 o\n",
      "12 n\n"
     ]
    },
    {
     "data": {
      "text/plain": [
       "NoneType"
      ]
     },
     "execution_count": 52,
     "metadata": {},
     "output_type": "execute_result"
    }
   ],
   "source": [
    "result = enumerator(string)\n",
    "type(result)"
   ]
  },
  {
   "cell_type": "code",
   "execution_count": 17,
   "metadata": {},
   "outputs": [
    {
     "name": "stdout",
     "output_type": "stream",
     "text": [
      "4 I\n",
      "5  \n",
      "6 l\n",
      "7 o\n",
      "8 v\n",
      "9 e\n",
      "10  \n",
      "11 p\n",
      "12 y\n",
      "13 t\n",
      "14 h\n",
      "15 o\n",
      "16 n\n"
     ]
    }
   ],
   "source": [
    "# Specify the starting index number to enumerate from\n",
    "for i, j in enumerate(string, 4):\n",
    "    print(i,j)"
   ]
  },
  {
   "cell_type": "code",
   "execution_count": 26,
   "metadata": {},
   "outputs": [],
   "source": [
    "# enumerate a tuple\n",
    "list1 = [(10,'a'), (5,'b'), (8,'c'),(2,'d')]"
   ]
  },
  {
   "cell_type": "code",
   "execution_count": 27,
   "metadata": {},
   "outputs": [
    {
     "name": "stdout",
     "output_type": "stream",
     "text": [
      "0 10 a\n",
      "1 5 b\n",
      "2 8 c\n",
      "3 2 d\n"
     ]
    }
   ],
   "source": [
    "for index, (count,alpha) in enumerate(list1):\n",
    "    print(index, count,alpha)"
   ]
  },
  {
   "cell_type": "code",
   "execution_count": 31,
   "metadata": {},
   "outputs": [],
   "source": [
    "# Create a dict from list with enumerate\n",
    "list2 = [1,2,3,4]\n",
    "dict2 = dict(enumerate(list2))"
   ]
  },
  {
   "cell_type": "code",
   "execution_count": 32,
   "metadata": {},
   "outputs": [
    {
     "name": "stdout",
     "output_type": "stream",
     "text": [
      "{0: 1, 1: 2, 2: 3, 3: 4}\n"
     ]
    }
   ],
   "source": [
    "print(dict2)"
   ]
  },
  {
   "cell_type": "markdown",
   "metadata": {},
   "source": [
    "## Enumerate vs list.index\n",
    "https://mindmajix.com/python-enumerate-with-example\n",
    "\n",
    "list.index(element, start, end)"
   ]
  },
  {
   "cell_type": "code",
   "execution_count": 89,
   "metadata": {},
   "outputs": [],
   "source": [
    "list3 = [2,5,6,3,13,24,9,1,2]"
   ]
  },
  {
   "cell_type": "code",
   "execution_count": 91,
   "metadata": {},
   "outputs": [
    {
     "name": "stdout",
     "output_type": "stream",
     "text": [
      "Index of item 2 in list: 0\n"
     ]
    },
    {
     "ename": "ValueError",
     "evalue": "0 is not in list",
     "output_type": "error",
     "traceback": [
      "\u001b[0;31m---------------------------------------------------------------------------\u001b[0m",
      "\u001b[0;31mValueError\u001b[0m                                Traceback (most recent call last)",
      "\u001b[0;32m<ipython-input-91-3b6acb5153ef>\u001b[0m in \u001b[0;36m<module>\u001b[0;34m()\u001b[0m\n\u001b[1;32m      1\u001b[0m \u001b[0mprint\u001b[0m\u001b[0;34m(\u001b[0m\u001b[0;34m\"Index of item {} in list: {}\"\u001b[0m\u001b[0;34m.\u001b[0m\u001b[0mformat\u001b[0m\u001b[0;34m(\u001b[0m\u001b[0;36m2\u001b[0m\u001b[0;34m,\u001b[0m \u001b[0mlist3\u001b[0m\u001b[0;34m.\u001b[0m\u001b[0mindex\u001b[0m\u001b[0;34m(\u001b[0m\u001b[0;36m2\u001b[0m\u001b[0;34m)\u001b[0m\u001b[0;34m)\u001b[0m\u001b[0;34m)\u001b[0m\u001b[0;34m\u001b[0m\u001b[0m\n\u001b[0;32m----> 2\u001b[0;31m \u001b[0mprint\u001b[0m\u001b[0;34m(\u001b[0m\u001b[0;34m\"Index of item {} in list: {}\"\u001b[0m\u001b[0;34m.\u001b[0m\u001b[0mformat\u001b[0m\u001b[0;34m(\u001b[0m\u001b[0;36m0\u001b[0m\u001b[0;34m,\u001b[0m \u001b[0mlist3\u001b[0m\u001b[0;34m.\u001b[0m\u001b[0mindex\u001b[0m\u001b[0;34m(\u001b[0m\u001b[0;36m0\u001b[0m\u001b[0;34m)\u001b[0m\u001b[0;34m)\u001b[0m\u001b[0;34m)\u001b[0m\u001b[0;34m\u001b[0m\u001b[0m\n\u001b[0m\u001b[1;32m      3\u001b[0m \u001b[0mprint\u001b[0m\u001b[0;34m(\u001b[0m\u001b[0;34m\"Index of item {} in list: {}\"\u001b[0m\u001b[0;34m.\u001b[0m\u001b[0mformat\u001b[0m\u001b[0;34m(\u001b[0m\u001b[0;36m0\u001b[0m\u001b[0;34m,\u001b[0m \u001b[0mlist3\u001b[0m\u001b[0;34m.\u001b[0m\u001b[0mindex\u001b[0m\u001b[0;34m(\u001b[0m\u001b[0;36m2\u001b[0m\u001b[0;34m,\u001b[0m\u001b[0;36m1\u001b[0m\u001b[0;34m)\u001b[0m\u001b[0;34m)\u001b[0m\u001b[0;34m)\u001b[0m\u001b[0;34m\u001b[0m\u001b[0m\n",
      "\u001b[0;31mValueError\u001b[0m: 0 is not in list"
     ]
    }
   ],
   "source": [
    "print(\"Index of item {} in list: {}\".format(2, list3.index(2)))\n",
    "print(\"Index of item {} in list: {}\".format(0, list3.index(0)))\n"
   ]
  },
  {
   "cell_type": "code",
   "execution_count": 92,
   "metadata": {},
   "outputs": [
    {
     "name": "stdout",
     "output_type": "stream",
     "text": [
      "Index of item 0 in list: 8\n"
     ]
    }
   ],
   "source": [
    "print(\"Index of item {} in list: {}\".format(0, list3.index(2,1)))"
   ]
  },
  {
   "cell_type": "code",
   "execution_count": 93,
   "metadata": {},
   "outputs": [
    {
     "name": "stdout",
     "output_type": "stream",
     "text": [
      "2 0\n",
      "5 1\n",
      "6 2\n",
      "3 3\n",
      "13 4\n",
      "24 5\n",
      "9 6\n",
      "1 7\n",
      "2 0\n"
     ]
    }
   ],
   "source": [
    "for i in list3:\n",
    "    print(i, list3.index(i))"
   ]
  },
  {
   "cell_type": "code",
   "execution_count": 94,
   "metadata": {},
   "outputs": [],
   "source": [
    "import time"
   ]
  },
  {
   "cell_type": "code",
   "execution_count": 96,
   "metadata": {},
   "outputs": [
    {
     "name": "stdout",
     "output_type": "stream",
     "text": [
      "\n",
      "0.00012922286987304688\n"
     ]
    }
   ],
   "source": [
    "# start = time.time()\n",
    "# print(\"\")\n",
    "# end = time.time()\n",
    "# print(end-start)"
   ]
  },
  {
   "cell_type": "code",
   "execution_count": 99,
   "metadata": {},
   "outputs": [
    {
     "name": "stdout",
     "output_type": "stream",
     "text": [
      "[7, 27, 6, 10, 15, 3, 20, 27, 14, 3, 17, 23, 21, 5, 7, 8, 20, 5, 29, 13, 26, 9, 29, 15, 19, 25, 4, 8, 14, 5, 10, 9, 16, 11, 23, 19, 12, 20, 12, 1, 28, 26, 28, 19, 14, 16, 30, 25, 29, 6, 17, 5, 28, 29, 30, 20, 15, 10, 5, 4, 30, 13, 3, 11, 30, 26, 16, 18, 28, 24, 8, 22, 11, 9, 6, 6, 2, 17, 6, 21, 16, 26, 11, 9, 3, 11, 2, 9, 30, 3, 11, 24, 29, 27, 8, 9, 20, 28, 22, 15, 26, 5, 11, 15, 21, 30, 9, 25, 13, 21, 23, 3, 14, 8, 18, 4, 13, 11, 26, 13, 21, 26, 9, 22, 10, 25, 15, 9, 25, 13, 30, 29, 23, 7, 14, 11, 14, 3, 16, 17, 10, 23, 15, 11, 12, 8, 25, 5, 26, 7, 16, 21, 2, 1, 27, 24, 15, 3, 20, 23, 3, 7, 12, 2, 21, 3, 3, 2, 2, 10, 25, 14, 15, 29, 4, 22, 20, 24, 4, 19, 18, 10, 9, 26, 4, 21, 25, 19, 9, 24, 3, 10, 29, 24, 8, 24, 1, 7, 29, 9, 25, 28, 14, 6, 17, 30, 28, 21, 24, 5, 29, 13, 18, 29, 30, 4, 27, 18, 13, 28, 5, 24, 2, 22, 5, 15, 9, 29, 2, 6, 11, 15, 27, 29, 30, 10, 23, 27, 19, 28, 11, 29, 21, 7, 6, 5, 19, 14, 5, 12, 12, 18, 22, 28, 21, 15, 21, 21, 13, 6, 29, 10, 28, 10, 15, 29, 10, 14, 3, 29, 12, 17, 27, 4, 26, 30, 6, 3, 30, 28, 22, 25, 9, 3, 14, 9, 11, 14, 7, 23, 13, 18, 22, 11, 10, 5, 18, 26, 27, 25, 17, 16, 11, 5, 14, 29, 15, 22, 27, 10, 4, 19, 27, 7, 18, 16, 24, 28, 15, 22, 18, 10, 26, 3, 23, 19, 17, 3, 3, 8, 5, 21, 22, 9, 21, 7, 10, 1, 27, 11, 22, 5, 13, 23, 19, 5, 16, 18, 8, 1, 17, 26, 27, 1, 17, 10, 29, 5, 1, 7, 26, 18, 28, 17, 21, 27, 10, 20, 11, 17, 17, 3, 30, 21, 28, 11, 22, 14, 23, 5, 16, 30, 5, 13, 19, 20, 27, 26, 17, 29, 29, 2, 1, 12, 8, 15, 20, 27, 23, 30, 27, 24, 30, 27, 18, 6, 28, 17, 27, 25, 12, 13, 17, 25, 15, 19, 17, 30, 9, 14, 21, 18, 17, 6, 10, 7, 6, 20, 9, 6, 1, 11, 12, 28, 3, 22, 22, 17, 14, 28, 20, 5, 28, 24, 1, 24, 5, 10, 7, 11, 2, 20, 23, 24, 14, 22, 25, 27, 6, 4, 8, 14, 28, 8, 17, 28, 11, 26, 16, 3, 18, 9, 19, 21, 16, 3, 2, 30, 3, 30, 11, 11, 1, 26, 1, 27, 20, 30, 1, 7, 1, 29, 10, 29, 9, 7, 24, 15, 26, 17]\n"
     ]
    }
   ],
   "source": [
    "import random\n",
    "randomlist = []\n",
    "for i in range(0,1000):\n",
    "    n = random.randint(1,30)\n",
    "    randomlist.append(n)\n",
    "# print(randomlist)"
   ]
  },
  {
   "cell_type": "code",
   "execution_count": 109,
   "metadata": {},
   "outputs": [
    {
     "data": {
      "text/plain": [
       "[7, 24, 15, 26, 17]"
      ]
     },
     "execution_count": 109,
     "metadata": {},
     "output_type": "execute_result"
    }
   ],
   "source": [
    "randomlist[-5:]"
   ]
  },
  {
   "cell_type": "code",
   "execution_count": 110,
   "metadata": {},
   "outputs": [
    {
     "name": "stdout",
     "output_type": "stream",
     "text": [
      "7 0\n",
      "27 1\n",
      "6 2\n",
      "10 3\n",
      "15 4\n",
      "3 5\n",
      "20 6\n",
      "27 1\n",
      "14 8\n",
      "3 5\n",
      "17 10\n",
      "23 11\n",
      "21 12\n",
      "5 13\n",
      "7 0\n",
      "8 15\n",
      "20 6\n",
      "5 13\n",
      "29 18\n",
      "13 19\n",
      "26 20\n",
      "9 21\n",
      "29 18\n",
      "15 4\n",
      "19 24\n",
      "25 25\n",
      "4 26\n",
      "8 15\n",
      "14 8\n",
      "5 13\n",
      "10 3\n",
      "9 21\n",
      "16 32\n",
      "11 33\n",
      "23 11\n",
      "19 24\n",
      "12 36\n",
      "20 6\n",
      "12 36\n",
      "1 39\n",
      "28 40\n",
      "26 20\n",
      "28 40\n",
      "19 24\n",
      "14 8\n",
      "16 32\n",
      "30 46\n",
      "25 25\n",
      "29 18\n",
      "6 2\n",
      "17 10\n",
      "5 13\n",
      "28 40\n",
      "29 18\n",
      "30 46\n",
      "20 6\n",
      "15 4\n",
      "10 3\n",
      "5 13\n",
      "4 26\n",
      "30 46\n",
      "13 19\n",
      "3 5\n",
      "11 33\n",
      "30 46\n",
      "26 20\n",
      "16 32\n",
      "18 67\n",
      "28 40\n",
      "24 69\n",
      "8 15\n",
      "22 71\n",
      "11 33\n",
      "9 21\n",
      "6 2\n",
      "6 2\n",
      "2 76\n",
      "17 10\n",
      "6 2\n",
      "21 12\n",
      "16 32\n",
      "26 20\n",
      "11 33\n",
      "9 21\n",
      "3 5\n",
      "11 33\n",
      "2 76\n",
      "9 21\n",
      "30 46\n",
      "3 5\n",
      "11 33\n",
      "24 69\n",
      "29 18\n",
      "27 1\n",
      "8 15\n",
      "9 21\n",
      "20 6\n",
      "28 40\n",
      "22 71\n",
      "15 4\n",
      "26 20\n",
      "5 13\n",
      "11 33\n",
      "15 4\n",
      "21 12\n",
      "30 46\n",
      "9 21\n",
      "25 25\n",
      "13 19\n",
      "21 12\n",
      "23 11\n",
      "3 5\n",
      "14 8\n",
      "8 15\n",
      "18 67\n",
      "4 26\n",
      "13 19\n",
      "11 33\n",
      "26 20\n",
      "13 19\n",
      "21 12\n",
      "26 20\n",
      "9 21\n",
      "22 71\n",
      "10 3\n",
      "25 25\n",
      "15 4\n",
      "9 21\n",
      "25 25\n",
      "13 19\n",
      "30 46\n",
      "29 18\n",
      "23 11\n",
      "7 0\n",
      "14 8\n",
      "11 33\n",
      "14 8\n",
      "3 5\n",
      "16 32\n",
      "17 10\n",
      "10 3\n",
      "23 11\n",
      "15 4\n",
      "11 33\n",
      "12 36\n",
      "8 15\n",
      "25 25\n",
      "5 13\n",
      "26 20\n",
      "7 0\n",
      "16 32\n",
      "21 12\n",
      "2 76\n",
      "1 39\n",
      "27 1\n",
      "24 69\n",
      "15 4\n",
      "3 5\n",
      "20 6\n",
      "23 11\n",
      "3 5\n",
      "7 0\n",
      "12 36\n",
      "2 76\n",
      "21 12\n",
      "3 5\n",
      "3 5\n",
      "2 76\n",
      "2 76\n",
      "10 3\n",
      "25 25\n",
      "14 8\n",
      "15 4\n",
      "29 18\n",
      "4 26\n",
      "22 71\n",
      "20 6\n",
      "24 69\n",
      "4 26\n",
      "19 24\n",
      "18 67\n",
      "10 3\n",
      "9 21\n",
      "26 20\n",
      "4 26\n",
      "21 12\n",
      "25 25\n",
      "19 24\n",
      "9 21\n",
      "24 69\n",
      "3 5\n",
      "10 3\n",
      "29 18\n",
      "24 69\n",
      "8 15\n",
      "24 69\n",
      "1 39\n",
      "7 0\n",
      "29 18\n",
      "9 21\n",
      "25 25\n",
      "28 40\n",
      "14 8\n",
      "6 2\n",
      "17 10\n",
      "30 46\n",
      "28 40\n",
      "21 12\n",
      "24 69\n",
      "5 13\n",
      "29 18\n",
      "13 19\n",
      "18 67\n",
      "29 18\n",
      "30 46\n",
      "4 26\n",
      "27 1\n",
      "18 67\n",
      "13 19\n",
      "28 40\n",
      "5 13\n",
      "24 69\n",
      "2 76\n",
      "22 71\n",
      "5 13\n",
      "15 4\n",
      "9 21\n",
      "29 18\n",
      "2 76\n",
      "6 2\n",
      "11 33\n",
      "15 4\n",
      "27 1\n",
      "29 18\n",
      "30 46\n",
      "10 3\n",
      "23 11\n",
      "27 1\n",
      "19 24\n",
      "28 40\n",
      "11 33\n",
      "29 18\n",
      "21 12\n",
      "7 0\n",
      "6 2\n",
      "5 13\n",
      "19 24\n",
      "14 8\n",
      "5 13\n",
      "12 36\n",
      "12 36\n",
      "18 67\n",
      "22 71\n",
      "28 40\n",
      "21 12\n",
      "15 4\n",
      "21 12\n",
      "21 12\n",
      "13 19\n",
      "6 2\n",
      "29 18\n",
      "10 3\n",
      "28 40\n",
      "10 3\n",
      "15 4\n",
      "29 18\n",
      "10 3\n",
      "14 8\n",
      "3 5\n",
      "29 18\n",
      "12 36\n",
      "17 10\n",
      "27 1\n",
      "4 26\n",
      "26 20\n",
      "30 46\n",
      "6 2\n",
      "3 5\n",
      "30 46\n",
      "28 40\n",
      "22 71\n",
      "25 25\n",
      "9 21\n",
      "3 5\n",
      "14 8\n",
      "9 21\n",
      "11 33\n",
      "14 8\n",
      "7 0\n",
      "23 11\n",
      "13 19\n",
      "18 67\n",
      "22 71\n",
      "11 33\n",
      "10 3\n",
      "5 13\n",
      "18 67\n",
      "26 20\n",
      "27 1\n",
      "25 25\n",
      "17 10\n",
      "16 32\n",
      "11 33\n",
      "5 13\n",
      "14 8\n",
      "29 18\n",
      "15 4\n",
      "22 71\n",
      "27 1\n",
      "10 3\n",
      "4 26\n",
      "19 24\n",
      "27 1\n",
      "7 0\n",
      "18 67\n",
      "16 32\n",
      "24 69\n",
      "28 40\n",
      "15 4\n",
      "22 71\n",
      "18 67\n",
      "10 3\n",
      "26 20\n",
      "3 5\n",
      "23 11\n",
      "19 24\n",
      "17 10\n",
      "3 5\n",
      "3 5\n",
      "8 15\n",
      "5 13\n",
      "21 12\n",
      "22 71\n",
      "9 21\n",
      "21 12\n",
      "7 0\n",
      "10 3\n",
      "1 39\n",
      "27 1\n",
      "11 33\n",
      "22 71\n",
      "5 13\n",
      "13 19\n",
      "23 11\n",
      "19 24\n",
      "5 13\n",
      "16 32\n",
      "18 67\n",
      "8 15\n",
      "1 39\n",
      "17 10\n",
      "26 20\n",
      "27 1\n",
      "1 39\n",
      "17 10\n",
      "10 3\n",
      "29 18\n",
      "5 13\n",
      "1 39\n",
      "7 0\n",
      "26 20\n",
      "18 67\n",
      "28 40\n",
      "17 10\n",
      "21 12\n",
      "27 1\n",
      "10 3\n",
      "20 6\n",
      "11 33\n",
      "17 10\n",
      "17 10\n",
      "3 5\n",
      "30 46\n",
      "21 12\n",
      "28 40\n",
      "11 33\n",
      "22 71\n",
      "14 8\n",
      "23 11\n",
      "5 13\n",
      "16 32\n",
      "30 46\n",
      "5 13\n",
      "13 19\n",
      "19 24\n",
      "20 6\n",
      "27 1\n",
      "26 20\n",
      "17 10\n",
      "29 18\n",
      "29 18\n",
      "2 76\n",
      "1 39\n",
      "12 36\n",
      "8 15\n",
      "15 4\n",
      "20 6\n",
      "27 1\n",
      "23 11\n",
      "30 46\n",
      "27 1\n",
      "24 69\n",
      "30 46\n",
      "27 1\n",
      "18 67\n",
      "6 2\n",
      "28 40\n",
      "17 10\n",
      "27 1\n",
      "25 25\n",
      "12 36\n",
      "13 19\n",
      "17 10\n",
      "25 25\n",
      "15 4\n",
      "19 24\n",
      "17 10\n",
      "30 46\n",
      "9 21\n",
      "14 8\n",
      "21 12\n",
      "18 67\n",
      "17 10\n",
      "6 2\n",
      "10 3\n",
      "7 0\n",
      "6 2\n",
      "20 6\n",
      "9 21\n",
      "6 2\n",
      "1 39\n",
      "11 33\n",
      "12 36\n",
      "28 40\n",
      "3 5\n",
      "22 71\n",
      "22 71\n",
      "17 10\n",
      "14 8\n",
      "28 40\n",
      "20 6\n",
      "5 13\n",
      "28 40\n",
      "24 69\n",
      "1 39\n",
      "24 69\n",
      "5 13\n",
      "10 3\n",
      "7 0\n",
      "11 33\n",
      "2 76\n",
      "20 6\n",
      "23 11\n",
      "24 69\n",
      "14 8\n",
      "22 71\n",
      "25 25\n",
      "27 1\n",
      "6 2\n",
      "4 26\n",
      "8 15\n",
      "14 8\n",
      "28 40\n",
      "8 15\n",
      "17 10\n",
      "28 40\n",
      "11 33\n",
      "26 20\n",
      "16 32\n",
      "3 5\n",
      "18 67\n",
      "9 21\n",
      "19 24\n",
      "21 12\n",
      "16 32\n",
      "3 5\n",
      "2 76\n",
      "30 46\n",
      "3 5\n",
      "30 46\n",
      "11 33\n",
      "11 33\n",
      "1 39\n",
      "26 20\n",
      "1 39\n",
      "27 1\n",
      "20 6\n",
      "30 46\n",
      "1 39\n",
      "7 0\n",
      "1 39\n",
      "29 18\n",
      "10 3\n",
      "29 18\n",
      "9 21\n",
      "7 0\n",
      "24 69\n",
      "15 4\n",
      "26 20\n",
      "17 10\n"
     ]
    }
   ],
   "source": [
    "for i in randomlist:\n",
    "    start = time.time()\n",
    "    print(i, randomlist.index(i))\n",
    "    end = time.time()\n",
    "    \n",
    "index_time = end-start"
   ]
  },
  {
   "cell_type": "code",
   "execution_count": 111,
   "metadata": {},
   "outputs": [
    {
     "name": "stdout",
     "output_type": "stream",
     "text": [
      "3.886222839355469e-05\n"
     ]
    }
   ],
   "source": [
    "print(index_time)"
   ]
  },
  {
   "cell_type": "code",
   "execution_count": 112,
   "metadata": {},
   "outputs": [
    {
     "name": "stdout",
     "output_type": "stream",
     "text": [
      "0 7\n",
      "1 27\n",
      "2 6\n",
      "3 10\n",
      "4 15\n",
      "5 3\n",
      "6 20\n",
      "7 27\n",
      "8 14\n",
      "9 3\n",
      "10 17\n",
      "11 23\n",
      "12 21\n",
      "13 5\n",
      "14 7\n",
      "15 8\n",
      "16 20\n",
      "17 5\n",
      "18 29\n",
      "19 13\n",
      "20 26\n",
      "21 9\n",
      "22 29\n",
      "23 15\n",
      "24 19\n",
      "25 25\n",
      "26 4\n",
      "27 8\n",
      "28 14\n",
      "29 5\n",
      "30 10\n",
      "31 9\n",
      "32 16\n",
      "33 11\n",
      "34 23\n",
      "35 19\n",
      "36 12\n",
      "37 20\n",
      "38 12\n",
      "39 1\n",
      "40 28\n",
      "41 26\n",
      "42 28\n",
      "43 19\n",
      "44 14\n",
      "45 16\n",
      "46 30\n",
      "47 25\n",
      "48 29\n",
      "49 6\n",
      "50 17\n",
      "51 5\n",
      "52 28\n",
      "53 29\n",
      "54 30\n",
      "55 20\n",
      "56 15\n",
      "57 10\n",
      "58 5\n",
      "59 4\n",
      "60 30\n",
      "61 13\n",
      "62 3\n",
      "63 11\n",
      "64 30\n",
      "65 26\n",
      "66 16\n",
      "67 18\n",
      "68 28\n",
      "69 24\n",
      "70 8\n",
      "71 22\n",
      "72 11\n",
      "73 9\n",
      "74 6\n",
      "75 6\n",
      "76 2\n",
      "77 17\n",
      "78 6\n",
      "79 21\n",
      "80 16\n",
      "81 26\n",
      "82 11\n",
      "83 9\n",
      "84 3\n",
      "85 11\n",
      "86 2\n",
      "87 9\n",
      "88 30\n",
      "89 3\n",
      "90 11\n",
      "91 24\n",
      "92 29\n",
      "93 27\n",
      "94 8\n",
      "95 9\n",
      "96 20\n",
      "97 28\n",
      "98 22\n",
      "99 15\n",
      "100 26\n",
      "101 5\n",
      "102 11\n",
      "103 15\n",
      "104 21\n",
      "105 30\n",
      "106 9\n",
      "107 25\n",
      "108 13\n",
      "109 21\n",
      "110 23\n",
      "111 3\n",
      "112 14\n",
      "113 8\n",
      "114 18\n",
      "115 4\n",
      "116 13\n",
      "117 11\n",
      "118 26\n",
      "119 13\n",
      "120 21\n",
      "121 26\n",
      "122 9\n",
      "123 22\n",
      "124 10\n",
      "125 25\n",
      "126 15\n",
      "127 9\n",
      "128 25\n",
      "129 13\n",
      "130 30\n",
      "131 29\n",
      "132 23\n",
      "133 7\n",
      "134 14\n",
      "135 11\n",
      "136 14\n",
      "137 3\n",
      "138 16\n",
      "139 17\n",
      "140 10\n",
      "141 23\n",
      "142 15\n",
      "143 11\n",
      "144 12\n",
      "145 8\n",
      "146 25\n",
      "147 5\n",
      "148 26\n",
      "149 7\n",
      "150 16\n",
      "151 21\n",
      "152 2\n",
      "153 1\n",
      "154 27\n",
      "155 24\n",
      "156 15\n",
      "157 3\n",
      "158 20\n",
      "159 23\n",
      "160 3\n",
      "161 7\n",
      "162 12\n",
      "163 2\n",
      "164 21\n",
      "165 3\n",
      "166 3\n",
      "167 2\n",
      "168 2\n",
      "169 10\n",
      "170 25\n",
      "171 14\n",
      "172 15\n",
      "173 29\n",
      "174 4\n",
      "175 22\n",
      "176 20\n",
      "177 24\n",
      "178 4\n",
      "179 19\n",
      "180 18\n",
      "181 10\n",
      "182 9\n",
      "183 26\n",
      "184 4\n",
      "185 21\n",
      "186 25\n",
      "187 19\n",
      "188 9\n",
      "189 24\n",
      "190 3\n",
      "191 10\n",
      "192 29\n",
      "193 24\n",
      "194 8\n",
      "195 24\n",
      "196 1\n",
      "197 7\n",
      "198 29\n",
      "199 9\n",
      "200 25\n",
      "201 28\n",
      "202 14\n",
      "203 6\n",
      "204 17\n",
      "205 30\n",
      "206 28\n",
      "207 21\n",
      "208 24\n",
      "209 5\n",
      "210 29\n",
      "211 13\n",
      "212 18\n",
      "213 29\n",
      "214 30\n",
      "215 4\n",
      "216 27\n",
      "217 18\n",
      "218 13\n",
      "219 28\n",
      "220 5\n",
      "221 24\n",
      "222 2\n",
      "223 22\n",
      "224 5\n",
      "225 15\n",
      "226 9\n",
      "227 29\n",
      "228 2\n",
      "229 6\n",
      "230 11\n",
      "231 15\n",
      "232 27\n",
      "233 29\n",
      "234 30\n",
      "235 10\n",
      "236 23\n",
      "237 27\n",
      "238 19\n",
      "239 28\n",
      "240 11\n",
      "241 29\n",
      "242 21\n",
      "243 7\n",
      "244 6\n",
      "245 5\n",
      "246 19\n",
      "247 14\n",
      "248 5\n",
      "249 12\n",
      "250 12\n",
      "251 18\n",
      "252 22\n",
      "253 28\n",
      "254 21\n",
      "255 15\n",
      "256 21\n",
      "257 21\n",
      "258 13\n",
      "259 6\n",
      "260 29\n",
      "261 10\n",
      "262 28\n",
      "263 10\n",
      "264 15\n",
      "265 29\n",
      "266 10\n",
      "267 14\n",
      "268 3\n",
      "269 29\n",
      "270 12\n",
      "271 17\n",
      "272 27\n",
      "273 4\n",
      "274 26\n",
      "275 30\n",
      "276 6\n",
      "277 3\n",
      "278 30\n",
      "279 28\n",
      "280 22\n",
      "281 25\n",
      "282 9\n",
      "283 3\n",
      "284 14\n",
      "285 9\n",
      "286 11\n",
      "287 14\n",
      "288 7\n",
      "289 23\n",
      "290 13\n",
      "291 18\n",
      "292 22\n",
      "293 11\n",
      "294 10\n",
      "295 5\n",
      "296 18\n",
      "297 26\n",
      "298 27\n",
      "299 25\n",
      "300 17\n",
      "301 16\n",
      "302 11\n",
      "303 5\n",
      "304 14\n",
      "305 29\n",
      "306 15\n",
      "307 22\n",
      "308 27\n",
      "309 10\n",
      "310 4\n",
      "311 19\n",
      "312 27\n",
      "313 7\n",
      "314 18\n",
      "315 16\n",
      "316 24\n",
      "317 28\n",
      "318 15\n",
      "319 22\n",
      "320 18\n",
      "321 10\n",
      "322 26\n",
      "323 3\n",
      "324 23\n",
      "325 19\n",
      "326 17\n",
      "327 3\n",
      "328 3\n",
      "329 8\n",
      "330 5\n",
      "331 21\n",
      "332 22\n",
      "333 9\n",
      "334 21\n",
      "335 7\n",
      "336 10\n",
      "337 1\n",
      "338 27\n",
      "339 11\n",
      "340 22\n",
      "341 5\n",
      "342 13\n",
      "343 23\n",
      "344 19\n",
      "345 5\n",
      "346 16\n",
      "347 18\n",
      "348 8\n",
      "349 1\n",
      "350 17\n",
      "351 26\n",
      "352 27\n",
      "353 1\n",
      "354 17\n",
      "355 10\n",
      "356 29\n",
      "357 5\n",
      "358 1\n",
      "359 7\n",
      "360 26\n",
      "361 18\n",
      "362 28\n",
      "363 17\n",
      "364 21\n",
      "365 27\n",
      "366 10\n",
      "367 20\n",
      "368 11\n",
      "369 17\n",
      "370 17\n",
      "371 3\n",
      "372 30\n",
      "373 21\n",
      "374 28\n",
      "375 11\n",
      "376 22\n",
      "377 14\n",
      "378 23\n",
      "379 5\n",
      "380 16\n",
      "381 30\n",
      "382 5\n",
      "383 13\n",
      "384 19\n",
      "385 20\n",
      "386 27\n",
      "387 26\n",
      "388 17\n",
      "389 29\n",
      "390 29\n",
      "391 2\n",
      "392 1\n",
      "393 12\n",
      "394 8\n",
      "395 15\n",
      "396 20\n",
      "397 27\n",
      "398 23\n",
      "399 30\n",
      "400 27\n",
      "401 24\n",
      "402 30\n",
      "403 27\n",
      "404 18\n",
      "405 6\n",
      "406 28\n",
      "407 17\n",
      "408 27\n",
      "409 25\n",
      "410 12\n",
      "411 13\n",
      "412 17\n",
      "413 25\n",
      "414 15\n",
      "415 19\n",
      "416 17\n",
      "417 30\n",
      "418 9\n",
      "419 14\n",
      "420 21\n",
      "421 18\n",
      "422 17\n",
      "423 6\n",
      "424 10\n",
      "425 7\n",
      "426 6\n",
      "427 20\n",
      "428 9\n",
      "429 6\n",
      "430 1\n",
      "431 11\n",
      "432 12\n",
      "433 28\n",
      "434 3\n",
      "435 22\n",
      "436 22\n",
      "437 17\n",
      "438 14\n",
      "439 28\n",
      "440 20\n",
      "441 5\n",
      "442 28\n",
      "443 24\n",
      "444 1\n",
      "445 24\n",
      "446 5\n",
      "447 10\n",
      "448 7\n",
      "449 11\n",
      "450 2\n",
      "451 20\n",
      "452 23\n",
      "453 24\n",
      "454 14\n",
      "455 22\n",
      "456 25\n",
      "457 27\n",
      "458 6\n",
      "459 4\n",
      "460 8\n",
      "461 14\n",
      "462 28\n",
      "463 8\n",
      "464 17\n",
      "465 28\n",
      "466 11\n",
      "467 26\n",
      "468 16\n",
      "469 3\n",
      "470 18\n",
      "471 9\n",
      "472 19\n",
      "473 21\n",
      "474 16\n",
      "475 3\n",
      "476 2\n",
      "477 30\n",
      "478 3\n",
      "479 30\n",
      "480 11\n",
      "481 11\n",
      "482 1\n",
      "483 26\n",
      "484 1\n",
      "485 27\n",
      "486 20\n",
      "487 30\n",
      "488 1\n",
      "489 7\n",
      "490 1\n",
      "491 29\n",
      "492 10\n",
      "493 29\n",
      "494 9\n",
      "495 7\n",
      "496 24\n",
      "497 15\n",
      "498 26\n",
      "499 17\n"
     ]
    }
   ],
   "source": [
    "for i, j in enumerate(randomlist):\n",
    "    start = time.time()\n",
    "    print(i,j)\n",
    "    end = time.time()\n",
    "\n",
    "enum_time = end-start"
   ]
  },
  {
   "cell_type": "code",
   "execution_count": 113,
   "metadata": {},
   "outputs": [
    {
     "name": "stdout",
     "output_type": "stream",
     "text": [
      "2.09808349609375e-05\n"
     ]
    }
   ],
   "source": [
    "print(enum_time)"
   ]
  },
  {
   "cell_type": "markdown",
   "metadata": {},
   "source": [
    "## Enumerate Object"
   ]
  },
  {
   "cell_type": "code",
   "execution_count": 114,
   "metadata": {},
   "outputs": [],
   "source": [
    "colors = ['yellow','dove','green','blue']"
   ]
  },
  {
   "cell_type": "code",
   "execution_count": 116,
   "metadata": {},
   "outputs": [
    {
     "data": {
      "text/plain": [
       "<enumerate at 0x1193fb048>"
      ]
     },
     "execution_count": 116,
     "metadata": {},
     "output_type": "execute_result"
    }
   ],
   "source": [
    "# Displays the type of object returned, the actual iterator, generates output lazily and one by one\n",
    "# Lazy evaluation means that the object is evaluated when it is needed, not when it is created\n",
    "enumerate(colors)"
   ]
  },
  {
   "cell_type": "code",
   "execution_count": 117,
   "metadata": {},
   "outputs": [
    {
     "data": {
      "text/plain": [
       "[(0, 'yellow'), (1, 'dove'), (2, 'green'), (3, 'blue')]"
      ]
     },
     "execution_count": 117,
     "metadata": {},
     "output_type": "execute_result"
    }
   ],
   "source": [
    "# To inspect the enumerate object, call the built-in list function on the iterator\n",
    "list(enumerate(colors))"
   ]
  },
  {
   "cell_type": "markdown",
   "metadata": {},
   "source": [
    "### Enumerate and Big O notation\n",
    "https://mindmajix.com/python-enumerate-with-example\n",
    "\n",
    "You might ask why not use list.index which also returns the index of the list. The problem with list.index is that it has a complexity of O(n) which means you'll be traversing the list more than a couple of times(also considering the for loop itself), and it then returns the starting index of a given item, which means you'll get incorrect results for lists with duplicate items.\n",
    "\n",
    "This problem is solved by Python enumerate by simply generating the indices and the items on the fly; One cannot get more performance than what the built-in enumerate provides.\n",
    "\n",
    "Also, one should remember that enumerate is evaluated lazily; a huge plus for large lists. In contrast, you don't want to call the index method of a large list, even if there were no duplicates in the list and the results were correct, you'll still be doing unnecessary traversals across the list."
   ]
  },
  {
   "cell_type": "markdown",
   "metadata": {},
   "source": [
    "### Enumerate with Dictionaries and Sets?\n",
    "\n",
    "Do you think it makes sense to use the enumerate function for dictionaries and sets?\n",
    "Absolutely no way!\n",
    "\n",
    "If you think about it, the only reason you would make use of enumerate is when you actually care about the index of the item. Dictionaries and Sets are not considered to be sequences.\n",
    "\n",
    "Their items do not have an index, and by their definition, then don't require one."
   ]
  },
  {
   "cell_type": "markdown",
   "metadata": {},
   "source": [
    "### Advantages of enumerate\n",
    "1. Is a built-in Python function used to loop over an iterable with an automatic running index \n",
    "2. By default the counter starts at 0, but the function allows user to set any integer as the starting index integer\n",
    "3. Helps create looping constructs that are more pythonic and idiomatic and that avoid the use of clunky and error-prone manual indexing\n",
    "4. Avoids problems with duplicate entries\n",
    "5. Avoids having to traverse large lists using for loops\n",
    "6. Allows you to loop over a collection of items while keeping track of the current item’s index in a counter variable. (Dan Bader)\n",
    "7. This means that element indexes are generated lazily (one by one, just-in-time), which keeps memory use low and keeps this construct so fast. (Dan Bader)"
   ]
  },
  {
   "cell_type": "markdown",
   "metadata": {},
   "source": [
    "# List Comprehension\n",
    "List comprehensions can be easier to read and support the same functionality as map() and filter()\n",
    "It is an elegant way to define and create lists based on existing lists; generally more compact and faster"
   ]
  },
  {
   "cell_type": "code",
   "execution_count": 54,
   "metadata": {},
   "outputs": [],
   "source": [
    "nums = [1,2,3,4,10,3,4]"
   ]
  },
  {
   "cell_type": "code",
   "execution_count": 34,
   "metadata": {},
   "outputs": [],
   "source": [
    "def adder(num):\n",
    "    return num+1"
   ]
  },
  {
   "cell_type": "code",
   "execution_count": 37,
   "metadata": {},
   "outputs": [
    {
     "data": {
      "text/plain": [
       "[2, 3, 4, 5]"
      ]
     },
     "execution_count": 37,
     "metadata": {},
     "output_type": "execute_result"
    }
   ],
   "source": [
    "# make a list of numbers using map(function,iterable)\n",
    "\n",
    "# map() function returns a map object(which is an iterator) of the results after applying the given function \n",
    "# to each item of a given iterable (list, tuple etc.)\n",
    "\n",
    "list(map(adder,nums))"
   ]
  },
  {
   "cell_type": "code",
   "execution_count": 53,
   "metadata": {},
   "outputs": [
    {
     "data": {
      "text/plain": [
       "[2, 3, 4, 5]"
      ]
     },
     "execution_count": 53,
     "metadata": {},
     "output_type": "execute_result"
    }
   ],
   "source": [
    "# Same result using list comprehension\n",
    "[adder(x) for x in nums]"
   ]
  },
  {
   "cell_type": "code",
   "execution_count": null,
   "metadata": {},
   "outputs": [],
   "source": [
    "# filter() method constructs an iterator from elements of an interable for which the function returns true.\n",
    "\n",
    "# IOW, the filter() method \"filters\" the given interable with the help of a function that tests each \n",
    "# element for true or not\n"
   ]
  },
  {
   "cell_type": "code",
   "execution_count": 72,
   "metadata": {},
   "outputs": [],
   "source": [
    "def is_odd(num):\n",
    "    return bool(num % 2)"
   ]
  },
  {
   "cell_type": "code",
   "execution_count": 79,
   "metadata": {},
   "outputs": [],
   "source": [
    "def is_even(num):\n",
    "#     temp = not bool(num % 2)\n",
    "#     return temp\n",
    "    return not bool(num % 2)"
   ]
  },
  {
   "cell_type": "code",
   "execution_count": 73,
   "metadata": {},
   "outputs": [
    {
     "data": {
      "text/plain": [
       "[1, 3, 3]"
      ]
     },
     "execution_count": 73,
     "metadata": {},
     "output_type": "execute_result"
    }
   ],
   "source": [
    "list(filter(is_odd, nums))"
   ]
  },
  {
   "cell_type": "code",
   "execution_count": 74,
   "metadata": {},
   "outputs": [
    {
     "data": {
      "text/plain": [
       "[True, False, True, False, False, True, False]"
      ]
     },
     "execution_count": 74,
     "metadata": {},
     "output_type": "execute_result"
    }
   ],
   "source": [
    "[is_odd(x) for x in nums]"
   ]
  },
  {
   "cell_type": "code",
   "execution_count": 80,
   "metadata": {},
   "outputs": [
    {
     "data": {
      "text/plain": [
       "[False, True, False, True, True, False, True]"
      ]
     },
     "execution_count": 80,
     "metadata": {},
     "output_type": "execute_result"
    }
   ],
   "source": [
    "[is_even(x) for x in nums]"
   ]
  },
  {
   "cell_type": "code",
   "execution_count": 69,
   "metadata": {},
   "outputs": [
    {
     "name": "stdout",
     "output_type": "stream",
     "text": [
      "1\n"
     ]
    },
    {
     "data": {
      "text/plain": [
       "True"
      ]
     },
     "execution_count": 69,
     "metadata": {},
     "output_type": "execute_result"
    }
   ],
   "source": [
    "# 2 % 2 = 0 which is False\n",
    "# the % 2 tests for odd numbers\n",
    "\n",
    "print(3 % 2)\n",
    "bool(3 % 2)"
   ]
  },
  {
   "cell_type": "markdown",
   "metadata": {},
   "source": [
    "# Formatting using F-strings"
   ]
  },
  {
   "cell_type": "code",
   "execution_count": 81,
   "metadata": {},
   "outputs": [
    {
     "name": "stdout",
     "output_type": "stream",
     "text": [
      "Good Morning, Piper!  Let's go run today.\n"
     ]
    }
   ],
   "source": [
    "print(\"Good Morning, {}!  Let's go {} today.\".format(\"Piper\",\"run\"))"
   ]
  },
  {
   "cell_type": "code",
   "execution_count": null,
   "metadata": {},
   "outputs": [],
   "source": [
    "print(f\"Good Morning, {name}!  Let's go {activity} today.\")"
   ]
  },
  {
   "cell_type": "markdown",
   "metadata": {},
   "source": [
    "# 5 Different ways to load data\n",
    "https://www.kdnuggets.com/2020/08/5-different-ways-load-data-python.html?utm_source=Iterable&utm_medium=email&utm_campaign=newsletter_96"
   ]
  },
  {
   "cell_type": "code",
   "execution_count": null,
   "metadata": {},
   "outputs": [],
   "source": []
  }
 ],
 "metadata": {
  "kernelspec": {
   "display_name": "Python [conda env:learn-env] *",
   "language": "python",
   "name": "conda-env-learn-env-py"
  },
  "language_info": {
   "codemirror_mode": {
    "name": "ipython",
    "version": 3
   },
   "file_extension": ".py",
   "mimetype": "text/x-python",
   "name": "python",
   "nbconvert_exporter": "python",
   "pygments_lexer": "ipython3",
   "version": "3.6.6"
  },
  "toc": {
   "base_numbering": 1,
   "nav_menu": {},
   "number_sections": true,
   "sideBar": true,
   "skip_h1_title": false,
   "title_cell": "Table of Contents",
   "title_sidebar": "Contents",
   "toc_cell": true,
   "toc_position": {},
   "toc_section_display": true,
   "toc_window_display": false
  },
  "varInspector": {
   "cols": {
    "lenName": 16,
    "lenType": 16,
    "lenVar": 40
   },
   "kernels_config": {
    "python": {
     "delete_cmd_postfix": "",
     "delete_cmd_prefix": "del ",
     "library": "var_list.py",
     "varRefreshCmd": "print(var_dic_list())"
    },
    "r": {
     "delete_cmd_postfix": ") ",
     "delete_cmd_prefix": "rm(",
     "library": "var_list.r",
     "varRefreshCmd": "cat(var_dic_list()) "
    }
   },
   "types_to_exclude": [
    "module",
    "function",
    "builtin_function_or_method",
    "instance",
    "_Feature"
   ],
   "window_display": false
  }
 },
 "nbformat": 4,
 "nbformat_minor": 2
}
