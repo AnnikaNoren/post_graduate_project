{
 "cells": [
  {
   "cell_type": "markdown",
   "metadata": {
    "toc": true
   },
   "source": [
    "<h1>Table of Contents<span class=\"tocSkip\"></span></h1>\n",
    "<div class=\"toc\"><ul class=\"toc-item\"><li><span><a href=\"#Goal\" data-toc-modified-id=\"Goal-1\"><span class=\"toc-item-num\">1&nbsp;&nbsp;</span>Goal</a></span></li><li><span><a href=\"#Iterate-With-enumerate()-Instead-of-range()\" data-toc-modified-id=\"Iterate-With-enumerate()-Instead-of-range()-2\"><span class=\"toc-item-num\">2&nbsp;&nbsp;</span>Iterate With enumerate() Instead of range()</a></span><ul class=\"toc-item\"><li><span><a href=\"#Other-Enumerate-Tricks\" data-toc-modified-id=\"Other-Enumerate-Tricks-2.1\"><span class=\"toc-item-num\">2.1&nbsp;&nbsp;</span>Other Enumerate Tricks</a></span></li><li><span><a href=\"#Enumerate-vs-list.index\" data-toc-modified-id=\"Enumerate-vs-list.index-2.2\"><span class=\"toc-item-num\">2.2&nbsp;&nbsp;</span>Enumerate vs list.index</a></span></li><li><span><a href=\"#Enumerate-Object\" data-toc-modified-id=\"Enumerate-Object-2.3\"><span class=\"toc-item-num\">2.3&nbsp;&nbsp;</span>Enumerate Object</a></span><ul class=\"toc-item\"><li><span><a href=\"#Enumerate-and-Big-O-notation\" data-toc-modified-id=\"Enumerate-and-Big-O-notation-2.3.1\"><span class=\"toc-item-num\">2.3.1&nbsp;&nbsp;</span>Enumerate and Big O notation</a></span></li><li><span><a href=\"#Enumerate-with-Dictionaries-and-Sets?\" data-toc-modified-id=\"Enumerate-with-Dictionaries-and-Sets?-2.3.2\"><span class=\"toc-item-num\">2.3.2&nbsp;&nbsp;</span>Enumerate with Dictionaries and Sets?</a></span></li><li><span><a href=\"#Advantages-of-enumerate\" data-toc-modified-id=\"Advantages-of-enumerate-2.3.3\"><span class=\"toc-item-num\">2.3.3&nbsp;&nbsp;</span>Advantages of enumerate</a></span></li></ul></li></ul></li><li><span><a href=\"#List-Comprehension\" data-toc-modified-id=\"List-Comprehension-3\"><span class=\"toc-item-num\">3&nbsp;&nbsp;</span>List Comprehension</a></span></li><li><span><a href=\"#Formatting-using-F-strings\" data-toc-modified-id=\"Formatting-using-F-strings-4\"><span class=\"toc-item-num\">4&nbsp;&nbsp;</span>Formatting using F-strings</a></span></li><li><span><a href=\"#5-Different-ways-to-load-data\" data-toc-modified-id=\"5-Different-ways-to-load-data-5\"><span class=\"toc-item-num\">5&nbsp;&nbsp;</span>5 Different ways to load data</a></span></li></ul></div>"
   ]
  },
  {
   "cell_type": "markdown",
   "metadata": {},
   "source": [
    "# Goal\n",
    "https://realpython.com/python-coding-interview-tips/\n",
    "Select the Right Built-In Function for the Job\n",
    "Python has a large standard library but only a small library of built-in functions, which are always available and don’t need to be imported. It’s worth going through each one, but until you get the chance to do so, here are a few built-in functions worth understanding how to use, and in the case of some of them, what alternatives to use instead."
   ]
  },
  {
   "cell_type": "markdown",
   "metadata": {},
   "source": [
    "# Iterate With enumerate() Instead of range()"
   ]
  },
  {
   "cell_type": "code",
   "execution_count": 1,
   "metadata": {},
   "outputs": [
    {
     "name": "stdout",
     "output_type": "stream",
     "text": [
      "fizz 2\n",
      "buzz 3\n",
      "fizz 4\n",
      "fizzbuzz 6\n",
      "fizz 8\n",
      "buzz 9\n",
      "fizz 10\n",
      "fizzbuzz 12\n",
      "fizz 14\n",
      "buzz 15\n",
      "fizz 16\n",
      "fizzbuzz 18\n",
      "fizz 20\n",
      "buzz 21\n",
      "fizz 22\n",
      "fizzbuzz 24\n",
      "fizz 26\n",
      "buzz 27\n",
      "fizz 28\n",
      "fizzbuzz 30\n",
      "fizz 32\n",
      "buzz 33\n",
      "fizz 34\n",
      "fizzbuzz 36\n",
      "fizz 38\n",
      "buzz 39\n",
      "fizz 40\n",
      "fizzbuzz 42\n",
      "fizz 44\n",
      "buzz 45\n",
      "fizz 46\n",
      "fizzbuzz 48\n"
     ]
    }
   ],
   "source": [
    "# This is the less-than-effienct version, but it uses range \n",
    "for i in range(1,50):\n",
    "    if (i % 6) ==0 :\n",
    "        print(\"fizzbuzz\", i)\n",
    "    elif (i % 3) == 0:\n",
    "        print(\"buzz\",i)\n",
    "    elif (i % 2) == 0:\n",
    "        print(\"fizz\", i)\n",
    "    else:\n",
    "        pass"
   ]
  },
  {
   "cell_type": "markdown",
   "metadata": {},
   "source": [
    "A lot of times when dealing with iterators, we also get a need to keep a count of iterations. Python eases the programmers’ task by providing a built-in function enumerate() for this task.\n",
    "Enumerate() method adds a counter to an iterable and returns it in a form of enumerate object. This enumerate object can then be used directly in for loops or be converted into a list of tuples using list() method."
   ]
  },
  {
   "cell_type": "code",
   "execution_count": 8,
   "metadata": {},
   "outputs": [],
   "source": [
    "numbers = [45, 22, 14, 65, 97, 72]"
   ]
  },
  {
   "cell_type": "code",
   "execution_count": 9,
   "metadata": {},
   "outputs": [
    {
     "name": "stdout",
     "output_type": "stream",
     "text": [
      "buzz 0 45\n",
      "fizz 1 22\n",
      "fizz 2 14\n",
      "fizzbuzz 5 72\n"
     ]
    }
   ],
   "source": [
    "for i, j in enumerate(numbers):\n",
    "    if (j % 6) == 0 :\n",
    "        print(\"fizzbuzz\", i,j)\n",
    "    elif (j % 3) == 0:\n",
    "        print(\"buzz\",i,j)\n",
    "    elif (j % 2) == 0:\n",
    "        print(\"fizz\", i,j)"
   ]
  },
  {
   "cell_type": "markdown",
   "metadata": {},
   "source": [
    "## Other Enumerate Tricks "
   ]
  },
  {
   "cell_type": "code",
   "execution_count": 14,
   "metadata": {},
   "outputs": [],
   "source": [
    "# enumerate a string\n",
    "string = 'I love python'"
   ]
  },
  {
   "cell_type": "code",
   "execution_count": 15,
   "metadata": {},
   "outputs": [
    {
     "name": "stdout",
     "output_type": "stream",
     "text": [
      "0 I\n",
      "1  \n",
      "2 l\n",
      "3 o\n",
      "4 v\n",
      "5 e\n",
      "6  \n",
      "7 p\n",
      "8 y\n",
      "9 t\n",
      "10 h\n",
      "11 o\n",
      "12 n\n"
     ]
    }
   ],
   "source": [
    "for i, j in enumerate(string):\n",
    "    print(i,j)"
   ]
  },
  {
   "cell_type": "code",
   "execution_count": 50,
   "metadata": {},
   "outputs": [],
   "source": [
    "def enumerator(str):\n",
    "    for i,j in enumerate(str):\n",
    "        print(i,j)"
   ]
  },
  {
   "cell_type": "code",
   "execution_count": 52,
   "metadata": {},
   "outputs": [
    {
     "name": "stdout",
     "output_type": "stream",
     "text": [
      "0 I\n",
      "1  \n",
      "2 l\n",
      "3 o\n",
      "4 v\n",
      "5 e\n",
      "6  \n",
      "7 p\n",
      "8 y\n",
      "9 t\n",
      "10 h\n",
      "11 o\n",
      "12 n\n"
     ]
    },
    {
     "data": {
      "text/plain": [
       "NoneType"
      ]
     },
     "execution_count": 52,
     "metadata": {},
     "output_type": "execute_result"
    }
   ],
   "source": [
    "result = enumerator(string)\n",
    "type(result)"
   ]
  },
  {
   "cell_type": "code",
   "execution_count": 17,
   "metadata": {},
   "outputs": [
    {
     "name": "stdout",
     "output_type": "stream",
     "text": [
      "4 I\n",
      "5  \n",
      "6 l\n",
      "7 o\n",
      "8 v\n",
      "9 e\n",
      "10  \n",
      "11 p\n",
      "12 y\n",
      "13 t\n",
      "14 h\n",
      "15 o\n",
      "16 n\n"
     ]
    }
   ],
   "source": [
    "# Specify the starting index number to enumerate from\n",
    "for i, j in enumerate(string, 4):\n",
    "    print(i,j)"
   ]
  },
  {
   "cell_type": "code",
   "execution_count": 26,
   "metadata": {},
   "outputs": [],
   "source": [
    "# enumerate a tuple\n",
    "list1 = [(10,'a'), (5,'b'), (8,'c'),(2,'d')]"
   ]
  },
  {
   "cell_type": "code",
   "execution_count": 27,
   "metadata": {},
   "outputs": [
    {
     "name": "stdout",
     "output_type": "stream",
     "text": [
      "0 10 a\n",
      "1 5 b\n",
      "2 8 c\n",
      "3 2 d\n"
     ]
    }
   ],
   "source": [
    "for index, (count,alpha) in enumerate(list1):\n",
    "    print(index, count,alpha)"
   ]
  },
  {
   "cell_type": "code",
   "execution_count": 31,
   "metadata": {},
   "outputs": [],
   "source": [
    "# Create a dict from list with enumerate\n",
    "list2 = [1,2,3,4]\n",
    "dict2 = dict(enumerate(list2))"
   ]
  },
  {
   "cell_type": "code",
   "execution_count": 32,
   "metadata": {},
   "outputs": [
    {
     "name": "stdout",
     "output_type": "stream",
     "text": [
      "{0: 1, 1: 2, 2: 3, 3: 4}\n"
     ]
    }
   ],
   "source": [
    "print(dict2)"
   ]
  },
  {
   "cell_type": "markdown",
   "metadata": {},
   "source": [
    "## Enumerate vs list.index\n",
    "https://mindmajix.com/python-enumerate-with-example\n",
    "\n",
    "list.index(element, start, end)"
   ]
  },
  {
   "cell_type": "code",
   "execution_count": 89,
   "metadata": {},
   "outputs": [],
   "source": [
    "list3 = [2,5,6,3,13,24,9,1,2]"
   ]
  },
  {
   "cell_type": "code",
   "execution_count": 91,
   "metadata": {},
   "outputs": [
    {
     "name": "stdout",
     "output_type": "stream",
     "text": [
      "Index of item 2 in list: 0\n"
     ]
    },
    {
     "ename": "ValueError",
     "evalue": "0 is not in list",
     "output_type": "error",
     "traceback": [
      "\u001b[0;31m---------------------------------------------------------------------------\u001b[0m",
      "\u001b[0;31mValueError\u001b[0m                                Traceback (most recent call last)",
      "\u001b[0;32m<ipython-input-91-3b6acb5153ef>\u001b[0m in \u001b[0;36m<module>\u001b[0;34m()\u001b[0m\n\u001b[1;32m      1\u001b[0m \u001b[0mprint\u001b[0m\u001b[0;34m(\u001b[0m\u001b[0;34m\"Index of item {} in list: {}\"\u001b[0m\u001b[0;34m.\u001b[0m\u001b[0mformat\u001b[0m\u001b[0;34m(\u001b[0m\u001b[0;36m2\u001b[0m\u001b[0;34m,\u001b[0m \u001b[0mlist3\u001b[0m\u001b[0;34m.\u001b[0m\u001b[0mindex\u001b[0m\u001b[0;34m(\u001b[0m\u001b[0;36m2\u001b[0m\u001b[0;34m)\u001b[0m\u001b[0;34m)\u001b[0m\u001b[0;34m)\u001b[0m\u001b[0;34m\u001b[0m\u001b[0m\n\u001b[0;32m----> 2\u001b[0;31m \u001b[0mprint\u001b[0m\u001b[0;34m(\u001b[0m\u001b[0;34m\"Index of item {} in list: {}\"\u001b[0m\u001b[0;34m.\u001b[0m\u001b[0mformat\u001b[0m\u001b[0;34m(\u001b[0m\u001b[0;36m0\u001b[0m\u001b[0;34m,\u001b[0m \u001b[0mlist3\u001b[0m\u001b[0;34m.\u001b[0m\u001b[0mindex\u001b[0m\u001b[0;34m(\u001b[0m\u001b[0;36m0\u001b[0m\u001b[0;34m)\u001b[0m\u001b[0;34m)\u001b[0m\u001b[0;34m)\u001b[0m\u001b[0;34m\u001b[0m\u001b[0m\n\u001b[0m\u001b[1;32m      3\u001b[0m \u001b[0mprint\u001b[0m\u001b[0;34m(\u001b[0m\u001b[0;34m\"Index of item {} in list: {}\"\u001b[0m\u001b[0;34m.\u001b[0m\u001b[0mformat\u001b[0m\u001b[0;34m(\u001b[0m\u001b[0;36m0\u001b[0m\u001b[0;34m,\u001b[0m \u001b[0mlist3\u001b[0m\u001b[0;34m.\u001b[0m\u001b[0mindex\u001b[0m\u001b[0;34m(\u001b[0m\u001b[0;36m2\u001b[0m\u001b[0;34m,\u001b[0m\u001b[0;36m1\u001b[0m\u001b[0;34m)\u001b[0m\u001b[0;34m)\u001b[0m\u001b[0;34m)\u001b[0m\u001b[0;34m\u001b[0m\u001b[0m\n",
      "\u001b[0;31mValueError\u001b[0m: 0 is not in list"
     ]
    }
   ],
   "source": [
    "print(\"Index of item {} in list: {}\".format(2, list3.index(2)))\n",
    "print(\"Index of item {} in list: {}\".format(0, list3.index(0)))\n"
   ]
  },
  {
   "cell_type": "code",
   "execution_count": 92,
   "metadata": {},
   "outputs": [
    {
     "name": "stdout",
     "output_type": "stream",
     "text": [
      "Index of item 0 in list: 8\n"
     ]
    }
   ],
   "source": [
    "print(\"Index of item {} in list: {}\".format(0, list3.index(2,1)))"
   ]
  },
  {
   "cell_type": "code",
   "execution_count": 93,
   "metadata": {},
   "outputs": [
    {
     "name": "stdout",
     "output_type": "stream",
     "text": [
      "2 0\n",
      "5 1\n",
      "6 2\n",
      "3 3\n",
      "13 4\n",
      "24 5\n",
      "9 6\n",
      "1 7\n",
      "2 0\n"
     ]
    }
   ],
   "source": [
    "for i in list3:\n",
    "    print(i, list3.index(i))"
   ]
  },
  {
   "cell_type": "code",
   "execution_count": 94,
   "metadata": {},
   "outputs": [],
   "source": [
    "import time"
   ]
  },
  {
   "cell_type": "code",
   "execution_count": 96,
   "metadata": {},
   "outputs": [
    {
     "name": "stdout",
     "output_type": "stream",
     "text": [
      "\n",
      "0.00012922286987304688\n"
     ]
    }
   ],
   "source": [
    "# start = time.time()\n",
    "# print(\"\")\n",
    "# end = time.time()\n",
    "# print(end-start)"
   ]
  },
  {
   "cell_type": "code",
   "execution_count": 99,
   "metadata": {},
   "outputs": [
    {
     "name": "stdout",
     "output_type": "stream",
     "text": [
      "[7, 27, 6, 10, 15, 3, 20, 27, 14, 3, 17, 23, 21, 5, 7, 8, 20, 5, 29, 13, 26, 9, 29, 15, 19, 25, 4, 8, 14, 5, 10, 9, 16, 11, 23, 19, 12, 20, 12, 1, 28, 26, 28, 19, 14, 16, 30, 25, 29, 6, 17, 5, 28, 29, 30, 20, 15, 10, 5, 4, 30, 13, 3, 11, 30, 26, 16, 18, 28, 24, 8, 22, 11, 9, 6, 6, 2, 17, 6, 21, 16, 26, 11, 9, 3, 11, 2, 9, 30, 3, 11, 24, 29, 27, 8, 9, 20, 28, 22, 15, 26, 5, 11, 15, 21, 30, 9, 25, 13, 21, 23, 3, 14, 8, 18, 4, 13, 11, 26, 13, 21, 26, 9, 22, 10, 25, 15, 9, 25, 13, 30, 29, 23, 7, 14, 11, 14, 3, 16, 17, 10, 23, 15, 11, 12, 8, 25, 5, 26, 7, 16, 21, 2, 1, 27, 24, 15, 3, 20, 23, 3, 7, 12, 2, 21, 3, 3, 2, 2, 10, 25, 14, 15, 29, 4, 22, 20, 24, 4, 19, 18, 10, 9, 26, 4, 21, 25, 19, 9, 24, 3, 10, 29, 24, 8, 24, 1, 7, 29, 9, 25, 28, 14, 6, 17, 30, 28, 21, 24, 5, 29, 13, 18, 29, 30, 4, 27, 18, 13, 28, 5, 24, 2, 22, 5, 15, 9, 29, 2, 6, 11, 15, 27, 29, 30, 10, 23, 27, 19, 28, 11, 29, 21, 7, 6, 5, 19, 14, 5, 12, 12, 18, 22, 28, 21, 15, 21, 21, 13, 6, 29, 10, 28, 10, 15, 29, 10, 14, 3, 29, 12, 17, 27, 4, 26, 30, 6, 3, 30, 28, 22, 25, 9, 3, 14, 9, 11, 14, 7, 23, 13, 18, 22, 11, 10, 5, 18, 26, 27, 25, 17, 16, 11, 5, 14, 29, 15, 22, 27, 10, 4, 19, 27, 7, 18, 16, 24, 28, 15, 22, 18, 10, 26, 3, 23, 19, 17, 3, 3, 8, 5, 21, 22, 9, 21, 7, 10, 1, 27, 11, 22, 5, 13, 23, 19, 5, 16, 18, 8, 1, 17, 26, 27, 1, 17, 10, 29, 5, 1, 7, 26, 18, 28, 17, 21, 27, 10, 20, 11, 17, 17, 3, 30, 21, 28, 11, 22, 14, 23, 5, 16, 30, 5, 13, 19, 20, 27, 26, 17, 29, 29, 2, 1, 12, 8, 15, 20, 27, 23, 30, 27, 24, 30, 27, 18, 6, 28, 17, 27, 25, 12, 13, 17, 25, 15, 19, 17, 30, 9, 14, 21, 18, 17, 6, 10, 7, 6, 20, 9, 6, 1, 11, 12, 28, 3, 22, 22, 17, 14, 28, 20, 5, 28, 24, 1, 24, 5, 10, 7, 11, 2, 20, 23, 24, 14, 22, 25, 27, 6, 4, 8, 14, 28, 8, 17, 28, 11, 26, 16, 3, 18, 9, 19, 21, 16, 3, 2, 30, 3, 30, 11, 11, 1, 26, 1, 27, 20, 30, 1, 7, 1, 29, 10, 29, 9, 7, 24, 15, 26, 17]\n"
     ]
    }
   ],
   "source": [
    "import random\n",
    "randomlist = []\n",
    "for i in range(0,1000):\n",
    "    n = random.randint(1,30)\n",
    "    randomlist.append(n)\n",
    "# print(randomlist)"
   ]
  },
  {
   "cell_type": "code",
   "execution_count": 109,
   "metadata": {},
   "outputs": [
    {
     "data": {
      "text/plain": [
       "[7, 24, 15, 26, 17]"
      ]
     },
     "execution_count": 109,
     "metadata": {},
     "output_type": "execute_result"
    }
   ],
   "source": [
    "randomlist[-5:]"
   ]
  },
  {
   "cell_type": "code",
   "execution_count": 122,
   "metadata": {},
   "outputs": [
    {
     "name": "stdout",
     "output_type": "stream",
     "text": [
      "343 7\n",
      "19683 27\n",
      "216 6\n",
      "1000 10\n",
      "3375 15\n",
      "27 3\n",
      "8000 20\n",
      "19683 27\n",
      "2744 14\n",
      "27 3\n",
      "4913 17\n",
      "12167 23\n",
      "9261 21\n",
      "125 5\n",
      "343 7\n",
      "512 8\n",
      "8000 20\n",
      "125 5\n",
      "24389 29\n",
      "2197 13\n",
      "17576 26\n",
      "729 9\n",
      "24389 29\n",
      "3375 15\n",
      "6859 19\n",
      "15625 25\n",
      "64 4\n",
      "512 8\n",
      "2744 14\n",
      "125 5\n",
      "1000 10\n",
      "729 9\n",
      "4096 16\n",
      "1331 11\n",
      "12167 23\n",
      "6859 19\n",
      "1728 12\n",
      "8000 20\n",
      "1728 12\n",
      "1 1\n",
      "21952 28\n",
      "17576 26\n",
      "21952 28\n",
      "6859 19\n",
      "2744 14\n",
      "4096 16\n",
      "27000 30\n",
      "15625 25\n",
      "24389 29\n",
      "216 6\n",
      "4913 17\n",
      "125 5\n",
      "21952 28\n",
      "24389 29\n",
      "27000 30\n",
      "8000 20\n",
      "3375 15\n",
      "1000 10\n",
      "125 5\n",
      "64 4\n",
      "27000 30\n",
      "2197 13\n",
      "27 3\n",
      "1331 11\n",
      "27000 30\n",
      "17576 26\n",
      "4096 16\n",
      "5832 18\n",
      "21952 28\n",
      "13824 24\n",
      "512 8\n",
      "10648 22\n",
      "1331 11\n",
      "729 9\n",
      "216 6\n",
      "216 6\n",
      "8 2\n",
      "4913 17\n",
      "216 6\n",
      "9261 21\n",
      "4096 16\n",
      "17576 26\n",
      "1331 11\n",
      "729 9\n",
      "27 3\n",
      "1331 11\n",
      "8 2\n",
      "729 9\n",
      "27000 30\n",
      "27 3\n",
      "1331 11\n",
      "13824 24\n",
      "24389 29\n",
      "19683 27\n",
      "512 8\n",
      "729 9\n",
      "8000 20\n",
      "21952 28\n",
      "10648 22\n",
      "3375 15\n",
      "17576 26\n",
      "125 5\n",
      "1331 11\n",
      "3375 15\n",
      "9261 21\n",
      "27000 30\n",
      "729 9\n",
      "15625 25\n",
      "2197 13\n",
      "9261 21\n",
      "12167 23\n",
      "27 3\n",
      "2744 14\n",
      "512 8\n",
      "5832 18\n",
      "64 4\n",
      "2197 13\n",
      "1331 11\n",
      "17576 26\n",
      "2197 13\n",
      "9261 21\n",
      "17576 26\n",
      "729 9\n",
      "10648 22\n",
      "1000 10\n",
      "15625 25\n",
      "3375 15\n",
      "729 9\n",
      "15625 25\n",
      "2197 13\n",
      "27000 30\n",
      "24389 29\n",
      "12167 23\n",
      "343 7\n",
      "2744 14\n",
      "1331 11\n",
      "2744 14\n",
      "27 3\n",
      "4096 16\n",
      "4913 17\n",
      "1000 10\n",
      "12167 23\n",
      "3375 15\n",
      "1331 11\n",
      "1728 12\n",
      "512 8\n",
      "15625 25\n",
      "125 5\n",
      "17576 26\n",
      "343 7\n",
      "4096 16\n",
      "9261 21\n",
      "8 2\n",
      "1 1\n",
      "19683 27\n",
      "13824 24\n",
      "3375 15\n",
      "27 3\n",
      "8000 20\n",
      "12167 23\n",
      "27 3\n",
      "343 7\n",
      "1728 12\n",
      "8 2\n",
      "9261 21\n",
      "27 3\n",
      "27 3\n",
      "8 2\n",
      "8 2\n",
      "1000 10\n",
      "15625 25\n",
      "2744 14\n",
      "3375 15\n",
      "24389 29\n",
      "64 4\n",
      "10648 22\n",
      "8000 20\n",
      "13824 24\n",
      "64 4\n",
      "6859 19\n",
      "5832 18\n",
      "1000 10\n",
      "729 9\n",
      "17576 26\n",
      "64 4\n",
      "9261 21\n",
      "15625 25\n",
      "6859 19\n",
      "729 9\n",
      "13824 24\n",
      "27 3\n",
      "1000 10\n",
      "24389 29\n",
      "13824 24\n",
      "512 8\n",
      "13824 24\n",
      "1 1\n",
      "343 7\n",
      "24389 29\n",
      "729 9\n",
      "15625 25\n",
      "21952 28\n",
      "2744 14\n",
      "216 6\n",
      "4913 17\n",
      "27000 30\n",
      "21952 28\n",
      "9261 21\n",
      "13824 24\n",
      "125 5\n",
      "24389 29\n",
      "2197 13\n",
      "5832 18\n",
      "24389 29\n",
      "27000 30\n",
      "64 4\n",
      "19683 27\n",
      "5832 18\n",
      "2197 13\n",
      "21952 28\n",
      "125 5\n",
      "13824 24\n",
      "8 2\n",
      "10648 22\n",
      "125 5\n",
      "3375 15\n",
      "729 9\n",
      "24389 29\n",
      "8 2\n",
      "216 6\n",
      "1331 11\n",
      "3375 15\n",
      "19683 27\n",
      "24389 29\n",
      "27000 30\n",
      "1000 10\n",
      "12167 23\n",
      "19683 27\n",
      "6859 19\n",
      "21952 28\n",
      "1331 11\n",
      "24389 29\n",
      "9261 21\n",
      "343 7\n",
      "216 6\n",
      "125 5\n",
      "6859 19\n",
      "2744 14\n",
      "125 5\n",
      "1728 12\n",
      "1728 12\n",
      "5832 18\n",
      "10648 22\n",
      "21952 28\n",
      "9261 21\n",
      "3375 15\n",
      "9261 21\n",
      "9261 21\n",
      "2197 13\n",
      "216 6\n",
      "24389 29\n",
      "1000 10\n",
      "21952 28\n",
      "1000 10\n",
      "3375 15\n",
      "24389 29\n",
      "1000 10\n",
      "2744 14\n",
      "27 3\n",
      "24389 29\n",
      "1728 12\n",
      "4913 17\n",
      "19683 27\n",
      "64 4\n",
      "17576 26\n",
      "27000 30\n",
      "216 6\n",
      "27 3\n",
      "27000 30\n",
      "21952 28\n",
      "10648 22\n",
      "15625 25\n",
      "729 9\n",
      "27 3\n",
      "2744 14\n",
      "729 9\n",
      "1331 11\n",
      "2744 14\n",
      "343 7\n",
      "12167 23\n",
      "2197 13\n",
      "5832 18\n",
      "10648 22\n",
      "1331 11\n",
      "1000 10\n",
      "125 5\n",
      "5832 18\n",
      "17576 26\n",
      "19683 27\n",
      "15625 25\n",
      "4913 17\n",
      "4096 16\n",
      "1331 11\n",
      "125 5\n",
      "2744 14\n",
      "24389 29\n",
      "3375 15\n",
      "10648 22\n",
      "19683 27\n",
      "1000 10\n",
      "64 4\n",
      "6859 19\n",
      "19683 27\n",
      "343 7\n",
      "5832 18\n",
      "4096 16\n",
      "13824 24\n",
      "21952 28\n",
      "3375 15\n",
      "10648 22\n",
      "5832 18\n",
      "1000 10\n",
      "17576 26\n",
      "27 3\n",
      "12167 23\n",
      "6859 19\n",
      "4913 17\n",
      "27 3\n",
      "27 3\n",
      "512 8\n",
      "125 5\n",
      "9261 21\n",
      "10648 22\n",
      "729 9\n",
      "9261 21\n",
      "343 7\n",
      "1000 10\n",
      "1 1\n",
      "19683 27\n",
      "1331 11\n",
      "10648 22\n",
      "125 5\n",
      "2197 13\n",
      "12167 23\n",
      "6859 19\n",
      "125 5\n",
      "4096 16\n",
      "5832 18\n",
      "512 8\n",
      "1 1\n",
      "4913 17\n",
      "17576 26\n",
      "19683 27\n",
      "1 1\n",
      "4913 17\n",
      "1000 10\n",
      "24389 29\n",
      "125 5\n",
      "1 1\n",
      "343 7\n",
      "17576 26\n",
      "5832 18\n",
      "21952 28\n",
      "4913 17\n",
      "9261 21\n",
      "19683 27\n",
      "1000 10\n",
      "8000 20\n",
      "1331 11\n",
      "4913 17\n",
      "4913 17\n",
      "27 3\n",
      "27000 30\n",
      "9261 21\n",
      "21952 28\n",
      "1331 11\n",
      "10648 22\n",
      "2744 14\n",
      "12167 23\n",
      "125 5\n",
      "4096 16\n",
      "27000 30\n",
      "125 5\n",
      "2197 13\n",
      "6859 19\n",
      "8000 20\n",
      "19683 27\n",
      "17576 26\n",
      "4913 17\n",
      "24389 29\n",
      "24389 29\n",
      "8 2\n",
      "1 1\n",
      "1728 12\n",
      "512 8\n",
      "3375 15\n",
      "8000 20\n",
      "19683 27\n",
      "12167 23\n",
      "27000 30\n",
      "19683 27\n",
      "13824 24\n",
      "27000 30\n",
      "19683 27\n",
      "5832 18\n",
      "216 6\n",
      "21952 28\n",
      "4913 17\n",
      "19683 27\n",
      "15625 25\n",
      "1728 12\n",
      "2197 13\n",
      "4913 17\n",
      "15625 25\n",
      "3375 15\n",
      "6859 19\n",
      "4913 17\n",
      "27000 30\n",
      "729 9\n",
      "2744 14\n",
      "9261 21\n",
      "5832 18\n",
      "4913 17\n",
      "216 6\n",
      "1000 10\n",
      "343 7\n",
      "216 6\n",
      "8000 20\n",
      "729 9\n",
      "216 6\n",
      "1 1\n",
      "1331 11\n",
      "1728 12\n",
      "21952 28\n",
      "27 3\n",
      "10648 22\n",
      "10648 22\n",
      "4913 17\n",
      "2744 14\n",
      "21952 28\n",
      "8000 20\n",
      "125 5\n",
      "21952 28\n",
      "13824 24\n",
      "1 1\n",
      "13824 24\n",
      "125 5\n",
      "1000 10\n",
      "343 7\n",
      "1331 11\n",
      "8 2\n",
      "8000 20\n",
      "12167 23\n",
      "13824 24\n",
      "2744 14\n",
      "10648 22\n",
      "15625 25\n",
      "19683 27\n",
      "216 6\n",
      "64 4\n",
      "512 8\n",
      "2744 14\n",
      "21952 28\n",
      "512 8\n",
      "4913 17\n",
      "21952 28\n",
      "1331 11\n",
      "17576 26\n",
      "4096 16\n",
      "27 3\n",
      "5832 18\n",
      "729 9\n",
      "6859 19\n",
      "9261 21\n",
      "4096 16\n",
      "27 3\n",
      "8 2\n",
      "27000 30\n",
      "27 3\n",
      "27000 30\n",
      "1331 11\n",
      "1331 11\n",
      "1 1\n",
      "17576 26\n",
      "1 1\n",
      "19683 27\n",
      "8000 20\n",
      "27000 30\n",
      "1 1\n",
      "343 7\n",
      "1 1\n",
      "24389 29\n",
      "1000 10\n",
      "24389 29\n",
      "729 9\n",
      "343 7\n",
      "13824 24\n",
      "3375 15\n",
      "17576 26\n",
      "4913 17\n"
     ]
    }
   ],
   "source": [
    "for i in randomlist:\n",
    "    start = time.time()\n",
    "    temp = i**3\n",
    "    print(temp,i)\n",
    "    end = time.time()\n",
    "    \n",
    "index_time = end-start"
   ]
  },
  {
   "cell_type": "code",
   "execution_count": 123,
   "metadata": {},
   "outputs": [
    {
     "name": "stdout",
     "output_type": "stream",
     "text": [
      "2.384185791015625e-05\n"
     ]
    }
   ],
   "source": [
    "print(index_time)"
   ]
  },
  {
   "cell_type": "code",
   "execution_count": 128,
   "metadata": {},
   "outputs": [
    {
     "name": "stdout",
     "output_type": "stream",
     "text": [
      "7 0\n",
      "27 1\n",
      "6 2\n",
      "10 3\n",
      "15 4\n",
      "3 5\n",
      "20 6\n",
      "27 7\n",
      "14 8\n",
      "3 9\n",
      "17 10\n",
      "23 11\n",
      "21 12\n",
      "5 13\n",
      "7 14\n",
      "8 15\n",
      "20 16\n",
      "5 17\n",
      "29 18\n",
      "13 19\n",
      "26 20\n",
      "9 21\n",
      "29 22\n",
      "15 23\n",
      "19 24\n",
      "25 25\n",
      "4 26\n",
      "8 27\n",
      "14 28\n",
      "5 29\n",
      "10 30\n",
      "9 31\n",
      "16 32\n",
      "11 33\n",
      "23 34\n",
      "19 35\n",
      "12 36\n",
      "20 37\n",
      "12 38\n",
      "1 39\n",
      "28 40\n",
      "26 41\n",
      "28 42\n",
      "19 43\n",
      "14 44\n",
      "16 45\n",
      "30 46\n",
      "25 47\n",
      "29 48\n",
      "6 49\n",
      "17 50\n",
      "5 51\n",
      "28 52\n",
      "29 53\n",
      "30 54\n",
      "20 55\n",
      "15 56\n",
      "10 57\n",
      "5 58\n",
      "4 59\n",
      "30 60\n",
      "13 61\n",
      "3 62\n",
      "11 63\n",
      "30 64\n",
      "26 65\n",
      "16 66\n",
      "18 67\n",
      "28 68\n",
      "24 69\n",
      "8 70\n",
      "22 71\n",
      "11 72\n",
      "9 73\n",
      "6 74\n",
      "6 75\n",
      "2 76\n",
      "17 77\n",
      "6 78\n",
      "21 79\n",
      "16 80\n",
      "26 81\n",
      "11 82\n",
      "9 83\n",
      "3 84\n",
      "11 85\n",
      "2 86\n",
      "9 87\n",
      "30 88\n",
      "3 89\n",
      "11 90\n",
      "24 91\n",
      "29 92\n",
      "27 93\n",
      "8 94\n",
      "9 95\n",
      "20 96\n",
      "28 97\n",
      "22 98\n",
      "15 99\n",
      "26 100\n",
      "5 101\n",
      "11 102\n",
      "15 103\n",
      "21 104\n",
      "30 105\n",
      "9 106\n",
      "25 107\n",
      "13 108\n",
      "21 109\n",
      "23 110\n",
      "3 111\n",
      "14 112\n",
      "8 113\n",
      "18 114\n",
      "4 115\n",
      "13 116\n",
      "11 117\n",
      "26 118\n",
      "13 119\n",
      "21 120\n",
      "26 121\n",
      "9 122\n",
      "22 123\n",
      "10 124\n",
      "25 125\n",
      "15 126\n",
      "9 127\n",
      "25 128\n",
      "13 129\n",
      "30 130\n",
      "29 131\n",
      "23 132\n",
      "7 133\n",
      "14 134\n",
      "11 135\n",
      "14 136\n",
      "3 137\n",
      "16 138\n",
      "17 139\n",
      "10 140\n",
      "23 141\n",
      "15 142\n",
      "11 143\n",
      "12 144\n",
      "8 145\n",
      "25 146\n",
      "5 147\n",
      "26 148\n",
      "7 149\n",
      "16 150\n",
      "21 151\n",
      "2 152\n",
      "1 153\n",
      "27 154\n",
      "24 155\n",
      "15 156\n",
      "3 157\n",
      "20 158\n",
      "23 159\n",
      "3 160\n",
      "7 161\n",
      "12 162\n",
      "2 163\n",
      "21 164\n",
      "3 165\n",
      "3 166\n",
      "2 167\n",
      "2 168\n",
      "10 169\n",
      "25 170\n",
      "14 171\n",
      "15 172\n",
      "29 173\n",
      "4 174\n",
      "22 175\n",
      "20 176\n",
      "24 177\n",
      "4 178\n",
      "19 179\n",
      "18 180\n",
      "10 181\n",
      "9 182\n",
      "26 183\n",
      "4 184\n",
      "21 185\n",
      "25 186\n",
      "19 187\n",
      "9 188\n",
      "24 189\n",
      "3 190\n",
      "10 191\n",
      "29 192\n",
      "24 193\n",
      "8 194\n",
      "24 195\n",
      "1 196\n",
      "7 197\n",
      "29 198\n",
      "9 199\n",
      "25 200\n",
      "28 201\n",
      "14 202\n",
      "6 203\n",
      "17 204\n",
      "30 205\n",
      "28 206\n",
      "21 207\n",
      "24 208\n",
      "5 209\n",
      "29 210\n",
      "13 211\n",
      "18 212\n",
      "29 213\n",
      "30 214\n",
      "4 215\n",
      "27 216\n",
      "18 217\n",
      "13 218\n",
      "28 219\n",
      "5 220\n",
      "24 221\n",
      "2 222\n",
      "22 223\n",
      "5 224\n",
      "15 225\n",
      "9 226\n",
      "29 227\n",
      "2 228\n",
      "6 229\n",
      "11 230\n",
      "15 231\n",
      "27 232\n",
      "29 233\n",
      "30 234\n",
      "10 235\n",
      "23 236\n",
      "27 237\n",
      "19 238\n",
      "28 239\n",
      "11 240\n",
      "29 241\n",
      "21 242\n",
      "7 243\n",
      "6 244\n",
      "5 245\n",
      "19 246\n",
      "14 247\n",
      "5 248\n",
      "12 249\n",
      "12 250\n",
      "18 251\n",
      "22 252\n",
      "28 253\n",
      "21 254\n",
      "15 255\n",
      "21 256\n",
      "21 257\n",
      "13 258\n",
      "6 259\n",
      "29 260\n",
      "10 261\n",
      "28 262\n",
      "10 263\n",
      "15 264\n",
      "29 265\n",
      "10 266\n",
      "14 267\n",
      "3 268\n",
      "29 269\n",
      "12 270\n",
      "17 271\n",
      "27 272\n",
      "4 273\n",
      "26 274\n",
      "30 275\n",
      "6 276\n",
      "3 277\n",
      "30 278\n",
      "28 279\n",
      "22 280\n",
      "25 281\n",
      "9 282\n",
      "3 283\n",
      "14 284\n",
      "9 285\n",
      "11 286\n",
      "14 287\n",
      "7 288\n",
      "23 289\n",
      "13 290\n",
      "18 291\n",
      "22 292\n",
      "11 293\n",
      "10 294\n",
      "5 295\n",
      "18 296\n",
      "26 297\n",
      "27 298\n",
      "25 299\n",
      "17 300\n",
      "16 301\n",
      "11 302\n",
      "5 303\n",
      "14 304\n",
      "29 305\n",
      "15 306\n",
      "22 307\n",
      "27 308\n",
      "10 309\n",
      "4 310\n",
      "19 311\n",
      "27 312\n",
      "7 313\n",
      "18 314\n",
      "16 315\n",
      "24 316\n",
      "28 317\n",
      "15 318\n",
      "22 319\n",
      "18 320\n",
      "10 321\n",
      "26 322\n",
      "3 323\n",
      "23 324\n",
      "19 325\n",
      "17 326\n",
      "3 327\n",
      "3 328\n",
      "8 329\n",
      "5 330\n",
      "21 331\n",
      "22 332\n",
      "9 333\n",
      "21 334\n",
      "7 335\n",
      "10 336\n",
      "1 337\n",
      "27 338\n",
      "11 339\n",
      "22 340\n",
      "5 341\n",
      "13 342\n",
      "23 343\n",
      "19 344\n",
      "5 345\n",
      "16 346\n",
      "18 347\n",
      "8 348\n",
      "1 349\n",
      "17 350\n",
      "26 351\n",
      "27 352\n",
      "1 353\n",
      "17 354\n",
      "10 355\n",
      "29 356\n",
      "5 357\n",
      "1 358\n",
      "7 359\n",
      "26 360\n",
      "18 361\n",
      "28 362\n",
      "17 363\n",
      "21 364\n",
      "27 365\n",
      "10 366\n",
      "20 367\n",
      "11 368\n",
      "17 369\n",
      "17 370\n",
      "3 371\n",
      "30 372\n",
      "21 373\n",
      "28 374\n",
      "11 375\n",
      "22 376\n",
      "14 377\n",
      "23 378\n",
      "5 379\n",
      "16 380\n",
      "30 381\n",
      "5 382\n",
      "13 383\n",
      "19 384\n",
      "20 385\n",
      "27 386\n",
      "26 387\n",
      "17 388\n",
      "29 389\n",
      "29 390\n",
      "2 391\n",
      "1 392\n",
      "12 393\n",
      "8 394\n",
      "15 395\n",
      "20 396\n",
      "27 397\n",
      "23 398\n",
      "30 399\n",
      "27 400\n",
      "24 401\n",
      "30 402\n",
      "27 403\n",
      "18 404\n",
      "6 405\n",
      "28 406\n",
      "17 407\n",
      "27 408\n",
      "25 409\n",
      "12 410\n",
      "13 411\n",
      "17 412\n",
      "25 413\n",
      "15 414\n",
      "19 415\n",
      "17 416\n",
      "30 417\n",
      "9 418\n",
      "14 419\n",
      "21 420\n",
      "18 421\n",
      "17 422\n",
      "6 423\n",
      "10 424\n",
      "7 425\n",
      "6 426\n",
      "20 427\n",
      "9 428\n",
      "6 429\n",
      "1 430\n",
      "11 431\n",
      "12 432\n",
      "28 433\n",
      "3 434\n",
      "22 435\n",
      "22 436\n",
      "17 437\n",
      "14 438\n",
      "28 439\n",
      "20 440\n",
      "5 441\n",
      "28 442\n",
      "24 443\n",
      "1 444\n",
      "24 445\n",
      "5 446\n",
      "10 447\n",
      "7 448\n",
      "11 449\n",
      "2 450\n",
      "20 451\n",
      "23 452\n",
      "24 453\n",
      "14 454\n",
      "22 455\n",
      "25 456\n",
      "27 457\n",
      "6 458\n",
      "4 459\n",
      "8 460\n",
      "14 461\n",
      "28 462\n",
      "8 463\n",
      "17 464\n",
      "28 465\n",
      "11 466\n",
      "26 467\n",
      "16 468\n",
      "3 469\n",
      "18 470\n",
      "9 471\n",
      "19 472\n",
      "21 473\n",
      "16 474\n",
      "3 475\n",
      "2 476\n",
      "30 477\n",
      "3 478\n",
      "30 479\n",
      "11 480\n",
      "11 481\n",
      "1 482\n",
      "26 483\n",
      "1 484\n",
      "27 485\n",
      "20 486\n",
      "30 487\n",
      "1 488\n",
      "7 489\n",
      "1 490\n",
      "29 491\n",
      "10 492\n",
      "29 493\n",
      "9 494\n",
      "7 495\n",
      "24 496\n",
      "15 497\n",
      "26 498\n",
      "17 499\n"
     ]
    }
   ],
   "source": [
    "for i, j in enumerate(randomlist):\n",
    "    start = time.time()\n",
    "    temp = j**3\n",
    "    print(j,i)\n",
    "    end = time.time()\n",
    "\n",
    "enum_time = end-start"
   ]
  },
  {
   "cell_type": "code",
   "execution_count": 129,
   "metadata": {},
   "outputs": [
    {
     "name": "stdout",
     "output_type": "stream",
     "text": [
      "3.719329833984375e-05\n"
     ]
    }
   ],
   "source": [
    "print(enum_time)"
   ]
  },
  {
   "cell_type": "markdown",
   "metadata": {},
   "source": [
    "## Enumerate Object"
   ]
  },
  {
   "cell_type": "code",
   "execution_count": 114,
   "metadata": {},
   "outputs": [],
   "source": [
    "colors = ['yellow','dove','green','blue']"
   ]
  },
  {
   "cell_type": "code",
   "execution_count": 116,
   "metadata": {},
   "outputs": [
    {
     "data": {
      "text/plain": [
       "<enumerate at 0x1193fb048>"
      ]
     },
     "execution_count": 116,
     "metadata": {},
     "output_type": "execute_result"
    }
   ],
   "source": [
    "# Displays the type of object returned, the actual iterator, generates output lazily and one by one\n",
    "# Lazy evaluation means that the object is evaluated when it is needed, not when it is created\n",
    "enumerate(colors)"
   ]
  },
  {
   "cell_type": "code",
   "execution_count": 117,
   "metadata": {},
   "outputs": [
    {
     "data": {
      "text/plain": [
       "[(0, 'yellow'), (1, 'dove'), (2, 'green'), (3, 'blue')]"
      ]
     },
     "execution_count": 117,
     "metadata": {},
     "output_type": "execute_result"
    }
   ],
   "source": [
    "# To inspect the enumerate object, call the built-in list function on the iterator\n",
    "list(enumerate(colors))"
   ]
  },
  {
   "cell_type": "markdown",
   "metadata": {},
   "source": [
    "### Enumerate and Big O notation\n",
    "https://mindmajix.com/python-enumerate-with-example\n",
    "\n",
    "You might ask why not use list.index which also returns the index of the list. The problem with list.index is that it has a complexity of O(n) which means you'll be traversing the list more than a couple of times(also considering the for loop itself), and it then returns the starting index of a given item, which means you'll get incorrect results for lists with duplicate items.\n",
    "\n",
    "This problem is solved by Python enumerate by simply generating the indices and the items on the fly; One cannot get more performance than what the built-in enumerate provides.\n",
    "\n",
    "Also, one should remember that enumerate is evaluated lazily; a huge plus for large lists. In contrast, you don't want to call the index method of a large list, even if there were no duplicates in the list and the results were correct, you'll still be doing unnecessary traversals across the list."
   ]
  },
  {
   "cell_type": "markdown",
   "metadata": {},
   "source": [
    "### Enumerate with Dictionaries and Sets?\n",
    "\n",
    "Do you think it makes sense to use the enumerate function for dictionaries and sets?\n",
    "Absolutely no way!\n",
    "\n",
    "If you think about it, the only reason you would make use of enumerate is when you actually care about the index of the item. Dictionaries and Sets are not considered to be sequences.\n",
    "\n",
    "Their items do not have an index, and by their definition, then don't require one."
   ]
  },
  {
   "cell_type": "markdown",
   "metadata": {},
   "source": [
    "### Advantages of enumerate\n",
    "1. Is a built-in Python function used to loop over an iterable with an automatic running index \n",
    "2. By default the counter starts at 0, but the function allows user to set any integer as the starting index integer\n",
    "3. Helps create looping constructs that are more pythonic and idiomatic and that avoid the use of clunky and error-prone manual indexing\n",
    "4. Avoids problems with duplicate entries\n",
    "5. Avoids having to traverse large lists using for loops\n",
    "6. Allows you to loop over a collection of items while keeping track of the current item’s index in a counter variable. (Dan Bader)\n",
    "7. This means that element indexes are generated lazily (one by one, just-in-time), which keeps memory use low and keeps this construct so fast. (Dan Bader)"
   ]
  },
  {
   "cell_type": "markdown",
   "metadata": {},
   "source": [
    "# List Comprehension\n",
    "List comprehensions can be easier to read and support the same functionality as map() and filter()\n",
    "It is an elegant way to define and create lists based on existing lists; generally more compact and faster"
   ]
  },
  {
   "cell_type": "code",
   "execution_count": 54,
   "metadata": {},
   "outputs": [],
   "source": [
    "nums = [1,2,3,4,10,3,4]"
   ]
  },
  {
   "cell_type": "code",
   "execution_count": 34,
   "metadata": {},
   "outputs": [],
   "source": [
    "def adder(num):\n",
    "    return num+1"
   ]
  },
  {
   "cell_type": "code",
   "execution_count": 37,
   "metadata": {},
   "outputs": [
    {
     "data": {
      "text/plain": [
       "[2, 3, 4, 5]"
      ]
     },
     "execution_count": 37,
     "metadata": {},
     "output_type": "execute_result"
    }
   ],
   "source": [
    "# make a list of numbers using map(function,iterable)\n",
    "\n",
    "# map() function returns a map object(which is an iterator) of the results after applying the given function \n",
    "# to each item of a given iterable (list, tuple etc.)\n",
    "\n",
    "list(map(adder,nums))"
   ]
  },
  {
   "cell_type": "code",
   "execution_count": 53,
   "metadata": {},
   "outputs": [
    {
     "data": {
      "text/plain": [
       "[2, 3, 4, 5]"
      ]
     },
     "execution_count": 53,
     "metadata": {},
     "output_type": "execute_result"
    }
   ],
   "source": [
    "# Same result using list comprehension\n",
    "[adder(x) for x in nums]"
   ]
  },
  {
   "cell_type": "code",
   "execution_count": null,
   "metadata": {},
   "outputs": [],
   "source": [
    "# filter() method constructs an iterator from elements of an interable for which the function returns true.\n",
    "\n",
    "# IOW, the filter() method \"filters\" the given interable with the help of a function that tests each \n",
    "# element for true or not\n"
   ]
  },
  {
   "cell_type": "code",
   "execution_count": 72,
   "metadata": {},
   "outputs": [],
   "source": [
    "def is_odd(num):\n",
    "    return bool(num % 2)"
   ]
  },
  {
   "cell_type": "code",
   "execution_count": 79,
   "metadata": {},
   "outputs": [],
   "source": [
    "def is_even(num):\n",
    "#     temp = not bool(num % 2)\n",
    "#     return temp\n",
    "    return not bool(num % 2)"
   ]
  },
  {
   "cell_type": "code",
   "execution_count": 73,
   "metadata": {},
   "outputs": [
    {
     "data": {
      "text/plain": [
       "[1, 3, 3]"
      ]
     },
     "execution_count": 73,
     "metadata": {},
     "output_type": "execute_result"
    }
   ],
   "source": [
    "list(filter(is_odd, nums))"
   ]
  },
  {
   "cell_type": "code",
   "execution_count": 74,
   "metadata": {},
   "outputs": [
    {
     "data": {
      "text/plain": [
       "[True, False, True, False, False, True, False]"
      ]
     },
     "execution_count": 74,
     "metadata": {},
     "output_type": "execute_result"
    }
   ],
   "source": [
    "[is_odd(x) for x in nums]"
   ]
  },
  {
   "cell_type": "code",
   "execution_count": 80,
   "metadata": {},
   "outputs": [
    {
     "data": {
      "text/plain": [
       "[False, True, False, True, True, False, True]"
      ]
     },
     "execution_count": 80,
     "metadata": {},
     "output_type": "execute_result"
    }
   ],
   "source": [
    "[is_even(x) for x in nums]"
   ]
  },
  {
   "cell_type": "code",
   "execution_count": 69,
   "metadata": {},
   "outputs": [
    {
     "name": "stdout",
     "output_type": "stream",
     "text": [
      "1\n"
     ]
    },
    {
     "data": {
      "text/plain": [
       "True"
      ]
     },
     "execution_count": 69,
     "metadata": {},
     "output_type": "execute_result"
    }
   ],
   "source": [
    "# 2 % 2 = 0 which is False\n",
    "# the % 2 tests for odd numbers\n",
    "\n",
    "print(3 % 2)\n",
    "bool(3 % 2)"
   ]
  },
  {
   "cell_type": "markdown",
   "metadata": {},
   "source": [
    "# Formatting using F-strings"
   ]
  },
  {
   "cell_type": "code",
   "execution_count": 81,
   "metadata": {},
   "outputs": [
    {
     "name": "stdout",
     "output_type": "stream",
     "text": [
      "Good Morning, Piper!  Let's go run today.\n"
     ]
    }
   ],
   "source": [
    "print(\"Good Morning, {}!  Let's go {} today.\".format(\"Piper\",\"run\"))"
   ]
  },
  {
   "cell_type": "code",
   "execution_count": null,
   "metadata": {},
   "outputs": [],
   "source": [
    "print(f\"Good Morning, {name}!  Let's go {activity} today.\")"
   ]
  },
  {
   "cell_type": "markdown",
   "metadata": {},
   "source": [
    "# 5 Different ways to load data\n",
    "https://www.kdnuggets.com/2020/08/5-different-ways-load-data-python.html?utm_source=Iterable&utm_medium=email&utm_campaign=newsletter_96"
   ]
  },
  {
   "cell_type": "code",
   "execution_count": null,
   "metadata": {},
   "outputs": [],
   "source": []
  }
 ],
 "metadata": {
  "kernelspec": {
   "display_name": "Python [conda env:learn-env] *",
   "language": "python",
   "name": "conda-env-learn-env-py"
  },
  "language_info": {
   "codemirror_mode": {
    "name": "ipython",
    "version": 3
   },
   "file_extension": ".py",
   "mimetype": "text/x-python",
   "name": "python",
   "nbconvert_exporter": "python",
   "pygments_lexer": "ipython3",
   "version": "3.6.6"
  },
  "toc": {
   "base_numbering": 1,
   "nav_menu": {},
   "number_sections": true,
   "sideBar": true,
   "skip_h1_title": false,
   "title_cell": "Table of Contents",
   "title_sidebar": "Contents",
   "toc_cell": true,
   "toc_position": {},
   "toc_section_display": true,
   "toc_window_display": false
  },
  "varInspector": {
   "cols": {
    "lenName": 16,
    "lenType": 16,
    "lenVar": 40
   },
   "kernels_config": {
    "python": {
     "delete_cmd_postfix": "",
     "delete_cmd_prefix": "del ",
     "library": "var_list.py",
     "varRefreshCmd": "print(var_dic_list())"
    },
    "r": {
     "delete_cmd_postfix": ") ",
     "delete_cmd_prefix": "rm(",
     "library": "var_list.r",
     "varRefreshCmd": "cat(var_dic_list()) "
    }
   },
   "types_to_exclude": [
    "module",
    "function",
    "builtin_function_or_method",
    "instance",
    "_Feature"
   ],
   "window_display": false
  }
 },
 "nbformat": 4,
 "nbformat_minor": 2
}
